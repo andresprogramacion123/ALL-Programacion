{
 "cells": [
  {
   "cell_type": "markdown",
   "metadata": {},
   "source": [
    "<h1> Entrada, salida y ficheros en python</h1>\n",
    "<img src=\"https://encrypted-tbn0.gstatic.com/images?q=tbn%3AANd9GcTxz1V_qO0OPpZIUChvrjyPcAtGu2-9A7qozYdEdLI0uR1ShWr4&usqp=CAU\">"
   ]
  },
  {
   "cell_type": "markdown",
   "metadata": {},
   "source": [
    "<h3>Entrada estándar</h3>\n",
    "La forma más sencilla de obtener información por parte del usuario\n",
    "es mediante la función input . Esta función toma como parámetro una cadena a usar como prompt (es decir, como texto a mostrar al\n",
    "usuario pidiendo la entrada) y devuelve una cadena con los caracteres\n",
    "introducidos por el usuario hasta que pulsó la tecla Enter. Veamos un\n",
    "pequeño ejemplo:"
   ]
  },
  {
   "cell_type": "code",
   "execution_count": 1,
   "metadata": {},
   "outputs": [
    {
     "name": "stdout",
     "output_type": "stream",
     "text": [
      "ingresa tu nombre julian andres\n",
      "julian andres\n"
     ]
    }
   ],
   "source": [
    "nombre=input(\"ingresa tu nombre \")\n",
    "print(nombre)"
   ]
  },
  {
   "cell_type": "code",
   "execution_count": 17,
   "metadata": {},
   "outputs": [
    {
     "name": "stdout",
     "output_type": "stream",
     "text": [
      "ingresa tu telefono 233344\n"
     ]
    }
   ],
   "source": [
    "telefono=input(\"ingresa tu telefono \")\n"
   ]
  },
  {
   "cell_type": "code",
   "execution_count": 18,
   "metadata": {},
   "outputs": [
    {
     "name": "stdout",
     "output_type": "stream",
     "text": [
      "233344\n"
     ]
    },
    {
     "data": {
      "text/plain": [
       "str"
      ]
     },
     "execution_count": 18,
     "metadata": {},
     "output_type": "execute_result"
    }
   ],
   "source": [
    "print(telefono)\n",
    "type(telefono)\n",
    "#note que telefono es un string para convertirlo en numero aplicamos int\n",
    "#print(telefono+2) es un error"
   ]
  },
  {
   "cell_type": "markdown",
   "metadata": {},
   "source": [
    "Si necesitáramos un entero como entrada en lugar de una cadena, por\n",
    "ejemplo, podríamos utilizar la función int para convertir la cadena a\n",
    "entero, aunque sería conveniente tener en cuenta que puede lanzarse\n",
    "una excepción si lo que introduce el usuario no es un número."
   ]
  },
  {
   "cell_type": "code",
   "execution_count": 19,
   "metadata": {},
   "outputs": [
    {
     "name": "stdout",
     "output_type": "stream",
     "text": [
      "233344\n",
      "<class 'int'>\n",
      "233346\n"
     ]
    }
   ],
   "source": [
    "telefonoentero=int(telefono)\n",
    "print(telefonoentero)\n",
    "print(type(telefonoentero))\n",
    "print(telefonoentero+2)"
   ]
  },
  {
   "cell_type": "markdown",
   "metadata": {},
   "source": [
    "<h3>Salida estándar</h3>\n",
    "La forma más sencilla de mostrar algo en la salida estándar es mediante el uso de la sentencia print , como hemos visto multitud de veces en ejemplos anteriores. En su forma más básica a la palabra clave print le\n",
    "sigue una cadena, que se mostrará en la salida estándar al ejecutarse el\n",
    "estamento."
   ]
  },
  {
   "cell_type": "code",
   "execution_count": 16,
   "metadata": {},
   "outputs": [
    {
     "name": "stdout",
     "output_type": "stream",
     "text": [
      "Hola querido mundo\n"
     ]
    }
   ],
   "source": [
    "print(\"Hola querido mundo\")"
   ]
  },
  {
   "cell_type": "markdown",
   "metadata": {},
   "source": [
    "La sentencia print , o más bien las cadenas que imprime, permiten\n",
    "también utilizar técnicas avanzadas de formateo, de forma similar al\n",
    "sprintf de C. "
   ]
  },
  {
   "cell_type": "markdown",
   "metadata": {},
   "source": [
    "<h3>Cadenas de formato</h3>\n",
    "Los especificadores más sencillos están formados por el símbolo %\n",
    "seguido de una letra que indica el tipo con el que formatear el valor\n",
    "Por ejemplo:<br>\n",
    "Especificador Formato <br>\n",
    "    %s         Cadena  <br> \n",
    "    %d         Entero <br>\n",
    "    %o         Octal <br>\n",
    "    %x         Hexadecimal <br>\n",
    "    %f         Real\n",
    "\n",
    "\n",
    "\n",
    "\n",
    "\n"
   ]
  },
  {
   "cell_type": "markdown",
   "metadata": {},
   "source": [
    "Se puede introducir un número entre el % y el carácter que indica el\n",
    "tipo al que formatear, indicando el número mínimo de caracteres que\n",
    "queremos que ocupe la cadena. Si el tamaño de la cadena resultante\n",
    "es menor que este número, se añadirán espacios a la izquierda de la\n",
    "cadena. En el caso de que el número sea negativo, ocurrirá exactamente\n",
    "lo mismo, sólo que los espacios se añadirán a la derecha de la cadena."
   ]
  },
  {
   "cell_type": "markdown",
   "metadata": {},
   "source": [
    "<h3>Archivos</h3><br>\n",
    "Los ficheros en Python son objetos de tipo file creados mediante la\n",
    "función <b>open</b>(abrir). Esta función toma como parámetros una cadena\n",
    "con la ruta al fichero a abrir, que puede ser relativa o absoluta; una\n",
    "cadena opcional indicando el modo de acceso (si no se especifica se\n",
    "accede en modo lectura) y, por último, un entero opcional para especificar un tamaño de buffer distinto del utilizado por defecto.\n",
    "El modo de acceso puede ser cualquier combinación lógica de los\n",
    "siguientes modos:<br>\n",
    "    \n",
    "‘r’ :read, lectura. Abre el archivo en modo lectura. El archivo tiene\n",
    "que existir previamente, en caso contrario se lanzará una excepción\n",
    "de tipo IOError .<br>\n",
    "‘w’ : write, escritura. Abre el archivo en modo escritura. Si el archivo no existe se crea. Si existe, sobreescribe el contenido.<br>\n",
    "‘a’ : append, añadir. Abre el archivo en modo escritura. Se diferencia del modo ‘w’ en que en este caso no se sobreescribe el contenido del archivo, sino que se comienza a escribir al final del archivo.<br>\n",
    "‘b’ : binary, binario.<br>\n",
    "‘+’ : permite lectura y escritura simultáneas.<br>\n",
    "‘U’ : universal newline, saltos de línea universales. Permite trabajar\n",
    "con archivos que tengan un formato para los saltos de línea que no\n",
    "coincide con el de la plataforma actual (en Windows se utiliza el\n",
    "caracter CR LF , en Unix LF y en Mac OS CR ).<br>\n",
    "\n",
    "\n",
    "f = open(“archivo.txt”, “w”)<br>\n",
    "\n",
    "Tras crear el objeto que representa nuestro archivo mediante la función\n",
    "open podremos realizar las operaciones de lectura/escritura pertinentes utilizando los métodos del objeto que veremos en las siguientes\n",
    "secciones.\n",
    "Una vez terminemos de trabajar con el archivo debemos cerrarlo utilizando el método close ."
   ]
  },
  {
   "cell_type": "code",
   "execution_count": 78,
   "metadata": {},
   "outputs": [],
   "source": []
  },
  {
   "cell_type": "markdown",
   "metadata": {},
   "source": [
    "<h3>Lectura de archivos</h3>\n",
    "Para la lectura de archivos se utilizan los métodos read , readline y\n",
    "readlines . <br>\n",
    "El método read devuelve una cadena con el contenido del archivo o\n",
    "bien el contenido de los primeros n bytes, si se especifica el tamaño\n",
    "máximo a leer. <br>\n",
    "El método readline sirve para leer las líneas del fichero una por una.\n",
    "Es decir, cada vez que se llama a este método, se devuelve el contenido del archivo desde el puntero hasta que se encuentra un carácter de\n",
    "nueva línea, incluyendo este carácter."
   ]
  },
  {
   "cell_type": "code",
   "execution_count": 10,
   "metadata": {},
   "outputs": [
    {
     "name": "stdout",
     "output_type": "stream",
     "text": [
      "['Holiotro Holi otro Holi']\n"
     ]
    }
   ],
   "source": [
    "i=open(\"texto.txt\",\"r\")\n",
    "lines = []\n",
    "for line in i:\n",
    "    lines.append(line)\n",
    "h.close()\n",
    "print(lines)"
   ]
  },
  {
   "cell_type": "code",
   "execution_count": 11,
   "metadata": {},
   "outputs": [],
   "source": [
    "while True:\n",
    "    linea = i.readline()\n",
    "    if not linea: break\n",
    "    print(linea)"
   ]
  },
  {
   "cell_type": "markdown",
   "metadata": {},
   "source": [
    "Por último, readlines , funciona leyendo todas las líneas del archivo y\n",
    "devolviendo una lista con las líneas leídas."
   ]
  },
  {
   "cell_type": "markdown",
   "metadata": {},
   "source": [
    "<h3>Escritura de archivos</h3>\n",
    "Para la escritura de archivos se utilizan los método write y writelines . <br>\n",
    "Mientras el primero funciona escribiendo en el archivo una cadena de\n",
    "texto que toma como parámetro, el segundo toma como parámetro una\n",
    "lista de cadenas de texto indicando las líneas que queremos escribir en\n",
    "el fichero. <br>\n",
    "Mover el puntero de lectura/escritura\n",
    "Hay situaciones en las que nos puede interesar mover el puntero de\n",
    "lectura/escritura a una posición determinada del archivo. Por ejemplo\n",
    "si queremos empezar a escribir en una posición determinada y no al\n",
    "final o al principio del archivo. <br>\n",
    "Para esto se utiliza el método seek que toma como parámetro un número positivo o negativo a utilizar como desplazamiento. También es\n",
    "posible utilizar un segundo parámetro para indicar desde dónde queremos que se haga el desplazamiento: 0 indicará que el desplazamiento\n",
    "se refiere al principio del fichero (comportamiento por defecto), 1 se\n",
    "refiere a la posición actual, y 2, al final del fichero. <br>\n",
    "Para determinar la posición en la que se encuentra actualmente el\n",
    "puntero se utiliza el método tell() , que devuelve un entero indicando\n",
    "la distancia en bytes desde el principio del fichero."
   ]
  },
  {
   "cell_type": "code",
   "execution_count": 12,
   "metadata": {},
   "outputs": [],
   "source": [
    "g=open(\"texto.txt\",\"w\")\n",
    "f=open(\"Datos.ods\",\"w\")\n",
    "g.write(\"Holi\")\n",
    "g.close()"
   ]
  },
  {
   "cell_type": "code",
   "execution_count": 13,
   "metadata": {},
   "outputs": [],
   "source": [
    "#para escribir sobre un archivo que ya tenia escritura\n",
    "g=open(\"texto.txt\",\"a\")\n",
    "g.write(\" otro Holi\")\n",
    "g.close()"
   ]
  },
  {
   "cell_type": "markdown",
   "metadata": {},
   "source": [
    "Hasta aca tenemos el tema de entrada, salida estandar y ficheros en python. Si tienes alguna duda no olvides escribir a <br>\n",
    "<b>andres.programacion123@gmail.com</b>"
   ]
  }
 ],
 "metadata": {
  "kernelspec": {
   "display_name": "Python 3",
   "language": "python",
   "name": "python3"
  },
  "language_info": {
   "codemirror_mode": {
    "name": "ipython",
    "version": 3
   },
   "file_extension": ".py",
   "mimetype": "text/x-python",
   "name": "python",
   "nbconvert_exporter": "python",
   "pygments_lexer": "ipython3",
   "version": "3.7.5"
  }
 },
 "nbformat": 4,
 "nbformat_minor": 2
}
