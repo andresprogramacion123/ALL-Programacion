{
 "cells": [
  {
   "cell_type": "code",
   "execution_count": 5,
   "metadata": {},
   "outputs": [
    {
     "name": "stdout",
     "output_type": "stream",
     "text": [
      "hola mundo\n"
     ]
    }
   ],
   "source": [
    "#Para ejecutar una celda y seguir en la siguiente: Shift+Enter\n",
    "print(\"hola mundo\")"
   ]
  },
  {
   "cell_type": "code",
   "execution_count": 2,
   "metadata": {},
   "outputs": [
    {
     "name": "stdout",
     "output_type": "stream",
     "text": [
      "hello worl\n"
     ]
    }
   ],
   "source": [
    "#Para ejecutar una celda y permanecer en la misma: Ctrl+Enter\n",
    "print(\"hello worl\")"
   ]
  },
  {
   "cell_type": "markdown",
   "metadata": {},
   "source": [
    "Para poner el promt en la celda solo es necesarrio pulsar Enter"
   ]
  },
  {
   "cell_type": "markdown",
   "metadata": {},
   "source": [
    "Añadir una celda: + en la barra de herramientas.<br>\n",
    "Borrar una celda: Tijeras en la barra de herramientas.<br>\n",
    "Copiar una celda: Copiar en la barra de herramientas.<br>\n",
    "Pegar celda copiada: Pegar en la barra de herramientas.<br>"
   ]
  },
  {
   "cell_type": "markdown",
   "metadata": {},
   "source": [
    "Para que la celda no sea de codigo, si no mas bien de texto selecionar Markdown"
   ]
  },
  {
   "cell_type": "markdown",
   "metadata": {},
   "source": [
    "# Esto es un titulo"
   ]
  },
  {
   "cell_type": "markdown",
   "metadata": {},
   "source": [
    "## Esto es un titulo pequeño"
   ]
  },
  {
   "cell_type": "markdown",
   "metadata": {},
   "source": [
    "### Esto es un titulo mas pequeño"
   ]
  },
  {
   "cell_type": "markdown",
   "metadata": {},
   "source": [
    "Para hacer una viñeta (Bullet point) utilizar el elemento *"
   ]
  },
  {
   "cell_type": "markdown",
   "metadata": {},
   "source": [
    "* Mi primera viñeta"
   ]
  },
  {
   "cell_type": "markdown",
   "metadata": {},
   "source": [
    "* Mi segunda viñeta\n",
    "* Mi tercera viñeta"
   ]
  },
  {
   "cell_type": "markdown",
   "metadata": {},
   "source": [
    "* Uno\n",
    "    + a\n",
    "    + b\n",
    "    + c\n",
    "* Dos\n",
    "* Tres"
   ]
  },
  {
   "cell_type": "markdown",
   "metadata": {},
   "source": [
    "1. [Uno](#imagenes)\n",
    "2. Dos\n",
    "3. Tres"
   ]
  },
  {
   "cell_type": "markdown",
   "metadata": {},
   "source": [
    "1. Uno <br>\n",
    "texto texto texto\n",
    "\n",
    "1. Dos  <br>\n",
    "texto texto texto\n",
    "\n",
    "3. Tres  <br>\n",
    "texto texto texto"
   ]
  },
  {
   "cell_type": "markdown",
   "metadata": {},
   "source": [
    "Este es un vínculo a [GOOGLE](http://www.google.com).\n"
   ]
  },
  {
   "cell_type": "markdown",
   "metadata": {},
   "source": [
    "Estos son vinculos referenciados a [Anaconda][1]  y [Python][2].\n",
    "\n",
    "[1]: https://www.continuum.io \"Continuum Analytics\"\n",
    "[2]: https://www.python.org \"Python Software Fundation\""
   ]
  },
  {
   "cell_type": "markdown",
   "metadata": {},
   "source": [
    "[vínculo a la seccion de abajo](#abajo)\n"
   ]
  },
  {
   "cell_type": "markdown",
   "metadata": {},
   "source": [
    "Para escribir texto en negrilla utilizar doble * tanto para comenzar como para terminar, para el caso de cursiva de manera similar utilizamos un *"
   ]
  },
  {
   "cell_type": "markdown",
   "metadata": {},
   "source": [
    "**Mi primer texto en negrilla**<br>\n",
    "*Mi primer texto en cursiva*\n"
   ]
  },
  {
   "cell_type": "markdown",
   "metadata": {},
   "source": [
    "# abajo "
   ]
  },
  {
   "cell_type": "markdown",
   "metadata": {},
   "source": [
    "# imagenes"
   ]
  },
  {
   "cell_type": "markdown",
   "metadata": {},
   "source": [
    "Para insertar imagenes:\n"
   ]
  },
  {
   "cell_type": "markdown",
   "metadata": {},
   "source": [
    "<img src=\"data:image/jpeg;base64,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\">"
   ]
  },
  {
   "cell_type": "markdown",
   "metadata": {},
   "source": [
    "Latex (Adjuntar conocimiento en las siguientes celdas.)"
   ]
  }
 ],
 "metadata": {
  "kernelspec": {
   "display_name": "Python 3",
   "language": "python",
   "name": "python3"
  },
  "language_info": {
   "codemirror_mode": {
    "name": "ipython",
    "version": 3
   },
   "file_extension": ".py",
   "mimetype": "text/x-python",
   "name": "python",
   "nbconvert_exporter": "python",
   "pygments_lexer": "ipython3",
   "version": "3.6.9"
  }
 },
 "nbformat": 4,
 "nbformat_minor": 4
}
