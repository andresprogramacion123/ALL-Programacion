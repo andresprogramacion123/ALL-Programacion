{
 "cells": [
  {
   "cell_type": "markdown",
   "metadata": {},
   "source": [
    "<h1>Introduccion al machine learning (ML o aprendizaje automatico)</h1>\n",
    "\n",
    "<img src=\"https://elordenmundial.com/wp-content/uploads/2020/02/42271822770_09cee734c0_k-e1581770521698-1310x815.jpg\">"
   ]
  },
  {
   "cell_type": "markdown",
   "metadata": {},
   "source": [
    "El aprendizaje automático es la ciencia (y el arte) de la programación de computadoras para que puedan aprender de los datos."
   ]
  },
  {
   "cell_type": "markdown",
   "metadata": {},
   "source": [
    "Se dice que un programa de computadora aprende de la <b>experiencia E</b> con respecto a alguna <b>tarea T</b> y alguna <b>medida de rendimiento P,</b> si su desempeño en T, medido por P, mejora con la experiencia E."
   ]
  },
  {
   "cell_type": "markdown",
   "metadata": {},
   "source": [
    "Los ejemplos que el sistema usa para aprender se llaman <b>conjunto de entrenamiento.</b> Cada ejemplo de capacitación se denomina <b>instancia de capacitación (o muestra).</b>"
   ]
  },
  {
   "cell_type": "markdown",
   "metadata": {},
   "source": [
    "Por ejemplo, su filtro de spam es un programa de Aprendizaje automático que puede aprender a marcar el correo no deseado con ejemplos de correos electrónicos no deseados (por ejemplo, marcados por usuarios) y ejemplos de correos electrónicos regulares (no spam, también llamados \"ham\").\n",
    "En este caso, la <b>tarea T</b> es marcar spam para nuevos correos electrónicos, la <b>experiencia E</b> es la información de entrenamiento y <b>la medida de rendimiento P</b> necesita ser definida; por ejemplo, puede usar la proporción de correos electrónicos correctamente clasificados. Esta medida de rendimiento particular se llama <b>precisión</b> y se usa a menudo en tareas de clasificación."
   ]
  },
  {
   "cell_type": "markdown",
   "metadata": {},
   "source": [
    "<b>Machine Learning es ideal para:</b><br>\n",
    "• Problemas para los que las soluciones existentes requieren una gran cantidad de ajuste a mano o largas listas de reglas: un algoritmo de Aprendizaje automático a menudo puede simplificar el código y tener un mejor rendimiento.\n",
    "• Problemas complejos para los que no existe una solución adecuada con un enfoque tradicional: las mejores técnicas de Machine Learning pueden encontrar una solución.\n",
    "• Ambientes fluctuantes: un sistema de Aprendizaje automático puede adaptarse a nuevos datos.\n",
    "• Obtener información sobre problemas complejos y grandes cantidades de datos."
   ]
  },
  {
   "cell_type": "markdown",
   "metadata": {},
   "source": [
    "<b>Tipos de sistemas de aprendizaje automático</b><br>\n",
    "Hay tantos tipos diferentes de sistemas de Aprendizaje automático que es útil clasificarlos en categorías amplias en función de:<br>\n",
    "• Si están o no entrenados con supervisión humana (supervisado, no supervisado, semisupervisado y Aprendizaje de refuerzo)<br>\n",
    "• Si pueden o no aprender incrementalmente sobre la marcha (en línea versus aprendizaje por lotes)<br>\n",
    "• Ya sea que funcionen simplemente comparando nuevos puntos de datos con puntos de datos conocidos, o en su lugar, detecten patrones en los datos de entrenamiento y construyan un modelo predictivo, al igual que los científicos (aprendizaje basado en instancias versus aprendizaje basado en modelos)."
   ]
  },
  {
   "cell_type": "markdown",
   "metadata": {},
   "source": [
    "<b>Aprendizaje Supervisado / No Supervisado</b>\n",
    "Los sistemas de Machine Learning se pueden clasificar según la cantidad y el tipo de supervisión que obtienen durante el entrenamiento. Hay cuatro categorías principales: aprendizaje supervisado, aprendizaje no supervisado, aprendizaje semisupervisado y Aprendizaje de refuerzo.\n"
   ]
  },
  {
   "cell_type": "markdown",
   "metadata": {},
   "source": [
    "<b>Aprendizaje supervisado</b>\n",
    "En el aprendizaje supervisado, los datos de entrenamiento que alimenta al algoritmo <b>incluyen las soluciones deseadas, denominadas etiquetas (labels)"
   ]
  },
  {
   "cell_type": "markdown",
   "metadata": {},
   "source": [
    "Una típica tarea de aprendizaje supervisado es <b>la clasificación.</b>\n",
    "Otra tarea típica es predecir un valor numérico objetivo, como el precio de un automóvil, dado un conjunto de características (kilometraje, antigüedad, marca, etc.) llamadas <b>predictores</b>. Este tipo de tarea se llama <b>regresión</b><br>\n",
    "En Machine Learning, un <b>atributo</b> es un tipo de datos (por ejemplo, \"Kilometraje\"), mientras que una característica tiene varios significados según el contexto, pero generalmente significa un atributo más su valor (por ejemplo, \"Kilometraje = 15,000\"). Sin embargo, muchas personas usan las palabras <b>atributo y característica indistintamente"
   ]
  },
  {
   "cell_type": "markdown",
   "metadata": {},
   "source": [
    "<b>Tenga en cuenta que algunos algoritmos de regresión también se pueden usar para la clasificación, y viceversa."
   ]
  },
  {
   "cell_type": "markdown",
   "metadata": {},
   "source": [
    "Estos son algunos de los algoritmos de aprendizaje supervisado más importantes:<br>\n",
    "• k-Vecinos más cercanos<br>\n",
    "• Regresión lineal<br>\n",
    "• Regresión logística<br>\n",
    "• Soporte de máquinas de vectores (SVM)<br>\n",
    "• Árboles de decisión y bosques aleatorios<br>\n",
    "• Redes neuronales<br>\n",
    "\n",
    "\n"
   ]
  },
  {
   "cell_type": "markdown",
   "metadata": {},
   "source": [
    "Algunas arquitecturas de redes neuronales pueden no estar supervisadas, como <b>autoencoders y máquinas Boltzmann restringidas.<b>"
   ]
  },
  {
   "cell_type": "markdown",
   "metadata": {},
   "source": [
    "<b>Aprendizaje sin supervisión (Se realizara una investigacion profunda)</b><br>\n",
    "En el aprendizaje no supervisado, como se puede adivinar, los datos de entrenamiento no están etiquetados. El sistema intenta aprender sin un maestro.<br>\n",
    "Estos son algunos de los algoritmos de aprendizaje no supervisados más importantes (abordaremos la reducción de la dimensionalidad en el Capítulo 8):<br>\n",
    "• Agrupación<br>\n",
    "-K-Means<br>\n",
    "-Hierarchical Cluster Analysis (HCA)<br>\n",
    "-Expectativa de maximización<br>\n",
    "• Visualización y reducción de dimensionalidad-->(Realizar analisis detallado)<br>\n",
    "-Principal Component Analysis (PCA)-->(Realizar analisis detallado)<br>\n",
    "-Kernel PCA<br>\n",
    "-Incrustación localmente lineal (LLE)<br>\n",
    "Incrustación de vecinos estocástica distribuida (t-SNE)<br>\n",
    "• Aprendizaje de reglas de asociación<br>\n",
    "-A priori<br>\n",
    "-Brillo<br>"
   ]
  },
  {
   "cell_type": "markdown",
   "metadata": {},
   "source": [
    "Los algoritmos de visualización también son buenos ejemplos de algoritmos de aprendizaje no supervisados: les proporciona una gran cantidad de datos complejos y no etiquetados, y generan una representación 2D o 3D de sus datos que se puede trazar fácilmente (Figura 1-9). Estos algoritmos intentan preservar la mayor cantidad de estructura posible (por ejemplo, tratando de evitar que los clústeres separados en el espacio de entrada se superpongan en la visualización), para que pueda entender cómo se organizan los datos y quizás identificar patrones insospechados. "
   ]
  },
  {
   "cell_type": "markdown",
   "metadata": {},
   "source": [
    "Una tarea relacionada es la <b>reducción de dimensionalidad,</b> en la que el objetivo es simplificar los datos sin perder demasiada información. Una forma de hacerlo es fusionar varias características correlacionadas en una sola. Por ejemplo, el kilometraje de un automóvil puede estar muy correlacionado con su edad, por lo que el algoritmo de reducción de dimensionalidad los fusionará en una característica que representa el desgaste del automóvil. Esto se llama <b>extracción de características (feature extraction).</b><br>\n",
    "A menudo es una buena idea tratar de reducir la dimensión de sus datos de entrenamiento utilizando un algoritmo de reducción de dimensionalidad antes de alimentarlo a otro algoritmo de Machine Learning (como un algoritmo de aprendizaje supervisado). Funcionará mucho más rápido, los datos ocuparán menos espacio en disco y memoria, y en algunos casos también pueden funcionar mejor.<br>\n",
    "Otra tarea importante no supervisada es la detección de anomalías, por ejemplo, la detección de transacciones de tarjetas de crédito inusuales para evitar fraudes, detectar defectos de fabricación o eliminar automáticamente valores atípicos de un conjunto de datos antes de alimentarlo con otro algoritmo de aprendizaje. El sistema está entrenado con instancias normales, y cuando ve una nueva instancia puede decir si se ve como una normal o si es probable que sea una anomalía (vea la Figura 1-10). (Imagen).<br>\n",
    "Finalmente, otra tarea común no supervisada es el aprendizaje de reglas de asociación, en el cual el objetivo es investigar en grandes cantidades de datos y descubrir relaciones interesantes entre los atributos. Por ejemplo, supongamos que es dueño de un supermercado. Ejecutar una regla de asociación en sus registros de ventas puede revelar que las personas que compran salsa barbacoa y papas fritas también tienden a comprar bistec. Por lo tanto, es posible que desee colocar estos elementos cerca uno del otro."
   ]
  },
  {
   "cell_type": "markdown",
   "metadata": {},
   "source": [
    "<img src=\"https://lh3.googleusercontent.com/proxy/_LL1zAxSwTZwscpCviUf4fU8_xfPYi5gxwUHfTuA8xXi1gEPASrAoSkYpVkG5O7E3t493NP6fKKwQRlOFQNH87HEY82SGTPd22yDhaRrOCVKtFYKPiyyd3iGHu0RQo0WKBZeZAsI1mTfz8PFJw_WVHo\">"
   ]
  },
  {
   "cell_type": "markdown",
   "metadata": {},
   "source": [
    "<b>Aprendizaje semisupervisado</b><br>\n",
    "Algunos algoritmos pueden tratar con datos de entrenamiento parcialmente etiquetados, generalmente una gran cantidad de datos sin etiquetar y un poco de datos etiquetados. Esto se denomina aprendizaje semisupervisado"
   ]
  },
  {
   "cell_type": "markdown",
   "metadata": {},
   "source": [
    "<br><b>Aprendizaje reforzado--->(Atencion:Realizar un analisis completo)</b>\n",
    "Refuerzo El aprendizaje es una bestia muy diferente. El sistema de aprendizaje, llamado agente en este contexto, puede observar el entorno, seleccionar y realizar acciones y obtener recompensas a cambio (o sanciones en forma de recompensas negativas, como en la figura 1-12). Luego debe aprender por sí mismo cuál es la mejor estrategia, llamada política, para obtener la mayor recompensa a lo largo del tiempo. Una política define qué acción debe elegir el agente cuando se encuentra en una situación determinada"
   ]
  },
  {
   "cell_type": "markdown",
   "metadata": {},
   "source": [
    "<img src=\"https://i.blogs.es/49b1fc/grafico/450_1000.jpg\">"
   ]
  },
  {
   "cell_type": "markdown",
   "metadata": {},
   "source": [
    "<img src=\"https://miro.medium.com/max/675/1*2aGjVH9aCRSXsMg1vT4peg.png\">"
   ]
  },
  {
   "cell_type": "markdown",
   "metadata": {},
   "source": [
    "<b>Lote y aprendizaje en línea</b>\n",
    "Otro criterio utilizado para clasificar los sistemas de Machine Aprendizaje es si el sistema puede aprender de forma incremental a partir de un flujo de datos entrantes."
   ]
  },
  {
   "cell_type": "markdown",
   "metadata": {},
   "source": [
    "<b>Aprendizaje por lotes</b>\n",
    "En el aprendizaje por lotes, el sistema es incapaz de aprender de forma incremental: debe ser entrenado usando todos los datos disponibles. En general, esto llevará mucho tiempo y recursos informáticos, por lo que normalmente se realiza sin conexión. Primero el sistema se entrena, y luego se inicia en la producción y se ejecuta sin aprender más; solo aplica lo que ha aprendido. Esto se llama aprendizaje fuera de línea."
   ]
  },
  {
   "cell_type": "markdown",
   "metadata": {},
   "source": [
    "<b>Aprender en línea (sera nuestro enfoque en la actualidad)</b>\n",
    "En el aprendizaje en línea, se capacita al sistema de forma gradual al alimentarlo instancias de datos de forma secuencial, ya sea individualmente o en pequeños grupos llamados <b>mini lotes</b>. Cada paso de aprendizaje es rápido y barato, por lo que el sistema puede aprender sobre nuevos datos sobre la marcha, a medida que llega"
   ]
  },
  {
   "cell_type": "markdown",
   "metadata": {},
   "source": [
    "El aprendizaje en línea es ideal para los sistemas que reciben datos como un flujo continuo (por ejemplo, precios de las acciones) y necesitan adaptarse para cambiar de forma rápida o autónoma. También es una buena opción si tiene recursos informáticos limitados: una vez que un sistema de aprendizaje en línea ha descubierto nuevas instancias de datos, ya no las necesita, así que puede descartarlas (a menos que quiera volver a una versión anterior). indicar y \"reproducir\" los datos). Esto puede ahorrar una gran cantidad de espacio.\n",
    "Los algoritmos de aprendizaje en línea también se pueden usar para entrenar sistemas en grandes conjuntos de datos que no caben en la memoria principal de una máquina (esto se denomina aprendizaje fuera del núcleo). El algoritmo carga parte de los datos, ejecuta un paso de capacitación sobre esos datos y repite el proceso hasta que se haya ejecutado en todos los datos .\n",
    "Todo este proceso generalmente se realiza fuera de línea (es decir, no en el sistema en vivo), por lo que el aprendizaje en línea puede ser un nombre confuso. Piénselo como aprendizaje incremental."
   ]
  },
  {
   "cell_type": "markdown",
   "metadata": {},
   "source": [
    "Un parámetro importante de los sistemas de aprendizaje en línea es qué tan rápido deben adaptarse a los datos cambiantes: esto se llama <b>tasa de aprendizaje (MUY IMPORTANTE)</b>. Si establece una alta tasa de aprendizaje, su sistema se adaptará rápidamente a los datos nuevos, pero también tenderá a olvidar rápidamente los datos antiguos (no desea que un filtro de correo no deseado marque solo los últimos tipos de correo no deseado que se mostró) . Por el contrario, si establece una baja tasa de aprendizaje, el sistema tendrá más inercia; es decir, aprenderá más lentamente, pero también será menos sensible al ruido en los datos nuevos o a secuencias de puntos de datos no representativos."
   ]
  },
  {
   "cell_type": "markdown",
   "metadata": {},
   "source": [
    "<img src=\"https://www.researchgate.net/profile/Kipp_Johnson/publication/331439931/figure/fig2/AS:733179287728129@1551814972455/mpact-of-deep-learning-design-on-learning-effect-of-learning-rate-A-Efficient.png\">"
   ]
  },
  {
   "cell_type": "markdown",
   "metadata": {},
   "source": [
    "Un gran desafío con el aprendizaje en línea es que si se suministran datos incorrectos al sistema, el rendimiento del sistema disminuirá gradualmente. Si estamos hablando de un sistema en vivo, sus clientes lo notarán. Por ejemplo, los datos incorrectos podrían provenir de un sensor que no funciona bien en un robot o de alguien que envía correo no deseado a un motor de búsqueda para tratar de obtener una posición alta en los resultados de búsqueda. Para reducir este riesgo, debe monitorear de cerca su sistema y rápidamente desconectar el aprendizaje (y posiblemente volver a un estado anterior) si detecta una disminución en el rendimiento. Es posible que también desee controlar los datos de entrada y reaccionar ante datos anómalos (p. Ej., Utilizando un algoritmo de detección de anomalías)."
   ]
  },
  {
   "cell_type": "markdown",
   "metadata": {},
   "source": [
    "<b>Basado en instancias versus aprendizaje basado en modelos</b><br>\n",
    "Una forma más de categorizar los sistemas de Machine Learning es cómo generalizan.\n",
    "La mayoría de las tareas de Machine Learning se trata de hacer predicciones. Esto significa que, dada una serie de ejemplos de capacitación, el sistema debe ser capaz de generalizar a ejemplos que nunca antes se habían visto. Tener una buena medida de rendimiento en los datos de entrenamiento es bueno, pero insuficiente; el verdadero objetivo es tener un buen desempeño en nuevas instancias.\n",
    "Hay dos enfoques principales para la generalización: <b>el aprendizaje basado en instancias<b> y el <b>aprendizaje basado en modelos.<b>"
   ]
  },
  {
   "cell_type": "markdown",
   "metadata": {},
   "source": [
    "<b>Aprendizaje basado en instancias</b><br>\n",
    "Posiblemente, la forma más trivial de aprender es simplemente aprender de memoria. Si creara un filtro de correo no deseado de esta manera, simplemente marcaría todos los correos electrónicos que son idénticos a los que ya han sido marcados por los usuarios, no la peor solución, pero ciertamente no la mejor.\n",
    "Esto se denomina aprendizaje basado en instancias: el sistema aprende los ejemplos de memoria, luego generaliza a casos nuevos usando una medida de similitud "
   ]
  },
  {
   "cell_type": "markdown",
   "metadata": {},
   "source": [
    "<b>Aprendizaje basado en modelos (NUESTTRO ENFOQUE)</b><br>\n",
    "Otra forma de generalizar a partir de un conjunto de ejemplos es construir un modelo de estos ejemplos, luego usar ese modelo para hacer predicciones. Esto se conoce como aprendizaje basado en modelos "
   ]
  },
  {
   "cell_type": "markdown",
   "metadata": {},
   "source": [
    "<b>¿Cómo puede saber qué valores harán que su modelo tenga un mejor rendimiento?</b> Para responder a esta pregunta, debe especificar una <b>medida de rendimiento.</b> Puede definir una <b>función de utilidad</b> (o función de estado) que mida qué tan bueno es su modelo, o puede definir una <b>función de costo</b> que mida qué tan malo es. Para problemas de regresión lineal, las personas generalmente usan una función de costo que mide la distancia entre las predicciones del modelo lineal y los ejemplos de entrenamiento; el objetivo es minimizar esta distancia.\n",
    "Aquí es donde entra en juego el algoritmo de regresión lineal: usted le proporciona sus ejemplos de capacitación y encuentra los parámetros que hacen que el modelo lineal se adapte mejor a sus datos. Esto se <b>llama entrenamiento del modelo.</b>"
   ]
  },
  {
   "cell_type": "markdown",
   "metadata": {},
   "source": [
    "<b>Finalmente está listo para ejecutar el modelo para hacer predicciones. </b>"
   ]
  },
  {
   "cell_type": "markdown",
   "metadata": {},
   "source": [
    "<b>En resumen: (super importante--->atencion)<BR>\n",
    "• Estudiaste los datos.<BR>\n",
    "• Seleccionó un modelo.<BR>\n",
    "• Lo entrenó en los datos de entrenamiento (es decir, el algoritmo de aprendizaje buscó los valores de parámetros del modelo que minimizan una función de costo).<BR>\n",
    "• Finalmente, aplicó el modelo para hacer predicciones sobre casos nuevos (esto se llama inferencia), con la esperanza de que este modelo se generalice bien.<BR>\n",
    "Así es como se ve un proyecto típico de Aprendizaje automático."
   ]
  },
  {
   "cell_type": "markdown",
   "metadata": {},
   "source": [
    "<b>Principales desafíos del aprendizaje automático</b><br>\n",
    "En resumen, dado que su tarea principal es seleccionar un algoritmo de aprendizaje y entrenarlo en algunos datos, las dos cosas que pueden salir mal son <b>\"mal algoritmo\" y \"datos incorrectos\"</b>. Comencemos con ejemplos de datos incorrectos."
   ]
  },
  {
   "cell_type": "markdown",
   "metadata": {},
   "source": [
    "<b>Cantidad insuficiente de datos de entrenamiento</b><br>\n",
    "Para que un niño aprenda qué es una manzana, basta con que apunte a una manzana y diga \"manzana\" (posiblemente repitiendo este procedimiento varias veces). Ahora el niño es capaz de reconocer las manzanas en todo tipo de colores y formas. Genio.\n",
    "Machine Learning todavía no está allí; se requieren muchos datos para que la mayoría de los algoritmos de Machine Learning funcionen correctamente. Incluso para problemas muy simples, normalmente necesita miles de ejemplos, y para problemas complejos como reconocimiento de imágenes o voz, puede necesitar millones de ejemplos (a menos que pueda reutilizar partes de un modelo existente)."
   ]
  },
  {
   "cell_type": "markdown",
   "metadata": {},
   "source": [
    "<b>En conclusion: si no hay muchos datos puede enfocarse en utilizar modelos preentrenados."
   ]
  },
  {
   "cell_type": "markdown",
   "metadata": {},
   "source": [
    "<b>Datos de entrenamiento no representativos</b><br>\n",
    "Para generalizar bien, es crucial que los datos de tu entrenamiento sean representativos de los nuevos casos a los que quieras generalizar. Esto es cierto ya sea que use aprendizaje basado en instancias o aprendizaje basado en modelos."
   ]
  },
  {
   "cell_type": "markdown",
   "metadata": {},
   "source": [
    "Al utilizar un conjunto de capacitación no representativo, capacitamos a un modelo que es poco probable que haga predicciones precisas. Es crucial utilizar un conjunto de capacitación que sea representativo de los casos a los que desea generalizar. Esto a menudo es más difícil de lo que parece: si la muestra es demasiado pequeña, tendrá un ruido de muestreo (es decir, datos no representativos como resultado de la probabilidad), pero incluso muestras muy grandes pueden no ser representativas si el método de muestreo es defectuoso. Esto se conoce como sesgo de muestreo."
   ]
  },
  {
   "cell_type": "markdown",
   "metadata": {},
   "source": [
    "<b>En conclusion: Que los datos no sean representativos y se obtengan sesgos."
   ]
  },
  {
   "cell_type": "markdown",
   "metadata": {},
   "source": [
    "<b>Datos de mala calidad</b><br>\n",
    "Obviamente, si los datos de capacitación están llenos de errores, valores atípicos y ruido (p. Ej., Debido a mediciones de baja calidad), será más difícil para el sistema detectar los patrones subyacentes, por lo que es menos probable que su sistema funcione bien. A menudo vale la pena el esfuerzo para pasar el tiempo limpiando sus datos de entrenamiento. La verdad es que la mayoría de los científicos de datos dedican una parte importante de su tiempo a hacer exactamente eso. Por ejemplo:<br>\n",
    "<b>• Si algunas instancias son claramente atípicas, puede ser útil simplemente descartarlas o tratar de corregir los errores de forma manual.<br>\n",
    "• Si a algunas instancias les faltan algunas características (por ejemplo, el 5% de sus clientes no especificaron su edad), debe decidir si desea ignorar por completo este atributo, ignorar estas instancias, completar los valores que faltan (p. Ej., Con el mediana de edad), o entrenar un modelo con la característica y un modelo sin él, y así sucesivamente."
   ]
  },
  {
   "cell_type": "markdown",
   "metadata": {},
   "source": [
    "<b>Características irrelevantes</b><br>\n",
    "Su sistema solo podrá aprender si los datos de entrenamiento contienen suficientes características relevantes y no demasiadas irrelevantes. Una parte fundamental del éxito de un proyecto de Aprendizaje automático está surgiendo con un buen conjunto de características para entrenar. Este proceso, llamado ingeniería de características, implica:<br>\n",
    "<b>• Selección de características: seleccionando las funciones más útiles para entrenar entre las funciones existentes.<br>\n",
    "• Extracción de características: combina funciones existentes para producir una más útil (como vimos anteriormente, los algor4itmos de reducción de dimensionalidad pueden ayudar).<br>\n",
    "• Crear nuevas características mediante la recopilación de nuevos datos. <br>\n"
   ]
  },
  {
   "cell_type": "markdown",
   "metadata": {},
   "source": [
    "Ahora que hemos analizado muchos ejemplos de datos incorrectos, veamos un par de ejemplos de algoritmos incorrectos."
   ]
  },
  {
   "cell_type": "markdown",
   "metadata": {},
   "source": [
    "<b>Sobreajustar los datos de entrenamiento (overfitting)</b><br>\n",
    " Sobregeneralizar es algo que los humanos hacemos con demasiada frecuencia, y lamentablemente las máquinas pueden caer en la misma trampa si no tenemos cuidado. En Machine Learning esto se llama overfitting: significa que el modelo funciona bien en los datos de entrenamiento, pero no se generaliza bien. "
   ]
  },
  {
   "cell_type": "markdown",
   "metadata": {},
   "source": [
    "Los modelos complejos, como las redes neuronales profundas, pueden detectar patrones sutiles en los datos, pero si el conjunto de entrenamiento es ruidoso o si es demasiado pequeño (lo que introduce ruido de muestreo), es probable que el modelo detecte patrones en el ruido en sí. Obviamente, estos patrones no se generalizarán a nuevas instancias."
   ]
  },
  {
   "cell_type": "markdown",
   "metadata": {},
   "source": [
    "El sobreajuste ocurre cuando el modelo es demasiado complejo en relación con la cantidad y el ruido de los datos de entrenamiento. Las posibles soluciones son:<br>\n",
    "• Para simplificar el modelo, seleccione uno con menos parámetros (por ejemplo, un modelo lineal en lugar de un modelo polinomial de alto grado), reduciendo el número de atributos en los datos de entrenamiento o restringiendo el modelo<br>\n",
    "• Para reunir más datos de entrenamiento<br>\n",
    "• Para reducir el ruido en los datos de entrenamiento (por ejemplo, corregir errores de datos y eliminar valores atípicos)<br>\n",
    "Restringir un modelo para simplificarlo y reducir el riesgo de sobreajuste se llama regularización."
   ]
  },
  {
   "cell_type": "markdown",
   "metadata": {},
   "source": [
    "La cantidad de regularización para aplicar durante el aprendizaje puede controlarse mediante un <b>hiperparámetro.</b>\n",
    "Un hiperparámetro es un parámetro de un algoritmo de aprendizaje (no del modelo). Como tal, no se ve afectado por el algoritmo de aprendizaje en sí mismo; debe establecerse antes del entrenamiento y permanecer constante durante el entrenamiento. Si configura el hiperparámetro de regularización en un valor muy grande, obtendrá un modelo casi plano (una pendiente cercana a cero); el algoritmo de aprendizaje casi seguro no sobrecargará los datos de entrenamiento, pero será menos probable que encuentre una buena solución. Ajustar los hiperparámetros es una parte importante de la construcción de un sistema de aprendizaje automático"
   ]
  },
  {
   "cell_type": "markdown",
   "metadata": {},
   "source": [
    "<b>Underfitting</b><br>\n",
    "Como puede imaginarse, el ajuste insuficiente es lo opuesto al sobreajuste: ocurre cuando su modelo es demasiado simple para conocer la estructura subyacente de los datos. Por ejemplo, un modelo lineal de satisfacción con la vida es propenso a ser inadecuado; la realidad es simplemente más compleja que el modelo, por lo que sus predicciones serán inexactas, incluso en los ejemplos de capacitación.<br>\n",
    "Las principales opciones para solucionar este problema son:<br>\n",
    "• Seleccionar un modelo más poderoso, con más parámetros<br>\n",
    "• Alimentando mejores características al algoritmo de aprendizaje (ingeniería de características)<br>\n",
    "• Reducir las restricciones en el modelo (por ejemplo, reducir el hiperparámetro de regularización) "
   ]
  },
  {
   "cell_type": "markdown",
   "metadata": {},
   "source": [
    "<img src=\"https://i1.wp.com/www.aprendemachinelearning.com/wp-content/uploads/2017/12/generalizacion-machine-learning.png?resize=560%2C225\">"
   ]
  },
  {
   "cell_type": "markdown",
   "metadata": {},
   "source": [
    "Solo hay un último tema importante por cubrir: una vez que haya entrenado un modelo, no solo desea \"esperar\" que se generalice a casos nuevos. Desea evaluarlo, y afinarlo si es necesario. Veamos cómo."
   ]
  },
  {
   "cell_type": "markdown",
   "metadata": {},
   "source": [
    "<b>Prueba y Validación-->(Muy importante)</b><br>\n",
    "La única forma de saber qué tan bien se generalizará un modelo a casos nuevos es probarlo en casos nuevos. Una forma de hacerlo es poner su modelo en producción y controlar qué tan bien funciona. Esto funciona bien, pero si su modelo es terriblemente malo, sus usuarios se quejarán, no es la mejor idea.<br>\n",
    "Una mejor opción es dividir sus datos en dos conjuntos: <b>el conjunto de entrenamiento</b> y <b>el conjunto de prueba o conjunto de text</b>. Como estos nombres implican, usted entrena su modelo usando el conjunto de entrenamiento, y lo prueba usando el conjunto de prueba. La tasa de error en casos nuevos se denomina <b>error de generalización (o error de muestra)</b> y al evaluar su modelo en el conjunto de prueba, obtiene una estimación de este error. Este valor le indica qué tan bien funcionará su modelo en instancias que nunca antes había visto.\n",
    "Si el error de entrenamiento es bajo (es decir, su modelo comete pocos errores en el conjunto de entrenamiento) pero el error de generalización es alto, significa que su modelo está sobreajustando los datos de entrenamiento.\n",
    "<b>Es común usar el 80% de los datos para el entrenamiento y aguantar el 20% para las pruebas.</b>\n",
    "Entonces, evaluar un modelo es bastante simple: solo use un conjunto de prueba. "
   ]
  },
  {
   "cell_type": "markdown",
   "metadata": {},
   "source": [
    "Ahora suponga que está dudando entre dos modelos (por ejemplo, un modelo lineal y un modelo polinómico): ¿cómo puede decidir? <b> Una opción es capacitar a ambos y comparar qué tan bien generalizan usando el conjunto de prueba."
   ]
  },
  {
   "cell_type": "markdown",
   "metadata": {},
   "source": [
    "Supongamos ahora que el modelo lineal se generaliza mejor, pero desea aplicar algunas regularizaciones para evitar el sobreajuste. La pregunta es: <b>¿cómo se elige el valor del hiperparámetro de regularización?</b> <b>Una opción es entrenar 100 modelos diferentes usando 100 valores diferentes para este hiperparámetro.</b> Supongamos que encuentra el mejor valor de hiperparámetro que produce un modelo con el error de generalización más bajo, digamos que solo el 5% de error.\n",
    "Entonces, inicia este modelo en producción, pero lamentablemente no funciona tan bien como se esperaba y produce un 15% de errores. ¿Lo que acaba de suceder?\n",
    "<b>El problema es que midió el error de generalización varias veces en el conjunto de prueba y adaptó el modelo y los hiperparámetros para producir el mejor modelo para ese conjunto. Esto significa que es poco probable que el modelo funcione tan bien en los datos nuevos.\n",
    "Una solución común a este problema es tener un segundo conjunto de retención denominado <b>conjunto de validación.</b> Entrene varios modelos con varios hiperparámetros usando el conjunto de entrenamiento, seleccione el modelo y los hiperparámetros que tengan el mejor rendimiento en el conjunto de validación, y cuando esté satisfecho con su modelo, ejecute una única prueba final en comparación con el conjunto de prueba para obtener un estimado de el error de generalización"
   ]
  },
  {
   "cell_type": "markdown",
   "metadata": {},
   "source": [
    "Es decir en conclusion tenemos 3 conjuntos<br>\n",
    "El primero es el conjunto de entrenamiento el cual se utilizara para encontrar el error de entrenamiento.\n",
    "El segundo conjunto es el de validacion el cual se utilizara para probar y comparar diferentes modelos, encontrar los mejores hiperparametros y otras cosas mas.<br>\n",
    "Y el ultimo conjunto es el conjunto de testeo que consiste en un conjunto que solo lo va observar el modelo que finalmente se decidio con los hiperparametros escogidos, para asi obtener el error de generalizacion."
   ]
  },
  {
   "cell_type": "markdown",
   "metadata": {},
   "source": [
    "Para evitar \"desperdiciar\" demasiados datos de entrenamiento en los conjuntos de validación, una técnica común es usar validación cruzada: el conjunto de entrenamiento se divide en subconjuntos complementarios, y cada modelo se entrena contra una combinación diferente de estos subconjuntos y se valida contra las partes restantes . Una vez que se han seleccionado el tipo de modelo y los hiperparámetros, se entrena un modelo final utilizando estos hiperparámetros en el conjunto de entrenamiento completo, y el error generalizado se mide en el conjunto de prueba."
   ]
  },
  {
   "cell_type": "markdown",
   "metadata": {},
   "source": [
    "Es decir tomamos el conjunto de entrenamiento y lo dividimos en k subconjuntos, cada subconjunto lo entrenamos\n",
    "con un modelo pero lo evaluamos con los k-1 subconjuntos restantes.\n",
    "Ahora cuando ya se selecciona los hiperparametros y el modelo entonces tomamos el conjunto de entrenamiento total con el modelo y los hiperparametros y lo entrenamos para luego tomar el conjutno de testeo y halar el error de generalizacion."
   ]
  },
  {
   "cell_type": "markdown",
   "metadata": {},
   "source": [
    "Hasta aca tenemos el tema de introduccion al Machine learning. Si tienes alguna duda no olvides escribir a <br>\n",
    "<b>andres.programacion123@gmail.com</b>"
   ]
  }
 ],
 "metadata": {
  "kernelspec": {
   "display_name": "Python 3",
   "language": "python",
   "name": "python3"
  },
  "language_info": {
   "codemirror_mode": {
    "name": "ipython",
    "version": 3
   },
   "file_extension": ".py",
   "mimetype": "text/x-python",
   "name": "python",
   "nbconvert_exporter": "python",
   "pygments_lexer": "ipython3",
   "version": "3.6.9"
  }
 },
 "nbformat": 4,
 "nbformat_minor": 2
}
