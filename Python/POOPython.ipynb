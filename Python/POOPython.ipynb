{
 "cells": [
  {
   "cell_type": "code",
   "execution_count": 1,
   "metadata": {},
   "outputs": [],
   "source": [
    "#PROGRAMACION ORIENTADA A OBJETOS o POO"
   ]
  },
  {
   "cell_type": "code",
   "execution_count": null,
   "metadata": {},
   "outputs": [],
   "source": [
    "#Def de objeto"
   ]
  },
  {
   "cell_type": "markdown",
   "metadata": {},
   "source": [
    "Un objeto es una entidad que agrupa un\n",
    "estado y una funcionalidad relacionadas. El estado del objeto se define\n",
    "a través de variables llamadas atributos, mientras que la funcionalidad\n",
    "se modela a través de funciones a las que se les conoce con el nombre\n",
    "de métodos del objeto."
   ]
  },
  {
   "cell_type": "code",
   "execution_count": 2,
   "metadata": {},
   "outputs": [],
   "source": [
    "#Def de Clase"
   ]
  },
  {
   "cell_type": "markdown",
   "metadata": {},
   "source": [
    "Una clase, por otro lado, no es más que una plantilla genérica a partir de la cuál instanciar los objetos; plantilla que es la que define qué atributos y métodos tendrán los objetos de esa clase."
   ]
  },
  {
   "cell_type": "markdown",
   "metadata": {},
   "source": [
    "En Python las clases se definen mediante la palabra clave class seguida del nombre de la clase, dos puntos ( : ) y a continuación, indentado,\n",
    "el cuerpo de la clase. Como en el caso de las funciones, si la primera\n",
    "línea del cuerpo se trata de una cadena de texto, esta será la cadena de\n",
    "documentación de la clase o docstring."
   ]
  },
  {
   "cell_type": "code",
   "execution_count": 4,
   "metadata": {},
   "outputs": [],
   "source": [
    "class Coche:\n",
    "    '''Abstraccion de los objetos coche.'''\n",
    "    def __init__(self, gasolina): #definimos el metodo __init__ el cual es una convencion y el parametro self\n",
    "        self.gasolina = gasolina\n",
    "        print(\"Tenemos\",gasolina,\"litros\")\n",
    "    def arrancar(self):\n",
    "        if self.gasolina > 0:\n",
    "            print(\"Arranca\")\n",
    "        else:\n",
    "            print(\"No arranca\")\n",
    "    def conducir(self):\n",
    "        if self.gasolina > 0:\n",
    "            self.gasolina -= 1\n",
    "            print (\"Quedan\", self.gasolina, \"litros\")\n",
    "        else:\n",
    "            print(\"No se mueve\")"
   ]
  },
  {
   "cell_type": "code",
   "execution_count": 20,
   "metadata": {},
   "outputs": [
    {
     "name": "stdout",
     "output_type": "stream",
     "text": [
      "Help on class Coche in module __main__:\n",
      "\n",
      "class Coche(builtins.object)\n",
      " |  Coche(gasolina)\n",
      " |  \n",
      " |  Abstraccion de los objetos coche.\n",
      " |  \n",
      " |  Methods defined here:\n",
      " |  \n",
      " |  __init__(self, gasolina)\n",
      " |      Initialize self.  See help(type(self)) for accurate signature.\n",
      " |  \n",
      " |  arrancar(self)\n",
      " |  \n",
      " |  conducir(self)\n",
      " |  \n",
      " |  ----------------------------------------------------------------------\n",
      " |  Data descriptors defined here:\n",
      " |  \n",
      " |  __dict__\n",
      " |      dictionary for instance variables (if defined)\n",
      " |  \n",
      " |  __weakref__\n",
      " |      list of weak references to the object (if defined)\n",
      "\n"
     ]
    }
   ],
   "source": [
    "help(Coche)"
   ]
  },
  {
   "cell_type": "code",
   "execution_count": null,
   "metadata": {},
   "outputs": [],
   "source": [
    "# El metodo __init__ (una convencion)"
   ]
  },
  {
   "cell_type": "markdown",
   "metadata": {},
   "source": [
    "El método __init__ , con una doble barra baja al\n",
    "principio y final del nombre, se ejecuta justo después de crear un nuevo\n",
    "objeto a partir de la clase, proceso que se conoce con el nombre de\n",
    "instanciación. El método __init__ sirve, como sugiere su nombre, para\n",
    "realizar cualquier proceso de inicialización que sea necesario."
   ]
  },
  {
   "cell_type": "code",
   "execution_count": 5,
   "metadata": {},
   "outputs": [],
   "source": [
    "# El primer parametro: self"
   ]
  },
  {
   "cell_type": "markdown",
   "metadata": {},
   "source": [
    "Como vemos el primer parámetro de __init__ y del resto de métodos de la clase es siempre self . Esta es una idea inspirada en Modula-3 y\n",
    "sirve para referirse al objeto actual. Este mecanismo es necesario para\n",
    "poder acceder a los atributos y métodos del objeto diferenciando, por\n",
    "ejemplo, una variable local mi_var de un atributo del objeto self.mi_var ."
   ]
  },
  {
   "cell_type": "markdown",
   "metadata": {},
   "source": [
    "Si volvemos al método __init__ de nuestra clase Coche veremos cómo\n",
    "se utiliza self para asignar al atributo gasolina del objeto ( self.gasolina ) el valor que el programador especificó para el parámetro gasolina . El parámetro gasolina se destruye al final de la función, mientras\n",
    "que el atributo gasolina se conserva (y puede ser accedido) mientras el\n",
    "objeto viva."
   ]
  },
  {
   "cell_type": "code",
   "execution_count": 6,
   "metadata": {},
   "outputs": [],
   "source": [
    "#¿Como instanciar o inicializar un objeto?\n"
   ]
  },
  {
   "cell_type": "code",
   "execution_count": 7,
   "metadata": {},
   "outputs": [],
   "source": [
    "#Se escribira el nombre de la clase seguida de cualquier parametro que sea necesario entre parentesis\n",
    "#este parametro entre parentesis es el que pasa al metodo __init__ veamos un ejemplo"
   ]
  },
  {
   "cell_type": "code",
   "execution_count": 8,
   "metadata": {},
   "outputs": [
    {
     "name": "stdout",
     "output_type": "stream",
     "text": [
      "Tenemos 10 litros\n"
     ]
    }
   ],
   "source": [
    "mi_primerobjeto=Coche(10) #creando mi primer objeto"
   ]
  },
  {
   "cell_type": "code",
   "execution_count": 9,
   "metadata": {},
   "outputs": [],
   "source": [
    "#como ya cree mi primer objeto puedo acceder a los diferentes metodos de mi objeto, lo cual se realiza copiando\n",
    "# el nombre del objeto seguido de umn punto y el metodo al cual quiero acceder seguido de parentesis"
   ]
  },
  {
   "cell_type": "code",
   "execution_count": 12,
   "metadata": {},
   "outputs": [
    {
     "name": "stdout",
     "output_type": "stream",
     "text": [
      "Arranca\n"
     ]
    }
   ],
   "source": [
    "mi_primerobjeto.arrancar() #metodo arrancar de mi primer objeto\n"
   ]
  },
  {
   "cell_type": "code",
   "execution_count": 13,
   "metadata": {},
   "outputs": [
    {
     "name": "stdout",
     "output_type": "stream",
     "text": [
      "Quedan 9 litros\n"
     ]
    }
   ],
   "source": [
    "mi_primerobjeto.conducir()"
   ]
  },
  {
   "cell_type": "code",
   "execution_count": 14,
   "metadata": {},
   "outputs": [
    {
     "name": "stdout",
     "output_type": "stream",
     "text": [
      "Quedan 8 litros\n"
     ]
    }
   ],
   "source": [
    "mi_primerobjeto.conducir()"
   ]
  },
  {
   "cell_type": "code",
   "execution_count": 15,
   "metadata": {},
   "outputs": [
    {
     "name": "stdout",
     "output_type": "stream",
     "text": [
      "Tenemos 2 litros\n"
     ]
    }
   ],
   "source": [
    "mi_coche=Coche(2) #creo un segundo objeto de la clase Coche"
   ]
  },
  {
   "cell_type": "code",
   "execution_count": 17,
   "metadata": {},
   "outputs": [
    {
     "name": "stdout",
     "output_type": "stream",
     "text": [
      "Arranca\n"
     ]
    }
   ],
   "source": [
    "#Vuelvo a acceder a los metodos de mi objeto\n",
    "mi_coche.arrancar()"
   ]
  },
  {
   "cell_type": "code",
   "execution_count": 18,
   "metadata": {},
   "outputs": [
    {
     "name": "stdout",
     "output_type": "stream",
     "text": [
      "Quedan 1 litros\n"
     ]
    }
   ],
   "source": [
    "mi_coche.conducir()"
   ]
  },
  {
   "cell_type": "code",
   "execution_count": 19,
   "metadata": {},
   "outputs": [],
   "source": [
    "#---NOTA---- Recordar que en python todo son objetos por lo tanto le podemos acceder a los metodos de la \n",
    "#clase al cual pertenece"
   ]
  },
  {
   "cell_type": "code",
   "execution_count": null,
   "metadata": {},
   "outputs": [],
   "source": []
  }
 ],
 "metadata": {
  "kernelspec": {
   "display_name": "Python 3",
   "language": "python",
   "name": "python3"
  },
  "language_info": {
   "codemirror_mode": {
    "name": "ipython",
    "version": 3
   },
   "file_extension": ".py",
   "mimetype": "text/x-python",
   "name": "python",
   "nbconvert_exporter": "python",
   "pygments_lexer": "ipython3",
   "version": "3.7.5"
  }
 },
 "nbformat": 4,
 "nbformat_minor": 2
}
