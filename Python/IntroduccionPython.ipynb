{
 "cells": [
  {
   "cell_type": "markdown",
   "metadata": {},
   "source": [
    "<h1 >INTRODUCCIÓN A PYTHON</h1>\n",
    "\n"
   ]
  },
  {
   "attachments": {},
   "cell_type": "markdown",
   "metadata": {},
   "source": [
    "<img src=\"https://s3-us-west-2.amazonaws.com/devcodepro/media/blog/por-que-aprender-python.png\">"
   ]
  },
  {
   "cell_type": "markdown",
   "metadata": {},
   "source": [
    "<h3>En Python los tipos básicos de variables se dividen en: <br>\n",
    "\n",
    "*Números, como pueden ser 3 (entero) , <br>\n",
    "\n",
    "*15.57 (de coma flotante) o <br>\n",
    "\n",
    "*7 + 5j (complejos) <br>\n",
    "\n",
    "*Cadenas de texto, como “Hola Mundo” <br>\n",
    "\n",
    "*Valores booleanos: True (cierto) y False (falso).</h3>"
   ]
  },
  {
   "cell_type": "code",
   "execution_count": 24,
   "metadata": {},
   "outputs": [
    {
     "name": "stdout",
     "output_type": "stream",
     "text": [
      "<class 'str'>\n",
      "<class 'int'>\n",
      "<class 'float'>\n",
      "<class 'complex'>\n",
      "<class 'bool'>\n"
     ]
    }
   ],
   "source": [
    "c = \"Hola Mundo\"# esto es una caden\n",
    "e = 23 # y esto es un entero\n",
    "d= 23.5 #flotante\n",
    "f= 8 +4j #complejo\n",
    "h=True #booleano\n",
    "# podemos comprobarlo con la función type\n",
    "print(type(c))\n",
    "print(type(e))\n",
    "print(type(d))\n",
    "print(type(f))\n",
    "print(type(h))"
   ]
  },
  {
   "cell_type": "markdown",
   "metadata": {},
   "source": [
    "<h3>La funcion type() me dice el tipo basico de mi objeto: <br>\n",
    "\n",
    "*str=strin o cadena de texto <br>\n",
    "\n",
    "*int=entero <br>\n",
    "\n",
    "*float=flotante o punto decimal <br>\n",
    "\n",
    "*complex=complejo</h3>"
   ]
  },
  {
   "cell_type": "markdown",
   "metadata": {},
   "source": [
    "<h3>En python no declaramos las variables al crearlas en comparacion a c++ que si se declaran</h3>"
   ]
  },
  {
   "cell_type": "markdown",
   "metadata": {},
   "source": [
    "<h3>Operadores aritmeticos: <br>\n",
    "    \n",
    "*negacion= - <br>\n",
    "\n",
    "*suma= + <br>\n",
    "\n",
    "*resta= -  <br>\n",
    "\n",
    "*multiplicacion= *<br>\n",
    "\n",
    "*exponente = ** <br>\n",
    "\n",
    "*division= / <br>\n",
    "\n",
    "*division entera= // <br>\n",
    "\n",
    "*modulo= % </h3>\n",
    "\n"
   ]
  },
  {
   "cell_type": "code",
   "execution_count": 3,
   "metadata": {},
   "outputs": [
    {
     "name": "stdout",
     "output_type": "stream",
     "text": [
      "8\n",
      "-2\n",
      "15\n",
      "0.6\n",
      "0\n",
      "3\n"
     ]
    }
   ],
   "source": [
    "a=3\n",
    "b=5\n",
    "z=a+b#suma\n",
    "print(z)\n",
    "z=a-b#resta\n",
    "print(z)\n",
    "z=a*b #multiplicacion\n",
    "print(z)\n",
    "z=a/b#division\n",
    "print(z)\n",
    "z=a//b #division entera\n",
    "print(z)\n",
    "z=a%b #modulo\n",
    "print(z)"
   ]
  },
  {
   "cell_type": "markdown",
   "metadata": {},
   "source": [
    "<h3>Cadenas de texto ¡¡¡muy importante</h3>"
   ]
  },
  {
   "cell_type": "code",
   "execution_count": 9,
   "metadata": {},
   "outputs": [
    {
     "name": "stdout",
     "output_type": "stream",
     "text": [
      "HOLA MUNDOde nuevo\n"
     ]
    }
   ],
   "source": [
    "a=\"HOLA MUNDO\"\n",
    "b=\"de nuevo\"\n",
    "print(a+b) #concatena la cadena"
   ]
  },
  {
   "cell_type": "code",
   "execution_count": 11,
   "metadata": {},
   "outputs": [
    {
     "name": "stdout",
     "output_type": "stream",
     "text": [
      "HOLA MUNDOHOLA MUNDOHOLA MUNDOHOLA MUNDO\n"
     ]
    }
   ],
   "source": [
    "print(a*4) # Repite la cadena tantas veces como diga"
   ]
  },
  {
   "cell_type": "code",
   "execution_count": 20,
   "metadata": {},
   "outputs": [
    {
     "name": "stdout",
     "output_type": "stream",
     "text": [
      "hola k ase hola k ase hola k ase \n",
      "hola k ase  aca programando\n",
      "hola k ase 1\n",
      "hola k ase hola k ase hola k ase \n",
      "hola k ase  aca programando\n",
      "hola k ase 1\n",
      "hola k ase hola k ase hola k ase \n",
      "hola k ase  aca programando\n",
      "hola k ase 1\n",
      "hola k ase hola k ase hola k ase \n",
      "hola k ase  aca programando\n",
      "hola k ase 1\n",
      "hola k ase hola k ase hola k ase \n",
      "hola k ase  aca programando\n",
      "hola k ase 1\n",
      "hola k ase hola k ase hola k ase \n",
      "hola k ase  aca programando\n",
      "hola k ase 1\n",
      "hola k ase hola k ase hola k ase \n",
      "hola k ase  aca programando\n",
      "hola k ase 1\n",
      "hola k ase hola k ase hola k ase \n",
      "hola k ase  aca programando\n",
      "hola k ase 1\n",
      "hola k ase hola k ase hola k ase \n",
      "hola k ase  aca programando\n",
      "hola k ase 1\n",
      "hola k ase hola k ase hola k ase \n",
      "hola k ase  aca programando\n",
      "hola k ase 1\n"
     ]
    }
   ],
   "source": [
    "for i in range(10):\n",
    "    a=\"hola k ase \"#con espacio\n",
    "    b=\" aca programando\" #con espacio\n",
    "    a1=\"hola k ase\" #sin espacio\n",
    "    d=a+b\n",
    "    #c=a+1 error\n",
    "    h=str(1)\n",
    "    c=a+h\n",
    "    z=a*3\n",
    "    print(z)\n",
    "    print(d)\n",
    "    print(c)\n",
    "    "
   ]
  },
  {
   "cell_type": "markdown",
   "metadata": {},
   "source": [
    "<h3>Booleanos: <br>\n",
    "Como decíamos al comienzo del capítulo una variable de tipo booleano sólo puede tener dos valores: True (cierto) y False (falso).</h3>"
   ]
  },
  {
   "cell_type": "markdown",
   "metadata": {},
   "source": [
    "<h3>Operadores booleanos: <br>\n",
    "\n",
    "*and = & <br>\n",
    "\n",
    "*or = | <br>\n",
    " \n",
    "*not = ~ <br>\n",
    "\n",
    "*igualdad == <br>\n",
    "\n",
    "*distintos != <br>\n",
    "\n",
    "*menor que < <br>\n",
    "\n",
    "*mayor que > <br>\n",
    "\n",
    "*menor igual que <= <br>\n",
    "\n",
    "*mayor igual que >= </h3>\n"
   ]
  },
  {
   "cell_type": "code",
   "execution_count": 19,
   "metadata": {},
   "outputs": [
    {
     "name": "stdout",
     "output_type": "stream",
     "text": [
      "False\n",
      "True\n",
      "-1\n",
      "True\n",
      "False\n",
      "True\n",
      "False\n",
      "True\n"
     ]
    }
   ],
   "source": [
    "f=False\n",
    "r=True\n",
    "z=f&r #disyuncion\n",
    "print(z)\n",
    "z=f|r #conjuncion\n",
    "print(z)\n",
    "z=~(f&r) #negacion\n",
    "print(z)\n",
    "z=5>3 #mayor que\n",
    "print(z)\n",
    "z=5<3 #menor que\n",
    "print(z)\n",
    "z=5>=5 #mayor igual que\n",
    "print(z)\n",
    "z=f==r #identico\n",
    "print(z)\n",
    "z=f!=r #diferente\n",
    "print(z)"
   ]
  },
  {
   "cell_type": "markdown",
   "metadata": {},
   "source": [
    "<h3>Sentencias condicionales: <br>\n",
    "    \n",
    "*if <br>\n",
    "    \n",
    "*else <br>\n",
    "\n",
    "*elif=if...else if...else if</h3>"
   ]
  },
  {
   "cell_type": "markdown",
   "metadata": {},
   "source": [
    "<h3> if: la forma de escribir es: <br>\n",
    "    \n",
    "if (condicion): luego sigue la identacion <br>\n",
    "\n",
    "instrucciones </h3>"
   ]
  },
  {
   "cell_type": "code",
   "execution_count": 18,
   "metadata": {},
   "outputs": [
    {
     "name": "stdout",
     "output_type": "stream",
     "text": [
      "Tienes buen gusto!\n",
      "Gracias\n"
     ]
    }
   ],
   "source": [
    "fav=\"mundogeek.net\"\n",
    "if fav == \"mundogeek.net\":\n",
    "    print(\"Tienes buen gusto!\")\n",
    "    print(\"Gracias\")\n",
    "    "
   ]
  },
  {
   "cell_type": "markdown",
   "metadata": {},
   "source": [
    "<h3>else: <br>\n",
    "   \n",
    "   instrucciones</h3>"
   ]
  },
  {
   "cell_type": "code",
   "execution_count": 21,
   "metadata": {},
   "outputs": [
    {
     "name": "stdout",
     "output_type": "stream",
     "text": [
      "hola\n"
     ]
    }
   ],
   "source": [
    "if a==7:\n",
    "    print(\"que mas\")\n",
    "else:\n",
    "    print(\"hola\")"
   ]
  },
  {
   "cell_type": "markdown",
   "metadata": {},
   "source": [
    "<h3>Bucles</h3>"
   ]
  },
  {
   "cell_type": "markdown",
   "metadata": {},
   "source": [
    "<h3>while (mientras): <br>\n",
    "    \n",
    "while condicion: identacion <br>\n",
    "\n",
    "instrucciones </h3>\n"
   ]
  },
  {
   "cell_type": "code",
   "execution_count": 24,
   "metadata": {},
   "outputs": [
    {
     "name": "stdout",
     "output_type": "stream",
     "text": [
      "1\n",
      "2\n",
      "3\n",
      "4\n",
      "5\n",
      "6\n",
      "7\n",
      "8\n",
      "9\n",
      "10\n",
      "11\n"
     ]
    }
   ],
   "source": [
    "a=0\n",
    "while a<=10:\n",
    "    a=a+1\n",
    "    print(a)"
   ]
  },
  {
   "cell_type": "markdown",
   "metadata": {},
   "source": [
    "Ahora imaginemos que se nos olvidara escribir la instrucción que aumenta el a.\n",
    "Esto es lo que se conoce como un bucle infinito."
   ]
  },
  {
   "cell_type": "markdown",
   "metadata": {},
   "source": [
    "Sin embargo hay situaciones en las que un bucle infinito es útil. Por\n",
    "ejemplo, veamos un pequeño programa que repite todo lo que el usuario diga hasta que escriba adios ."
   ]
  },
  {
   "cell_type": "markdown",
   "metadata": {},
   "source": [
    "Los bucles son infinitos si no se escribe la condicion "
   ]
  },
  {
   "cell_type": "code",
   "execution_count": 21,
   "metadata": {},
   "outputs": [
    {
     "name": "stdout",
     "output_type": "stream",
     "text": [
      ">adios\n"
     ]
    }
   ],
   "source": [
    "while True: #mientras sea verdadero se realiza la accion\n",
    "    entrada = input(\">\") #ingrese por teclado algun valor que se guarda en la variable entrada\n",
    "    if entrada ==\"adios\": #si el valor ingresado es identico a adios se sale del bucle\n",
    "        break #romper\n",
    "    else: #si el valor es diferente a adios se sigue en bucle\n",
    "        print(entrada)"
   ]
  },
  {
   "cell_type": "markdown",
   "metadata": {},
   "source": [
    "Aparece la palabra clave que es break = romper"
   ]
  },
  {
   "cell_type": "markdown",
   "metadata": {},
   "source": [
    "Hay otra palabra clave la cual es continue"
   ]
  },
  {
   "cell_type": "markdown",
   "metadata": {},
   "source": [
    "Como habréis adivinado no hace otra cosa que\n",
    "pasar directamente a la siguiente iteración del bucle.\n",
    "se utiliza cuando tengo sentencias condicionales como if o else y la idea es continuar en el bucle"
   ]
  },
  {
   "cell_type": "code",
   "execution_count": 31,
   "metadata": {},
   "outputs": [
    {
     "name": "stdout",
     "output_type": "stream",
     "text": [
      "Felicidades, tienes1\n",
      "Felicidades, tienes3\n",
      "Felicidades, tienes5\n",
      "Felicidades, tienes7\n",
      "Felicidades, tienes9\n",
      "Felicidades, tienes11\n",
      "Felicidades, tienes13\n",
      "Felicidades, tienes15\n",
      "Felicidades, tienes17\n"
     ]
    }
   ],
   "source": [
    "edad = 0\n",
    "while edad < 18:\n",
    "    edad = edad + 1\n",
    "    if edad % 2 == 0:\n",
    "        continue\n",
    "    print (\"Felicidades, tienes\"  + str(edad))"
   ]
  },
  {
   "cell_type": "markdown",
   "metadata": {},
   "source": [
    "<h3>for ... in</h3>"
   ]
  },
  {
   "cell_type": "markdown",
   "metadata": {},
   "source": [
    "Como hemos dicho los for se utilizan en Python para recorrer secuencias, \n",
    "por lo que vamos a utilizar un tipo secuencia, como es la lista, para\n",
    "nuestro ejemplo."
   ]
  },
  {
   "cell_type": "code",
   "execution_count": 22,
   "metadata": {},
   "outputs": [
    {
     "name": "stdout",
     "output_type": "stream",
     "text": [
      "uno\n",
      "dos\n",
      "tres\n"
     ]
    }
   ],
   "source": [
    "secuencia = [\"uno\", \"dos\", \"tres\"]\n",
    "for elemento in secuencia:\n",
    "    print(elemento)"
   ]
  },
  {
   "cell_type": "markdown",
   "metadata": {},
   "source": [
    "<h3>for i in range():<br>\n",
    "    \n",
    "Su forma de escribirlo es for variable in range(inicio,final,incremento):<br>\n",
    "\n",
    "   Realice lo de aca</h3>\n",
    "    "
   ]
  },
  {
   "cell_type": "code",
   "execution_count": 28,
   "metadata": {},
   "outputs": [
    {
     "name": "stdout",
     "output_type": "stream",
     "text": [
      "0\n",
      "2\n",
      "4\n",
      "6\n",
      "8\n"
     ]
    }
   ],
   "source": [
    "for i in range(0,10,2):\n",
    "    print(i)"
   ]
  },
  {
   "cell_type": "markdown",
   "metadata": {},
   "source": [
    "<h3>Colecciones de datos: <br>\n",
    "    \n",
    "*Listas<br>\n",
    "\n",
    "*Tuplas <br>\n",
    "\n",
    "*Diccionarios </h3>"
   ]
  },
  {
   "cell_type": "markdown",
   "metadata": {},
   "source": [
    "<h3>Listas</h3>"
   ]
  },
  {
   "cell_type": "markdown",
   "metadata": {},
   "source": [
    "La lista es un tipo de colección ordenada. Sería equivalente a lo que en\n",
    "otros lenguajes se conoce por arrays, o vectores.\n",
    "Las listas pueden contener cualquier tipo de dato: números, cadenas,\n",
    "booleanos, ... y también listas."
   ]
  },
  {
   "cell_type": "markdown",
   "metadata": {},
   "source": [
    "Crear una lista es tan sencillo como indicar entre corchetes, y separados por comas, los valores que queremos incluir en la lista:"
   ]
  },
  {
   "cell_type": "code",
   "execution_count": 25,
   "metadata": {},
   "outputs": [],
   "source": [
    "l = [22, True, \"una lista\", [1, 2]]\n",
    "j=[\"julian\", 24, False,[2,5],13.4] # mi lista"
   ]
  },
  {
   "cell_type": "markdown",
   "metadata": {},
   "source": [
    "Podemos acceder a cada uno de los elementos de la lista escribiendo el\n",
    "nombre de la lista e indicando el índice del elemento entre corchetes.\n",
    "Ten en cuenta sin embargo que el índice del primer elemento de la\n",
    "lista es 0, y no 1:"
   ]
  },
  {
   "cell_type": "code",
   "execution_count": 27,
   "metadata": {},
   "outputs": [],
   "source": [
    "l = [11, False]\n",
    "mi_var = l[0] # mi_var vale 11\n",
    "ele=j[0] #el operador [] actua sobre la lista j y me extrae el elemento 0"
   ]
  },
  {
   "cell_type": "code",
   "execution_count": 28,
   "metadata": {},
   "outputs": [
    {
     "name": "stdout",
     "output_type": "stream",
     "text": [
      "11\n",
      "julian\n"
     ]
    }
   ],
   "source": [
    "print(mi_var)\n",
    "print(ele)"
   ]
  },
  {
   "cell_type": "markdown",
   "metadata": {},
   "source": [
    "Si queremos acceder a un elemento de una lista incluida dentro de otra\n",
    "lista tendremos que utilizar dos veces este operador, primero para in-\n",
    "dicar a qué posición de la lista exterior queremos acceder, y el segundo\n",
    "para seleccionar el elemento de la lista interior:"
   ]
  },
  {
   "cell_type": "code",
   "execution_count": 32,
   "metadata": {},
   "outputs": [],
   "source": [
    "l = [\"una lista\", [1, 2]]"
   ]
  },
  {
   "cell_type": "code",
   "execution_count": 33,
   "metadata": {},
   "outputs": [],
   "source": [
    "mi_var = l[1][0] # mi_var vale 1\n",
    "ele=j[3][0] #el primer numero representa el elemento de la lista y como el elemento es una\n",
    "#lista escojo otra ves el elemento de esta lista"
   ]
  },
  {
   "cell_type": "code",
   "execution_count": 34,
   "metadata": {},
   "outputs": [
    {
     "name": "stdout",
     "output_type": "stream",
     "text": [
      "1\n",
      "2\n"
     ]
    }
   ],
   "source": [
    "print(mi_var)\n",
    "print(ele)"
   ]
  },
  {
   "cell_type": "markdown",
   "metadata": {},
   "source": [
    "También podemos utilizar este operador para modificar un elemento\n",
    "de la lista si lo colocamos en la parte izquierda de una asignación:"
   ]
  },
  {
   "cell_type": "code",
   "execution_count": 35,
   "metadata": {},
   "outputs": [],
   "source": [
    "l = [22, True]\n",
    "l[0] = 99 # Con esto l valdrá [99, True]\n",
    "j=[\"julian\", 24, False,[2,5],13.4]\n",
    "j[3][1]=3.14 #modificamos el elemento de una lista"
   ]
  },
  {
   "cell_type": "code",
   "execution_count": 36,
   "metadata": {},
   "outputs": [
    {
     "name": "stdout",
     "output_type": "stream",
     "text": [
      "99\n",
      "['julian', 24, False, [2, 3.14], 13.4]\n"
     ]
    }
   ],
   "source": [
    "print(l[0])\n",
    "print(j)"
   ]
  },
  {
   "cell_type": "markdown",
   "metadata": {},
   "source": [
    "Una curiosidad sobre el operador [] de Python es que podemos utilizar también números negativos. Si se utiliza un número negativo como\n",
    "índice, esto se traduce en que el índice empieza a contar desde el final,\n",
    "hacia la izquierda; es decir, con [-1] accederíamos al último elemento\n",
    "de la lista, con [-2] al penúltimo, con [-3] , al antepenúltimo, y así\n",
    "sucesivamente."
   ]
  },
  {
   "cell_type": "markdown",
   "metadata": {},
   "source": [
    "Veamos como utilizar los numeros negativos para imprimir elementos de la lista"
   ]
  },
  {
   "cell_type": "code",
   "execution_count": 38,
   "metadata": {},
   "outputs": [
    {
     "name": "stdout",
     "output_type": "stream",
     "text": [
      "13.4\n",
      "[2, 3.14]\n"
     ]
    }
   ],
   "source": [
    "eleneg=j[-1]\n",
    "print(eleneg)\n",
    "eleneg=j[-2]\n",
    "print(eleneg)"
   ]
  },
  {
   "cell_type": "markdown",
   "metadata": {},
   "source": [
    "Ojo muy importante concepto de <b>particionado o slicing </b>"
   ]
  },
  {
   "cell_type": "markdown",
   "metadata": {},
   "source": [
    "Otra cosa inusual es lo que en Python se conoce como slicing o particionado, y que consiste en ampliar este mecanismo para permitir seleccionar porciones de la lista. Si en lugar de un número escribimos dos\n",
    "números inicio y fin separados por dos puntos ( inicio:fin ) Python\n",
    "interpretará que queremos una lista que vaya desde la posición inicio\n",
    "a la posición fin , sin incluir este último. Si escribimos tres números\n",
    "( inicio:fin:salto ) en lugar de dos, el tercero se utiliza para determinar cada cuantas posiciones añadir un elemento a la lista."
   ]
  },
  {
   "cell_type": "code",
   "execution_count": 39,
   "metadata": {},
   "outputs": [],
   "source": [
    "l = [99, True, \"una lista\", [1, 2]]\n",
    "j=[\"julian\", 24, False,[2,5],13.4]\n",
    "mi_var = l[0:2]\n",
    "# mi_var vale [99, True]\n",
    "mi_var = l[0:4:2] # mi_var vale [99, “una lista”]"
   ]
  },
  {
   "cell_type": "code",
   "execution_count": 44,
   "metadata": {},
   "outputs": [
    {
     "name": "stdout",
     "output_type": "stream",
     "text": [
      "['julian', 24, False, [2, 5]]\n",
      "['julian', 24, False, [2, 5], 13.4]\n",
      "['julian']\n",
      "[False, [2, 5]]\n"
     ]
    }
   ],
   "source": [
    "ele=j[0:4] #¡¡¡Muy importante\n",
    "print(ele)\n",
    "ele=j[0:5]\n",
    "print(ele)\n",
    "ele=j[0:1]\n",
    "print(ele)\n",
    "ele=j[2:4]\n",
    "print(ele)"
   ]
  },
  {
   "cell_type": "code",
   "execution_count": 48,
   "metadata": {},
   "outputs": [
    {
     "name": "stdout",
     "output_type": "stream",
     "text": [
      "[99, 'una lista']\n"
     ]
    }
   ],
   "source": [
    "print(mi_var)"
   ]
  },
  {
   "cell_type": "markdown",
   "metadata": {},
   "source": [
    "Los números negativos también se pueden utilizar en un slicing, con el\n",
    "mismo comportamiento que se comentó anteriormente.\n",
    "Hay que mencionar así mismo que no es necesario indicar el principio\n",
    "y el final del slicing, sino que, si estos se omiten, se usarán por defecto\n",
    "las posiciones de inicio y fin de la lista, respectivamente:"
   ]
  },
  {
   "cell_type": "code",
   "execution_count": 43,
   "metadata": {},
   "outputs": [
    {
     "name": "stdout",
     "output_type": "stream",
     "text": [
      "['julian', 24, False, [2, 5], 13.4]\n",
      "['julian', 24, False, [2, 5], 13.4]\n"
     ]
    }
   ],
   "source": [
    "ele=j[:]\n",
    "print(ele)\n",
    "ele=j\n",
    "print(ele)"
   ]
  },
  {
   "cell_type": "code",
   "execution_count": 45,
   "metadata": {},
   "outputs": [
    {
     "name": "stdout",
     "output_type": "stream",
     "text": [
      "['julian', 24, False, [2, 5]]\n"
     ]
    }
   ],
   "source": [
    "eleneg=j[:-1] #imprime todos los elementos hasta el penultimo ¡¡¡Muy importante\n",
    "print(eleneg)"
   ]
  },
  {
   "cell_type": "code",
   "execution_count": 46,
   "metadata": {},
   "outputs": [
    {
     "name": "stdout",
     "output_type": "stream",
     "text": [
      "['julian', False, 13.4]\n"
     ]
    }
   ],
   "source": [
    "elesaltos=j[0:5:2] #el ultimo numero me especifica los saltos ¡¡¡Muy importante\n",
    "print(elesaltos)"
   ]
  },
  {
   "cell_type": "code",
   "execution_count": 49,
   "metadata": {},
   "outputs": [
    {
     "name": "stdout",
     "output_type": "stream",
     "text": [
      "[True, 'una lista']\n"
     ]
    }
   ],
   "source": [
    "l = [99, True, \"una lista\"]\n",
    "mi_var = l[1:] # mi_var vale [True, “una lista”]\n",
    "print(mi_var)"
   ]
  },
  {
   "cell_type": "code",
   "execution_count": 50,
   "metadata": {},
   "outputs": [
    {
     "name": "stdout",
     "output_type": "stream",
     "text": [
      "[99, True]\n"
     ]
    }
   ],
   "source": [
    "mi_var = l[:2] # mi_var vale [99, True]\n",
    "print(mi_var)"
   ]
  },
  {
   "cell_type": "code",
   "execution_count": 51,
   "metadata": {},
   "outputs": [
    {
     "name": "stdout",
     "output_type": "stream",
     "text": [
      "[99, True, 'una lista']\n"
     ]
    }
   ],
   "source": [
    "mi_var = l[:] # mi_var vale [99, True, “una lista”]\n",
    "print(mi_var)"
   ]
  },
  {
   "cell_type": "code",
   "execution_count": 52,
   "metadata": {},
   "outputs": [
    {
     "name": "stdout",
     "output_type": "stream",
     "text": [
      "[99, 'una lista']\n"
     ]
    }
   ],
   "source": [
    "mi_var = l[::2] # mi_var vale [99, “una lista”]\n",
    "print(mi_var)"
   ]
  },
  {
   "cell_type": "markdown",
   "metadata": {},
   "source": [
    "También podemos utilizar este mecanismo para modificar la lista:"
   ]
  },
  {
   "cell_type": "code",
   "execution_count": 57,
   "metadata": {},
   "outputs": [
    {
     "name": "stdout",
     "output_type": "stream",
     "text": [
      "[0, 1, 'una lista', [1, 2]]\n"
     ]
    }
   ],
   "source": [
    "l = [99, True, \"una lista\", [1, 2]]\n",
    "l[0:2] = [0, 1] # l vale [0, 1, “una lista”, [1, 2]]\n",
    "print(l)"
   ]
  },
  {
   "cell_type": "markdown",
   "metadata": {},
   "source": [
    "Pudiendo incluso modificar el tamaño de la lista si la lista de la parte\n",
    "derecha de la asignación tiene un tamaño menor o mayor que el de la\n",
    "selección de la parte izquierda de la asignación:"
   ]
  },
  {
   "cell_type": "code",
   "execution_count": 58,
   "metadata": {},
   "outputs": [
    {
     "name": "stdout",
     "output_type": "stream",
     "text": [
      "[False, 'una lista', [1, 2]]\n"
     ]
    }
   ],
   "source": [
    "l[0:2] = [False] # l vale [False, “una lista”, [1, 2]]\n",
    "print(l)"
   ]
  },
  {
   "cell_type": "markdown",
   "metadata": {},
   "source": [
    "En todo caso las listas ofrecen mecanismos más cómodos para ser modificadas a través de las funciones de la clase correspondiente, aunque\n",
    "no veremos estos mecanismos hasta más adelante, después de explicar\n",
    "lo que son las clases, los objetos y las funciones."
   ]
  },
  {
   "cell_type": "markdown",
   "metadata": {},
   "source": [
    "<h3>Veremos a continuación algunos métodos útiles de estos objetos. MUY IMPORTANTE</h3>"
   ]
  },
  {
   "cell_type": "markdown",
   "metadata": {},
   "source": [
    "<h3>Para las listas</h3>"
   ]
  },
  {
   "cell_type": "code",
   "execution_count": 13,
   "metadata": {},
   "outputs": [],
   "source": [
    "l = [99, True, \"una lista\", [1, 2]]\n",
    "j=[\"julian\", 24, False,[2,5],13.4]"
   ]
  },
  {
   "cell_type": "code",
   "execution_count": 14,
   "metadata": {},
   "outputs": [
    {
     "name": "stdout",
     "output_type": "stream",
     "text": [
      "[99, True, 'una lista', [1, 2], 23.4]\n",
      "['julian', 24, False, [2, 5], 13.4, 'holi']\n"
     ]
    }
   ],
   "source": [
    "#L.append(object)\n",
    "#Añade un objeto al final de la lista.\n",
    "j.append(\"holi\") #¡¡¡Muy importante\n",
    "l.append(23.4)\n",
    "print(l)\n",
    "print(j)"
   ]
  },
  {
   "cell_type": "code",
   "execution_count": 15,
   "metadata": {},
   "outputs": [
    {
     "data": {
      "text/plain": [
       "1"
      ]
     },
     "execution_count": 15,
     "metadata": {},
     "output_type": "execute_result"
    }
   ],
   "source": [
    "#L.count(value)\n",
    "#Devuelve el número de veces que se encontró value en la lista.\n",
    "l.count(99)"
   ]
  },
  {
   "cell_type": "code",
   "execution_count": 16,
   "metadata": {},
   "outputs": [
    {
     "name": "stdout",
     "output_type": "stream",
     "text": [
      "None\n"
     ]
    }
   ],
   "source": [
    "#L.extend(iterable)\n",
    "#Añade los elementos del iterable a la lista.\n",
    "z=[\"hola\", \"que mas\", 3, 4]\n",
    "h=l.extend(z)\n",
    "print(h)"
   ]
  },
  {
   "cell_type": "markdown",
   "metadata": {},
   "source": [
    "<b>L.index(value[, start[, stop]])</b><br>\n",
    "Devuelve la posición en la que se encontró la primera ocurrencia de\n",
    "value . Si se especifican, start y stop definen las posiciones de inicio y\n",
    "fin de una sublista en la que buscar."
   ]
  },
  {
   "cell_type": "code",
   "execution_count": 17,
   "metadata": {},
   "outputs": [
    {
     "data": {
      "text/plain": [
       "0"
      ]
     },
     "execution_count": 17,
     "metadata": {},
     "output_type": "execute_result"
    }
   ],
   "source": [
    "l.index(99)"
   ]
  },
  {
   "cell_type": "code",
   "execution_count": 18,
   "metadata": {},
   "outputs": [],
   "source": [
    "#L.insert(index, object)\n",
    "#Inserta el objeto object en la posición index .\n",
    "l.insert(3, \"que mas\") #¡¡¡Muy importante"
   ]
  },
  {
   "cell_type": "code",
   "execution_count": 19,
   "metadata": {},
   "outputs": [
    {
     "name": "stdout",
     "output_type": "stream",
     "text": [
      "[99, True, 'una lista', 'que mas', [1, 2], 23.4, 'hola', 'que mas', 3, 4]\n"
     ]
    }
   ],
   "source": [
    "print(l)"
   ]
  },
  {
   "cell_type": "code",
   "execution_count": 220,
   "metadata": {},
   "outputs": [
    {
     "data": {
      "text/plain": [
       "True"
      ]
     },
     "execution_count": 220,
     "metadata": {},
     "output_type": "execute_result"
    }
   ],
   "source": [
    "#L.pop([index])\n",
    "#Devuelve el valor en la posición index y lo elimina de la lista. Si no se\n",
    "#especifica la posición, se utiliza el último elemento de la lista.\n",
    "l.pop(3)"
   ]
  },
  {
   "cell_type": "code",
   "execution_count": 20,
   "metadata": {},
   "outputs": [],
   "source": [
    "#L.remove(value)\n",
    "#Eliminar la primera ocurrencia de value en la lista.\n",
    "l.remove(23.4)"
   ]
  },
  {
   "cell_type": "code",
   "execution_count": 143,
   "metadata": {},
   "outputs": [
    {
     "name": "stdout",
     "output_type": "stream",
     "text": [
      "[99, True, 'una lista', 'que mas', [1, 2]]\n"
     ]
    }
   ],
   "source": [
    "print(l)"
   ]
  },
  {
   "cell_type": "code",
   "execution_count": 145,
   "metadata": {},
   "outputs": [],
   "source": [
    "#L.reverse()\n",
    "#Invierte la lista. Esta función trabaja sobre la propia lista desde la que\n",
    "#se invoca el método, no sobre una copia.\n",
    "l.reverse()"
   ]
  },
  {
   "cell_type": "code",
   "execution_count": 146,
   "metadata": {},
   "outputs": [
    {
     "name": "stdout",
     "output_type": "stream",
     "text": [
      "[[1, 2], 'que mas', 'una lista', True, 99]\n"
     ]
    }
   ],
   "source": [
    "print(l)"
   ]
  },
  {
   "cell_type": "markdown",
   "metadata": {},
   "source": [
    "<b>L.sort(cmp=None, key=None, reverse=False)</b> <br>\n",
    "Ordena la lista. Si se especifica cmp , este debe ser una función que tome\n",
    "como parámetro dos valores x e y de la lista y devuelva -1 si x es menor\n",
    "que y , 0 si son iguales y 1 si x es mayor que y .\n",
    "El parámetro reverse es un booleano que indica si se debe ordenar\n",
    "la lista de forma inversa, lo que sería equivalente a llamar primero a\n",
    "L.sort() y después a L.reverse() .\n",
    "Por último, si se especifica, el parámetro key debe ser una función que\n",
    "tome un elemento de la lista y devuelva una clave a utilizar a la hora de\n",
    "comparar, en lugar del elemento en si"
   ]
  },
  {
   "cell_type": "markdown",
   "metadata": {},
   "source": [
    "<h3>Tuplas</h3>"
   ]
  },
  {
   "cell_type": "markdown",
   "metadata": {},
   "source": [
    "Todo lo que hemos explicado sobre las listas se aplica también a las\n",
    "tuplas, a excepción de la forma de definirla, para lo que se utilizan\n",
    "paréntesis en lugar de corchetes."
   ]
  },
  {
   "cell_type": "code",
   "execution_count": 151,
   "metadata": {},
   "outputs": [],
   "source": [
    "t = (1, 2, True, \"python\")"
   ]
  },
  {
   "cell_type": "markdown",
   "metadata": {},
   "source": [
    "En realidad el constructor de la tupla es la coma, no el paréntesis, pero\n",
    "el intérprete muestra los paréntesis, y nosotros deberíamos utilizarlos,\n",
    "por claridad."
   ]
  },
  {
   "cell_type": "code",
   "execution_count": 152,
   "metadata": {},
   "outputs": [],
   "source": [
    "t = 1, 2, 3"
   ]
  },
  {
   "cell_type": "code",
   "execution_count": 153,
   "metadata": {},
   "outputs": [
    {
     "name": "stdout",
     "output_type": "stream",
     "text": [
      "<class 'tuple'>\n"
     ]
    }
   ],
   "source": [
    "print(type(t))"
   ]
  },
  {
   "cell_type": "markdown",
   "metadata": {},
   "source": [
    "Además hay que tener en cuenta que es necesario añadir una coma\n",
    "para tuplas de un solo elemento, para diferenciarlo de un elemento\n",
    "entre paréntesis."
   ]
  },
  {
   "cell_type": "code",
   "execution_count": 154,
   "metadata": {},
   "outputs": [
    {
     "data": {
      "text/plain": [
       "int"
      ]
     },
     "execution_count": 154,
     "metadata": {},
     "output_type": "execute_result"
    }
   ],
   "source": [
    "t = (1)\n",
    "type(t)"
   ]
  },
  {
   "cell_type": "code",
   "execution_count": 155,
   "metadata": {},
   "outputs": [
    {
     "data": {
      "text/plain": [
       "tuple"
      ]
     },
     "execution_count": 155,
     "metadata": {},
     "output_type": "execute_result"
    }
   ],
   "source": [
    "t = (1,)\n",
    "type(t)"
   ]
  },
  {
   "cell_type": "code",
   "execution_count": 157,
   "metadata": {},
   "outputs": [
    {
     "name": "stdout",
     "output_type": "stream",
     "text": [
      "1\n"
     ]
    }
   ],
   "source": [
    "t = (1, 2, True, \"python\")\n",
    "mi_var = t[0] # mi_var es 1\n",
    "print(mi_var)"
   ]
  },
  {
   "cell_type": "code",
   "execution_count": 158,
   "metadata": {},
   "outputs": [
    {
     "name": "stdout",
     "output_type": "stream",
     "text": [
      "(1, 2)\n"
     ]
    }
   ],
   "source": [
    "mi_var = t[0:2] # mi_var es (1, 2)\n",
    "print(mi_var)"
   ]
  },
  {
   "cell_type": "markdown",
   "metadata": {},
   "source": [
    "Podemos utilizar el operador [] debido a que las tuplas, al igual que\n",
    "las listas, forman parte de un tipo de objetos llamados secuencias.\n",
    "Permitirme un pequeño inciso para indicaros que las cadenas de texto\n",
    "también son secuencias, por lo que no os extrañará que podamos hacer\n",
    "cosas como estas:"
   ]
  },
  {
   "cell_type": "code",
   "execution_count": 161,
   "metadata": {},
   "outputs": [
    {
     "name": "stdout",
     "output_type": "stream",
     "text": [
      "h\n",
      "mundo\n",
      "hauo\n"
     ]
    }
   ],
   "source": [
    "c = \"hola mundo\"\n",
    "x=c[0]\n",
    "print(x)\n",
    "# h\n",
    "x=c[5:] # mundo\n",
    "print(x)\n",
    "x=c[::3] # hauo\n",
    "print(x)"
   ]
  },
  {
   "cell_type": "markdown",
   "metadata": {},
   "source": [
    "Volviendo al tema de las tuplas, su diferencia con las listas estriba en\n",
    "que las tuplas no poseen estos mecanismos de modificación a través\n",
    "de funciones tan útiles de los que hablábamos al final de la anterior\n",
    "sección.\n",
    "Además son inmutables, es decir, sus valores no se pueden modificar\n",
    "una vez creada; y tienen un tamaño fijo.\n",
    "A cambio de estas limitaciones las tuplas son más “ligeras” que las\n",
    "listas, por lo que si el uso que le vamos a dar a una colección es muy\n",
    "básico, puedes utilizar tuplas en lugar de listas y ahorrar memoria."
   ]
  },
  {
   "cell_type": "markdown",
   "metadata": {},
   "source": [
    "<b>En conclusion comparando c++ y python tenemos que arreglos en c++ = tuplas en python y vectores en c++ =listas en python </b>"
   ]
  },
  {
   "cell_type": "markdown",
   "metadata": {},
   "source": [
    "<h3>Diccionarios</h3>"
   ]
  },
  {
   "cell_type": "markdown",
   "metadata": {},
   "source": [
    "Los diccionarios, también llamados matrices asociativas, deben su\n",
    "nombre a que son colecciones que relacionan una clave y un valor. Por\n",
    "ejemplo, veamos un diccionario de películas y directores:"
   ]
  },
  {
   "cell_type": "code",
   "execution_count": 25,
   "metadata": {},
   "outputs": [],
   "source": [
    "d = {\"Love Actually\" : \"Richard Curtis\",\"Kill Bill\": \"Tarantino\",\"Amélie\": \"Jea-Pierre Jeunet\"}"
   ]
  },
  {
   "cell_type": "markdown",
   "metadata": {},
   "source": [
    "El primer valor se trata de la clave y el segundo del valor asociado\n",
    "a la clave. Como clave podemos utilizar cualquier valor inmutable:\n",
    "podríamos usar números, cadenas, booleanos, tuplas, ... pero no listas\n",
    "o diccionarios, dado que son mutables. Esto es así porque los diccionarios se implementan como tablas hash, y a la hora de introducir un\n",
    "nuevo par clave-valor en el diccionario se calcula el hash de la clave\n",
    "para después poder encontrar la entrada correspondiente rápidamente.\n",
    "Si se modificara el objeto clave después de haber sido introducido en el\n",
    "diccionario, evidentemente, su hash también cambiaría y no podría ser\n",
    "encontrado.\n",
    "La diferencia principal entre los diccionarios y las listas o las tuplas es\n",
    "que a los valores almacenados en un diccionario se les accede no por su\n",
    "índice, porque de hecho no tienen orden, sino por su clave, utilizando\n",
    "de nuevo el operador [] ."
   ]
  },
  {
   "cell_type": "code",
   "execution_count": 26,
   "metadata": {},
   "outputs": [],
   "source": [
    "X=d[\"Love Actually\"]"
   ]
  },
  {
   "cell_type": "code",
   "execution_count": 27,
   "metadata": {},
   "outputs": [
    {
     "name": "stdout",
     "output_type": "stream",
     "text": [
      "Richard Curtis\n"
     ]
    }
   ],
   "source": [
    "print(X)"
   ]
  },
  {
   "cell_type": "markdown",
   "metadata": {},
   "source": [
    "Al igual que en listas y tuplas también se puede utilizar este operador\n",
    "para reasignar valores."
   ]
  },
  {
   "cell_type": "code",
   "execution_count": 28,
   "metadata": {},
   "outputs": [],
   "source": [
    "x=d[\"Kill Bill\"] = \"Quentin Tarantino\""
   ]
  },
  {
   "cell_type": "code",
   "execution_count": 29,
   "metadata": {},
   "outputs": [
    {
     "name": "stdout",
     "output_type": "stream",
     "text": [
      "Quentin Tarantino\n"
     ]
    }
   ],
   "source": [
    "print(x)"
   ]
  },
  {
   "cell_type": "markdown",
   "metadata": {},
   "source": [
    "Sin embargo en este caso no se puede utilizar slicing, entre otras cosas\n",
    "porque los diccionarios no son secuencias, si no mappings (mapeados,\n",
    "asociaciones)."
   ]
  },
  {
   "cell_type": "markdown",
   "metadata": {},
   "source": [
    "<h3>Veremos a continuación algunos métodos útiles de estos objetos.</h3>"
   ]
  },
  {
   "cell_type": "markdown",
   "metadata": {},
   "source": [
    "<b>D.get(k[, d])</b><br>\n",
    "Busca el valor de la clave k en el diccionario. Es equivalente a utilizar\n",
    "D[k] pero al utilizar este método podemos indicar un valor a devolver\n",
    "por defecto si no se encuentra la clave, mientras que con la sintaxis\n",
    "D[k] , de no existir la clave se lanzaría una excepción."
   ]
  },
  {
   "cell_type": "code",
   "execution_count": 30,
   "metadata": {},
   "outputs": [
    {
     "data": {
      "text/plain": [
       "'Richard Curtis'"
      ]
     },
     "execution_count": 30,
     "metadata": {},
     "output_type": "execute_result"
    }
   ],
   "source": [
    "d.get(\"Love Actually\")"
   ]
  },
  {
   "cell_type": "code",
   "execution_count": 32,
   "metadata": {},
   "outputs": [
    {
     "ename": "AttributeError",
     "evalue": "'dict' object has no attribute 'has_key'",
     "output_type": "error",
     "traceback": [
      "\u001b[0;31m---------------------------------------------------------------------------\u001b[0m",
      "\u001b[0;31mAttributeError\u001b[0m                            Traceback (most recent call last)",
      "\u001b[0;32m<ipython-input-32-9d3c68caa883>\u001b[0m in \u001b[0;36m<module>\u001b[0;34m\u001b[0m\n\u001b[0;32m----> 1\u001b[0;31m \u001b[0md\u001b[0m\u001b[0;34m.\u001b[0m\u001b[0mhas_key\u001b[0m\u001b[0;34m(\u001b[0m\u001b[0;34m\"Kill Bill\"\u001b[0m\u001b[0;34m)\u001b[0m\u001b[0;34m\u001b[0m\u001b[0;34m\u001b[0m\u001b[0m\n\u001b[0m",
      "\u001b[0;31mAttributeError\u001b[0m: 'dict' object has no attribute 'has_key'"
     ]
    }
   ],
   "source": [
    "#D.has_key(k)\n",
    "#Comprueba si el diccionario tiene la clave k . Es equivalente a la sintaxis k in D .\n",
    "d.has_key(\"Kill Bill\")"
   ]
  },
  {
   "cell_type": "code",
   "execution_count": 174,
   "metadata": {},
   "outputs": [
    {
     "data": {
      "text/plain": [
       "dict_keys(['Love Actually', 'Kill Bill', 'Amélie'])"
      ]
     },
     "execution_count": 174,
     "metadata": {},
     "output_type": "execute_result"
    }
   ],
   "source": [
    "#D.keys()\n",
    "#Devuelve una lista de las claves del diccionario.\n",
    "d.keys()"
   ]
  },
  {
   "cell_type": "code",
   "execution_count": 176,
   "metadata": {},
   "outputs": [
    {
     "data": {
      "text/plain": [
       "'Richard Curtis'"
      ]
     },
     "execution_count": 176,
     "metadata": {},
     "output_type": "execute_result"
    }
   ],
   "source": [
    "#D.pop(k[, d])\n",
    "#Borra la clave k del diccionario y devuelve su valor. Si no se encuentra dicha clave se devuelve d \n",
    "#si se especificó el parámetro o bien se lanza una excepción.\n",
    "d.pop(\"Love Actually\")"
   ]
  },
  {
   "cell_type": "code",
   "execution_count": 177,
   "metadata": {},
   "outputs": [
    {
     "name": "stdout",
     "output_type": "stream",
     "text": [
      "{'Kill Bill': 'Quentin Tarantino', 'Amélie': 'Jea-Pierre Jeunet'}\n"
     ]
    }
   ],
   "source": [
    "print(d)"
   ]
  },
  {
   "cell_type": "code",
   "execution_count": 33,
   "metadata": {},
   "outputs": [
    {
     "data": {
      "text/plain": [
       "dict_values(['Richard Curtis', 'Quentin Tarantino', 'Jea-Pierre Jeunet'])"
      ]
     },
     "execution_count": 33,
     "metadata": {},
     "output_type": "execute_result"
    }
   ],
   "source": [
    "#D.values()\n",
    "#Devuelve una lista de los valores del diccionario.\n",
    "d.values()"
   ]
  },
  {
   "cell_type": "markdown",
   "metadata": {},
   "source": [
    "<h3>Cadenas</h3>"
   ]
  },
  {
   "cell_type": "code",
   "execution_count": 187,
   "metadata": {},
   "outputs": [],
   "source": [
    "z=\"HOLA NUEVO MUNDO\""
   ]
  },
  {
   "cell_type": "code",
   "execution_count": 35,
   "metadata": {},
   "outputs": [
    {
     "data": {
      "text/plain": [
       "0"
      ]
     },
     "execution_count": 35,
     "metadata": {},
     "output_type": "execute_result"
    }
   ],
   "source": [
    "#S.count(sub[, start[, end]])\n",
    "#Devuelve el número de veces que se encuentra sub en la cadena. Los\n",
    "#parámetros opcionales start y end definen una subcadena en la que\n",
    "#buscar.\n",
    "z.count(\"H\")"
   ]
  },
  {
   "cell_type": "code",
   "execution_count": 191,
   "metadata": {},
   "outputs": [],
   "source": [
    "x=\"holii\""
   ]
  },
  {
   "cell_type": "code",
   "execution_count": 36,
   "metadata": {},
   "outputs": [
    {
     "data": {
      "text/plain": [
       "-1"
      ]
     },
     "execution_count": 36,
     "metadata": {},
     "output_type": "execute_result"
    }
   ],
   "source": [
    "#S.find(sub[, start[, end]])\n",
    "#Devuelve la posición en la que se encontró por primera vez sub en la\n",
    "#cadena o -1 si no se encontró.\n",
    "x.find(\"h\")"
   ]
  },
  {
   "cell_type": "code",
   "execution_count": 44,
   "metadata": {},
   "outputs": [
    {
     "data": {
      "text/plain": [
       "'aholiibholiic'"
      ]
     },
     "execution_count": 44,
     "metadata": {},
     "output_type": "execute_result"
    }
   ],
   "source": [
    "#S.join(sequence)\n",
    "#Devuelve una cadena resultante de concatenar las cadenas de la se-\n",
    "#cuencia seq separadas por la cadena sobre la que se llama el método.\n",
    "seq = (\"a\", \"b\", \"c\")\n",
    "x.join(seq)"
   ]
  },
  {
   "cell_type": "code",
   "execution_count": 45,
   "metadata": {},
   "outputs": [],
   "source": [
    "x=\"-\""
   ]
  },
  {
   "cell_type": "code",
   "execution_count": 46,
   "metadata": {},
   "outputs": [
    {
     "data": {
      "text/plain": [
       "'a-b-c'"
      ]
     },
     "execution_count": 46,
     "metadata": {},
     "output_type": "execute_result"
    }
   ],
   "source": [
    "x.join(seq)"
   ]
  },
  {
   "cell_type": "code",
   "execution_count": 41,
   "metadata": {},
   "outputs": [
    {
     "data": {
      "text/plain": [
       "('hol', 'i', 'i')"
      ]
     },
     "execution_count": 41,
     "metadata": {},
     "output_type": "execute_result"
    }
   ],
   "source": [
    "#S.partition(sep)\n",
    "#Busca el separador sep en la cadena y devuelve una tupla con la subcadena \n",
    "#hasta dicho separador, el separador en si, y la subcadena del\n",
    "#separador hasta el final de la cadena. Si no se encuentra el separador, la\n",
    "#tupla contendrá la cadena en si y dos cadenas vacías.\n",
    "x=\"holii\"\n",
    "x.partition(\"i\")"
   ]
  },
  {
   "cell_type": "code",
   "execution_count": 42,
   "metadata": {},
   "outputs": [
    {
     "data": {
      "text/plain": [
       "'holEE'"
      ]
     },
     "execution_count": 42,
     "metadata": {},
     "output_type": "execute_result"
    }
   ],
   "source": [
    "#S.replace(old, new[, count])\n",
    "#Devuelve una cadena en la que se han reemplazado todas las ocurrencias \n",
    "#de la cadena old por la cadena new . Si se especifica el parámetro\n",
    "#count , este indica el número máximo de ocurrencias a reemplazar.\n",
    "x.replace(\"i\",\"E\")"
   ]
  },
  {
   "cell_type": "code",
   "execution_count": 43,
   "metadata": {},
   "outputs": [
    {
     "data": {
      "text/plain": [
       "['holii']"
      ]
     },
     "execution_count": 43,
     "metadata": {},
     "output_type": "execute_result"
    }
   ],
   "source": [
    "#S.split([sep [,maxsplit]])\n",
    "#Devuelve una lista conteniendo las subcadenas en las que se divide\n",
    "#nuestra cadena al dividirlas por el delimitador sep . En el caso de que no se especifique sep , \n",
    "#se usan espacios. Si se especifica maxsplit , este\n",
    "#indica el número máximo de particiones a realizar.\n",
    "x.split()"
   ]
  },
  {
   "cell_type": "markdown",
   "metadata": {},
   "source": [
    "Hasta aca tenemos el tema de introduccion en python. Si tienes alguna duda no olvides escribir a <br>\n",
    "<b>andres.programacion123@gmail.com</b>"
   ]
  },
  {
   "cell_type": "code",
   "execution_count": null,
   "metadata": {},
   "outputs": [],
   "source": []
  }
 ],
 "metadata": {
  "kernelspec": {
   "display_name": "Python 3",
   "language": "python",
   "name": "python3"
  },
  "language_info": {
   "codemirror_mode": {
    "name": "ipython",
    "version": 3
   },
   "file_extension": ".py",
   "mimetype": "text/x-python",
   "name": "python",
   "nbconvert_exporter": "python",
   "pygments_lexer": "ipython3",
   "version": "3.7.5"
  }
 },
 "nbformat": 4,
 "nbformat_minor": 2
}
