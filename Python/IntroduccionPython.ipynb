{
 "cells": [
  {
   "cell_type": "markdown",
   "metadata": {},
   "source": [
    "# INTRODUCCIÓN A PYTHON"
   ]
  },
  {
   "cell_type": "markdown",
   "metadata": {},
   "source": [
    "<img src=\"https://s3-us-west-2.amazonaws.com/devcodepro/media/blog/por-que-aprender-python.png\">"
   ]
  },
  {
   "cell_type": "markdown",
   "metadata": {},
   "source": [
    "## Contenido"
   ]
  },
  {
   "cell_type": "markdown",
   "metadata": {},
   "source": [
    "* [Introduccion](#item1)\n",
    "* [Operadores aritmeticos ](#item2)\n",
    "* [Cadenas de texto ](#item3)\n",
    "* [Booleanos](#item4)\n",
    "* [Operadores booleanos](#item5)\n",
    "* [Sentencias condicionales](#item6)\n",
    "* [If](#item7)\n",
    "* [Else](#item8)\n",
    "* [Bucles: While](#item9)\n",
    "* [For...in](#item10)\n",
    "* [For i in range():](#item11)\n",
    "* [Colecciones de datos](#item12)\n",
    "* [Listas](#item13)\n",
    "* [Metodos de las listas](#item14)\n",
    "* [Tuplas](#item15)\n",
    "* [Diccionarios](#item16)\n",
    "* [Metodos de diccionarios](#item17)\n",
    "* [Cadenas](#item18)\n"
   ]
  },
  {
   "cell_type": "markdown",
   "metadata": {},
   "source": [
    "<a name=\"item1\"></a>\n",
    "## Introducción\n",
    "\n",
    "En Python los tipos básicos de variables se dividen en: <br>\n",
    "\n",
    "* Números, como pueden ser 3 (entero) <br>\n",
    "\n",
    "* 15.57 (de coma flotante)<br>\n",
    "\n",
    "* 7 + 5j (complejos) <br>\n",
    "\n",
    "* Cadenas de texto, como “Hola Mundo” <br>\n",
    "\n",
    "* Valores booleanos: True (cierto) y False (falso)."
   ]
  },
  {
   "cell_type": "code",
   "execution_count": 1,
   "metadata": {},
   "outputs": [
    {
     "name": "stdout",
     "output_type": "stream",
     "text": [
      "<class 'str'>\n",
      "<class 'int'>\n",
      "<class 'float'>\n",
      "<class 'complex'>\n",
      "<class 'bool'>\n"
     ]
    }
   ],
   "source": [
    "c = \"Hola Mundo\"# esto es una caden\n",
    "e = 23 # y esto es un entero\n",
    "d = 23.5 #flotante\n",
    "f = 8 +4j #complejo\n",
    "h = True #booleano\n",
    "# podemos comprobarlo con la función type\n",
    "print(type(c))\n",
    "print(type(e))\n",
    "print(type(d))\n",
    "print(type(f))\n",
    "print(type(h))"
   ]
  },
  {
   "cell_type": "markdown",
   "metadata": {},
   "source": [
    "La funcion type() me dice el tipo basico de mi objeto: <br>\n",
    "\n",
    "* str = strin o cadena de texto <br>\n",
    "\n",
    "* int = entero <br>\n",
    "\n",
    "* float = flotante o punto decimal <br>\n",
    "\n",
    "* complex = complejo\n",
    "\n",
    "* bool = Booleano <br>\n",
    "\n",
    "### Nota: <br>\n",
    "En python no declaramos las variables al crearlas en comparacion a c++ que si se declaran"
   ]
  },
  {
   "cell_type": "markdown",
   "metadata": {},
   "source": [
    "<a name=\"item2\"></a>\n",
    "## Operadores aritmeticos\n",
    "\n",
    "* Negacion = - <br>\n",
    "\n",
    "* Suma = + <br>\n",
    "\n",
    "* Resta = -  <br>\n",
    "\n",
    "* Multiplicacion = *<br>\n",
    "\n",
    "* Exponente = ** <br>\n",
    "\n",
    "* Division = / <br>\n",
    "\n",
    "* Division entera = // <br>\n",
    "\n",
    "* Modulo = % </h3>\n"
   ]
  },
  {
   "cell_type": "code",
   "execution_count": 2,
   "metadata": {},
   "outputs": [
    {
     "name": "stdout",
     "output_type": "stream",
     "text": [
      "8\n",
      "-2\n",
      "15\n",
      "0.6\n",
      "0\n",
      "3\n"
     ]
    }
   ],
   "source": [
    "a=3\n",
    "b=5\n",
    "z=a+b#suma\n",
    "print(z)\n",
    "z=a-b#resta\n",
    "print(z)\n",
    "z=a*b #multiplicacion\n",
    "print(z)\n",
    "z=a/b#division\n",
    "print(z)\n",
    "z=a//b #division entera\n",
    "print(z)\n",
    "z=a%b #modulo\n",
    "print(z)"
   ]
  },
  {
   "cell_type": "markdown",
   "metadata": {},
   "source": [
    "<a name=\"item3\"></a>\n",
    "## Cadenas de texto (muy importante)"
   ]
  },
  {
   "cell_type": "code",
   "execution_count": 3,
   "metadata": {},
   "outputs": [
    {
     "name": "stdout",
     "output_type": "stream",
     "text": [
      "HOLA MUNDOde nuevo\n"
     ]
    }
   ],
   "source": [
    "a=\"HOLA MUNDO\"\n",
    "b=\"de nuevo\"\n",
    "print(a+b) #concatena la cadena"
   ]
  },
  {
   "cell_type": "code",
   "execution_count": 4,
   "metadata": {},
   "outputs": [
    {
     "name": "stdout",
     "output_type": "stream",
     "text": [
      "HOLA MUNDOHOLA MUNDOHOLA MUNDOHOLA MUNDO\n"
     ]
    }
   ],
   "source": [
    "print(a*4) # Repite la cadena tantas veces como diga"
   ]
  },
  {
   "cell_type": "code",
   "execution_count": 5,
   "metadata": {},
   "outputs": [
    {
     "name": "stdout",
     "output_type": "stream",
     "text": [
      "hola k ase hola k ase hola k ase \n",
      "hola k ase  aca programando\n",
      "hola k ase 1\n",
      "hola k ase hola k ase hola k ase \n",
      "hola k ase  aca programando\n",
      "hola k ase 1\n",
      "hola k ase hola k ase hola k ase \n",
      "hola k ase  aca programando\n",
      "hola k ase 1\n",
      "hola k ase hola k ase hola k ase \n",
      "hola k ase  aca programando\n",
      "hola k ase 1\n",
      "hola k ase hola k ase hola k ase \n",
      "hola k ase  aca programando\n",
      "hola k ase 1\n",
      "hola k ase hola k ase hola k ase \n",
      "hola k ase  aca programando\n",
      "hola k ase 1\n",
      "hola k ase hola k ase hola k ase \n",
      "hola k ase  aca programando\n",
      "hola k ase 1\n",
      "hola k ase hola k ase hola k ase \n",
      "hola k ase  aca programando\n",
      "hola k ase 1\n",
      "hola k ase hola k ase hola k ase \n",
      "hola k ase  aca programando\n",
      "hola k ase 1\n",
      "hola k ase hola k ase hola k ase \n",
      "hola k ase  aca programando\n",
      "hola k ase 1\n"
     ]
    }
   ],
   "source": [
    "for i in range(10):\n",
    "    a=\"hola k ase \"#con espacio\n",
    "    b=\" aca programando\" #con espacio\n",
    "    a1=\"hola k ase\" #sin espacio\n",
    "    #c=a+1 error\n",
    "    h=str(1)\n",
    "    z=a*3\n",
    "    d=a+b\n",
    "    c=a+h\n",
    "    print(z)\n",
    "    print(d)\n",
    "    print(c)"
   ]
  },
  {
   "cell_type": "markdown",
   "metadata": {},
   "source": [
    "<a name=\"item4\"></a>\n",
    "## Booleanos:\n",
    "Como decíamos al comienzo del capítulo una variable de tipo booleano sólo puede tener dos valores: True (cierto) y False (falso)."
   ]
  },
  {
   "cell_type": "markdown",
   "metadata": {},
   "source": [
    "<a name=\"item5\"></a>\n",
    "## Operadores booleanos:\n",
    "\n",
    "*and = & <br>\n",
    "\n",
    "*or = | <br>\n",
    " \n",
    "*not = ~ <br>\n",
    "\n",
    "*igualdad == <br>\n",
    "\n",
    "*distintos != <br>\n",
    "\n",
    "*menor que < <br>\n",
    "\n",
    "*mayor que > <br>\n",
    "\n",
    "*menor igual que <= <br>\n",
    "\n",
    "*mayor igual que >= </h3>\n"
   ]
  },
  {
   "cell_type": "code",
   "execution_count": 6,
   "metadata": {},
   "outputs": [
    {
     "name": "stdout",
     "output_type": "stream",
     "text": [
      "False\n",
      "True\n",
      "True\n",
      "True\n",
      "False\n",
      "True\n",
      "False\n",
      "True\n"
     ]
    }
   ],
   "source": [
    "f=False\n",
    "r=True\n",
    "z=f&r #disyuncion\n",
    "print(z)\n",
    "z=f | r #conjuncion\n",
    "print(z)\n",
    "z=not(f&r) #negacion\n",
    "print(z)\n",
    "z=5>3 #mayor que\n",
    "print(z)\n",
    "z=5<3 #menor que\n",
    "print(z)\n",
    "z=5>=5 #mayor igual que\n",
    "print(z)\n",
    "z=f==r #identico\n",
    "print(z)\n",
    "z=f!=r #diferente\n",
    "print(z)"
   ]
  },
  {
   "cell_type": "markdown",
   "metadata": {},
   "source": [
    "<a name=\"item6\"></a>\n",
    "## Sentencias condicionales: <br>\n",
    "    \n",
    "* if <br>\n",
    "    \n",
    "* else <br>\n",
    "\n",
    "* elif=if...else if...else if</h3>"
   ]
  },
  {
   "cell_type": "markdown",
   "metadata": {},
   "source": [
    "<a name=\"item7\"></a>\n",
    "## If:\n",
    "\n",
    "la forma de escribir es: <br>\n",
    "    \n",
    "if (condicion): luego sigue la identacion <br>\n",
    "\n",
    ">instrucciones "
   ]
  },
  {
   "cell_type": "code",
   "execution_count": 7,
   "metadata": {},
   "outputs": [
    {
     "name": "stdout",
     "output_type": "stream",
     "text": [
      "esto es un ejemplo\n"
     ]
    }
   ],
   "source": [
    "fav=\"Mundogeek.net\"\n",
    "if (fav == \"mundogeek.net\"):\n",
    "    print(\"Tienes buen gusto!\")\n",
    "    print(\"Gracias\")\n",
    "else:\n",
    "    print(\"esto es un ejemplo\")"
   ]
  },
  {
   "cell_type": "markdown",
   "metadata": {},
   "source": [
    "<a name=\"item8\"></a>\n",
    "## Else: \n",
    "   \n",
    ">instrucciones</h3>"
   ]
  },
  {
   "cell_type": "code",
   "execution_count": 8,
   "metadata": {},
   "outputs": [
    {
     "name": "stdout",
     "output_type": "stream",
     "text": [
      "hola\n"
     ]
    }
   ],
   "source": [
    "if a==7:\n",
    "    print(\"que mas\")\n",
    "else:\n",
    "    print(\"hola\")"
   ]
  },
  {
   "cell_type": "markdown",
   "metadata": {},
   "source": [
    "<a name=\"item9\"></a>\n",
    "## Bucles\n",
    "## While (mientras): \n",
    "    \n",
    "while condicion: identacion\n",
    "\n",
    ">instrucciones </h3>\n"
   ]
  },
  {
   "cell_type": "code",
   "execution_count": 9,
   "metadata": {},
   "outputs": [
    {
     "name": "stdout",
     "output_type": "stream",
     "text": [
      "1\n",
      "2\n",
      "3\n",
      "4\n",
      "5\n",
      "6\n",
      "7\n",
      "8\n",
      "9\n",
      "10\n",
      "11\n"
     ]
    }
   ],
   "source": [
    "a=0\n",
    "while a<=10:\n",
    "    a=a+1\n",
    "    print(a)"
   ]
  },
  {
   "cell_type": "markdown",
   "metadata": {},
   "source": [
    "Ahora imaginemos que se nos olvidara escribir la instrucción que aumenta el a.\n",
    "Esto es lo que se conoce como un bucle infinito.<br>\n",
    "Sin embargo hay situaciones en las que un bucle infinito es útil. Por ejemplo, veamos un pequeño programa que repite todo lo que el usuario diga hasta que escriba adios .\n",
    "\n",
    "Los bucles son infinitos si no se escribe la condicion "
   ]
  },
  {
   "cell_type": "code",
   "execution_count": 10,
   "metadata": {},
   "outputs": [
    {
     "name": "stdout",
     "output_type": "stream",
     "text": [
      ">adios\n"
     ]
    }
   ],
   "source": [
    "while True: #mientras sea verdadero se realiza la accion\n",
    "    entrada = input(\">\") #ingrese por teclado algun valor que se guarda en la variable entrada\n",
    "    if entrada ==\"adios\": #si el valor ingresado es identico a adios se sale del bucle\n",
    "        break #romper\n",
    "    else: #si el valor es diferente a adios se sigue en bucle\n",
    "        print(entrada)"
   ]
  },
  {
   "cell_type": "markdown",
   "metadata": {},
   "source": [
    "Aparece la palabra clave que es <b>break = romper</b>\n",
    "\n",
    "Hay otra palabra clave la cual es <b>continue</b>. <br>\n",
    "Como habréis adivinado no hace otra cosa que pasar directamente a la siguiente iteración del bucle.\n",
    "Se utiliza cuando tengo sentencias condicionales como if o else y la idea es continuar en el bucle"
   ]
  },
  {
   "cell_type": "code",
   "execution_count": 11,
   "metadata": {},
   "outputs": [
    {
     "name": "stdout",
     "output_type": "stream",
     "text": [
      "Felicidades, tienes 1\n",
      "Felicidades, tienes 3\n",
      "Felicidades, tienes 5\n",
      "Felicidades, tienes 7\n",
      "Felicidades, tienes 9\n",
      "Felicidades, tienes 11\n",
      "Felicidades, tienes 13\n",
      "Felicidades, tienes 15\n",
      "Felicidades, tienes 17\n"
     ]
    }
   ],
   "source": [
    "edad = 0\n",
    "while edad < 18:\n",
    "    edad = edad + 1\n",
    "    if edad % 2 == 0:\n",
    "        continue\n",
    "    print (\"Felicidades, tienes \"  + str(edad))"
   ]
  },
  {
   "cell_type": "markdown",
   "metadata": {},
   "source": [
    "<a name=\"item10\"></a>\n",
    "## For ... in\n",
    "\n",
    "Como hemos dicho los for se utilizan en Python para recorrer secuencias, \n",
    "por lo que vamos a utilizar un tipo secuencia, como es la lista, para\n",
    "nuestro ejemplo."
   ]
  },
  {
   "cell_type": "code",
   "execution_count": 12,
   "metadata": {},
   "outputs": [
    {
     "name": "stdout",
     "output_type": "stream",
     "text": [
      "uno\n",
      "dos\n",
      "tres\n"
     ]
    }
   ],
   "source": [
    "secuencia = [\"uno\", \"dos\", \"tres\"]\n",
    "for elemento in secuencia:\n",
    "    print(elemento)"
   ]
  },
  {
   "cell_type": "markdown",
   "metadata": {},
   "source": [
    "<a name=\"item11\"></a>\n",
    "## For i in range():\n",
    "    \n",
    "Su forma de escribirlo es <br>\n",
    "\n",
    "for variable in range(inicio,final,incremento):<br>\n",
    "\n",
    "   Instrucciones\n",
    "    "
   ]
  },
  {
   "cell_type": "code",
   "execution_count": 13,
   "metadata": {},
   "outputs": [
    {
     "name": "stdout",
     "output_type": "stream",
     "text": [
      "0\n",
      "2\n",
      "4\n",
      "6\n",
      "8\n"
     ]
    }
   ],
   "source": [
    "for i in range(0,10,2):\n",
    "    print(i)"
   ]
  },
  {
   "cell_type": "markdown",
   "metadata": {},
   "source": [
    "<a name=\"item12\"></a>\n",
    "## Colecciones de datos: \n",
    "    \n",
    "* Listas<br>\n",
    "\n",
    "* Tuplas <br>\n",
    "\n",
    "* Diccionarios </h3>"
   ]
  },
  {
   "cell_type": "markdown",
   "metadata": {},
   "source": [
    "<a name=\"item13\"></a>\n",
    "## Listas \n",
    "\n",
    "La lista es un tipo de colección ordenada. Sería equivalente a lo que en\n",
    "otros lenguajes se conoce por arrays, o vectores.\n",
    "Las listas pueden contener cualquier tipo de dato: números, cadenas,\n",
    "booleanos, ... y también listas.<br>\n",
    "Crear una lista es tan sencillo como indicar entre corchetes, y separados por comas, los valores que queremos incluir en la lista:"
   ]
  },
  {
   "cell_type": "code",
   "execution_count": 14,
   "metadata": {},
   "outputs": [],
   "source": [
    "l = [22, True, \"una lista\", [1, 2]]\n",
    "j=[\"julian\", 24, False,[2,5],13.4] # mi lista"
   ]
  },
  {
   "cell_type": "markdown",
   "metadata": {},
   "source": [
    "Podemos acceder a cada uno de los elementos de la lista escribiendo el\n",
    "nombre de la lista e indicando el índice del elemento entre corchetes.\n",
    "Ten en cuenta sin embargo que el índice del primer elemento de la\n",
    "lista es 0, y no 1:"
   ]
  },
  {
   "cell_type": "code",
   "execution_count": 15,
   "metadata": {},
   "outputs": [
    {
     "name": "stdout",
     "output_type": "stream",
     "text": [
      "11\n",
      "julian\n"
     ]
    }
   ],
   "source": [
    "l = [11, False]\n",
    "mi_var = l[0] # mi_var vale 11\n",
    "ele=j[0] #el operador [] actua sobre la lista j y me extrae el elemento 0\n",
    "print(mi_var)\n",
    "print(ele)"
   ]
  },
  {
   "cell_type": "markdown",
   "metadata": {},
   "source": [
    "Si queremos acceder a un elemento de una lista incluida dentro de otra\n",
    "lista tendremos que utilizar dos veces este operador, primero para indicar a qué posición de la lista exterior queremos acceder, y el segundo\n",
    "para seleccionar el elemento de la lista interior:"
   ]
  },
  {
   "cell_type": "code",
   "execution_count": 16,
   "metadata": {},
   "outputs": [
    {
     "name": "stdout",
     "output_type": "stream",
     "text": [
      "['una lista', [1, 2]]\n"
     ]
    }
   ],
   "source": [
    "l = [\"una lista\", [1, 2]]\n",
    "print(l)"
   ]
  },
  {
   "cell_type": "code",
   "execution_count": 17,
   "metadata": {},
   "outputs": [
    {
     "name": "stdout",
     "output_type": "stream",
     "text": [
      "1\n",
      "2\n"
     ]
    }
   ],
   "source": [
    "mi_var = l[1][0] # mi_var vale 1\n",
    "ele=j[3][0] #el primer numero representa el elemento de la lista y como el elemento es una\n",
    "#lista escojo otra ves el elemento de esta lista\n",
    "print(mi_var)\n",
    "print(ele)"
   ]
  },
  {
   "cell_type": "markdown",
   "metadata": {},
   "source": [
    "También podemos utilizar este operador para modificar un elemento\n",
    "de la lista si lo colocamos en la parte izquierda de una asignación:"
   ]
  },
  {
   "cell_type": "code",
   "execution_count": 18,
   "metadata": {},
   "outputs": [
    {
     "name": "stdout",
     "output_type": "stream",
     "text": [
      "99\n",
      "['julian', 24, False, [2, 3.14], 13.4]\n"
     ]
    }
   ],
   "source": [
    "l = [22, True]\n",
    "l[0] = 99 # Con esto l valdrá [99, True]\n",
    "j=[\"julian\", 24, False,[2,5],13.4]\n",
    "j[3][1]=3.14 #modificamos el elemento de una lista\n",
    "print(l[0])\n",
    "print(j)"
   ]
  },
  {
   "cell_type": "markdown",
   "metadata": {},
   "source": [
    "Una curiosidad sobre el operador [ ] de Python es que podemos utilizar también números negativos. Si se utiliza un número negativo como\n",
    "índice, esto se traduce en que el índice empieza a contar desde el final,\n",
    "hacia la izquierda; es decir, con [-1] accederíamos al último elemento\n",
    "de la lista, con [-2] al penúltimo, con [-3] , al antepenúltimo, y así\n",
    "sucesivamente.<br>\n",
    "Veamos como utilizar los numeros negativos para imprimir elementos de la lista"
   ]
  },
  {
   "cell_type": "code",
   "execution_count": 19,
   "metadata": {},
   "outputs": [
    {
     "name": "stdout",
     "output_type": "stream",
     "text": [
      "13.4\n",
      "[2, 3.14]\n"
     ]
    }
   ],
   "source": [
    "eleneg=j[-1]\n",
    "print(eleneg)\n",
    "eleneg=j[-2]\n",
    "print(eleneg)"
   ]
  },
  {
   "cell_type": "markdown",
   "metadata": {},
   "source": [
    "### Nota:\n",
    "Ojo muy importante concepto de <b>particionado o slicing </b>\n",
    "\n",
    "Otra cosa inusual es lo que en Python se conoce como slicing o particionado, y que consiste en ampliar este mecanismo para permitir seleccionar porciones de la lista. Si en lugar de un número escribimos dos\n",
    "números inicio y fin separados por dos puntos ( inicio:fin ) Python\n",
    "interpretará que queremos una lista que vaya desde la posición inicio\n",
    "a la posición fin , sin incluir este último. Si escribimos tres números\n",
    "( inicio:fin:salto ) en lugar de dos, el tercero se utiliza para determinar cada cuantas posiciones añadir un elemento a la lista."
   ]
  },
  {
   "cell_type": "code",
   "execution_count": 20,
   "metadata": {},
   "outputs": [
    {
     "name": "stdout",
     "output_type": "stream",
     "text": [
      "[99, 'una lista']\n"
     ]
    }
   ],
   "source": [
    "l = [99, True, \"una lista\", [1, 2]]\n",
    "j=[\"julian\", 24, False,[2,5],13.4]\n",
    "mi_var = l[0:2]\n",
    "# mi_var vale [99, True]\n",
    "mi_var = l[0:4:2] # mi_var vale [99, “una lista”]\n",
    "print(mi_var)"
   ]
  },
  {
   "cell_type": "code",
   "execution_count": 21,
   "metadata": {},
   "outputs": [
    {
     "name": "stdout",
     "output_type": "stream",
     "text": [
      "['julian', 24, False, [2, 5]]\n",
      "['julian', 24, False, [2, 5], 13.4]\n",
      "['julian']\n",
      "[False, [2, 5]]\n"
     ]
    }
   ],
   "source": [
    "ele=j[0:4] #¡¡¡Muy importante\n",
    "print(ele)\n",
    "ele=j[0:5]\n",
    "print(ele)\n",
    "ele=j[0:1]\n",
    "print(ele)\n",
    "ele=j[2:4]\n",
    "print(ele)"
   ]
  },
  {
   "cell_type": "markdown",
   "metadata": {},
   "source": [
    "Los números negativos también se pueden utilizar en un slicing, con el\n",
    "mismo comportamiento que se comentó anteriormente.\n",
    "Hay que mencionar así mismo que no es necesario indicar el principio\n",
    "y el final del slicing, sino que, si estos se omiten, se usarán por defecto\n",
    "las posiciones de inicio y fin de la lista, respectivamente:"
   ]
  },
  {
   "cell_type": "code",
   "execution_count": 22,
   "metadata": {},
   "outputs": [
    {
     "name": "stdout",
     "output_type": "stream",
     "text": [
      "['julian', 24, False, [2, 5], 13.4]\n",
      "['julian', 24, False, [2, 5], 13.4]\n"
     ]
    }
   ],
   "source": [
    "ele=j[:]\n",
    "print(ele)\n",
    "ele=j\n",
    "print(ele)"
   ]
  },
  {
   "cell_type": "code",
   "execution_count": 23,
   "metadata": {},
   "outputs": [
    {
     "name": "stdout",
     "output_type": "stream",
     "text": [
      "['julian', 24, False, [2, 5]]\n"
     ]
    }
   ],
   "source": [
    "eleneg=j[:-1] #imprime todos los elementos hasta el penultimo ¡¡¡Muy importante\n",
    "print(eleneg)"
   ]
  },
  {
   "cell_type": "code",
   "execution_count": 24,
   "metadata": {},
   "outputs": [
    {
     "name": "stdout",
     "output_type": "stream",
     "text": [
      "['julian', False, 13.4]\n"
     ]
    }
   ],
   "source": [
    "elesaltos=j[0:5:2] #el ultimo numero me especifica los saltos ¡¡¡Muy importante\n",
    "print(elesaltos)"
   ]
  },
  {
   "cell_type": "code",
   "execution_count": 25,
   "metadata": {},
   "outputs": [
    {
     "name": "stdout",
     "output_type": "stream",
     "text": [
      "[True, 'una lista']\n"
     ]
    }
   ],
   "source": [
    "l = [99, True, \"una lista\"]\n",
    "mi_var = l[1:] # mi_var vale [True, “una lista”]\n",
    "print(mi_var)"
   ]
  },
  {
   "cell_type": "code",
   "execution_count": 26,
   "metadata": {},
   "outputs": [
    {
     "name": "stdout",
     "output_type": "stream",
     "text": [
      "[99, True]\n"
     ]
    }
   ],
   "source": [
    "mi_var = l[:2] # mi_var vale [99, True]\n",
    "print(mi_var)"
   ]
  },
  {
   "cell_type": "code",
   "execution_count": 27,
   "metadata": {},
   "outputs": [
    {
     "name": "stdout",
     "output_type": "stream",
     "text": [
      "[99, True, 'una lista']\n"
     ]
    }
   ],
   "source": [
    "mi_var = l[:] # mi_var vale [99, True, “una lista”]\n",
    "print(mi_var)"
   ]
  },
  {
   "cell_type": "code",
   "execution_count": 28,
   "metadata": {},
   "outputs": [
    {
     "name": "stdout",
     "output_type": "stream",
     "text": [
      "[99, 'una lista']\n"
     ]
    }
   ],
   "source": [
    "mi_var = l[::2] # mi_var vale [99, “una lista”]\n",
    "print(mi_var)"
   ]
  },
  {
   "cell_type": "markdown",
   "metadata": {},
   "source": [
    "También podemos utilizar este mecanismo para modificar la lista:"
   ]
  },
  {
   "cell_type": "code",
   "execution_count": 29,
   "metadata": {},
   "outputs": [
    {
     "name": "stdout",
     "output_type": "stream",
     "text": [
      "[0, 1, 'una lista', [1, 2]]\n"
     ]
    }
   ],
   "source": [
    "l = [99, True, \"una lista\", [1, 2]]\n",
    "l[0:2] = [0, 1] # l vale [0, 1, “una lista”, [1, 2]]\n",
    "print(l)"
   ]
  },
  {
   "cell_type": "markdown",
   "metadata": {},
   "source": [
    "Pudiendo incluso modificar el tamaño de la lista si la lista de la parte\n",
    "derecha de la asignación tiene un tamaño menor o mayor que el de la\n",
    "selección de la parte izquierda de la asignación:"
   ]
  },
  {
   "cell_type": "code",
   "execution_count": 30,
   "metadata": {},
   "outputs": [
    {
     "name": "stdout",
     "output_type": "stream",
     "text": [
      "[False, 1, 2, 'una lista', [1, 2]]\n"
     ]
    }
   ],
   "source": [
    "l[0:2] = [False,1,2] # l vale [False, “una lista”, [1, 2]]\n",
    "print(l)"
   ]
  },
  {
   "cell_type": "markdown",
   "metadata": {},
   "source": [
    "En todo caso las listas ofrecen mecanismos más cómodos para ser modificadas a través de las funciones de la clase correspondiente, aunque\n",
    "no veremos estos mecanismos hasta más adelante, después de explicar\n",
    "lo que son las clases, los objetos y las funciones."
   ]
  },
  {
   "cell_type": "markdown",
   "metadata": {},
   "source": [
    "<a name=\"item14\"></a>\n",
    "## Veremos a continuación algunos métodos útiles de estos objetos. (MUY IMPORTANTE)"
   ]
  },
  {
   "cell_type": "markdown",
   "metadata": {},
   "source": [
    "<h3>Para las listas</h3>"
   ]
  },
  {
   "cell_type": "code",
   "execution_count": 31,
   "metadata": {},
   "outputs": [],
   "source": [
    "l = [99, True, \"una lista\", [1, 2]]\n",
    "j=[\"julian\", 24, False,[2,5],13.4]"
   ]
  },
  {
   "cell_type": "code",
   "execution_count": 32,
   "metadata": {},
   "outputs": [
    {
     "name": "stdout",
     "output_type": "stream",
     "text": [
      "[99, True, 'una lista', [1, 2], 23.4]\n",
      "['julian', 24, False, [2, 5], 13.4, 'holi']\n"
     ]
    }
   ],
   "source": [
    "#L.append(object)\n",
    "#Añade un objeto al final de la lista.\n",
    "j.append(\"holi\") #¡¡¡Muy importante\n",
    "l.append(23.4)\n",
    "print(l)\n",
    "print(j)"
   ]
  },
  {
   "cell_type": "code",
   "execution_count": 33,
   "metadata": {},
   "outputs": [
    {
     "data": {
      "text/plain": [
       "0"
      ]
     },
     "execution_count": 33,
     "metadata": {},
     "output_type": "execute_result"
    }
   ],
   "source": [
    "#L.count(value)\n",
    "#Devuelve el número de veces que se encontró value en la lista.\n",
    "l.count(4)"
   ]
  },
  {
   "cell_type": "code",
   "execution_count": 34,
   "metadata": {},
   "outputs": [
    {
     "name": "stdout",
     "output_type": "stream",
     "text": [
      "[99, True, 'una lista', [1, 2], 23.4, 'hola', 'que mas', 3, 4]\n"
     ]
    }
   ],
   "source": [
    "#L.extend(iterable)\n",
    "#Añade los elementos del iterable a la lista.\n",
    "z=[\"hola\", \"que mas\", 3, 4]\n",
    "l.extend(z)\n",
    "print(l)"
   ]
  },
  {
   "cell_type": "markdown",
   "metadata": {},
   "source": [
    "<b>L.index(value[, start[, stop]])</b><br>\n",
    "Devuelve la posición en la que se encontró la primera ocurrencia de\n",
    "value . Si se especifican, start y stop definen las posiciones de inicio y\n",
    "fin de una sublista en la que buscar."
   ]
  },
  {
   "cell_type": "code",
   "execution_count": 35,
   "metadata": {},
   "outputs": [
    {
     "data": {
      "text/plain": [
       "1"
      ]
     },
     "execution_count": 35,
     "metadata": {},
     "output_type": "execute_result"
    }
   ],
   "source": [
    "l.index(True)"
   ]
  },
  {
   "cell_type": "code",
   "execution_count": 36,
   "metadata": {},
   "outputs": [
    {
     "name": "stdout",
     "output_type": "stream",
     "text": [
      "[99, True, 'una lista', 'fisica', [1, 2], 23.4, 'hola', 'que mas', 3, 4]\n"
     ]
    }
   ],
   "source": [
    "#L.insert(index, object)\n",
    "#Inserta el objeto object en la posición index .\n",
    "l.insert(3, \"fisica\") #¡¡¡Muy importante\n",
    "print(l)"
   ]
  },
  {
   "cell_type": "code",
   "execution_count": 37,
   "metadata": {},
   "outputs": [
    {
     "name": "stdout",
     "output_type": "stream",
     "text": [
      "[99, True, 'una lista', [1, 2], 23.4, 'hola', 'que mas', 3, 4]\n"
     ]
    }
   ],
   "source": [
    "#L.pop([index])\n",
    "#Devuelve el valor en la posición index y lo elimina de la lista. Si no se\n",
    "#especifica la posición, se utiliza el último elemento de la lista.\n",
    "l.pop(3)\n",
    "print(l)"
   ]
  },
  {
   "cell_type": "code",
   "execution_count": 38,
   "metadata": {},
   "outputs": [
    {
     "name": "stdout",
     "output_type": "stream",
     "text": [
      "[99, True, 'una lista', [1, 2], 'hola', 'que mas', 3, 4]\n"
     ]
    }
   ],
   "source": [
    "#L.remove(value)\n",
    "#Eliminar la primera ocurrencia de value en la lista.\n",
    "l.remove(23.4)\n",
    "print(l)"
   ]
  },
  {
   "cell_type": "code",
   "execution_count": 39,
   "metadata": {},
   "outputs": [
    {
     "name": "stdout",
     "output_type": "stream",
     "text": [
      "[4, 3, 'que mas', 'hola', [1, 2], 'una lista', True, 99]\n"
     ]
    }
   ],
   "source": [
    "#L.reverse()\n",
    "#Invierte la lista. Esta función trabaja sobre la propia lista desde la que\n",
    "#se invoca el método, no sobre una copia.\n",
    "l.reverse()\n",
    "print(l)"
   ]
  },
  {
   "cell_type": "markdown",
   "metadata": {},
   "source": [
    "<b>L.sort(cmp=None, key=None, reverse=False)</b> <br>\n",
    "Ordena la lista. Si se especifica cmp , este debe ser una función que tome\n",
    "como parámetro dos valores x e y de la lista y devuelva -1 si x es menor\n",
    "que y , 0 si son iguales y 1 si x es mayor que y .\n",
    "El parámetro reverse es un booleano que indica si se debe ordenar\n",
    "la lista de forma inversa, lo que sería equivalente a llamar primero a\n",
    "L.sort() y después a L.reverse() .\n",
    "Por último, si se especifica, el parámetro key debe ser una función que\n",
    "tome un elemento de la lista y devuelva una clave a utilizar a la hora de\n",
    "comparar, en lugar del elemento en si"
   ]
  },
  {
   "cell_type": "code",
   "execution_count": 40,
   "metadata": {},
   "outputs": [
    {
     "name": "stdout",
     "output_type": "stream",
     "text": [
      "[4, 5, 6, 3, 8, 9, 10, 23, 11, 3]\n",
      "[3, 3, 4, 5, 6, 8, 9, 10, 11, 23]\n",
      "[23, 11, 10, 9, 8, 6, 5, 4, 3, 3]\n"
     ]
    }
   ],
   "source": [
    "l1=[4,5,6,3,8,9,10,23,11,3]\n",
    "print(l1)\n",
    "l1.sort()\n",
    "print(l1)\n",
    "l1.sort(reverse=True)\n",
    "print(l1)"
   ]
  },
  {
   "cell_type": "code",
   "execution_count": 41,
   "metadata": {
    "scrolled": true
   },
   "outputs": [
    {
     "name": "stdout",
     "output_type": "stream",
     "text": [
      "[ 4  5  6  3  8  9 10 23 11  3]\n",
      "[ 3  3  4  5  6  8  9 10 11 23]\n"
     ]
    }
   ],
   "source": [
    "import numpy as np\n",
    "X=np.array([4,5,6,3,8,9,10,23,11,3])\n",
    "print(X)\n",
    "X.sort()\n",
    "print(X)"
   ]
  },
  {
   "cell_type": "markdown",
   "metadata": {},
   "source": [
    "<a name=\"item15\"></a>\n",
    "## Tuplas\n",
    "\n",
    "Todo lo que hemos explicado sobre las listas se aplica también a las\n",
    "tuplas, a excepción de la forma de definirla, para lo que se utilizan\n",
    "paréntesis en lugar de corchetes."
   ]
  },
  {
   "cell_type": "code",
   "execution_count": 42,
   "metadata": {},
   "outputs": [
    {
     "data": {
      "text/plain": [
       "3"
      ]
     },
     "execution_count": 42,
     "metadata": {},
     "output_type": "execute_result"
    }
   ],
   "source": [
    "t = (1, 2, True, \"python\")\n",
    "t.index(\"python\")"
   ]
  },
  {
   "cell_type": "markdown",
   "metadata": {},
   "source": [
    "En realidad el constructor de la tupla es la coma, no el paréntesis, pero\n",
    "el intérprete muestra los paréntesis, y nosotros deberíamos utilizarlos,\n",
    "por claridad."
   ]
  },
  {
   "cell_type": "code",
   "execution_count": 43,
   "metadata": {},
   "outputs": [
    {
     "name": "stdout",
     "output_type": "stream",
     "text": [
      "<class 'tuple'>\n"
     ]
    }
   ],
   "source": [
    "t = 1, 2, 3\n",
    "print(type(t))"
   ]
  },
  {
   "cell_type": "markdown",
   "metadata": {},
   "source": [
    "Además hay que tener en cuenta que es necesario añadir una coma\n",
    "para tuplas de un solo elemento, para diferenciarlo de un elemento\n",
    "entre paréntesis."
   ]
  },
  {
   "cell_type": "code",
   "execution_count": 44,
   "metadata": {},
   "outputs": [
    {
     "data": {
      "text/plain": [
       "int"
      ]
     },
     "execution_count": 44,
     "metadata": {},
     "output_type": "execute_result"
    }
   ],
   "source": [
    "t = (1)\n",
    "type(t)"
   ]
  },
  {
   "cell_type": "code",
   "execution_count": 45,
   "metadata": {},
   "outputs": [
    {
     "data": {
      "text/plain": [
       "tuple"
      ]
     },
     "execution_count": 45,
     "metadata": {},
     "output_type": "execute_result"
    }
   ],
   "source": [
    "t = (1,)\n",
    "type(t)"
   ]
  },
  {
   "cell_type": "code",
   "execution_count": 46,
   "metadata": {},
   "outputs": [
    {
     "name": "stdout",
     "output_type": "stream",
     "text": [
      "4\n",
      "1\n"
     ]
    }
   ],
   "source": [
    "t = (1, 2, True, \"python\")\n",
    "print(len(t))\n",
    "mi_var = t[0] # mi_var es 1\n",
    "print(mi_var)"
   ]
  },
  {
   "cell_type": "code",
   "execution_count": 47,
   "metadata": {},
   "outputs": [
    {
     "name": "stdout",
     "output_type": "stream",
     "text": [
      "(1, 2)\n"
     ]
    }
   ],
   "source": [
    "mi_var = t[0:2] # mi_var es (1, 2)\n",
    "print(mi_var)"
   ]
  },
  {
   "cell_type": "markdown",
   "metadata": {},
   "source": [
    "Podemos utilizar el operador [ ] debido a que las tuplas, al igual que\n",
    "las listas, forman parte de un tipo de objetos llamados secuencias.\n",
    "Permitirme un pequeño inciso para indicaros que las cadenas de texto\n",
    "también son secuencias, por lo que no os extrañará que podamos hacer\n",
    "cosas como estas:"
   ]
  },
  {
   "cell_type": "code",
   "execution_count": 48,
   "metadata": {},
   "outputs": [
    {
     "name": "stdout",
     "output_type": "stream",
     "text": [
      "h\n",
      "mundo\n",
      "hauo\n"
     ]
    }
   ],
   "source": [
    "c = \"hola mundo\"\n",
    "x=c[0]\n",
    "print(x) # h\n",
    "x=c[5:] # mundo\n",
    "print(x)\n",
    "x=c[::3] # hauo\n",
    "print(x)"
   ]
  },
  {
   "cell_type": "markdown",
   "metadata": {},
   "source": [
    "Volviendo al tema de las tuplas, su diferencia con las listas estriba en\n",
    "que las tuplas no poseen estos mecanismos de modificación a través\n",
    "de funciones tan útiles de los que hablábamos al final de la anterior\n",
    "sección.\n",
    "Además son inmutables, es decir, sus valores no se pueden modificar\n",
    "una vez creada; y tienen un tamaño fijo.\n",
    "**A cambio de estas limitaciones las tuplas son más “ligeras” que las\n",
    "listas, por lo que si el uso que le vamos a dar a una colección es muy\n",
    "básico, puedes utilizar tuplas en lugar de listas y ahorrar memoria.**\n",
    "\n",
    "### Nota:\n",
    "En conclusion comparando c++ y python tenemos que arreglos en c++ = tuplas en python y vectores en c++ =listas en python "
   ]
  },
  {
   "cell_type": "markdown",
   "metadata": {},
   "source": [
    "<a name=\"item16\"></a>\n",
    "## Diccionarios\n",
    "\n",
    "Los diccionarios, también llamados matrices asociativas, deben su\n",
    "nombre a que son colecciones que relacionan una clave y un valor. Por\n",
    "ejemplo, veamos un diccionario de películas y directores:"
   ]
  },
  {
   "cell_type": "code",
   "execution_count": 49,
   "metadata": {},
   "outputs": [
    {
     "name": "stdout",
     "output_type": "stream",
     "text": [
      "{'Love Actually': 'Richard Curtis', 'Kill Bill': 'Tarantino', 'Amélie': 'Jea-Pierre Jeunet'}\n"
     ]
    }
   ],
   "source": [
    "d = {\"Love Actually\" : \"Richard Curtis\",\"Kill Bill\": \"Tarantino\",\"Amélie\": \"Jea-Pierre Jeunet\"}\n",
    "print(d)"
   ]
  },
  {
   "cell_type": "markdown",
   "metadata": {},
   "source": [
    "El primer valor se trata de la clave y el segundo del valor asociado\n",
    "a la clave. Como clave podemos utilizar cualquier valor inmutable:\n",
    "podríamos usar números, cadenas, booleanos, tuplas, ... pero no listas\n",
    "o diccionarios, dado que son mutables. Esto es así porque los diccionarios se implementan como tablas hash, y a la hora de introducir un\n",
    "nuevo par clave-valor en el diccionario se calcula el hash de la clave\n",
    "para después poder encontrar la entrada correspondiente rápidamente.\n",
    "Si se modificara el objeto clave después de haber sido introducido en el\n",
    "diccionario, evidentemente, su hash también cambiaría y no podría ser\n",
    "encontrado.\n",
    "La diferencia principal entre los diccionarios y las listas o las tuplas es\n",
    "que a los valores almacenados en un diccionario se les accede no por su\n",
    "índice, porque de hecho no tienen orden, sino por su clave, utilizando\n",
    "de nuevo el operador [ ] ."
   ]
  },
  {
   "cell_type": "code",
   "execution_count": 50,
   "metadata": {},
   "outputs": [
    {
     "name": "stdout",
     "output_type": "stream",
     "text": [
      "Richard Curtis\n"
     ]
    }
   ],
   "source": [
    "X=d[\"Love Actually\"]\n",
    "print(X)"
   ]
  },
  {
   "cell_type": "markdown",
   "metadata": {},
   "source": [
    "Al igual que en listas y tuplas también se puede utilizar este operador\n",
    "para reasignar valores."
   ]
  },
  {
   "cell_type": "code",
   "execution_count": 51,
   "metadata": {},
   "outputs": [
    {
     "name": "stdout",
     "output_type": "stream",
     "text": [
      "Quentin Tarantino\n",
      "{'Love Actually': 'Richard Curtis', 'Kill Bill': 'Quentin Tarantino', 'Amélie': 'Jea-Pierre Jeunet'}\n"
     ]
    }
   ],
   "source": [
    "x=d[\"Kill Bill\"] = \"Quentin Tarantino\"\n",
    "print(x)\n",
    "print(d)"
   ]
  },
  {
   "cell_type": "markdown",
   "metadata": {},
   "source": [
    "Sin embargo en este caso no se puede utilizar slicing, entre otras cosas\n",
    "porque los diccionarios no son secuencias, si no mappings (mapeados,\n",
    "asociaciones).\n",
    "\n",
    "<a name=\"item17\"></a>\n",
    "## Veremos a continuación algunos métodos útiles de estos objetos."
   ]
  },
  {
   "cell_type": "markdown",
   "metadata": {},
   "source": [
    "<b>D.get(k[, d])</b><br>\n",
    "Busca el valor de la clave k en el diccionario. Es equivalente a utilizar\n",
    "D[k] pero al utilizar este método podemos indicar un valor a devolver\n",
    "por defecto si no se encuentra la clave, mientras que con la sintaxis\n",
    "D[k] , de no existir la clave se lanzaría una excepción."
   ]
  },
  {
   "cell_type": "code",
   "execution_count": 52,
   "metadata": {},
   "outputs": [
    {
     "data": {
      "text/plain": [
       "'Richard Curtis'"
      ]
     },
     "execution_count": 52,
     "metadata": {},
     "output_type": "execute_result"
    }
   ],
   "source": [
    "d.get(\"Love Actually\")\n",
    "d[\"Love Actually\"]"
   ]
  },
  {
   "cell_type": "code",
   "execution_count": 53,
   "metadata": {},
   "outputs": [
    {
     "name": "stdout",
     "output_type": "stream",
     "text": [
      "None\n"
     ]
    }
   ],
   "source": [
    "print(d.get(\"julian\"))"
   ]
  },
  {
   "cell_type": "code",
   "execution_count": 54,
   "metadata": {},
   "outputs": [
    {
     "ename": "KeyError",
     "evalue": "'julian'",
     "output_type": "error",
     "traceback": [
      "\u001b[0;31m---------------------------------------------------------------------------\u001b[0m",
      "\u001b[0;31mKeyError\u001b[0m                                  Traceback (most recent call last)",
      "\u001b[0;32m<ipython-input-54-a28ee182052d>\u001b[0m in \u001b[0;36m<module>\u001b[0;34m\u001b[0m\n\u001b[0;32m----> 1\u001b[0;31m \u001b[0md\u001b[0m\u001b[0;34m[\u001b[0m\u001b[0;34m\"julian\"\u001b[0m\u001b[0;34m]\u001b[0m\u001b[0;34m\u001b[0m\u001b[0;34m\u001b[0m\u001b[0m\n\u001b[0m",
      "\u001b[0;31mKeyError\u001b[0m: 'julian'"
     ]
    }
   ],
   "source": [
    "d[\"julian\"]"
   ]
  },
  {
   "cell_type": "code",
   "execution_count": null,
   "metadata": {},
   "outputs": [],
   "source": [
    "#D.has_key(k)\n",
    "#Comprueba si el diccionario tiene la clave k . Es equivalente a la sintaxis k in D .\n",
    "d.has_key(\"Love Actually\")"
   ]
  },
  {
   "cell_type": "code",
   "execution_count": null,
   "metadata": {},
   "outputs": [],
   "source": [
    "#D.keys()\n",
    "#Devuelve una lista de las claves del diccionario.\n",
    "d.keys()"
   ]
  },
  {
   "cell_type": "code",
   "execution_count": null,
   "metadata": {},
   "outputs": [],
   "source": [
    "#D.pop(k[, d])\n",
    "#Borra la clave k del diccionario y devuelve su valor. Si no se encuentra dicha clave se devuelve d \n",
    "#si se especificó el parámetro o bien se lanza una excepción.\n",
    "print(d)\n",
    "d.pop(\"Love Actually\")\n",
    "print(d)"
   ]
  },
  {
   "cell_type": "code",
   "execution_count": null,
   "metadata": {},
   "outputs": [],
   "source": [
    "#D.values()\n",
    "#Devuelve una lista de los valores del diccionario.\n",
    "d.values()"
   ]
  },
  {
   "cell_type": "code",
   "execution_count": null,
   "metadata": {},
   "outputs": [],
   "source": [
    "#Añadir clave y valor \n",
    "d[\"julian\"]=\"holi\"\n",
    "print(d)"
   ]
  },
  {
   "cell_type": "code",
   "execution_count": null,
   "metadata": {},
   "outputs": [],
   "source": [
    "#Ejercicio\n",
    "dic={}\n",
    "x=\"Julian Andres Montoya Carvajal\"\n",
    "print(len(x))\n",
    "y=0\n",
    "for i in x:\n",
    "    dic[y]=i\n",
    "    y=y+1\n",
    "print(dic)"
   ]
  },
  {
   "cell_type": "code",
   "execution_count": null,
   "metadata": {},
   "outputs": [],
   "source": [
    "#Recorrer los elementos de un diccionario \n",
    "for clave in dic:\n",
    "    print(clave, \":\", dic[clave])"
   ]
  },
  {
   "cell_type": "markdown",
   "metadata": {},
   "source": [
    "**dict**"
   ]
  },
  {
   "cell_type": "code",
   "execution_count": null,
   "metadata": {},
   "outputs": [],
   "source": [
    "dic1=dict(nombre=\"nestor\",apellido=\"Plasencia\",edad=22)\n",
    "print(dic1)"
   ]
  },
  {
   "cell_type": "markdown",
   "metadata": {},
   "source": [
    "**clear()**\n",
    "\n",
    "Elimina todos los ítems del diccionario dejándolo vacío."
   ]
  },
  {
   "cell_type": "code",
   "execution_count": null,
   "metadata": {},
   "outputs": [],
   "source": [
    "dic1={\"a\":1,\"b\":2,\"c\":3,\"d\":4}\n",
    "print(dic1)\n",
    "dic1.clear()\n",
    "print(dic1)"
   ]
  },
  {
   "cell_type": "markdown",
   "metadata": {},
   "source": [
    "**copy()**\n",
    "\n",
    "Retorna una copia del diccionario original."
   ]
  },
  {
   "cell_type": "code",
   "execution_count": null,
   "metadata": {},
   "outputs": [],
   "source": [
    "dic={\"a\":1,\"b\":2,\"c\":3,\"d\":4}\n",
    "dic1=dic.copy()\n",
    "print(dic1)"
   ]
  },
  {
   "cell_type": "markdown",
   "metadata": {},
   "source": [
    "**fromkeys()**\n",
    "\n",
    "Recibe como parámetros un iterable y un valor, devolviendo un diccionario que contiene como claves los elementos del iterable con el mismo valor ingresado. Si el valor no es ingresado, devolverá none para todas las claves."
   ]
  },
  {
   "cell_type": "code",
   "execution_count": null,
   "metadata": {},
   "outputs": [],
   "source": [
    "dic = dict.fromkeys(['a','b','c','d'],1)\n",
    "print(dic)"
   ]
  },
  {
   "cell_type": "markdown",
   "metadata": {},
   "source": [
    "**update()**\n",
    "\n",
    "Recibe como parámetro otro diccionario. Si se tienen claves iguales, actualiza el valor de la clave repetida; si no hay claves iguales, este par clave-valor es agregado al diccionario."
   ]
  },
  {
   "cell_type": "code",
   "execution_count": null,
   "metadata": {},
   "outputs": [],
   "source": [
    "dic1= {\"a\" : 1, \"b\" : 2, \"c\" : 3 , \"d\" : 4}\n",
    "dic2= {\"c\" : 6, \"b\" : 5, \"e\" : 9 , \"f\" : 10}\n",
    "dic1.update(dic2)\n",
    "print(dic1)"
   ]
  },
  {
   "cell_type": "markdown",
   "metadata": {},
   "source": [
    "<a name=\"item18\"></a>\n",
    "## Cadenas de caracteres o String "
   ]
  },
  {
   "cell_type": "code",
   "execution_count": null,
   "metadata": {},
   "outputs": [],
   "source": [
    "z=\"HOLA NUEVO MUNDO\""
   ]
  },
  {
   "cell_type": "code",
   "execution_count": null,
   "metadata": {},
   "outputs": [],
   "source": [
    "#S.count(sub[, start[, end]])\n",
    "#Devuelve el número de veces que se encuentra sub en la cadena. Los\n",
    "#parámetros opcionales start y end definen una subcadena en la que\n",
    "#buscar.\n",
    "z.count(\"O\",0,6)\n",
    "z.count(\"H\")"
   ]
  },
  {
   "cell_type": "code",
   "execution_count": null,
   "metadata": {},
   "outputs": [],
   "source": [
    "x=\"holii\""
   ]
  },
  {
   "cell_type": "code",
   "execution_count": null,
   "metadata": {},
   "outputs": [],
   "source": [
    "#S.find(sub[, start[, end]])\n",
    "#Devuelve la posición en la que se encontró por primera vez sub en la\n",
    "#cadena o -1 si no se encontró.\n",
    "x.find(\"i\")"
   ]
  },
  {
   "cell_type": "markdown",
   "metadata": {},
   "source": [
    "**Convertir las listas en cadenas**"
   ]
  },
  {
   "cell_type": "code",
   "execution_count": null,
   "metadata": {},
   "outputs": [],
   "source": [
    "#S.join(sequence)\n",
    "#Devuelve una cadena resultante de concatenar las cadenas de la secuencia seq \n",
    "#separadas por la cadena sobre la que se llama el método.\n",
    "seq = (\"a\", \"b\", \"c\")\n",
    "print(x.join(seq))\n",
    "l=[\"1\",\"2\",\"3\",\"4\"]\n",
    "h=\"hola\"\n",
    "print(h.join(l))"
   ]
  },
  {
   "cell_type": "code",
   "execution_count": null,
   "metadata": {},
   "outputs": [],
   "source": [
    "x=\"-\"\n",
    "x.join(seq)"
   ]
  },
  {
   "cell_type": "code",
   "execution_count": null,
   "metadata": {},
   "outputs": [],
   "source": [
    "paises = [ 'Argentina', 'Uruguay', 'Chile', 'Paraguay', 'Brasil', 'Bolivia' ]\n",
    "x=\",\"\n",
    "x.join(paises)"
   ]
  },
  {
   "cell_type": "code",
   "execution_count": null,
   "metadata": {},
   "outputs": [],
   "source": [
    "#S.partition(sep)\n",
    "#Busca el separador sep en la cadena y devuelve una tupla con la subcadena \n",
    "#hasta dicho separador, el separador en si, y la subcadena del\n",
    "#separador hasta el final de la cadena. Si no se encuentra el separador, la\n",
    "#tupla contendrá la cadena en si y dos cadenas vacías.\n",
    "x=\"holioio\"\n",
    "x.partition(\"i\")"
   ]
  },
  {
   "cell_type": "code",
   "execution_count": null,
   "metadata": {},
   "outputs": [],
   "source": [
    "#S.replace(old, new[, count])\n",
    "#Devuelve una cadena en la que se han reemplazado todas las ocurrencias \n",
    "#de la cadena old por la cadena new . Si se especifica el parámetro\n",
    "#count , este indica el número máximo de ocurrencias a reemplazar.\n",
    "print(x)\n",
    "y=x.replace(\"i\",\"E\",1)\n",
    "print(y)\n",
    "print(x)"
   ]
  },
  {
   "cell_type": "markdown",
   "metadata": {},
   "source": [
    "**Convertir las cadenas en listas**"
   ]
  },
  {
   "cell_type": "code",
   "execution_count": null,
   "metadata": {},
   "outputs": [],
   "source": [
    "#S.split([sep [,maxsplit]])\n",
    "#Devuelve una lista conteniendo las subcadenas en las que se divide\n",
    "#nuestra cadena al dividirlas por el delimitador sep . En el caso de que no se especifique sep , \n",
    "#se usan espacios. Si se especifica maxsplit , este\n",
    "#indica el número máximo de particiones a realizar.\n",
    "x=\"hola rafa como estas\"\n",
    "print(x.split())\n",
    "print(x.split(\"rafa\"))\n",
    "x=\"hola rafa como estas rafa\"\n",
    "print(x.split(\"rafa\"))\n",
    "x=\"holiieio\"\n",
    "print(x.split(\"i\"))\n",
    "x=\"hola estamos o ho y tu ho\"\n",
    "print(x.split(\"ho\"))"
   ]
  },
  {
   "cell_type": "markdown",
   "metadata": {},
   "source": [
    "Hasta aca tenemos el tema de introduccion en python. Si tienes alguna duda no olvides escribir a <br>\n",
    "<b>andres.programacion123@gmail.com</b>"
   ]
  }
 ],
 "metadata": {
  "kernelspec": {
   "display_name": "Python 3",
   "language": "python",
   "name": "python3"
  },
  "language_info": {
   "codemirror_mode": {
    "name": "ipython",
    "version": 3
   },
   "file_extension": ".py",
   "mimetype": "text/x-python",
   "name": "python",
   "nbconvert_exporter": "python",
   "pygments_lexer": "ipython3",
   "version": "3.6.9"
  }
 },
 "nbformat": 4,
 "nbformat_minor": 2
}
