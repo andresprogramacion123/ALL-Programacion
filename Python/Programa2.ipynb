{
 "cells": [
  {
   "cell_type": "markdown",
   "metadata": {
    "colab_type": "text",
    "id": "36tF9AE18zkf"
   },
   "source": [
    "# Markdown\n",
    "## Subtitulo\n",
    "Texto plano\n",
    "Negrilla usando **bold** y __bold__. \n",
    "Cursiva usando *italic* y _italic_.\n",
    "Podemos crear una lista:\n",
    "* Elemento 1\n",
    "* Elemento 2\n",
    "\n",
    "Y una lista numerada\n",
    "1. Número 1\n",
    "2. Número 2\n",
    "\n",
    "[Hipervínculo](https://www.udea.edu.co)\n",
    "\n",
    "Código en la misma línea `foo()`, código en bloque:\n",
    "```\n",
    "bar()\n",
    "```\n",
    " ![Otro texto](http://www.udea.edu.co/wps/wcm/connect/udea/abb2bfd3-5e1d-4b6c-ab1f-3addb87b7b22/escudo.jpg?MOD=AJPERES&CACHEID=ROOTWORKSPACE.Z18_L8L8H8C0LODDC0A6SSS2AD2GO4-abb2bfd3-5e1d-4b6c-ab1f-3addb87b7b22-kMALT8L)"
   ]
  },
  {
   "cell_type": "markdown",
   "metadata": {
    "colab_type": "text",
    "id": "qOM8s9wZS7k7"
   },
   "source": [
    "# Python"
   ]
  },
  {
   "cell_type": "code",
   "execution_count": 1,
   "metadata": {
    "colab": {
     "base_uri": "https://localhost:8080/",
     "height": 403
    },
    "colab_type": "code",
    "id": "hNM4hhjeS7FZ",
    "outputId": "516b9398-1828-48e2-925e-8d19c0f761d9"
   },
   "outputs": [
    {
     "name": "stdout",
     "output_type": "stream",
     "text": [
      "The Zen of Python, by Tim Peters\n",
      "\n",
      "Beautiful is better than ugly.\n",
      "Explicit is better than implicit.\n",
      "Simple is better than complex.\n",
      "Complex is better than complicated.\n",
      "Flat is better than nested.\n",
      "Sparse is better than dense.\n",
      "Readability counts.\n",
      "Special cases aren't special enough to break the rules.\n",
      "Although practicality beats purity.\n",
      "Errors should never pass silently.\n",
      "Unless explicitly silenced.\n",
      "In the face of ambiguity, refuse the temptation to guess.\n",
      "There should be one-- and preferably only one --obvious way to do it.\n",
      "Although that way may not be obvious at first unless you're Dutch.\n",
      "Now is better than never.\n",
      "Although never is often better than *right* now.\n",
      "If the implementation is hard to explain, it's a bad idea.\n",
      "If the implementation is easy to explain, it may be a good idea.\n",
      "Namespaces are one honking great idea -- let's do more of those!\n"
     ]
    }
   ],
   "source": [
    "import this"
   ]
  },
  {
   "cell_type": "code",
   "execution_count": 2,
   "metadata": {
    "colab": {},
    "colab_type": "code",
    "id": "DIxaPPQ5kuOj"
   },
   "outputs": [],
   "source": [
    "this?"
   ]
  },
  {
   "cell_type": "markdown",
   "metadata": {
    "colab_type": "text",
    "id": "UEVfl2GhXRIe"
   },
   "source": [
    "## Variables"
   ]
  },
  {
   "cell_type": "code",
   "execution_count": 0,
   "metadata": {
    "colab": {
     "base_uri": "https://localhost:8080/",
     "height": 54
    },
    "colab_type": "code",
    "id": "wrNzJVrgTB2D",
    "outputId": "f36e183a-b267-4ea6-c7c2-1ec8e78537b0"
   },
   "outputs": [
    {
     "name": "stdout",
     "output_type": "stream",
     "text": [
      "Hola Mundo\n",
      "Hola mundo\n"
     ]
    }
   ],
   "source": [
    "print(\"Hola Mundo\") #Esto es un comentario\n",
    "print('Hola mundo') #Este es otro comentario"
   ]
  },
  {
   "cell_type": "code",
   "execution_count": 0,
   "metadata": {
    "colab": {
     "base_uri": "https://localhost:8080/",
     "height": 72
    },
    "colab_type": "code",
    "id": "gUKx4UxLbQtv",
    "outputId": "6e31317d-90ae-4ae1-ef7f-603eb28ca0a2"
   },
   "outputs": [
    {
     "name": "stdout",
     "output_type": "stream",
     "text": [
      "Hola\n",
      "CPU times: user 0 ns, sys: 1.65 ms, total: 1.65 ms\n",
      "Wall time: 1.37 ms\n"
     ]
    }
   ],
   "source": [
    "time print(\"Hola\") #lo vamos a usar mucho "
   ]
  },
  {
   "cell_type": "code",
   "execution_count": 0,
   "metadata": {
    "colab": {
     "base_uri": "https://localhost:8080/",
     "height": 72
    },
    "colab_type": "code",
    "id": "5WDIfiJ0THke",
    "outputId": "5dbcf504-afca-49ac-9319-89638c4cf046"
   },
   "outputs": [
    {
     "name": "stdout",
     "output_type": "stream",
     "text": [
      "Mundo <class 'str'>\n",
      "1 <class 'int'>\n",
      "2.0 <class 'float'>\n"
     ]
    }
   ],
   "source": [
    "x='Mundo'\n",
    "y=1\n",
    "z=2.0\n",
    "print(x,type(x))\n",
    "print(y,type(y))\n",
    "print(z,type(z))"
   ]
  },
  {
   "cell_type": "code",
   "execution_count": 0,
   "metadata": {
    "colab": {},
    "colab_type": "code",
    "id": "EV-h-_Gfk-JE"
   },
   "outputs": [],
   "source": [
    "x?"
   ]
  },
  {
   "cell_type": "code",
   "execution_count": 0,
   "metadata": {
    "colab": {
     "base_uri": "https://localhost:8080/",
     "height": 35
    },
    "colab_type": "code",
    "id": "bBYnghuRTsb5",
    "outputId": "743b6e50-43dc-41f4-af3f-266497fa07b7"
   },
   "outputs": [
    {
     "name": "stdout",
     "output_type": "stream",
     "text": [
      "Hola 20 30.0\n"
     ]
    }
   ],
   "source": [
    "x,y,z='Hola',20,30.0\n",
    "print(x,y,z)"
   ]
  },
  {
   "cell_type": "code",
   "execution_count": 0,
   "metadata": {
    "colab": {
     "base_uri": "https://localhost:8080/",
     "height": 35
    },
    "colab_type": "code",
    "id": "2Z5Sj-vGUsjd",
    "outputId": "7c11a1a3-0b53-4837-a335-7850bffe9ae3"
   },
   "outputs": [
    {
     "name": "stdout",
     "output_type": "stream",
     "text": [
      "20 30.0 50.0 <class 'float'>\n"
     ]
    }
   ],
   "source": [
    "w=y+z\n",
    "print(y,z,w,type(w))"
   ]
  },
  {
   "cell_type": "code",
   "execution_count": 0,
   "metadata": {
    "colab": {
     "base_uri": "https://localhost:8080/",
     "height": 72
    },
    "colab_type": "code",
    "id": "tCNjLiEbU0ef",
    "outputId": "40334016-5456-4944-9cc0-a94e570540d5"
   },
   "outputs": [
    {
     "name": "stdout",
     "output_type": "stream",
     "text": [
      "10.0 <class 'float'> <class 'int'>\n",
      "40 <class 'int'> <class 'int'>\n",
      "2 <class 'int'> <class 'int'>\n"
     ]
    }
   ],
   "source": [
    "w=y/2\n",
    "print(w,type(w),type(y))\n",
    "w=y*2\n",
    "print(w,type(w),type(y))\n",
    "w=y%3\n",
    "print(w,type(w),type(y))"
   ]
  },
  {
   "cell_type": "code",
   "execution_count": 0,
   "metadata": {
    "colab": {
     "base_uri": "https://localhost:8080/",
     "height": 54
    },
    "colab_type": "code",
    "id": "EtFODE40U9KE",
    "outputId": "2c9a2d7a-87c6-42d7-b15c-6f358025b090"
   },
   "outputs": [
    {
     "name": "stdout",
     "output_type": "stream",
     "text": [
      "400 <class 'int'>\n",
      "900.0 <class 'float'>\n"
     ]
    }
   ],
   "source": [
    "w=y**2\n",
    "print(w,type(w))\n",
    "w=z**2\n",
    "print(w,type(w))"
   ]
  },
  {
   "cell_type": "code",
   "execution_count": 0,
   "metadata": {
    "colab": {
     "base_uri": "https://localhost:8080/",
     "height": 54
    },
    "colab_type": "code",
    "id": "jTq3iIRwWXPh",
    "outputId": "07a2a7a2-1ebb-4a45-e2bb-ac3fa41142b7"
   },
   "outputs": [
    {
     "name": "stdout",
     "output_type": "stream",
     "text": [
      "HOLA MUNDO\n",
      "hola mundo\n"
     ]
    }
   ],
   "source": [
    "x='Hola Mundo'\n",
    "print(x.upper())\n",
    "print(x.lower())"
   ]
  },
  {
   "cell_type": "code",
   "execution_count": 0,
   "metadata": {
    "colab": {
     "base_uri": "https://localhost:8080/",
     "height": 72
    },
    "colab_type": "code",
    "id": "WUYDDv_OT21l",
    "outputId": "9645ffb2-d3c9-4e37-8469-847ec68a6a68"
   },
   "outputs": [
    {
     "name": "stdout",
     "output_type": "stream",
     "text": [
      "Hola Hola Mundo\n",
      "Hola 20\n",
      "HolaHolaHolaHolaHolaHolaHolaHolaHolaHolaHolaHolaHolaHolaHolaHolaHolaHolaHolaHola\n"
     ]
    }
   ],
   "source": [
    "print('Hola '+x)\n",
    "print('Hola '+str(y))\n",
    "print('Hola'*y)"
   ]
  },
  {
   "cell_type": "markdown",
   "metadata": {
    "colab_type": "text",
    "id": "4MpTeUSLXUkT"
   },
   "source": [
    "## Listas"
   ]
  },
  {
   "cell_type": "code",
   "execution_count": 0,
   "metadata": {
    "colab": {
     "base_uri": "https://localhost:8080/",
     "height": 90
    },
    "colab_type": "code",
    "id": "ZzYh1p2kUAlb",
    "outputId": "a44feb29-00ff-4723-ecaf-66ea33997bc8"
   },
   "outputs": [
    {
     "name": "stdout",
     "output_type": "stream",
     "text": [
      "[5, 4, 3, 2, 1] <class 'list'>\n",
      "5 1\n",
      "[4, 3, 2, 1] [4, 3]\n",
      "[5, 3] [5, 3, 1] [1, 2, 3, 4, 5]\n"
     ]
    }
   ],
   "source": [
    "lista1=[5,4,3,2,1]\n",
    "print(lista1,type(lista1))\n",
    "print(lista1[0],lista1[-1])\n",
    "print(lista1[1:],lista1[1:3])\n",
    "print(lista1[0:4:2],lista1[::2],lista1[::-1])"
   ]
  },
  {
   "cell_type": "code",
   "execution_count": 0,
   "metadata": {
    "colab": {
     "base_uri": "https://localhost:8080/",
     "height": 35
    },
    "colab_type": "code",
    "id": "n1xdSpU3WG2h",
    "outputId": "d141e753-223d-4791-dd1d-95d6574dc173"
   },
   "outputs": [
    {
     "name": "stdout",
     "output_type": "stream",
     "text": [
      "ola\n"
     ]
    }
   ],
   "source": [
    "x='Hola'\n",
    "print(x[1:])"
   ]
  },
  {
   "cell_type": "code",
   "execution_count": 0,
   "metadata": {
    "colab": {
     "base_uri": "https://localhost:8080/",
     "height": 35
    },
    "colab_type": "code",
    "id": "bPciSo7oVTdL",
    "outputId": "75f975ae-b7b6-48dd-c507-56d09ec04b5f"
   },
   "outputs": [
    {
     "name": "stdout",
     "output_type": "stream",
     "text": [
      "[5, 4, 3, 2, 1, 1, 2, 3, 4, 5]\n"
     ]
    }
   ],
   "source": [
    "lista2=[1,2,3,4,5]\n",
    "print(lista1+lista2)"
   ]
  },
  {
   "cell_type": "code",
   "execution_count": 0,
   "metadata": {
    "colab": {
     "base_uri": "https://localhost:8080/",
     "height": 35
    },
    "colab_type": "code",
    "id": "fqKId2V3Uosm",
    "outputId": "ccf9021d-a72d-4738-bf06-a37425ea2d04"
   },
   "outputs": [
    {
     "name": "stdout",
     "output_type": "stream",
     "text": [
      "[1, 2, 3, 1, 2, 3, 1, 2, 3, 1, 2, 3]\n"
     ]
    }
   ],
   "source": [
    "print([1,2,3]*4)"
   ]
  },
  {
   "cell_type": "code",
   "execution_count": 0,
   "metadata": {
    "colab": {
     "base_uri": "https://localhost:8080/",
     "height": 72
    },
    "colab_type": "code",
    "id": "cPCWvjH-V73D",
    "outputId": "2e3c7465-8a7a-4070-affb-3a482fd45ef5"
   },
   "outputs": [
    {
     "name": "stdout",
     "output_type": "stream",
     "text": [
      "0\n",
      "0\n",
      "[0, 4, 3, 2, 1]\n"
     ]
    }
   ],
   "source": [
    "print(lista1[0])\n",
    "lista1[0]=0\n",
    "print(lista1[0])\n",
    "print(lista1)"
   ]
  },
  {
   "cell_type": "code",
   "execution_count": 0,
   "metadata": {
    "colab": {
     "base_uri": "https://localhost:8080/",
     "height": 246
    },
    "colab_type": "code",
    "id": "IGohH-6EVog-",
    "outputId": "bfe36d04-3bae-4d7f-a9ba-8736e9ed1993"
   },
   "outputs": [
    {
     "name": "stdout",
     "output_type": "stream",
     "text": [
      "H\n"
     ]
    },
    {
     "ename": "TypeError",
     "evalue": "ignored",
     "output_type": "error",
     "traceback": [
      "\u001b[0;31m---------------------------------------------------------------------------\u001b[0m",
      "\u001b[0;31mTypeError\u001b[0m                                 Traceback (most recent call last)",
      "\u001b[0;32m<ipython-input-34-e8e731f7eba2>\u001b[0m in \u001b[0;36m<module>\u001b[0;34m()\u001b[0m\n\u001b[1;32m      1\u001b[0m \u001b[0mx\u001b[0m\u001b[0;34m=\u001b[0m\u001b[0;34m'Hola'\u001b[0m\u001b[0;34m\u001b[0m\u001b[0;34m\u001b[0m\u001b[0m\n\u001b[1;32m      2\u001b[0m \u001b[0mprint\u001b[0m\u001b[0;34m(\u001b[0m\u001b[0mx\u001b[0m\u001b[0;34m[\u001b[0m\u001b[0;36m0\u001b[0m\u001b[0;34m]\u001b[0m\u001b[0;34m)\u001b[0m\u001b[0;34m\u001b[0m\u001b[0;34m\u001b[0m\u001b[0m\n\u001b[0;32m----> 3\u001b[0;31m \u001b[0mx\u001b[0m\u001b[0;34m[\u001b[0m\u001b[0;36m0\u001b[0m\u001b[0;34m]\u001b[0m\u001b[0;34m=\u001b[0m\u001b[0;34m'P'\u001b[0m\u001b[0;34m\u001b[0m\u001b[0;34m\u001b[0m\u001b[0m\n\u001b[0m\u001b[1;32m      4\u001b[0m \u001b[0mprint\u001b[0m\u001b[0;34m(\u001b[0m\u001b[0mx\u001b[0m\u001b[0;34m[\u001b[0m\u001b[0;36m0\u001b[0m\u001b[0;34m]\u001b[0m\u001b[0;34m)\u001b[0m\u001b[0;34m\u001b[0m\u001b[0;34m\u001b[0m\u001b[0m\n",
      "\u001b[0;31mTypeError\u001b[0m: 'str' object does not support item assignment"
     ]
    }
   ],
   "source": [
    "x='Hola'\n",
    "print(x[0])\n",
    "x[0]='P'\n",
    "print(x[0])"
   ]
  },
  {
   "cell_type": "code",
   "execution_count": 0,
   "metadata": {
    "colab": {
     "base_uri": "https://localhost:8080/",
     "height": 35
    },
    "colab_type": "code",
    "id": "jc08bLGaaBG2",
    "outputId": "faef866f-9a53-457c-f187-aa6bc57a8ad4"
   },
   "outputs": [
    {
     "data": {
      "text/plain": [
       "'Pola'"
      ]
     },
     "execution_count": 39,
     "metadata": {
      "tags": []
     },
     "output_type": "execute_result"
    }
   ],
   "source": [
    "y=list(x)\n",
    "y[0]='P'\n",
    "''.join(y)"
   ]
  },
  {
   "cell_type": "markdown",
   "metadata": {
    "colab_type": "text",
    "id": "jrHlxeVqajd3"
   },
   "source": [
    "## Diccionarios"
   ]
  },
  {
   "cell_type": "code",
   "execution_count": 0,
   "metadata": {
    "colab": {
     "base_uri": "https://localhost:8080/",
     "height": 35
    },
    "colab_type": "code",
    "id": "dkuZbF6jai6M",
    "outputId": "0c39b957-a6cc-4a0d-e189-47a47b0070bb"
   },
   "outputs": [
    {
     "name": "stdout",
     "output_type": "stream",
     "text": [
      "{'num1': 3, 'num2': 2, 'num3': 1} <class 'dict'>\n"
     ]
    }
   ],
   "source": [
    "x={'num1':3,'num2':2,'num3':1}\n",
    "print(x,type(x))"
   ]
  },
  {
   "cell_type": "code",
   "execution_count": 0,
   "metadata": {
    "colab": {
     "base_uri": "https://localhost:8080/",
     "height": 54
    },
    "colab_type": "code",
    "id": "SDs5VAptatr_",
    "outputId": "cccc7ff1-db2a-41cd-c0c7-f2b02121713f"
   },
   "outputs": [
    {
     "name": "stdout",
     "output_type": "stream",
     "text": [
      "dict_keys(['num1', 'num2', 'num3'])\n",
      "dict_items([('num1', 3), ('num2', 2), ('num3', 1)])\n"
     ]
    }
   ],
   "source": [
    "print(x.keys())\n",
    "print(x.items())"
   ]
  },
  {
   "cell_type": "markdown",
   "metadata": {
    "colab_type": "text",
    "id": "4DCsD_z8XXio"
   },
   "source": [
    "## Condicionales"
   ]
  },
  {
   "cell_type": "code",
   "execution_count": 0,
   "metadata": {
    "colab": {
     "base_uri": "https://localhost:8080/",
     "height": 90
    },
    "colab_type": "code",
    "id": "NX0DCuTvWprA",
    "outputId": "8ef36c84-4416-428c-8061-0e8005a62fff"
   },
   "outputs": [
    {
     "name": "stdout",
     "output_type": "stream",
     "text": [
      "True\n",
      "False\n",
      "True\n",
      "True\n"
     ]
    }
   ],
   "source": [
    "x=2\n",
    "print(x<=2)\n",
    "print(x>4)\n",
    "print(x!=1)\n",
    "print(x==2)"
   ]
  },
  {
   "cell_type": "code",
   "execution_count": 0,
   "metadata": {
    "colab": {
     "base_uri": "https://localhost:8080/",
     "height": 35
    },
    "colab_type": "code",
    "id": "2xjCH8v0fljc",
    "outputId": "0afc2dd9-d9cd-4180-f87f-89ab78af4185"
   },
   "outputs": [
    {
     "name": "stdout",
     "output_type": "stream",
     "text": [
      "1\n"
     ]
    }
   ],
   "source": [
    "x=2\n",
    "y=1 if x<3 else 2\n",
    "print(y)"
   ]
  },
  {
   "cell_type": "code",
   "execution_count": 0,
   "metadata": {
    "colab": {
     "base_uri": "https://localhost:8080/",
     "height": 72
    },
    "colab_type": "code",
    "id": "CDcxNpZQW2Yp",
    "outputId": "0227580b-ae38-4757-90e1-b9fd282564ff"
   },
   "outputs": [
    {
     "name": "stdout",
     "output_type": "stream",
     "text": [
      "False\n",
      "True\n",
      "True\n"
     ]
    }
   ],
   "source": [
    "x,y=21,'Camilo'\n",
    "print(not x>18)\n",
    "print(x>=18 and y=='Camilo')\n",
    "print(x>=18 or y=='Santa')"
   ]
  },
  {
   "cell_type": "code",
   "execution_count": 0,
   "metadata": {
    "colab": {
     "base_uri": "https://localhost:8080/",
     "height": 35
    },
    "colab_type": "code",
    "id": "g9bKYqMJa2HB",
    "outputId": "13fa4baa-c61d-4146-ca8d-610cb9e9a858"
   },
   "outputs": [
    {
     "data": {
      "text/plain": [
       "True"
      ]
     },
     "execution_count": 53,
     "metadata": {
      "tags": []
     },
     "output_type": "execute_result"
    }
   ],
   "source": [
    "any([False,True,True])"
   ]
  },
  {
   "cell_type": "code",
   "execution_count": 0,
   "metadata": {
    "colab": {
     "base_uri": "https://localhost:8080/",
     "height": 54
    },
    "colab_type": "code",
    "id": "mYVqTaQvXE7o",
    "outputId": "5dd567c4-54f7-4b49-8c22-bcbdfea95b8d"
   },
   "outputs": [
    {
     "name": "stdout",
     "output_type": "stream",
     "text": [
      "True\n",
      "False\n"
     ]
    }
   ],
   "source": [
    "nombres=['Camilo','Santa','Velez']\n",
    "print('Camilo' in nombres)\n",
    "print('Edison' in nombres)"
   ]
  },
  {
   "cell_type": "code",
   "execution_count": 0,
   "metadata": {
    "colab": {
     "base_uri": "https://localhost:8080/",
     "height": 35
    },
    "colab_type": "code",
    "id": "vLw6XF-4XcHy",
    "outputId": "b734c369-bfc8-458f-d29e-96254f6e81c2"
   },
   "outputs": [
    {
     "name": "stdout",
     "output_type": "stream",
     "text": [
      "Fuera\n"
     ]
    }
   ],
   "source": [
    "minombre='Jorge'\n",
    "if minombre in nombres:\n",
    "      print('Pase')\n",
    "elif minombre=='Edison':\n",
    "      print('Hola Edison')\n",
    "        print('Hola')\n",
    "else:\n",
    "      print('Fuera')"
   ]
  },
  {
   "cell_type": "code",
   "execution_count": 0,
   "metadata": {
    "colab": {
     "base_uri": "https://localhost:8080/",
     "height": 54
    },
    "colab_type": "code",
    "id": "KBwPbVLHX81J",
    "outputId": "02c437b0-0026-4f5b-ddbf-3898283b4155"
   },
   "outputs": [
    {
     "name": "stdout",
     "output_type": "stream",
     "text": [
      "True True\n",
      "False True\n"
     ]
    }
   ],
   "source": [
    "x=[1,2,3]\n",
    "y=x\n",
    "z=[1,2,3]\n",
    "print(y is x,y==x)\n",
    "print(z is x,z==x)"
   ]
  },
  {
   "cell_type": "markdown",
   "metadata": {
    "colab_type": "text",
    "id": "iYBohu7lYT5F"
   },
   "source": [
    "## Loops"
   ]
  },
  {
   "cell_type": "code",
   "execution_count": 0,
   "metadata": {
    "colab": {
     "base_uri": "https://localhost:8080/",
     "height": 35
    },
    "colab_type": "code",
    "id": "izyNIha2btGi",
    "outputId": "c84ed13d-f615-420c-9b36-01e4973f1b3d"
   },
   "outputs": [
    {
     "data": {
      "text/plain": [
       "[0, 1, 2, 3, 4, 5, 6, 7, 8, 9]"
      ]
     },
     "execution_count": 63,
     "metadata": {
      "tags": []
     },
     "output_type": "execute_result"
    }
   ],
   "source": [
    "list(range(10))"
   ]
  },
  {
   "cell_type": "code",
   "execution_count": 0,
   "metadata": {
    "colab": {
     "base_uri": "https://localhost:8080/",
     "height": 201
    },
    "colab_type": "code",
    "id": "Hr23HIyJYTZb",
    "outputId": "526aab68-4207-4956-f7c6-4f33156c2e4e"
   },
   "outputs": [
    {
     "name": "stdout",
     "output_type": "stream",
     "text": [
      "0\n",
      "1\n",
      "2\n",
      "3\n",
      "4\n",
      "5\n",
      "6\n",
      "7\n",
      "8\n",
      "9\n"
     ]
    }
   ],
   "source": [
    "for x in range(10):\n",
    "  print(x)"
   ]
  },
  {
   "cell_type": "code",
   "execution_count": 0,
   "metadata": {
    "colab": {
     "base_uri": "https://localhost:8080/",
     "height": 109
    },
    "colab_type": "code",
    "id": "kO6DUVnlYbLJ",
    "outputId": "2bf905f8-485c-45b0-d169-257d0c9851ae"
   },
   "outputs": [
    {
     "name": "stdout",
     "output_type": "stream",
     "text": [
      "3\n",
      "5\n",
      "7\n",
      "9\n",
      "Listo\n"
     ]
    }
   ],
   "source": [
    "for x in range(3,10,2):\n",
    "  print(x)\n",
    "else:\n",
    "  print('Listo')"
   ]
  },
  {
   "cell_type": "code",
   "execution_count": 0,
   "metadata": {
    "colab": {
     "base_uri": "https://localhost:8080/",
     "height": 127
    },
    "colab_type": "code",
    "id": "tnI7OkutZj9q",
    "outputId": "49d27548-43a3-429f-f1b4-bca8c3be4593"
   },
   "outputs": [
    {
     "name": "stdout",
     "output_type": "stream",
     "text": [
      "0\n",
      "1\n",
      "2\n",
      "4\n",
      "5\n",
      "6\n"
     ]
    }
   ],
   "source": [
    "for x in range(10):\n",
    "  if x==3: continue\n",
    "  if x==7: break\n",
    "  print(x)\n",
    "else:\n",
    "  print('Listo')"
   ]
  },
  {
   "cell_type": "code",
   "execution_count": 0,
   "metadata": {
    "colab": {
     "base_uri": "https://localhost:8080/",
     "height": 72
    },
    "colab_type": "code",
    "id": "Ck1YiLbWYs-_",
    "outputId": "ff87a4e5-c2f1-48e9-e530-cbffddfe42cb"
   },
   "outputs": [
    {
     "name": "stdout",
     "output_type": "stream",
     "text": [
      "Camilo\n",
      "Santa\n",
      "Velez\n"
     ]
    }
   ],
   "source": [
    "nombres=['Camilo','Santa','Velez']\n",
    "for x in nombres:\n",
    "  print(x)"
   ]
  },
  {
   "cell_type": "code",
   "execution_count": 0,
   "metadata": {
    "colab": {
     "base_uri": "https://localhost:8080/",
     "height": 72
    },
    "colab_type": "code",
    "id": "reqiFqPiY1Zq",
    "outputId": "00cf0b6c-ff60-48c3-a867-ea1ef8bd2620"
   },
   "outputs": [
    {
     "name": "stdout",
     "output_type": "stream",
     "text": [
      "0 Camilo\n",
      "1 Santa\n",
      "2 Velez\n"
     ]
    }
   ],
   "source": [
    "nombres=['Camilo','Santa','Velez']\n",
    "for i,x in enumerate(nombres):\n",
    "  print(i,x)"
   ]
  },
  {
   "cell_type": "code",
   "execution_count": 0,
   "metadata": {
    "colab": {
     "base_uri": "https://localhost:8080/",
     "height": 109
    },
    "colab_type": "code",
    "id": "MzxQG045Y6wG",
    "outputId": "075400bd-6a5a-4f7b-a28c-f473bac2cc99"
   },
   "outputs": [
    {
     "name": "stdout",
     "output_type": "stream",
     "text": [
      "1\n",
      "2\n",
      "3\n",
      "4\n",
      "5\n"
     ]
    }
   ],
   "source": [
    "z=0\n",
    "while z<5:\n",
    "  z+=1\n",
    "  print(z)"
   ]
  },
  {
   "cell_type": "markdown",
   "metadata": {
    "colab_type": "text",
    "id": "ZdvLxKqFZ_q9"
   },
   "source": [
    "## Funciones"
   ]
  },
  {
   "cell_type": "code",
   "execution_count": 0,
   "metadata": {
    "colab": {
     "base_uri": "https://localhost:8080/",
     "height": 35
    },
    "colab_type": "code",
    "id": "WYpLe-zqaBO4",
    "outputId": "906894bf-433c-4ced-e1f6-758229db1d67"
   },
   "outputs": [
    {
     "name": "stdout",
     "output_type": "stream",
     "text": [
      "4\n"
     ]
    }
   ],
   "source": [
    "def mifunc(a,b,c):\n",
    "  return a+b-c\n",
    "print(mifunc(3,2,1))"
   ]
  },
  {
   "cell_type": "code",
   "execution_count": 0,
   "metadata": {
    "colab": {
     "base_uri": "https://localhost:8080/",
     "height": 35
    },
    "colab_type": "code",
    "id": "brWBioxKaWZl",
    "outputId": "09c393ca-d24e-43e5-8c74-9c3d0d998ba5"
   },
   "outputs": [
    {
     "name": "stdout",
     "output_type": "stream",
     "text": [
      "4\n"
     ]
    }
   ],
   "source": [
    "otrafunc=lambda a,b,c: a+b-c\n",
    "print(otrafunc(3,2,1))"
   ]
  },
  {
   "cell_type": "markdown",
   "metadata": {
    "colab_type": "text",
    "id": "McQ7o4dka9S7"
   },
   "source": [
    "## List Comprehension, Map, Filter y Reduce\n",
    "\n"
   ]
  },
  {
   "cell_type": "code",
   "execution_count": 0,
   "metadata": {
    "colab": {
     "base_uri": "https://localhost:8080/",
     "height": 35
    },
    "colab_type": "code",
    "id": "zLXRpOjsbAsG",
    "outputId": "ca2133d2-eeb7-40b8-bfc7-a5e37b2389a8"
   },
   "outputs": [
    {
     "data": {
      "text/plain": [
       "[0, 2, 4, 6, 8, 10, 12, 14, 16, 18]"
      ]
     },
     "execution_count": 72,
     "metadata": {
      "tags": []
     },
     "output_type": "execute_result"
    }
   ],
   "source": [
    "pares=[2*x for x in range(10)]\n",
    "pares"
   ]
  },
  {
   "cell_type": "code",
   "execution_count": 0,
   "metadata": {
    "colab": {
     "base_uri": "https://localhost:8080/",
     "height": 35
    },
    "colab_type": "code",
    "id": "44hb16mkfW0K",
    "outputId": "530c271a-5482-468b-dbd1-01187573bf6d"
   },
   "outputs": [
    {
     "data": {
      "text/plain": [
       "[0, 4, 8, 12, 16]"
      ]
     },
     "execution_count": 158,
     "metadata": {
      "tags": []
     },
     "output_type": "execute_result"
    }
   ],
   "source": [
    "pares2=[2*x for x in range(10) if x%2==0]\n",
    "pares2"
   ]
  },
  {
   "cell_type": "code",
   "execution_count": 0,
   "metadata": {
    "colab": {
     "base_uri": "https://localhost:8080/",
     "height": 35
    },
    "colab_type": "code",
    "id": "9lTdq5OzbE64",
    "outputId": "0b7fb749-7279-4985-efc8-0e9b22c1e105"
   },
   "outputs": [
    {
     "data": {
      "text/plain": [
       "{0: 0, 1: 1, 2: 4, 3: 9, 4: 16, 5: 25, 6: 36, 7: 49, 8: 64, 9: 81}"
      ]
     },
     "execution_count": 75,
     "metadata": {
      "tags": []
     },
     "output_type": "execute_result"
    }
   ],
   "source": [
    "cuadrados={x:x**2 for x in range(10)}\n",
    "cuadrados"
   ]
  },
  {
   "cell_type": "code",
   "execution_count": 0,
   "metadata": {
    "colab": {
     "base_uri": "https://localhost:8080/",
     "height": 54
    },
    "colab_type": "code",
    "id": "j_5TIySNeB-w",
    "outputId": "1987618c-852d-463b-c97d-b2f81b458165"
   },
   "outputs": [
    {
     "name": "stdout",
     "output_type": "stream",
     "text": [
      "[0, 1, 2, 3, 4, 5, 6, 7, 8, 9]\n",
      "<map object at 0x7f89296ed908> [0, 1, 4, 9, 16, 25, 36, 49, 64, 81]\n"
     ]
    }
   ],
   "source": [
    "lista=range(10)\n",
    "print(list(lista))\n",
    "cuadrados=map(lambda x:x**2,lista)\n",
    "print(cuadrados,list(cuadrados))"
   ]
  },
  {
   "cell_type": "code",
   "execution_count": 0,
   "metadata": {
    "colab": {
     "base_uri": "https://localhost:8080/",
     "height": 54
    },
    "colab_type": "code",
    "id": "ADNQqI6zeRYB",
    "outputId": "0ae4ca17-5dc3-44ea-d3ec-97cb420cf830"
   },
   "outputs": [
    {
     "name": "stdout",
     "output_type": "stream",
     "text": [
      "[0, 1, 2, 3, 4, 5, 6, 7, 8, 9]\n",
      "<filter object at 0x7f89296d99e8> [0, 1, 2, 3, 4]\n"
     ]
    }
   ],
   "source": [
    "lista=range(10)\n",
    "print(list(lista))\n",
    "filtro=filter(lambda x: x<5,lista)\n",
    "print(filtro,list(filtro))"
   ]
  },
  {
   "cell_type": "code",
   "execution_count": 0,
   "metadata": {
    "colab": {
     "base_uri": "https://localhost:8080/",
     "height": 54
    },
    "colab_type": "code",
    "id": "wnw4jQDlemKI",
    "outputId": "2a7ea10e-b975-4b5b-9724-f136042262aa"
   },
   "outputs": [
    {
     "name": "stdout",
     "output_type": "stream",
     "text": [
      "[1, 2, 3, 4, 5, 6, 7, 8, 9]\n",
      "362880\n"
     ]
    }
   ],
   "source": [
    "from functools import reduce\n",
    "lista=range(1,10)\n",
    "print(list(lista))\n",
    "suma=reduce(lambda x,y: x*y,lista)\n",
    "print(suma)"
   ]
  },
  {
   "cell_type": "code",
   "execution_count": 0,
   "metadata": {
    "colab": {},
    "colab_type": "code",
    "id": "sBFeNoL4dnrW"
   },
   "outputs": [],
   "source": [
    "reduce?"
   ]
  },
  {
   "cell_type": "code",
   "execution_count": 0,
   "metadata": {
    "colab": {
     "base_uri": "https://localhost:8080/",
     "height": 35
    },
    "colab_type": "code",
    "id": "fmJ_mUEGdADt",
    "outputId": "72abbc38-5119-48ee-dc4b-a17d63100787"
   },
   "outputs": [
    {
     "data": {
      "text/plain": [
       "45"
      ]
     },
     "execution_count": 82,
     "metadata": {
      "tags": []
     },
     "output_type": "execute_result"
    }
   ],
   "source": [
    "sum(lista)"
   ]
  },
  {
   "cell_type": "markdown",
   "metadata": {
    "colab_type": "text",
    "id": "zpzmpy9pcbXi"
   },
   "source": [
    "# PIP"
   ]
  },
  {
   "cell_type": "code",
   "execution_count": 0,
   "metadata": {
    "colab": {
     "base_uri": "https://localhost:8080/",
     "height": 348
    },
    "colab_type": "code",
    "id": "NsK5uC3EcWzk",
    "outputId": "6ec47d8e-5e24-47db-ae0a-f7720de2b7b2"
   },
   "outputs": [
    {
     "name": "stdout",
     "output_type": "stream",
     "text": [
      "--2019-08-27 19:00:48--  https://bootstrap.pypa.io/get-pip.py\n",
      "Resolving bootstrap.pypa.io (bootstrap.pypa.io)... 151.101.0.175, 151.101.64.175, 151.101.128.175, ...\n",
      "Connecting to bootstrap.pypa.io (bootstrap.pypa.io)|151.101.0.175|:443... connected.\n",
      "HTTP request sent, awaiting response... 200 OK\n",
      "Length: 1775417 (1.7M) [text/x-python]\n",
      "Saving to: ‘get-pip.py.1’\n",
      "\n",
      "\r",
      "get-pip.py.1          0%[                    ]       0  --.-KB/s               \r",
      "get-pip.py.1        100%[===================>]   1.69M  --.-KB/s    in 0.09s   \n",
      "\n",
      "2019-08-27 19:00:48 (19.7 MB/s) - ‘get-pip.py.1’ saved [1775417/1775417]\n",
      "\n",
      "Collecting pip\n",
      "  Using cached https://files.pythonhosted.org/packages/30/db/9e38760b32e3e7f40cce46dd5fb107b8c73840df38f0046d8e6514e675a1/pip-19.2.3-py2.py3-none-any.whl\n",
      "Installing collected packages: pip\n",
      "  Found existing installation: pip 19.2.3\n",
      "    Uninstalling pip-19.2.3:\n",
      "      Successfully uninstalled pip-19.2.3\n",
      "Successfully installed pip-19.2.3\n"
     ]
    }
   ],
   "source": [
    "!wget https://bootstrap.pypa.io/get-pip.py && python3 get-pip.py --user"
   ]
  },
  {
   "cell_type": "markdown",
   "metadata": {
    "colab_type": "text",
    "id": "IBDBKjRj-mne"
   },
   "source": [
    "# Ambiente Virtual"
   ]
  },
  {
   "cell_type": "code",
   "execution_count": 0,
   "metadata": {
    "colab": {
     "base_uri": "https://localhost:8080/",
     "height": 35
    },
    "colab_type": "code",
    "id": "aX5vkm4m-d4I",
    "outputId": "9e16e2de-0cc1-486b-884a-15c829041545"
   },
   "outputs": [
    {
     "name": "stdout",
     "output_type": "stream",
     "text": [
      "Requirement already satisfied: virtualenv in /root/.local/lib/python3.6/site-packages (16.7.4)\n"
     ]
    }
   ],
   "source": [
    "!pip3 install --user virtualenv"
   ]
  },
  {
   "cell_type": "code",
   "execution_count": 0,
   "metadata": {
    "colab": {
     "base_uri": "https://localhost:8080/",
     "height": 35
    },
    "colab_type": "code",
    "id": "-Oraps-S793s",
    "outputId": "e46fcf52-8f3e-449a-abbf-7ac5591aa690"
   },
   "outputs": [
    {
     "name": "stdout",
     "output_type": "stream",
     "text": [
      "/bin/bash: virtualenv: command not found\n"
     ]
    }
   ],
   "source": [
    "!virtualenv nombreambiente"
   ]
  },
  {
   "cell_type": "code",
   "execution_count": 0,
   "metadata": {
    "colab": {
     "base_uri": "https://localhost:8080/",
     "height": 35
    },
    "colab_type": "code",
    "id": "Cx_iQACcc127",
    "outputId": "31c3b99e-397a-42fc-d899-121df8e5a684"
   },
   "outputs": [
    {
     "name": "stdout",
     "output_type": "stream",
     "text": [
      "/bin/bash: nombreambiente/bin/activate: No such file or directory\n"
     ]
    }
   ],
   "source": [
    "!source nombreambiente/bin/activate"
   ]
  },
  {
   "cell_type": "code",
   "execution_count": 0,
   "metadata": {
    "colab": {
     "base_uri": "https://localhost:8080/",
     "height": 35
    },
    "colab_type": "code",
    "id": "pMUDG1gt8DUI",
    "outputId": "9e520e10-5f80-40b3-de15-f392db3764df"
   },
   "outputs": [
    {
     "name": "stdout",
     "output_type": "stream",
     "text": [
      "/bin/bash: nombreambiente/bin/activate: No such file or directory\n"
     ]
    }
   ],
   "source": [
    "!. nombreambiente/bin/activate"
   ]
  },
  {
   "cell_type": "code",
   "execution_count": 0,
   "metadata": {
    "colab": {
     "base_uri": "https://localhost:8080/",
     "height": 366
    },
    "colab_type": "code",
    "id": "HN7hCHIW8HLh",
    "outputId": "b10f4f1b-4cbf-472a-ab4f-d7108b6b0c6c"
   },
   "outputs": [
    {
     "name": "stdout",
     "output_type": "stream",
     "text": [
      "Requirement already satisfied: ipykernel in /usr/local/lib/python3.6/dist-packages (4.6.1)\n",
      "Requirement already satisfied: traitlets>=4.1.0 in /usr/local/lib/python3.6/dist-packages (from ipykernel) (4.3.2)\n",
      "Requirement already satisfied: tornado>=4.0 in /usr/local/lib/python3.6/dist-packages (from ipykernel) (4.5.3)\n",
      "Requirement already satisfied: ipython>=4.0.0 in /usr/local/lib/python3.6/dist-packages (from ipykernel) (5.5.0)\n",
      "Requirement already satisfied: jupyter-client in /usr/local/lib/python3.6/dist-packages (from ipykernel) (5.3.1)\n",
      "Requirement already satisfied: decorator in /usr/local/lib/python3.6/dist-packages (from traitlets>=4.1.0->ipykernel) (4.4.0)\n",
      "Requirement already satisfied: six in /usr/local/lib/python3.6/dist-packages (from traitlets>=4.1.0->ipykernel) (1.12.0)\n",
      "Requirement already satisfied: ipython-genutils in /usr/local/lib/python3.6/dist-packages (from traitlets>=4.1.0->ipykernel) (0.2.0)\n",
      "Requirement already satisfied: prompt-toolkit<2.0.0,>=1.0.4 in /usr/local/lib/python3.6/dist-packages (from ipython>=4.0.0->ipykernel) (1.0.16)\n",
      "Requirement already satisfied: pexpect; sys_platform != \"win32\" in /usr/local/lib/python3.6/dist-packages (from ipython>=4.0.0->ipykernel) (4.7.0)\n",
      "Requirement already satisfied: setuptools>=18.5 in /usr/local/lib/python3.6/dist-packages (from ipython>=4.0.0->ipykernel) (41.2.0)\n",
      "Requirement already satisfied: pickleshare in /usr/local/lib/python3.6/dist-packages (from ipython>=4.0.0->ipykernel) (0.7.5)\n",
      "Requirement already satisfied: pygments in /usr/local/lib/python3.6/dist-packages (from ipython>=4.0.0->ipykernel) (2.1.3)\n",
      "Requirement already satisfied: simplegeneric>0.8 in /usr/local/lib/python3.6/dist-packages (from ipython>=4.0.0->ipykernel) (0.8.1)\n",
      "Requirement already satisfied: jupyter-core in /usr/local/lib/python3.6/dist-packages (from jupyter-client->ipykernel) (4.5.0)\n",
      "Requirement already satisfied: python-dateutil>=2.1 in /usr/local/lib/python3.6/dist-packages (from jupyter-client->ipykernel) (2.5.3)\n",
      "Requirement already satisfied: pyzmq>=13 in /usr/local/lib/python3.6/dist-packages (from jupyter-client->ipykernel) (17.0.0)\n",
      "Requirement already satisfied: wcwidth in /usr/local/lib/python3.6/dist-packages (from prompt-toolkit<2.0.0,>=1.0.4->ipython>=4.0.0->ipykernel) (0.1.7)\n",
      "Requirement already satisfied: ptyprocess>=0.5 in /usr/local/lib/python3.6/dist-packages (from pexpect; sys_platform != \"win32\"->ipython>=4.0.0->ipykernel) (0.6.0)\n"
     ]
    }
   ],
   "source": [
    "!pip3 install --user ipykernel"
   ]
  },
  {
   "cell_type": "code",
   "execution_count": 0,
   "metadata": {
    "colab": {
     "base_uri": "https://localhost:8080/",
     "height": 35
    },
    "colab_type": "code",
    "id": "OLWf93GD8ma5",
    "outputId": "f5b75ea0-6c11-42d7-8b41-4d76e227c3ce"
   },
   "outputs": [
    {
     "name": "stdout",
     "output_type": "stream",
     "text": [
      "Installed kernelspec nombreambiente in /root/.local/share/jupyter/kernels/nombreambiente\n"
     ]
    }
   ],
   "source": [
    "!python3 -m ipykernel install --user --name=nombreambiente"
   ]
  },
  {
   "cell_type": "markdown",
   "metadata": {
    "colab_type": "text",
    "id": "PN6kzaehdFUw"
   },
   "source": [
    "# Numpy"
   ]
  },
  {
   "cell_type": "code",
   "execution_count": 0,
   "metadata": {
    "colab": {
     "base_uri": "https://localhost:8080/",
     "height": 35
    },
    "colab_type": "code",
    "id": "sPfLODNOdLkq",
    "outputId": "4aade693-6e9d-4993-b116-331339399538"
   },
   "outputs": [
    {
     "name": "stdout",
     "output_type": "stream",
     "text": [
      "Requirement already satisfied: numpy in /usr/local/lib/python3.6/dist-packages (1.16.4)\n"
     ]
    }
   ],
   "source": [
    "!pip3 install --user numpy"
   ]
  },
  {
   "cell_type": "code",
   "execution_count": 1,
   "metadata": {
    "colab": {
     "base_uri": "https://localhost:8080/",
     "height": 35
    },
    "colab_type": "code",
    "id": "Ec6OhgykdP0u",
    "outputId": "f64aff4b-b5d2-4a09-b89b-82682589a27c"
   },
   "outputs": [
    {
     "data": {
      "text/plain": [
       "'1.16.4'"
      ]
     },
     "execution_count": 1,
     "metadata": {},
     "output_type": "execute_result"
    }
   ],
   "source": [
    "import numpy as np\n",
    "np.__version__"
   ]
  },
  {
   "cell_type": "code",
   "execution_count": 2,
   "metadata": {},
   "outputs": [
    {
     "data": {
      "text/plain": [
       "'1.14.0'"
      ]
     },
     "execution_count": 2,
     "metadata": {},
     "output_type": "execute_result"
    }
   ],
   "source": [
    "import tensorflow as tf \n",
    "tf.__version__"
   ]
  },
  {
   "cell_type": "code",
   "execution_count": 0,
   "metadata": {
    "colab": {
     "base_uri": "https://localhost:8080/",
     "height": 54
    },
    "colab_type": "code",
    "id": "FXQJwb0WdVXi",
    "outputId": "78a1552f-9693-4908-d382-62462bc995ce"
   },
   "outputs": [
    {
     "name": "stdout",
     "output_type": "stream",
     "text": [
      "[1, 2, 3, 4] <class 'list'>\n",
      "[1 2 3 4] <class 'numpy.ndarray'>\n"
     ]
    }
   ],
   "source": [
    "lista1=[1,2,3,4]\n",
    "arnp1=np.array(lista1)\n",
    "print(lista1,type(lista1))\n",
    "print(arnp1,type(arnp1))"
   ]
  },
  {
   "cell_type": "code",
   "execution_count": 0,
   "metadata": {
    "colab": {
     "base_uri": "https://localhost:8080/",
     "height": 54
    },
    "colab_type": "code",
    "id": "XUvFZNzwiPGI",
    "outputId": "d4d3e664-497a-4b87-cfc8-757086a02a4a"
   },
   "outputs": [
    {
     "name": "stdout",
     "output_type": "stream",
     "text": [
      "[0 1 2 3 4 5 6 7 8 9]\n"
     ]
    },
    {
     "data": {
      "text/plain": [
       "array([0, 1, 2, 3, 4, 5, 6, 7, 8, 9])"
      ]
     },
     "execution_count": 117,
     "metadata": {
      "tags": []
     },
     "output_type": "execute_result"
    }
   ],
   "source": [
    "arnp1=np.arange(0,10)\n",
    "print(arnp1)\n",
    "arnp1"
   ]
  },
  {
   "cell_type": "markdown",
   "metadata": {
    "colab_type": "text",
    "id": "n_1YvWdjgt0q"
   },
   "source": [
    "## Filtrar"
   ]
  },
  {
   "cell_type": "code",
   "execution_count": 0,
   "metadata": {
    "colab": {},
    "colab_type": "code",
    "id": "50oZ9jhSorpw"
   },
   "outputs": [],
   "source": []
  },
  {
   "cell_type": "code",
   "execution_count": 0,
   "metadata": {
    "colab": {
     "base_uri": "https://localhost:8080/",
     "height": 72
    },
    "colab_type": "code",
    "id": "iTk2jguMfHk_",
    "outputId": "2abe25e1-b7d2-4138-abf0-3d3592f7388d"
   },
   "outputs": [
    {
     "name": "stdout",
     "output_type": "stream",
     "text": [
      "[0 1 2 3 4 5 6 7 8 9]\n",
      "[ True  True  True False False False False False False False]\n",
      "[1 3 5 7 9]\n"
     ]
    }
   ],
   "source": [
    "print(arnp1)\n",
    "print(arnp1<3)\n",
    "print(arnp1[arnp1%2!=0])"
   ]
  },
  {
   "cell_type": "code",
   "execution_count": 0,
   "metadata": {
    "colab": {
     "base_uri": "https://localhost:8080/",
     "height": 90
    },
    "colab_type": "code",
    "id": "Ky-dcHaio2se",
    "outputId": "4fbefb0b-9062-492d-cfa5-bae0fae89b34"
   },
   "outputs": [
    {
     "data": {
      "text/plain": [
       "array([[ 0,  1,  2],\n",
       "       [ 6,  7,  8],\n",
       "       [12, 13, 14],\n",
       "       [18, 19, 20]])"
      ]
     },
     "execution_count": 232,
     "metadata": {
      "tags": []
     },
     "output_type": "execute_result"
    }
   ],
   "source": [
    "arr2.shape=7,3\n",
    "arr2[arr2[:,-1]%2==0]"
   ]
  },
  {
   "cell_type": "markdown",
   "metadata": {
    "colab_type": "text",
    "id": "16EkRdrFgycT"
   },
   "source": [
    "## Indexing y Shape"
   ]
  },
  {
   "cell_type": "code",
   "execution_count": 0,
   "metadata": {
    "colab": {
     "base_uri": "https://localhost:8080/",
     "height": 54
    },
    "colab_type": "code",
    "id": "zLHbcT8ggz1_",
    "outputId": "906c122a-da5d-4d27-a2ca-dc0b81057f30"
   },
   "outputs": [
    {
     "name": "stdout",
     "output_type": "stream",
     "text": [
      "(21,) 1 21 int64\n",
      "[ 0  1  2  3  4  5  6  7  8  9 10 11 12 13 14 15 16 17 18 19 20]\n"
     ]
    }
   ],
   "source": [
    "arr1=np.arange(21)\n",
    "print(arr1.shape,arr1.ndim,arr1.size,arr1.dtype)\n",
    "print(arr1)"
   ]
  },
  {
   "cell_type": "code",
   "execution_count": 0,
   "metadata": {
    "colab": {
     "base_uri": "https://localhost:8080/",
     "height": 146
    },
    "colab_type": "code",
    "id": "6Ptt5jvLhZTX",
    "outputId": "88801f49-a163-47d5-f40d-14478e97556e"
   },
   "outputs": [
    {
     "data": {
      "text/plain": [
       "array([[ 0,  1,  2],\n",
       "       [ 3,  4,  5],\n",
       "       [ 6,  7,  8],\n",
       "       [ 9, 10, 11],\n",
       "       [12, 13, 14],\n",
       "       [15, 16, 17],\n",
       "       [18, 19, 20]])"
      ]
     },
     "execution_count": 131,
     "metadata": {
      "tags": []
     },
     "output_type": "execute_result"
    }
   ],
   "source": [
    "arr2"
   ]
  },
  {
   "cell_type": "code",
   "execution_count": 0,
   "metadata": {
    "colab": {
     "base_uri": "https://localhost:8080/",
     "height": 146
    },
    "colab_type": "code",
    "id": "ThrF4w3YhGdf",
    "outputId": "4d1070e3-db1d-493e-965f-f91c7d246c90"
   },
   "outputs": [
    {
     "data": {
      "text/plain": [
       "array([[ 0,  1,  2,  0,  0],\n",
       "       [ 3,  4,  5,  0,  1],\n",
       "       [ 6,  7,  8,  0,  2],\n",
       "       [ 9, 10, 11,  0,  3],\n",
       "       [12, 13, 14,  0,  4],\n",
       "       [15, 16, 17,  0,  5],\n",
       "       [18, 19, 20,  0,  6]])"
      ]
     },
     "execution_count": 133,
     "metadata": {
      "tags": []
     },
     "output_type": "execute_result"
    }
   ],
   "source": [
    "np.c_[arr2,np.array([0]*7).reshape((7,1)),np.arange(7)]"
   ]
  },
  {
   "cell_type": "code",
   "execution_count": 0,
   "metadata": {
    "colab": {
     "base_uri": "https://localhost:8080/",
     "height": 164
    },
    "colab_type": "code",
    "id": "qBJLGdyRh7dl",
    "outputId": "359e7c77-98ca-4f7d-b436-9ffde50b205f"
   },
   "outputs": [
    {
     "data": {
      "text/plain": [
       "array([[ 0,  1,  2],\n",
       "       [ 3,  4,  5],\n",
       "       [ 6,  7,  8],\n",
       "       [ 9, 10, 11],\n",
       "       [12, 13, 14],\n",
       "       [15, 16, 17],\n",
       "       [18, 19, 20],\n",
       "       [ 0,  1,  2]])"
      ]
     },
     "execution_count": 136,
     "metadata": {
      "tags": []
     },
     "output_type": "execute_result"
    }
   ],
   "source": [
    "np.r_[arr2,np.arange(3).reshape((1,3))]"
   ]
  },
  {
   "cell_type": "code",
   "execution_count": 0,
   "metadata": {
    "colab": {
     "base_uri": "https://localhost:8080/",
     "height": 164
    },
    "colab_type": "code",
    "id": "irqwY4wkg3aq",
    "outputId": "5c4a99c8-8fb4-457f-acd6-6aac16620d46"
   },
   "outputs": [
    {
     "name": "stdout",
     "output_type": "stream",
     "text": [
      "(7, 3) 2 21 int64\n",
      "[[ 0  1  2]\n",
      " [ 3  4  5]\n",
      " [ 6  7  8]\n",
      " [ 9 10 11]\n",
      " [12 13 14]\n",
      " [15 16 17]\n",
      " [18 19 20]]\n"
     ]
    }
   ],
   "source": [
    "arr2=arr1.reshape((7,3))\n",
    "print(arr2.shape,arr2.ndim,arr2.size,arr2.dtype)\n",
    "print(arr2)"
   ]
  },
  {
   "cell_type": "code",
   "execution_count": 0,
   "metadata": {
    "colab": {
     "base_uri": "https://localhost:8080/",
     "height": 90
    },
    "colab_type": "code",
    "id": "IeScP5u9qsUL",
    "outputId": "f528cc00-158f-4312-909f-d018fc414d19"
   },
   "outputs": [
    {
     "name": "stdout",
     "output_type": "stream",
     "text": [
      "(3, 7) 2 21 int64\n",
      "[[ 0  1  2  3  4  5  6]\n",
      " [ 7  8  9 10 11 12 13]\n",
      " [14 15 16 17 18 19 20]]\n"
     ]
    }
   ],
   "source": [
    "arr2.shape=3,7\n",
    "print(arr2.shape,arr2.ndim,arr2.size,arr2.dtype)\n",
    "print(arr2)"
   ]
  },
  {
   "cell_type": "code",
   "execution_count": 0,
   "metadata": {
    "colab": {
     "base_uri": "https://localhost:8080/",
     "height": 90
    },
    "colab_type": "code",
    "id": "Ur0zLrvUhOYz",
    "outputId": "0d19014d-7077-4001-b2b4-0d0590a24c17"
   },
   "outputs": [
    {
     "name": "stdout",
     "output_type": "stream",
     "text": [
      "(3, 7)\n",
      "[[ 0  1  2  3  4  5  6]\n",
      " [ 7  8  9 10 11 12 13]\n",
      " [14 15 16 17 18 19 20]]\n"
     ]
    }
   ],
   "source": [
    "arr2=arr1.reshape((3,-1))\n",
    "print(arr2.shape)\n",
    "print(arr2)"
   ]
  },
  {
   "cell_type": "code",
   "execution_count": 0,
   "metadata": {
    "colab": {
     "base_uri": "https://localhost:8080/",
     "height": 54
    },
    "colab_type": "code",
    "id": "k0djgTLXoYp1",
    "outputId": "3aba8d13-f5df-4b6d-cde9-28761dea0242"
   },
   "outputs": [
    {
     "data": {
      "text/plain": [
       "array([[ 0,  1,  2,  3,  4,  5,  6],\n",
       "       [ 7,  8,  9, 10, 11, 12, 13]])"
      ]
     },
     "execution_count": 151,
     "metadata": {
      "tags": []
     },
     "output_type": "execute_result"
    }
   ],
   "source": [
    "arr2[0:2]"
   ]
  },
  {
   "cell_type": "code",
   "execution_count": 0,
   "metadata": {
    "colab": {
     "base_uri": "https://localhost:8080/",
     "height": 54
    },
    "colab_type": "code",
    "id": "NbyMsTAepB9z",
    "outputId": "bea216a8-1dea-4155-e72d-47694fc947b5"
   },
   "outputs": [
    {
     "data": {
      "text/plain": [
       "array([[1, 2],\n",
       "       [8, 9]])"
      ]
     },
     "execution_count": 152,
     "metadata": {
      "tags": []
     },
     "output_type": "execute_result"
    }
   ],
   "source": [
    "arr2[0:2,1:3]"
   ]
  },
  {
   "cell_type": "code",
   "execution_count": 0,
   "metadata": {
    "colab": {
     "base_uri": "https://localhost:8080/",
     "height": 146
    },
    "colab_type": "code",
    "id": "7LMdQIYrpANR",
    "outputId": "bfde6b51-d4fe-4608-b0cd-6d2fb209f317"
   },
   "outputs": [
    {
     "data": {
      "text/plain": [
       "array([[ 0,  7, 14],\n",
       "       [ 1,  8, 15],\n",
       "       [ 2,  9, 16],\n",
       "       [ 3, 10, 17],\n",
       "       [ 4, 11, 18],\n",
       "       [ 5, 12, 19],\n",
       "       [ 6, 13, 20]])"
      ]
     },
     "execution_count": 153,
     "metadata": {
      "tags": []
     },
     "output_type": "execute_result"
    }
   ],
   "source": [
    "arr2.T"
   ]
  },
  {
   "cell_type": "markdown",
   "metadata": {
    "colab_type": "text",
    "id": "jIb8cysPhiQj"
   },
   "source": [
    "## Zeros, Ones, Eye, Random"
   ]
  },
  {
   "cell_type": "code",
   "execution_count": 0,
   "metadata": {
    "colab": {
     "base_uri": "https://localhost:8080/",
     "height": 35
    },
    "colab_type": "code",
    "id": "q8jhIvchjCiT",
    "outputId": "32a2e5fe-5943-42cc-b17e-8e1d70b3eaf3"
   },
   "outputs": [
    {
     "name": "stdout",
     "output_type": "stream",
     "text": [
      "[1 2 3 1 2 3 1 2 3 1 2 3 1 2 3 1 2 3 1 2 3 1 2 3 1 2 3 1 2 3] <class 'numpy.ndarray'>\n"
     ]
    }
   ],
   "source": [
    "x=[1,2,3]*10\n",
    "print(np.array(x),type(np.array(x)))"
   ]
  },
  {
   "cell_type": "code",
   "execution_count": 0,
   "metadata": {
    "colab": {
     "base_uri": "https://localhost:8080/",
     "height": 72
    },
    "colab_type": "code",
    "id": "BcRSahbChhr4",
    "outputId": "2593b7b1-5a6d-4d39-f8d9-2a786c86cdf8"
   },
   "outputs": [
    {
     "data": {
      "text/plain": [
       "array([[0., 0., 0., 0., 0., 0., 0., 0., 0.],\n",
       "       [0., 0., 0., 0., 0., 0., 0., 0., 0.],\n",
       "       [0., 0., 0., 0., 0., 0., 0., 0., 0.]])"
      ]
     },
     "execution_count": 166,
     "metadata": {
      "tags": []
     },
     "output_type": "execute_result"
    }
   ],
   "source": [
    "x=np.zeros((3,9))\n",
    "x"
   ]
  },
  {
   "cell_type": "code",
   "execution_count": 0,
   "metadata": {
    "colab": {
     "base_uri": "https://localhost:8080/",
     "height": 109
    },
    "colab_type": "code",
    "id": "E1ZUVCRxhp9Y",
    "outputId": "423a0ad7-3399-4bdb-a1d9-964bfa0d0d8a"
   },
   "outputs": [
    {
     "data": {
      "text/plain": [
       "array([[1., 1., 1., 1.],\n",
       "       [1., 1., 1., 1.],\n",
       "       [1., 1., 1., 1.],\n",
       "       [1., 1., 1., 1.],\n",
       "       [1., 1., 1., 1.]])"
      ]
     },
     "execution_count": 177,
     "metadata": {
      "tags": []
     },
     "output_type": "execute_result"
    }
   ],
   "source": [
    "y=np.ones((5,4))\n",
    "y"
   ]
  },
  {
   "cell_type": "code",
   "execution_count": 0,
   "metadata": {
    "colab": {
     "base_uri": "https://localhost:8080/",
     "height": 35
    },
    "colab_type": "code",
    "id": "DMOdplSCjn2w",
    "outputId": "e409539f-3c42-44eb-9542-aa0fce7d9a2b"
   },
   "outputs": [
    {
     "data": {
      "text/plain": [
       "(3, 9)"
      ]
     },
     "execution_count": 172,
     "metadata": {
      "tags": []
     },
     "output_type": "execute_result"
    }
   ],
   "source": [
    "x.shape"
   ]
  },
  {
   "cell_type": "code",
   "execution_count": 0,
   "metadata": {
    "colab": {
     "base_uri": "https://localhost:8080/",
     "height": 72
    },
    "colab_type": "code",
    "id": "W-vqoTqUhzwS",
    "outputId": "2cef6769-376b-4238-bc63-44c82be06d24"
   },
   "outputs": [
    {
     "data": {
      "text/plain": [
       "array([[1., 1., 1., 1., 1., 1., 1., 1., 1.],\n",
       "       [1., 1., 1., 1., 1., 1., 1., 1., 1.],\n",
       "       [1., 1., 1., 1., 1., 1., 1., 1., 1.]])"
      ]
     },
     "execution_count": 173,
     "metadata": {
      "tags": []
     },
     "output_type": "execute_result"
    }
   ],
   "source": [
    "np.ones_like(x)"
   ]
  },
  {
   "cell_type": "code",
   "execution_count": 0,
   "metadata": {
    "colab": {
     "base_uri": "https://localhost:8080/",
     "height": 72
    },
    "colab_type": "code",
    "id": "CfXCVjNTh2Yq",
    "outputId": "2cfa734b-71e3-4b72-ac2e-53e169b0a9e4"
   },
   "outputs": [
    {
     "data": {
      "text/plain": [
       "array([[0., 0., 0., 0., 0., 0., 0., 0., 0.],\n",
       "       [0., 0., 0., 0., 0., 0., 0., 0., 0.],\n",
       "       [0., 0., 0., 0., 0., 0., 0., 0., 0.]])"
      ]
     },
     "execution_count": 175,
     "metadata": {
      "tags": []
     },
     "output_type": "execute_result"
    }
   ],
   "source": [
    "np.zeros_like(x)"
   ]
  },
  {
   "cell_type": "code",
   "execution_count": 0,
   "metadata": {
    "colab": {},
    "colab_type": "code",
    "id": "0sbW1OThjc0y"
   },
   "outputs": [],
   "source": [
    "np.eye?"
   ]
  },
  {
   "cell_type": "code",
   "execution_count": 0,
   "metadata": {
    "colab": {
     "base_uri": "https://localhost:8080/",
     "height": 182
    },
    "colab_type": "code",
    "id": "WxXzCB4Jh47z",
    "outputId": "3cd4e7b3-fcdb-4c96-f89c-519feb6f96c8"
   },
   "outputs": [
    {
     "data": {
      "text/plain": [
       "array([[1., 0., 0., 0., 0., 0., 0., 0., 0.],\n",
       "       [0., 1., 0., 0., 0., 0., 0., 0., 0.],\n",
       "       [0., 0., 1., 0., 0., 0., 0., 0., 0.],\n",
       "       [0., 0., 0., 1., 0., 0., 0., 0., 0.],\n",
       "       [0., 0., 0., 0., 1., 0., 0., 0., 0.],\n",
       "       [0., 0., 0., 0., 0., 1., 0., 0., 0.],\n",
       "       [0., 0., 0., 0., 0., 0., 1., 0., 0.],\n",
       "       [0., 0., 0., 0., 0., 0., 0., 1., 0.],\n",
       "       [0., 0., 0., 0., 0., 0., 0., 0., 1.]])"
      ]
     },
     "execution_count": 169,
     "metadata": {
      "tags": []
     },
     "output_type": "execute_result"
    }
   ],
   "source": [
    "np.eye(9)"
   ]
  },
  {
   "cell_type": "code",
   "execution_count": 0,
   "metadata": {
    "colab": {
     "base_uri": "https://localhost:8080/",
     "height": 109
    },
    "colab_type": "code",
    "id": "wWjsL0U0k4ne",
    "outputId": "00691b55-c2fb-4960-99ae-c5b7e69f77d8"
   },
   "outputs": [
    {
     "data": {
      "text/plain": [
       "array([[9.20036839, 6.79365836, 5.88856555, 4.26003341, 3.16743723],\n",
       "       [6.45030381, 9.37478883, 5.63630619, 3.20739715, 8.48001377],\n",
       "       [8.40930392, 6.72061696, 5.58905765, 3.22822617, 6.36028434],\n",
       "       [7.86721383, 7.64187472, 5.24543456, 9.11430749, 6.06338731],\n",
       "       [9.17030073, 3.96363148, 4.88443888, 5.27879434, 4.75273719]])"
      ]
     },
     "execution_count": 199,
     "metadata": {
      "tags": []
     },
     "output_type": "execute_result"
    }
   ],
   "source": [
    "np.random.uniform(3,10,(5,5))"
   ]
  },
  {
   "cell_type": "code",
   "execution_count": 0,
   "metadata": {
    "colab": {
     "base_uri": "https://localhost:8080/",
     "height": 109
    },
    "colab_type": "code",
    "id": "23bYoBd3m48d",
    "outputId": "74fd1f40-ccf3-4022-8388-9cfb25283918"
   },
   "outputs": [
    {
     "data": {
      "text/plain": [
       "array([[0.70044685, 0.96352764, 0.08766139, 0.90447809, 0.16316506],\n",
       "       [0.88847377, 0.68729812, 0.44449137, 0.32248072, 0.58998008],\n",
       "       [0.94059675, 0.76365216, 0.09541182, 0.45077589, 0.27454565],\n",
       "       [0.55375626, 0.0421532 , 0.41921823, 0.55380075, 0.55040509],\n",
       "       [0.81784307, 0.76765327, 0.50965316, 0.12249251, 0.83319404]])"
      ]
     },
     "execution_count": 178,
     "metadata": {
      "tags": []
     },
     "output_type": "execute_result"
    }
   ],
   "source": [
    "np.random.rand(5,5) #Ojo con argumentos"
   ]
  },
  {
   "cell_type": "code",
   "execution_count": 0,
   "metadata": {
    "colab": {
     "base_uri": "https://localhost:8080/",
     "height": 109
    },
    "colab_type": "code",
    "id": "Tc8WPmJ6nrFX",
    "outputId": "63ba3523-cdca-4f1a-917e-160c6c174fa3"
   },
   "outputs": [
    {
     "data": {
      "text/plain": [
       "array([[-0.7210526 , -2.03970665, -1.23859158,  0.19634888,  0.39743677],\n",
       "       [-0.34656078, -1.10143807,  0.16856816,  0.56904935,  1.09688391],\n",
       "       [ 0.81570001, -0.0210451 ,  0.15006862,  1.53079874,  0.49731787],\n",
       "       [-0.67965318, -1.29291069,  0.33779566,  0.37680305, -0.71949349],\n",
       "       [ 1.02844327,  1.28605396,  0.65748117,  0.9137927 ,  0.19426219]])"
      ]
     },
     "execution_count": 179,
     "metadata": {
      "tags": []
     },
     "output_type": "execute_result"
    }
   ],
   "source": [
    "np.random.randn(5,5)"
   ]
  },
  {
   "cell_type": "code",
   "execution_count": 0,
   "metadata": {
    "colab": {
     "base_uri": "https://localhost:8080/",
     "height": 109
    },
    "colab_type": "code",
    "id": "ULd0NKA-kIsw",
    "outputId": "7b0377f6-5e6f-4ee8-f9c5-0bc6a8e2b732"
   },
   "outputs": [
    {
     "data": {
      "text/plain": [
       "array([[-0.95651405, -0.2645284 ,  0.67770096, -0.88083764,  1.22397973],\n",
       "       [-0.98718322,  1.60191849,  0.65775698, -1.46804952,  0.82509725],\n",
       "       [-0.02117869,  1.14174955,  1.7518805 , -0.6007025 , -0.70972966],\n",
       "       [ 2.37060613,  1.58933287,  0.78062832, -1.02245355,  0.38314517],\n",
       "       [ 2.0546414 ,  1.50865961,  0.69598283, -1.24494611,  0.8911436 ]])"
      ]
     },
     "execution_count": 189,
     "metadata": {
      "tags": []
     },
     "output_type": "execute_result"
    }
   ],
   "source": [
    "np.random.normal(0,1,(5,5))"
   ]
  },
  {
   "cell_type": "code",
   "execution_count": 0,
   "metadata": {
    "colab": {
     "base_uri": "https://localhost:8080/",
     "height": 109
    },
    "colab_type": "code",
    "id": "Kok-LGZsncVD",
    "outputId": "0d976a6a-01ca-49e8-d82c-22dccbd3e10d"
   },
   "outputs": [
    {
     "data": {
      "text/plain": [
       "array([[-0.6870794 ,  1.00390041, -0.66346325,  0.47068762, -1.12236686],\n",
       "       [-0.48915187, -1.06017989, -0.3224292 , -0.61037848,  0.08498004],\n",
       "       [-1.30254008,  1.44266215,  0.04376483, -0.07720356, -2.28107927],\n",
       "       [-1.47812788,  1.30929737, -1.21905572,  0.38620258,  1.0308682 ],\n",
       "       [ 1.86824419, -1.61183715,  0.39236235,  0.44394444, -0.40778212]])"
      ]
     },
     "execution_count": 186,
     "metadata": {
      "tags": []
     },
     "output_type": "execute_result"
    }
   ],
   "source": [
    "np.random.normal(0,1,(5,5))"
   ]
  },
  {
   "cell_type": "markdown",
   "metadata": {
    "colab_type": "text",
    "id": "eZrWY_I-iA-V"
   },
   "source": [
    "## Productos"
   ]
  },
  {
   "cell_type": "code",
   "execution_count": 0,
   "metadata": {
    "colab": {
     "base_uri": "https://localhost:8080/",
     "height": 72
    },
    "colab_type": "code",
    "id": "p5ddzNyVdo-z",
    "outputId": "b1144139-bb76-45dd-c3f5-cd1a349118d4"
   },
   "outputs": [
    {
     "name": "stdout",
     "output_type": "stream",
     "text": [
      "[1 2 3 4] [5 6 7 8]\n",
      "[ 6  8 10 12]\n",
      "[ 5 12 21 32]\n"
     ]
    }
   ],
   "source": [
    "lista1=[1,2,3,4]\n",
    "lista2=[5,6,7,8]\n",
    "arnp1=np.array(lista1)\n",
    "arnp2=np.arange(5,9)\n",
    "print(arnp1,arnp2)\n",
    "print(arnp1+arnp2)\n",
    "print(arnp1*arnp2)"
   ]
  },
  {
   "cell_type": "code",
   "execution_count": 0,
   "metadata": {
    "colab": {
     "base_uri": "https://localhost:8080/",
     "height": 35
    },
    "colab_type": "code",
    "id": "_BGlH2gnlW8I",
    "outputId": "21905bc8-74da-4ffe-b677-94cc7c0024f6"
   },
   "outputs": [
    {
     "data": {
      "text/plain": [
       "[1, 2, 3, 4, 5, 6, 7, 8]"
      ]
     },
     "execution_count": 204,
     "metadata": {
      "tags": []
     },
     "output_type": "execute_result"
    }
   ],
   "source": [
    "lista1+lista2"
   ]
  },
  {
   "cell_type": "code",
   "execution_count": 0,
   "metadata": {
    "colab": {
     "base_uri": "https://localhost:8080/",
     "height": 172
    },
    "colab_type": "code",
    "id": "DqgEfB30d7Qa",
    "outputId": "245a63d6-d756-4700-f13e-ff9d1e0c7993"
   },
   "outputs": [
    {
     "ename": "TypeError",
     "evalue": "ignored",
     "output_type": "error",
     "traceback": [
      "\u001b[0;31m---------------------------------------------------------------------------\u001b[0m",
      "\u001b[0;31mTypeError\u001b[0m                                 Traceback (most recent call last)",
      "\u001b[0;32m<ipython-input-205-ba02bf4ed8f1>\u001b[0m in \u001b[0;36m<module>\u001b[0;34m()\u001b[0m\n\u001b[0;32m----> 1\u001b[0;31m \u001b[0mprint\u001b[0m\u001b[0;34m(\u001b[0m\u001b[0mlista1\u001b[0m\u001b[0;34m*\u001b[0m\u001b[0mlista2\u001b[0m\u001b[0;34m)\u001b[0m\u001b[0;34m\u001b[0m\u001b[0;34m\u001b[0m\u001b[0m\n\u001b[0m",
      "\u001b[0;31mTypeError\u001b[0m: can't multiply sequence by non-int of type 'list'"
     ]
    }
   ],
   "source": [
    "print(lista1*lista2)"
   ]
  },
  {
   "cell_type": "code",
   "execution_count": 0,
   "metadata": {
    "colab": {
     "base_uri": "https://localhost:8080/",
     "height": 90
    },
    "colab_type": "code",
    "id": "LfBMgYZJh_0e",
    "outputId": "29a746cf-84a2-4de1-8a27-1627ce59a76b"
   },
   "outputs": [
    {
     "name": "stdout",
     "output_type": "stream",
     "text": [
      "(3, 5) (5, 5)\n"
     ]
    },
    {
     "data": {
      "text/plain": [
       "array([[1., 1., 1., 1., 1.],\n",
       "       [1., 1., 1., 1., 1.],\n",
       "       [1., 1., 1., 1., 1.]])"
      ]
     },
     "execution_count": 208,
     "metadata": {
      "tags": []
     },
     "output_type": "execute_result"
    }
   ],
   "source": [
    "mat1=np.ones((3,5))\n",
    "mat2=np.eye(5)\n",
    "print(mat1.shape,mat2.shape)\n",
    "z=np.dot(mat1,mat2)\n",
    "z"
   ]
  },
  {
   "cell_type": "code",
   "execution_count": 0,
   "metadata": {
    "colab": {
     "base_uri": "https://localhost:8080/",
     "height": 172
    },
    "colab_type": "code",
    "id": "6o9KlIDminI5",
    "outputId": "a64dd44e-e7cd-4f50-b508-4675d626fece"
   },
   "outputs": [
    {
     "ename": "ValueError",
     "evalue": "ignored",
     "output_type": "error",
     "traceback": [
      "\u001b[0;31m---------------------------------------------------------------------------\u001b[0m",
      "\u001b[0;31mValueError\u001b[0m                                Traceback (most recent call last)",
      "\u001b[0;32m<ipython-input-209-ba621b04d938>\u001b[0m in \u001b[0;36m<module>\u001b[0;34m()\u001b[0m\n\u001b[0;32m----> 1\u001b[0;31m \u001b[0mnp\u001b[0m\u001b[0;34m.\u001b[0m\u001b[0mdot\u001b[0m\u001b[0;34m(\u001b[0m\u001b[0mmat2\u001b[0m\u001b[0;34m,\u001b[0m\u001b[0mmat1\u001b[0m\u001b[0;34m)\u001b[0m\u001b[0;34m\u001b[0m\u001b[0;34m\u001b[0m\u001b[0m\n\u001b[0m",
      "\u001b[0;31mValueError\u001b[0m: shapes (5,5) and (3,5) not aligned: 5 (dim 1) != 3 (dim 0)"
     ]
    }
   ],
   "source": [
    "np.dot(mat2,mat1)"
   ]
  },
  {
   "cell_type": "markdown",
   "metadata": {
    "colab_type": "text",
    "id": "Q-ca4UFmiy35"
   },
   "source": [
    "## Reduce"
   ]
  },
  {
   "cell_type": "code",
   "execution_count": 0,
   "metadata": {
    "colab": {
     "base_uri": "https://localhost:8080/",
     "height": 72
    },
    "colab_type": "code",
    "id": "YHFPs1SEi2mA",
    "outputId": "2516e16c-bb60-4b54-c606-8b98d96037b2"
   },
   "outputs": [
    {
     "data": {
      "text/plain": [
       "array([[ 0,  1,  2,  3],\n",
       "       [ 4,  5,  6,  7],\n",
       "       [ 8,  9, 10, 11]])"
      ]
     },
     "execution_count": 210,
     "metadata": {
      "tags": []
     },
     "output_type": "execute_result"
    }
   ],
   "source": [
    "x=np.arange(12)\n",
    "x=x.reshape((3,4))\n",
    "x"
   ]
  },
  {
   "cell_type": "code",
   "execution_count": 0,
   "metadata": {
    "colab": {
     "base_uri": "https://localhost:8080/",
     "height": 109
    },
    "colab_type": "code",
    "id": "juNh-w7bjAra",
    "outputId": "2ab3c0e4-93aa-4b9b-c93f-a972732c2d13"
   },
   "outputs": [
    {
     "name": "stdout",
     "output_type": "stream",
     "text": [
      "66\n",
      "5.5\n",
      "3.452052529534663\n",
      "11\n",
      "0\n"
     ]
    }
   ],
   "source": [
    "print(x.sum())\n",
    "print(x.mean())\n",
    "print(x.std())\n",
    "print(x.max())\n",
    "print(x.min())"
   ]
  },
  {
   "cell_type": "code",
   "execution_count": 0,
   "metadata": {
    "colab": {
     "base_uri": "https://localhost:8080/",
     "height": 35
    },
    "colab_type": "code",
    "id": "8krRJg6ojFyk",
    "outputId": "bd913910-2562-4667-f72c-38f1efba5476"
   },
   "outputs": [
    {
     "name": "stdout",
     "output_type": "stream",
     "text": [
      "[12 15 18 21]\n"
     ]
    }
   ],
   "source": [
    "print(np.sum(x,axis=0))"
   ]
  },
  {
   "cell_type": "code",
   "execution_count": 0,
   "metadata": {
    "colab": {
     "base_uri": "https://localhost:8080/",
     "height": 35
    },
    "colab_type": "code",
    "id": "gx8UTl9ZjLXh",
    "outputId": "26714255-ba65-45ab-e232-1fe0fbcb15a7"
   },
   "outputs": [
    {
     "name": "stdout",
     "output_type": "stream",
     "text": [
      "[ 6 22 38]\n"
     ]
    }
   ],
   "source": [
    "print(x.sum(axis=1))"
   ]
  },
  {
   "cell_type": "markdown",
   "metadata": {
    "colab_type": "text",
    "id": "ytvobpimjlYL"
   },
   "source": [
    "## Broadcasting"
   ]
  },
  {
   "cell_type": "code",
   "execution_count": 0,
   "metadata": {
    "colab": {
     "base_uri": "https://localhost:8080/",
     "height": 282
    },
    "colab_type": "code",
    "id": "9h3GW91ukPEI",
    "outputId": "00c3c3e6-449a-461b-93de-58de513201d0"
   },
   "outputs": [
    {
     "name": "stdout",
     "output_type": "stream",
     "text": [
      "[[ 0  1  2  3]\n",
      " [ 4  5  6  7]\n",
      " [ 8  9 10 11]]\n",
      "[0 1 2]\n"
     ]
    },
    {
     "ename": "ValueError",
     "evalue": "ignored",
     "output_type": "error",
     "traceback": [
      "\u001b[0;31m---------------------------------------------------------------------------\u001b[0m",
      "\u001b[0;31mValueError\u001b[0m                                Traceback (most recent call last)",
      "\u001b[0;32m<ipython-input-221-7095d52aeded>\u001b[0m in \u001b[0;36m<module>\u001b[0;34m()\u001b[0m\n\u001b[1;32m      3\u001b[0m \u001b[0mprint\u001b[0m\u001b[0;34m(\u001b[0m\u001b[0mx\u001b[0m\u001b[0;34m)\u001b[0m\u001b[0;34m\u001b[0m\u001b[0;34m\u001b[0m\u001b[0m\n\u001b[1;32m      4\u001b[0m \u001b[0mprint\u001b[0m\u001b[0;34m(\u001b[0m\u001b[0my\u001b[0m\u001b[0;34m)\u001b[0m\u001b[0;34m\u001b[0m\u001b[0;34m\u001b[0m\u001b[0m\n\u001b[0;32m----> 5\u001b[0;31m \u001b[0mx\u001b[0m\u001b[0;34m*\u001b[0m\u001b[0my\u001b[0m\u001b[0;34m\u001b[0m\u001b[0;34m\u001b[0m\u001b[0m\n\u001b[0m",
      "\u001b[0;31mValueError\u001b[0m: operands could not be broadcast together with shapes (3,4) (3,) "
     ]
    }
   ],
   "source": [
    "x=np.arange(12).reshape((3,4))\n",
    "y=np.arange(3)\n",
    "print(x)\n",
    "print(y)\n",
    "x*y"
   ]
  },
  {
   "cell_type": "code",
   "execution_count": 0,
   "metadata": {
    "colab": {
     "base_uri": "https://localhost:8080/",
     "height": 182
    },
    "colab_type": "code",
    "id": "za_mq3Ikjk5v",
    "outputId": "c7f15dc2-7919-494e-cb87-1abed3e8eb06"
   },
   "outputs": [
    {
     "name": "stdout",
     "output_type": "stream",
     "text": [
      "[[ 0  1  2  3]\n",
      " [ 4  5  6  7]\n",
      " [ 8  9 10 11]]\n",
      "[[0]\n",
      " [1]\n",
      " [2]]\n"
     ]
    },
    {
     "data": {
      "text/plain": [
       "array([[ 0,  0,  0,  0],\n",
       "       [ 4,  5,  6,  7],\n",
       "       [16, 18, 20, 22]])"
      ]
     },
     "execution_count": 222,
     "metadata": {
      "tags": []
     },
     "output_type": "execute_result"
    }
   ],
   "source": [
    "x=np.arange(12).reshape((3,4))\n",
    "y=np.arange(3).reshape((3,1))\n",
    "print(x)\n",
    "print(y)\n",
    "x*y"
   ]
  },
  {
   "cell_type": "code",
   "execution_count": 0,
   "metadata": {
    "colab": {
     "base_uri": "https://localhost:8080/",
     "height": 256
    },
    "colab_type": "code",
    "id": "lbChYpd8kIhh",
    "outputId": "c6c22902-da17-4786-dc7d-d27c4410edd0"
   },
   "outputs": [
    {
     "name": "stdout",
     "output_type": "stream",
     "text": [
      "[[ 0  1  2  3]\n",
      " [ 4  5  6  7]\n",
      " [ 8  9 10 11]\n",
      " [12 13 14 15]\n",
      " [16 17 18 19]\n",
      " [20 21 22 23]]\n",
      "[[0 1 2 3]]\n"
     ]
    },
    {
     "data": {
      "text/plain": [
       "array([[ 0,  1,  4,  9],\n",
       "       [ 0,  5, 12, 21],\n",
       "       [ 0,  9, 20, 33],\n",
       "       [ 0, 13, 28, 45],\n",
       "       [ 0, 17, 36, 57],\n",
       "       [ 0, 21, 44, 69]])"
      ]
     },
     "execution_count": 228,
     "metadata": {
      "tags": []
     },
     "output_type": "execute_result"
    }
   ],
   "source": [
    "x=np.arange(24).reshape((6,4))\n",
    "y=np.arange(4).reshape((1,4))\n",
    "print(x)\n",
    "print(y)\n",
    "x*y"
   ]
  },
  {
   "cell_type": "markdown",
   "metadata": {
    "colab_type": "text",
    "id": "9sNHOKV6lF3U"
   },
   "source": [
    "# Pandas"
   ]
  },
  {
   "cell_type": "markdown",
   "metadata": {
    "colab_type": "text",
    "id": "PWToetmd_jzM"
   },
   "source": [
    "## Imports"
   ]
  },
  {
   "cell_type": "code",
   "execution_count": 3,
   "metadata": {
    "colab": {},
    "colab_type": "code",
    "id": "Sme7pg00_fWC"
   },
   "outputs": [],
   "source": [
    "import numpy as np\n",
    "import pandas as pd\n",
    "import matplotlib.pyplot as plt\n",
    "import seaborn as sns\n",
    "%matplotlib inline"
   ]
  },
  {
   "cell_type": "markdown",
   "metadata": {
    "colab_type": "text",
    "id": "oNLmGz3o_gp0"
   },
   "source": [
    "## Dataset"
   ]
  },
  {
   "cell_type": "code",
   "execution_count": 4,
   "metadata": {
    "colab": {
     "base_uri": "https://localhost:8080/",
     "height": 219
    },
    "colab_type": "code",
    "id": "ULml24ds-zHY",
    "outputId": "27ffecaa-841c-48c1-a937-3486b73d418b"
   },
   "outputs": [
    {
     "name": "stdout",
     "output_type": "stream",
     "text": [
      "--2019-09-03 18:52:12--  https://s3.amazonaws.com/dq-blog-files/fortune500.csv\n",
      "Resolviendo s3.amazonaws.com (s3.amazonaws.com)... 52.216.169.181\n",
      "Conectando con s3.amazonaws.com (s3.amazonaws.com)[52.216.169.181]:443... conectado.\n",
      "Petición HTTP enviada, esperando respuesta... 200 OK\n",
      "Longitud: 882629 (862K) [text/csv]\n",
      "Guardando como: “fortune500.csv”\n",
      "\n",
      "fortune500.csv      100%[===================>] 861,94K   121KB/s    en 7,2s    \n",
      "\n",
      "2019-09-03 18:52:20 (120 KB/s) - “fortune500.csv” guardado [882629/882629]\n",
      "\n"
     ]
    }
   ],
   "source": [
    "!wget https://s3.amazonaws.com/dq-blog-files/fortune500.csv"
   ]
  },
  {
   "cell_type": "code",
   "execution_count": 5,
   "metadata": {
    "colab": {},
    "colab_type": "code",
    "id": "xRkYfL-h_9EA"
   },
   "outputs": [],
   "source": [
    "df = pd.read_csv('fortune500.csv')"
   ]
  },
  {
   "cell_type": "code",
   "execution_count": 6,
   "metadata": {
    "colab": {
     "base_uri": "https://localhost:8080/",
     "height": 35
    },
    "colab_type": "code",
    "id": "kiQ_SqJmAgDJ",
    "outputId": "cc8539a1-d714-4204-cf63-4697f1249e3c"
   },
   "outputs": [
    {
     "data": {
      "text/plain": [
       "25500"
      ]
     },
     "execution_count": 6,
     "metadata": {},
     "output_type": "execute_result"
    }
   ],
   "source": [
    "len(df)"
   ]
  },
  {
   "cell_type": "code",
   "execution_count": 8,
   "metadata": {},
   "outputs": [
    {
     "name": "stdout",
     "output_type": "stream",
     "text": [
      "Year,Rank,Company,Revenue (in millions),Profit (in millions)\r",
      "\r\n",
      "1955,1,General Motors,9823.5,806\r",
      "\r\n",
      "1955,2,Exxon Mobil,5661.4,584.8\r",
      "\r\n",
      "1955,3,U.S. Steel,3250.4,195.4\r",
      "\r\n",
      "1955,4,General Electric,2959.1,212.6\r",
      "\r\n",
      "1955,5,Esmark,2510.8,19.1\r",
      "\r\n",
      "1955,6,Chrysler,2071.6,18.5\r",
      "\r\n",
      "1955,7,Armour,2056.1,1.6\r",
      "\r\n",
      "1955,8,Gulf Oil,1705.3,182.8\r",
      "\r\n",
      "1955,9,Mobil,1703.6,183.8\r",
      "\r\n"
     ]
    }
   ],
   "source": [
    "!head fortune500.csv"
   ]
  },
  {
   "cell_type": "code",
   "execution_count": 12,
   "metadata": {},
   "outputs": [
    {
     "data": {
      "text/html": [
       "<div>\n",
       "<style scoped>\n",
       "    .dataframe tbody tr th:only-of-type {\n",
       "        vertical-align: middle;\n",
       "    }\n",
       "\n",
       "    .dataframe tbody tr th {\n",
       "        vertical-align: top;\n",
       "    }\n",
       "\n",
       "    .dataframe thead th {\n",
       "        text-align: right;\n",
       "    }\n",
       "</style>\n",
       "<table border=\"1\" class=\"dataframe\">\n",
       "  <thead>\n",
       "    <tr style=\"text-align: right;\">\n",
       "      <th></th>\n",
       "      <th>Year</th>\n",
       "      <th>Rank</th>\n",
       "      <th>Company</th>\n",
       "      <th>Revenue (in millions)</th>\n",
       "      <th>Profit (in millions)</th>\n",
       "    </tr>\n",
       "  </thead>\n",
       "  <tbody>\n",
       "    <tr>\n",
       "      <th>0</th>\n",
       "      <td>1955</td>\n",
       "      <td>1</td>\n",
       "      <td>General Motors</td>\n",
       "      <td>9823.5</td>\n",
       "      <td>806</td>\n",
       "    </tr>\n",
       "    <tr>\n",
       "      <th>1</th>\n",
       "      <td>1955</td>\n",
       "      <td>2</td>\n",
       "      <td>Exxon Mobil</td>\n",
       "      <td>5661.4</td>\n",
       "      <td>584.8</td>\n",
       "    </tr>\n",
       "    <tr>\n",
       "      <th>2</th>\n",
       "      <td>1955</td>\n",
       "      <td>3</td>\n",
       "      <td>U.S. Steel</td>\n",
       "      <td>3250.4</td>\n",
       "      <td>195.4</td>\n",
       "    </tr>\n",
       "    <tr>\n",
       "      <th>3</th>\n",
       "      <td>1955</td>\n",
       "      <td>4</td>\n",
       "      <td>General Electric</td>\n",
       "      <td>2959.1</td>\n",
       "      <td>212.6</td>\n",
       "    </tr>\n",
       "    <tr>\n",
       "      <th>4</th>\n",
       "      <td>1955</td>\n",
       "      <td>5</td>\n",
       "      <td>Esmark</td>\n",
       "      <td>2510.8</td>\n",
       "      <td>19.1</td>\n",
       "    </tr>\n",
       "    <tr>\n",
       "      <th>5</th>\n",
       "      <td>1955</td>\n",
       "      <td>6</td>\n",
       "      <td>Chrysler</td>\n",
       "      <td>2071.6</td>\n",
       "      <td>18.5</td>\n",
       "    </tr>\n",
       "    <tr>\n",
       "      <th>6</th>\n",
       "      <td>1955</td>\n",
       "      <td>7</td>\n",
       "      <td>Armour</td>\n",
       "      <td>2056.1</td>\n",
       "      <td>1.6</td>\n",
       "    </tr>\n",
       "    <tr>\n",
       "      <th>7</th>\n",
       "      <td>1955</td>\n",
       "      <td>8</td>\n",
       "      <td>Gulf Oil</td>\n",
       "      <td>1705.3</td>\n",
       "      <td>182.8</td>\n",
       "    </tr>\n",
       "    <tr>\n",
       "      <th>8</th>\n",
       "      <td>1955</td>\n",
       "      <td>9</td>\n",
       "      <td>Mobil</td>\n",
       "      <td>1703.6</td>\n",
       "      <td>183.8</td>\n",
       "    </tr>\n",
       "    <tr>\n",
       "      <th>9</th>\n",
       "      <td>1955</td>\n",
       "      <td>10</td>\n",
       "      <td>DuPont</td>\n",
       "      <td>1687.7</td>\n",
       "      <td>344.4</td>\n",
       "    </tr>\n",
       "    <tr>\n",
       "      <th>10</th>\n",
       "      <td>1955</td>\n",
       "      <td>11</td>\n",
       "      <td>Amoco</td>\n",
       "      <td>1667.4</td>\n",
       "      <td>132.8</td>\n",
       "    </tr>\n",
       "    <tr>\n",
       "      <th>11</th>\n",
       "      <td>1955</td>\n",
       "      <td>12</td>\n",
       "      <td>Bethlehem Steel</td>\n",
       "      <td>1660.3</td>\n",
       "      <td>117.2</td>\n",
       "    </tr>\n",
       "    <tr>\n",
       "      <th>12</th>\n",
       "      <td>1955</td>\n",
       "      <td>13</td>\n",
       "      <td>CBS</td>\n",
       "      <td>1631.0</td>\n",
       "      <td>84.6</td>\n",
       "    </tr>\n",
       "    <tr>\n",
       "      <th>13</th>\n",
       "      <td>1955</td>\n",
       "      <td>14</td>\n",
       "      <td>Texaco</td>\n",
       "      <td>1574.4</td>\n",
       "      <td>226.1</td>\n",
       "    </tr>\n",
       "    <tr>\n",
       "      <th>14</th>\n",
       "      <td>1955</td>\n",
       "      <td>15</td>\n",
       "      <td>AT&amp;T Technologies</td>\n",
       "      <td>1526.2</td>\n",
       "      <td>55.8</td>\n",
       "    </tr>\n",
       "    <tr>\n",
       "      <th>15</th>\n",
       "      <td>1955</td>\n",
       "      <td>16</td>\n",
       "      <td>Shell Oil</td>\n",
       "      <td>1312.1</td>\n",
       "      <td>121.1</td>\n",
       "    </tr>\n",
       "    <tr>\n",
       "      <th>16</th>\n",
       "      <td>1955</td>\n",
       "      <td>17</td>\n",
       "      <td>Kraft</td>\n",
       "      <td>1210.3</td>\n",
       "      <td>37.4</td>\n",
       "    </tr>\n",
       "    <tr>\n",
       "      <th>17</th>\n",
       "      <td>1955</td>\n",
       "      <td>18</td>\n",
       "      <td>ChevronTexaco</td>\n",
       "      <td>1113.3</td>\n",
       "      <td>211.9</td>\n",
       "    </tr>\n",
       "    <tr>\n",
       "      <th>18</th>\n",
       "      <td>1955</td>\n",
       "      <td>19</td>\n",
       "      <td>Goodyear Tire &amp; Rubber</td>\n",
       "      <td>1090.1</td>\n",
       "      <td>48.1</td>\n",
       "    </tr>\n",
       "    <tr>\n",
       "      <th>19</th>\n",
       "      <td>1955</td>\n",
       "      <td>20</td>\n",
       "      <td>Boeing</td>\n",
       "      <td>1033.2</td>\n",
       "      <td>37</td>\n",
       "    </tr>\n",
       "    <tr>\n",
       "      <th>20</th>\n",
       "      <td>1955</td>\n",
       "      <td>21</td>\n",
       "      <td>Sinclair Oil</td>\n",
       "      <td>1021.5</td>\n",
       "      <td>91.6</td>\n",
       "    </tr>\n",
       "    <tr>\n",
       "      <th>21</th>\n",
       "      <td>1955</td>\n",
       "      <td>22</td>\n",
       "      <td>Navistar International</td>\n",
       "      <td>994.1</td>\n",
       "      <td>36.3</td>\n",
       "    </tr>\n",
       "    <tr>\n",
       "      <th>22</th>\n",
       "      <td>1955</td>\n",
       "      <td>23</td>\n",
       "      <td>RCA</td>\n",
       "      <td>941.0</td>\n",
       "      <td>40.5</td>\n",
       "    </tr>\n",
       "    <tr>\n",
       "      <th>23</th>\n",
       "      <td>1955</td>\n",
       "      <td>24</td>\n",
       "      <td>Union Carbide</td>\n",
       "      <td>923.7</td>\n",
       "      <td>89.8</td>\n",
       "    </tr>\n",
       "    <tr>\n",
       "      <th>24</th>\n",
       "      <td>1955</td>\n",
       "      <td>25</td>\n",
       "      <td>Firestone Tire &amp; Rubber</td>\n",
       "      <td>916.0</td>\n",
       "      <td>40.5</td>\n",
       "    </tr>\n",
       "    <tr>\n",
       "      <th>25</th>\n",
       "      <td>1955</td>\n",
       "      <td>26</td>\n",
       "      <td>Douglas Aircraft</td>\n",
       "      <td>915.2</td>\n",
       "      <td>36.2</td>\n",
       "    </tr>\n",
       "    <tr>\n",
       "      <th>26</th>\n",
       "      <td>1955</td>\n",
       "      <td>27</td>\n",
       "      <td>Procter &amp; Gamble</td>\n",
       "      <td>911.0</td>\n",
       "      <td>52.3</td>\n",
       "    </tr>\n",
       "    <tr>\n",
       "      <th>27</th>\n",
       "      <td>1955</td>\n",
       "      <td>28</td>\n",
       "      <td>Republic Steel</td>\n",
       "      <td>846.3</td>\n",
       "      <td>52.9</td>\n",
       "    </tr>\n",
       "    <tr>\n",
       "      <th>28</th>\n",
       "      <td>1955</td>\n",
       "      <td>29</td>\n",
       "      <td>Citgo Petroleum</td>\n",
       "      <td>813.2</td>\n",
       "      <td>43.7</td>\n",
       "    </tr>\n",
       "    <tr>\n",
       "      <th>29</th>\n",
       "      <td>1955</td>\n",
       "      <td>30</td>\n",
       "      <td>ConocoPhillips</td>\n",
       "      <td>794.6</td>\n",
       "      <td>76.2</td>\n",
       "    </tr>\n",
       "    <tr>\n",
       "      <th>...</th>\n",
       "      <td>...</td>\n",
       "      <td>...</td>\n",
       "      <td>...</td>\n",
       "      <td>...</td>\n",
       "      <td>...</td>\n",
       "    </tr>\n",
       "    <tr>\n",
       "      <th>25470</th>\n",
       "      <td>2005</td>\n",
       "      <td>471</td>\n",
       "      <td>Wisconsin Energy</td>\n",
       "      <td>3912.1</td>\n",
       "      <td>306.4</td>\n",
       "    </tr>\n",
       "    <tr>\n",
       "      <th>25471</th>\n",
       "      <td>2005</td>\n",
       "      <td>472</td>\n",
       "      <td>American Financial Grp.</td>\n",
       "      <td>3911.7</td>\n",
       "      <td>359.9</td>\n",
       "    </tr>\n",
       "    <tr>\n",
       "      <th>25472</th>\n",
       "      <td>2005</td>\n",
       "      <td>473</td>\n",
       "      <td>Beazer Homes USA</td>\n",
       "      <td>3907.1</td>\n",
       "      <td>235.8</td>\n",
       "    </tr>\n",
       "    <tr>\n",
       "      <th>25473</th>\n",
       "      <td>2005</td>\n",
       "      <td>474</td>\n",
       "      <td>Collins &amp; Aikman</td>\n",
       "      <td>3904.0</td>\n",
       "      <td>-118.5</td>\n",
       "    </tr>\n",
       "    <tr>\n",
       "      <th>25474</th>\n",
       "      <td>2005</td>\n",
       "      <td>475</td>\n",
       "      <td>Borders Group</td>\n",
       "      <td>3903.0</td>\n",
       "      <td>131.9</td>\n",
       "    </tr>\n",
       "    <tr>\n",
       "      <th>25475</th>\n",
       "      <td>2005</td>\n",
       "      <td>476</td>\n",
       "      <td>Nash Finch</td>\n",
       "      <td>3897.1</td>\n",
       "      <td>14.9</td>\n",
       "    </tr>\n",
       "    <tr>\n",
       "      <th>25476</th>\n",
       "      <td>2005</td>\n",
       "      <td>477</td>\n",
       "      <td>Toll Brothers</td>\n",
       "      <td>3893.1</td>\n",
       "      <td>409.1</td>\n",
       "    </tr>\n",
       "    <tr>\n",
       "      <th>25477</th>\n",
       "      <td>2005</td>\n",
       "      <td>478</td>\n",
       "      <td>SCANA</td>\n",
       "      <td>3885.0</td>\n",
       "      <td>257</td>\n",
       "    </tr>\n",
       "    <tr>\n",
       "      <th>25478</th>\n",
       "      <td>2005</td>\n",
       "      <td>479</td>\n",
       "      <td>Whole Foods Market</td>\n",
       "      <td>3864.9</td>\n",
       "      <td>137.1</td>\n",
       "    </tr>\n",
       "    <tr>\n",
       "      <th>25479</th>\n",
       "      <td>2005</td>\n",
       "      <td>480</td>\n",
       "      <td>Corning</td>\n",
       "      <td>3854.0</td>\n",
       "      <td>-2165</td>\n",
       "    </tr>\n",
       "    <tr>\n",
       "      <th>25480</th>\n",
       "      <td>2005</td>\n",
       "      <td>481</td>\n",
       "      <td>Sealed Air</td>\n",
       "      <td>3798.1</td>\n",
       "      <td>215.6</td>\n",
       "    </tr>\n",
       "    <tr>\n",
       "      <th>25481</th>\n",
       "      <td>2005</td>\n",
       "      <td>482</td>\n",
       "      <td>Maxtor</td>\n",
       "      <td>3796.3</td>\n",
       "      <td>-181.9</td>\n",
       "    </tr>\n",
       "    <tr>\n",
       "      <th>25482</th>\n",
       "      <td>2005</td>\n",
       "      <td>483</td>\n",
       "      <td>Reebok International</td>\n",
       "      <td>3785.3</td>\n",
       "      <td>192.4</td>\n",
       "    </tr>\n",
       "    <tr>\n",
       "      <th>25483</th>\n",
       "      <td>2005</td>\n",
       "      <td>484</td>\n",
       "      <td>UGI</td>\n",
       "      <td>3784.7</td>\n",
       "      <td>111.6</td>\n",
       "    </tr>\n",
       "    <tr>\n",
       "      <th>25484</th>\n",
       "      <td>2005</td>\n",
       "      <td>485</td>\n",
       "      <td>Guidant</td>\n",
       "      <td>3775.2</td>\n",
       "      <td>524</td>\n",
       "    </tr>\n",
       "    <tr>\n",
       "      <th>25485</th>\n",
       "      <td>2005</td>\n",
       "      <td>486</td>\n",
       "      <td>Host Marriott</td>\n",
       "      <td>3773.0</td>\n",
       "      <td>N.A.</td>\n",
       "    </tr>\n",
       "    <tr>\n",
       "      <th>25486</th>\n",
       "      <td>2005</td>\n",
       "      <td>487</td>\n",
       "      <td>Advance Auto Parts</td>\n",
       "      <td>3770.3</td>\n",
       "      <td>188</td>\n",
       "    </tr>\n",
       "    <tr>\n",
       "      <th>25487</th>\n",
       "      <td>2005</td>\n",
       "      <td>488</td>\n",
       "      <td>ServiceMaster</td>\n",
       "      <td>3759.6</td>\n",
       "      <td>331.2</td>\n",
       "    </tr>\n",
       "    <tr>\n",
       "      <th>25488</th>\n",
       "      <td>2005</td>\n",
       "      <td>489</td>\n",
       "      <td>Wesco International</td>\n",
       "      <td>3741.3</td>\n",
       "      <td>64.9</td>\n",
       "    </tr>\n",
       "    <tr>\n",
       "      <th>25489</th>\n",
       "      <td>2005</td>\n",
       "      <td>490</td>\n",
       "      <td>Telephone &amp; Data Sys.</td>\n",
       "      <td>3720.4</td>\n",
       "      <td>49</td>\n",
       "    </tr>\n",
       "    <tr>\n",
       "      <th>25490</th>\n",
       "      <td>2005</td>\n",
       "      <td>491</td>\n",
       "      <td>Level 3 Communications</td>\n",
       "      <td>3712.0</td>\n",
       "      <td>-458</td>\n",
       "    </tr>\n",
       "    <tr>\n",
       "      <th>25491</th>\n",
       "      <td>2005</td>\n",
       "      <td>492</td>\n",
       "      <td>Brinker International</td>\n",
       "      <td>3707.5</td>\n",
       "      <td>154</td>\n",
       "    </tr>\n",
       "    <tr>\n",
       "      <th>25492</th>\n",
       "      <td>2005</td>\n",
       "      <td>493</td>\n",
       "      <td>Stater Bros. Holdings</td>\n",
       "      <td>3704.9</td>\n",
       "      <td>71.8</td>\n",
       "    </tr>\n",
       "    <tr>\n",
       "      <th>25493</th>\n",
       "      <td>2005</td>\n",
       "      <td>494</td>\n",
       "      <td>Western &amp; Southern Financial</td>\n",
       "      <td>3694.5</td>\n",
       "      <td>328</td>\n",
       "    </tr>\n",
       "    <tr>\n",
       "      <th>25494</th>\n",
       "      <td>2005</td>\n",
       "      <td>495</td>\n",
       "      <td>Gateway</td>\n",
       "      <td>3649.7</td>\n",
       "      <td>-567.6</td>\n",
       "    </tr>\n",
       "    <tr>\n",
       "      <th>25495</th>\n",
       "      <td>2005</td>\n",
       "      <td>496</td>\n",
       "      <td>Wm. Wrigley Jr.</td>\n",
       "      <td>3648.6</td>\n",
       "      <td>493</td>\n",
       "    </tr>\n",
       "    <tr>\n",
       "      <th>25496</th>\n",
       "      <td>2005</td>\n",
       "      <td>497</td>\n",
       "      <td>Peabody Energy</td>\n",
       "      <td>3631.6</td>\n",
       "      <td>175.4</td>\n",
       "    </tr>\n",
       "    <tr>\n",
       "      <th>25497</th>\n",
       "      <td>2005</td>\n",
       "      <td>498</td>\n",
       "      <td>Wendy's International</td>\n",
       "      <td>3630.4</td>\n",
       "      <td>57.8</td>\n",
       "    </tr>\n",
       "    <tr>\n",
       "      <th>25498</th>\n",
       "      <td>2005</td>\n",
       "      <td>499</td>\n",
       "      <td>Kindred Healthcare</td>\n",
       "      <td>3616.6</td>\n",
       "      <td>70.6</td>\n",
       "    </tr>\n",
       "    <tr>\n",
       "      <th>25499</th>\n",
       "      <td>2005</td>\n",
       "      <td>500</td>\n",
       "      <td>Cincinnati Financial</td>\n",
       "      <td>3614.0</td>\n",
       "      <td>584</td>\n",
       "    </tr>\n",
       "  </tbody>\n",
       "</table>\n",
       "<p>25500 rows × 5 columns</p>\n",
       "</div>"
      ],
      "text/plain": [
       "       Year  Rank                       Company  Revenue (in millions)  \\\n",
       "0      1955     1                General Motors                 9823.5   \n",
       "1      1955     2                   Exxon Mobil                 5661.4   \n",
       "2      1955     3                    U.S. Steel                 3250.4   \n",
       "3      1955     4              General Electric                 2959.1   \n",
       "4      1955     5                        Esmark                 2510.8   \n",
       "5      1955     6                      Chrysler                 2071.6   \n",
       "6      1955     7                        Armour                 2056.1   \n",
       "7      1955     8                      Gulf Oil                 1705.3   \n",
       "8      1955     9                         Mobil                 1703.6   \n",
       "9      1955    10                        DuPont                 1687.7   \n",
       "10     1955    11                         Amoco                 1667.4   \n",
       "11     1955    12               Bethlehem Steel                 1660.3   \n",
       "12     1955    13                           CBS                 1631.0   \n",
       "13     1955    14                        Texaco                 1574.4   \n",
       "14     1955    15             AT&T Technologies                 1526.2   \n",
       "15     1955    16                     Shell Oil                 1312.1   \n",
       "16     1955    17                         Kraft                 1210.3   \n",
       "17     1955    18                 ChevronTexaco                 1113.3   \n",
       "18     1955    19        Goodyear Tire & Rubber                 1090.1   \n",
       "19     1955    20                        Boeing                 1033.2   \n",
       "20     1955    21                  Sinclair Oil                 1021.5   \n",
       "21     1955    22        Navistar International                  994.1   \n",
       "22     1955    23                           RCA                  941.0   \n",
       "23     1955    24                 Union Carbide                  923.7   \n",
       "24     1955    25       Firestone Tire & Rubber                  916.0   \n",
       "25     1955    26              Douglas Aircraft                  915.2   \n",
       "26     1955    27              Procter & Gamble                  911.0   \n",
       "27     1955    28                Republic Steel                  846.3   \n",
       "28     1955    29               Citgo Petroleum                  813.2   \n",
       "29     1955    30                ConocoPhillips                  794.6   \n",
       "...     ...   ...                           ...                    ...   \n",
       "25470  2005   471              Wisconsin Energy                 3912.1   \n",
       "25471  2005   472       American Financial Grp.                 3911.7   \n",
       "25472  2005   473              Beazer Homes USA                 3907.1   \n",
       "25473  2005   474              Collins & Aikman                 3904.0   \n",
       "25474  2005   475                 Borders Group                 3903.0   \n",
       "25475  2005   476                    Nash Finch                 3897.1   \n",
       "25476  2005   477                 Toll Brothers                 3893.1   \n",
       "25477  2005   478                         SCANA                 3885.0   \n",
       "25478  2005   479            Whole Foods Market                 3864.9   \n",
       "25479  2005   480                       Corning                 3854.0   \n",
       "25480  2005   481                    Sealed Air                 3798.1   \n",
       "25481  2005   482                        Maxtor                 3796.3   \n",
       "25482  2005   483          Reebok International                 3785.3   \n",
       "25483  2005   484                           UGI                 3784.7   \n",
       "25484  2005   485                       Guidant                 3775.2   \n",
       "25485  2005   486                 Host Marriott                 3773.0   \n",
       "25486  2005   487            Advance Auto Parts                 3770.3   \n",
       "25487  2005   488                 ServiceMaster                 3759.6   \n",
       "25488  2005   489           Wesco International                 3741.3   \n",
       "25489  2005   490         Telephone & Data Sys.                 3720.4   \n",
       "25490  2005   491        Level 3 Communications                 3712.0   \n",
       "25491  2005   492         Brinker International                 3707.5   \n",
       "25492  2005   493         Stater Bros. Holdings                 3704.9   \n",
       "25493  2005   494  Western & Southern Financial                 3694.5   \n",
       "25494  2005   495                       Gateway                 3649.7   \n",
       "25495  2005   496               Wm. Wrigley Jr.                 3648.6   \n",
       "25496  2005   497                Peabody Energy                 3631.6   \n",
       "25497  2005   498         Wendy's International                 3630.4   \n",
       "25498  2005   499            Kindred Healthcare                 3616.6   \n",
       "25499  2005   500          Cincinnati Financial                 3614.0   \n",
       "\n",
       "      Profit (in millions)  \n",
       "0                      806  \n",
       "1                    584.8  \n",
       "2                    195.4  \n",
       "3                    212.6  \n",
       "4                     19.1  \n",
       "5                     18.5  \n",
       "6                      1.6  \n",
       "7                    182.8  \n",
       "8                    183.8  \n",
       "9                    344.4  \n",
       "10                   132.8  \n",
       "11                   117.2  \n",
       "12                    84.6  \n",
       "13                   226.1  \n",
       "14                    55.8  \n",
       "15                   121.1  \n",
       "16                    37.4  \n",
       "17                   211.9  \n",
       "18                    48.1  \n",
       "19                      37  \n",
       "20                    91.6  \n",
       "21                    36.3  \n",
       "22                    40.5  \n",
       "23                    89.8  \n",
       "24                    40.5  \n",
       "25                    36.2  \n",
       "26                    52.3  \n",
       "27                    52.9  \n",
       "28                    43.7  \n",
       "29                    76.2  \n",
       "...                    ...  \n",
       "25470                306.4  \n",
       "25471                359.9  \n",
       "25472                235.8  \n",
       "25473               -118.5  \n",
       "25474                131.9  \n",
       "25475                 14.9  \n",
       "25476                409.1  \n",
       "25477                  257  \n",
       "25478                137.1  \n",
       "25479                -2165  \n",
       "25480                215.6  \n",
       "25481               -181.9  \n",
       "25482                192.4  \n",
       "25483                111.6  \n",
       "25484                  524  \n",
       "25485                 N.A.  \n",
       "25486                  188  \n",
       "25487                331.2  \n",
       "25488                 64.9  \n",
       "25489                   49  \n",
       "25490                 -458  \n",
       "25491                  154  \n",
       "25492                 71.8  \n",
       "25493                  328  \n",
       "25494               -567.6  \n",
       "25495                  493  \n",
       "25496                175.4  \n",
       "25497                 57.8  \n",
       "25498                 70.6  \n",
       "25499                  584  \n",
       "\n",
       "[25500 rows x 5 columns]"
      ]
     },
     "execution_count": 12,
     "metadata": {},
     "output_type": "execute_result"
    }
   ],
   "source": [
    "df"
   ]
  },
  {
   "cell_type": "code",
   "execution_count": 0,
   "metadata": {
    "colab": {
     "base_uri": "https://localhost:8080/",
     "height": 127
    },
    "colab_type": "code",
    "id": "vIQjWEAtAtJP",
    "outputId": "4f37d910-d3b2-4a94-ec11-45346c989ece"
   },
   "outputs": [
    {
     "data": {
      "text/plain": [
       "Year                       int64\n",
       "Rank                       int64\n",
       "Company                   object\n",
       "Revenue (in millions)    float64\n",
       "Profit (in millions)      object\n",
       "dtype: object"
      ]
     },
     "execution_count": 30,
     "metadata": {
      "tags": []
     },
     "output_type": "execute_result"
    }
   ],
   "source": [
    "df.dtypes"
   ]
  },
  {
   "cell_type": "code",
   "execution_count": 0,
   "metadata": {
    "colab": {},
    "colab_type": "code",
    "id": "gmVE0_8YAyUr"
   },
   "outputs": [],
   "source": [
    "df.columns = ['Año', 'Rango', 'Compañía', 'Ingresos', 'Ganancias']"
   ]
  },
  {
   "cell_type": "code",
   "execution_count": 0,
   "metadata": {
    "colab": {
     "base_uri": "https://localhost:8080/",
     "height": 300
    },
    "colab_type": "code",
    "id": "BYgnH0mdAfY9",
    "outputId": "1c6eecab-453e-4a00-ac36-157a8ab4d3c6"
   },
   "outputs": [
    {
     "data": {
      "text/html": [
       "<div>\n",
       "<style scoped>\n",
       "    .dataframe tbody tr th:only-of-type {\n",
       "        vertical-align: middle;\n",
       "    }\n",
       "\n",
       "    .dataframe tbody tr th {\n",
       "        vertical-align: top;\n",
       "    }\n",
       "\n",
       "    .dataframe thead th {\n",
       "        text-align: right;\n",
       "    }\n",
       "</style>\n",
       "<table border=\"1\" class=\"dataframe\">\n",
       "  <thead>\n",
       "    <tr style=\"text-align: right;\">\n",
       "      <th></th>\n",
       "      <th>Año</th>\n",
       "      <th>Rango</th>\n",
       "      <th>Ingresos</th>\n",
       "    </tr>\n",
       "  </thead>\n",
       "  <tbody>\n",
       "    <tr>\n",
       "      <th>count</th>\n",
       "      <td>25500.00000</td>\n",
       "      <td>25500.000000</td>\n",
       "      <td>25500.000000</td>\n",
       "    </tr>\n",
       "    <tr>\n",
       "      <th>mean</th>\n",
       "      <td>1980.00000</td>\n",
       "      <td>250.499765</td>\n",
       "      <td>4273.329635</td>\n",
       "    </tr>\n",
       "    <tr>\n",
       "      <th>std</th>\n",
       "      <td>14.71989</td>\n",
       "      <td>144.339963</td>\n",
       "      <td>11351.884979</td>\n",
       "    </tr>\n",
       "    <tr>\n",
       "      <th>min</th>\n",
       "      <td>1955.00000</td>\n",
       "      <td>1.000000</td>\n",
       "      <td>49.700000</td>\n",
       "    </tr>\n",
       "    <tr>\n",
       "      <th>25%</th>\n",
       "      <td>1967.00000</td>\n",
       "      <td>125.750000</td>\n",
       "      <td>362.300000</td>\n",
       "    </tr>\n",
       "    <tr>\n",
       "      <th>50%</th>\n",
       "      <td>1980.00000</td>\n",
       "      <td>250.500000</td>\n",
       "      <td>1019.000000</td>\n",
       "    </tr>\n",
       "    <tr>\n",
       "      <th>75%</th>\n",
       "      <td>1993.00000</td>\n",
       "      <td>375.250000</td>\n",
       "      <td>3871.000000</td>\n",
       "    </tr>\n",
       "    <tr>\n",
       "      <th>max</th>\n",
       "      <td>2005.00000</td>\n",
       "      <td>500.000000</td>\n",
       "      <td>288189.000000</td>\n",
       "    </tr>\n",
       "  </tbody>\n",
       "</table>\n",
       "</div>"
      ],
      "text/plain": [
       "               Año         Rango       Ingresos\n",
       "count  25500.00000  25500.000000   25500.000000\n",
       "mean    1980.00000    250.499765    4273.329635\n",
       "std       14.71989    144.339963   11351.884979\n",
       "min     1955.00000      1.000000      49.700000\n",
       "25%     1967.00000    125.750000     362.300000\n",
       "50%     1980.00000    250.500000    1019.000000\n",
       "75%     1993.00000    375.250000    3871.000000\n",
       "max     2005.00000    500.000000  288189.000000"
      ]
     },
     "execution_count": 33,
     "metadata": {
      "tags": []
     },
     "output_type": "execute_result"
    }
   ],
   "source": [
    "df.describe()"
   ]
  },
  {
   "cell_type": "code",
   "execution_count": 0,
   "metadata": {
    "colab": {
     "base_uri": "https://localhost:8080/",
     "height": 109
    },
    "colab_type": "code",
    "id": "QYmR0atRKAhK",
    "outputId": "da7f2ee3-320d-4924-ca3a-4706571eed5e"
   },
   "outputs": [
    {
     "data": {
      "text/plain": [
       "Año          1980.004903\n",
       "Rango         250.509432\n",
       "Ingresos     4273.381176\n",
       "Ganancias     204.894886\n",
       "dtype: float64"
      ]
     },
     "execution_count": 123,
     "metadata": {
      "tags": []
     },
     "output_type": "execute_result"
    }
   ],
   "source": [
    "df.mean() #min, max, std"
   ]
  },
  {
   "cell_type": "code",
   "execution_count": 0,
   "metadata": {
    "colab": {
     "base_uri": "https://localhost:8080/",
     "height": 127
    },
    "colab_type": "code",
    "id": "5uMrEHFrLOfZ",
    "outputId": "38be39cf-4ce5-48cf-b3d2-0611a096e8a6"
   },
   "outputs": [
    {
     "data": {
      "text/plain": [
       "CBS               57\n",
       "OfficeMax         55\n",
       "Crown Holdings    51\n",
       "Whirlpool         51\n",
       "General Mills     51\n",
       "Name: Compañía, dtype: int64"
      ]
     },
     "execution_count": 131,
     "metadata": {
      "tags": []
     },
     "output_type": "execute_result"
    }
   ],
   "source": [
    "df['Compañía'].value_counts().head()"
   ]
  },
  {
   "cell_type": "code",
   "execution_count": 0,
   "metadata": {
    "colab": {
     "base_uri": "https://localhost:8080/",
     "height": 206
    },
    "colab_type": "code",
    "id": "rxPO5G6iABpk",
    "outputId": "1f26aa42-7fbe-43b7-cb0a-085dc94be202"
   },
   "outputs": [
    {
     "data": {
      "text/html": [
       "<div>\n",
       "<style scoped>\n",
       "    .dataframe tbody tr th:only-of-type {\n",
       "        vertical-align: middle;\n",
       "    }\n",
       "\n",
       "    .dataframe tbody tr th {\n",
       "        vertical-align: top;\n",
       "    }\n",
       "\n",
       "    .dataframe thead th {\n",
       "        text-align: right;\n",
       "    }\n",
       "</style>\n",
       "<table border=\"1\" class=\"dataframe\">\n",
       "  <thead>\n",
       "    <tr style=\"text-align: right;\">\n",
       "      <th></th>\n",
       "      <th>Año</th>\n",
       "      <th>Rango</th>\n",
       "      <th>Compañía</th>\n",
       "      <th>Ingresos</th>\n",
       "      <th>Ganancias</th>\n",
       "    </tr>\n",
       "  </thead>\n",
       "  <tbody>\n",
       "    <tr>\n",
       "      <th>0</th>\n",
       "      <td>1955</td>\n",
       "      <td>1</td>\n",
       "      <td>General Motors</td>\n",
       "      <td>9823.5</td>\n",
       "      <td>806</td>\n",
       "    </tr>\n",
       "    <tr>\n",
       "      <th>1</th>\n",
       "      <td>1955</td>\n",
       "      <td>2</td>\n",
       "      <td>Exxon Mobil</td>\n",
       "      <td>5661.4</td>\n",
       "      <td>584.8</td>\n",
       "    </tr>\n",
       "    <tr>\n",
       "      <th>2</th>\n",
       "      <td>1955</td>\n",
       "      <td>3</td>\n",
       "      <td>U.S. Steel</td>\n",
       "      <td>3250.4</td>\n",
       "      <td>195.4</td>\n",
       "    </tr>\n",
       "    <tr>\n",
       "      <th>3</th>\n",
       "      <td>1955</td>\n",
       "      <td>4</td>\n",
       "      <td>General Electric</td>\n",
       "      <td>2959.1</td>\n",
       "      <td>212.6</td>\n",
       "    </tr>\n",
       "    <tr>\n",
       "      <th>4</th>\n",
       "      <td>1955</td>\n",
       "      <td>5</td>\n",
       "      <td>Esmark</td>\n",
       "      <td>2510.8</td>\n",
       "      <td>19.1</td>\n",
       "    </tr>\n",
       "  </tbody>\n",
       "</table>\n",
       "</div>"
      ],
      "text/plain": [
       "    Año  Rango          Compañía  Ingresos Ganancias\n",
       "0  1955      1    General Motors    9823.5       806\n",
       "1  1955      2       Exxon Mobil    5661.4     584.8\n",
       "2  1955      3        U.S. Steel    3250.4     195.4\n",
       "3  1955      4  General Electric    2959.1     212.6\n",
       "4  1955      5            Esmark    2510.8      19.1"
      ]
     },
     "execution_count": 34,
     "metadata": {
      "tags": []
     },
     "output_type": "execute_result"
    }
   ],
   "source": [
    "df.head()"
   ]
  },
  {
   "cell_type": "code",
   "execution_count": 0,
   "metadata": {
    "colab": {
     "base_uri": "https://localhost:8080/",
     "height": 206
    },
    "colab_type": "code",
    "id": "XG82xopWAI58",
    "outputId": "7312c368-a18d-4352-8575-3dbf21e6e1d4"
   },
   "outputs": [
    {
     "data": {
      "text/html": [
       "<div>\n",
       "<style scoped>\n",
       "    .dataframe tbody tr th:only-of-type {\n",
       "        vertical-align: middle;\n",
       "    }\n",
       "\n",
       "    .dataframe tbody tr th {\n",
       "        vertical-align: top;\n",
       "    }\n",
       "\n",
       "    .dataframe thead th {\n",
       "        text-align: right;\n",
       "    }\n",
       "</style>\n",
       "<table border=\"1\" class=\"dataframe\">\n",
       "  <thead>\n",
       "    <tr style=\"text-align: right;\">\n",
       "      <th></th>\n",
       "      <th>Año</th>\n",
       "      <th>Rango</th>\n",
       "      <th>Compañía</th>\n",
       "      <th>Ingresos</th>\n",
       "      <th>Ganancias</th>\n",
       "    </tr>\n",
       "  </thead>\n",
       "  <tbody>\n",
       "    <tr>\n",
       "      <th>25495</th>\n",
       "      <td>2005</td>\n",
       "      <td>496</td>\n",
       "      <td>Wm. Wrigley Jr.</td>\n",
       "      <td>3648.6</td>\n",
       "      <td>493</td>\n",
       "    </tr>\n",
       "    <tr>\n",
       "      <th>25496</th>\n",
       "      <td>2005</td>\n",
       "      <td>497</td>\n",
       "      <td>Peabody Energy</td>\n",
       "      <td>3631.6</td>\n",
       "      <td>175.4</td>\n",
       "    </tr>\n",
       "    <tr>\n",
       "      <th>25497</th>\n",
       "      <td>2005</td>\n",
       "      <td>498</td>\n",
       "      <td>Wendy's International</td>\n",
       "      <td>3630.4</td>\n",
       "      <td>57.8</td>\n",
       "    </tr>\n",
       "    <tr>\n",
       "      <th>25498</th>\n",
       "      <td>2005</td>\n",
       "      <td>499</td>\n",
       "      <td>Kindred Healthcare</td>\n",
       "      <td>3616.6</td>\n",
       "      <td>70.6</td>\n",
       "    </tr>\n",
       "    <tr>\n",
       "      <th>25499</th>\n",
       "      <td>2005</td>\n",
       "      <td>500</td>\n",
       "      <td>Cincinnati Financial</td>\n",
       "      <td>3614.0</td>\n",
       "      <td>584</td>\n",
       "    </tr>\n",
       "  </tbody>\n",
       "</table>\n",
       "</div>"
      ],
      "text/plain": [
       "        Año  Rango               Compañía  Ingresos Ganancias\n",
       "25495  2005    496        Wm. Wrigley Jr.    3648.6       493\n",
       "25496  2005    497         Peabody Energy    3631.6     175.4\n",
       "25497  2005    498  Wendy's International    3630.4      57.8\n",
       "25498  2005    499     Kindred Healthcare    3616.6      70.6\n",
       "25499  2005    500   Cincinnati Financial    3614.0       584"
      ]
     },
     "execution_count": 35,
     "metadata": {
      "tags": []
     },
     "output_type": "execute_result"
    }
   ],
   "source": [
    "df.tail()"
   ]
  },
  {
   "cell_type": "markdown",
   "metadata": {
    "colab_type": "text",
    "id": "sRl2xwsKBvi3"
   },
   "source": [
    "## Seleccionar"
   ]
  },
  {
   "cell_type": "code",
   "execution_count": 0,
   "metadata": {
    "colab": {
     "base_uri": "https://localhost:8080/",
     "height": 1000
    },
    "colab_type": "code",
    "id": "QBjuBq4xC1m4",
    "outputId": "3120ac50-bdc7-4e89-f3a6-f774f2c1595d"
   },
   "outputs": [
    {
     "data": {
      "text/plain": [
       "0        1955\n",
       "1        1955\n",
       "2        1955\n",
       "3        1955\n",
       "4        1955\n",
       "5        1955\n",
       "6        1955\n",
       "7        1955\n",
       "8        1955\n",
       "9        1955\n",
       "10       1955\n",
       "11       1955\n",
       "12       1955\n",
       "13       1955\n",
       "14       1955\n",
       "15       1955\n",
       "16       1955\n",
       "17       1955\n",
       "18       1955\n",
       "19       1955\n",
       "20       1955\n",
       "21       1955\n",
       "22       1955\n",
       "23       1955\n",
       "24       1955\n",
       "25       1955\n",
       "26       1955\n",
       "27       1955\n",
       "28       1955\n",
       "29       1955\n",
       "         ... \n",
       "25470    2005\n",
       "25471    2005\n",
       "25472    2005\n",
       "25473    2005\n",
       "25474    2005\n",
       "25475    2005\n",
       "25476    2005\n",
       "25477    2005\n",
       "25478    2005\n",
       "25479    2005\n",
       "25480    2005\n",
       "25481    2005\n",
       "25482    2005\n",
       "25483    2005\n",
       "25484    2005\n",
       "25485    2005\n",
       "25486    2005\n",
       "25487    2005\n",
       "25488    2005\n",
       "25489    2005\n",
       "25490    2005\n",
       "25491    2005\n",
       "25492    2005\n",
       "25493    2005\n",
       "25494    2005\n",
       "25495    2005\n",
       "25496    2005\n",
       "25497    2005\n",
       "25498    2005\n",
       "25499    2005\n",
       "Name: Año, Length: 25500, dtype: int64"
      ]
     },
     "execution_count": 54,
     "metadata": {
      "tags": []
     },
     "output_type": "execute_result"
    }
   ],
   "source": [
    "df.Año"
   ]
  },
  {
   "cell_type": "code",
   "execution_count": 0,
   "metadata": {
    "colab": {
     "base_uri": "https://localhost:8080/",
     "height": 1000
    },
    "colab_type": "code",
    "id": "hFgF42m5C3SO",
    "outputId": "2cbe9c02-c9a9-4233-eb17-6c4cf235bd95"
   },
   "outputs": [
    {
     "data": {
      "text/plain": [
       "0        1955\n",
       "1        1955\n",
       "2        1955\n",
       "3        1955\n",
       "4        1955\n",
       "5        1955\n",
       "6        1955\n",
       "7        1955\n",
       "8        1955\n",
       "9        1955\n",
       "10       1955\n",
       "11       1955\n",
       "12       1955\n",
       "13       1955\n",
       "14       1955\n",
       "15       1955\n",
       "16       1955\n",
       "17       1955\n",
       "18       1955\n",
       "19       1955\n",
       "20       1955\n",
       "21       1955\n",
       "22       1955\n",
       "23       1955\n",
       "24       1955\n",
       "25       1955\n",
       "26       1955\n",
       "27       1955\n",
       "28       1955\n",
       "29       1955\n",
       "         ... \n",
       "25470    2005\n",
       "25471    2005\n",
       "25472    2005\n",
       "25473    2005\n",
       "25474    2005\n",
       "25475    2005\n",
       "25476    2005\n",
       "25477    2005\n",
       "25478    2005\n",
       "25479    2005\n",
       "25480    2005\n",
       "25481    2005\n",
       "25482    2005\n",
       "25483    2005\n",
       "25484    2005\n",
       "25485    2005\n",
       "25486    2005\n",
       "25487    2005\n",
       "25488    2005\n",
       "25489    2005\n",
       "25490    2005\n",
       "25491    2005\n",
       "25492    2005\n",
       "25493    2005\n",
       "25494    2005\n",
       "25495    2005\n",
       "25496    2005\n",
       "25497    2005\n",
       "25498    2005\n",
       "25499    2005\n",
       "Name: Año, Length: 25500, dtype: int64"
      ]
     },
     "execution_count": 55,
     "metadata": {
      "tags": []
     },
     "output_type": "execute_result"
    }
   ],
   "source": [
    "df['Año']"
   ]
  },
  {
   "cell_type": "code",
   "execution_count": 0,
   "metadata": {
    "colab": {
     "base_uri": "https://localhost:8080/",
     "height": 35
    },
    "colab_type": "code",
    "id": "HCAzBdOyBTtt",
    "outputId": "52fdb124-d3fe-4858-d347-604c5e5efae0"
   },
   "outputs": [
    {
     "data": {
      "text/plain": [
       "pandas.core.series.Series"
      ]
     },
     "execution_count": 56,
     "metadata": {
      "tags": []
     },
     "output_type": "execute_result"
    }
   ],
   "source": [
    "type(df['Año'])"
   ]
  },
  {
   "cell_type": "code",
   "execution_count": 0,
   "metadata": {
    "colab": {
     "base_uri": "https://localhost:8080/",
     "height": 206
    },
    "colab_type": "code",
    "id": "O3dkSUaYDEUL",
    "outputId": "5b9469e2-5950-4fb6-c3a8-5f60d81e5fbc"
   },
   "outputs": [
    {
     "data": {
      "text/html": [
       "<div>\n",
       "<style scoped>\n",
       "    .dataframe tbody tr th:only-of-type {\n",
       "        vertical-align: middle;\n",
       "    }\n",
       "\n",
       "    .dataframe tbody tr th {\n",
       "        vertical-align: top;\n",
       "    }\n",
       "\n",
       "    .dataframe thead th {\n",
       "        text-align: right;\n",
       "    }\n",
       "</style>\n",
       "<table border=\"1\" class=\"dataframe\">\n",
       "  <thead>\n",
       "    <tr style=\"text-align: right;\">\n",
       "      <th></th>\n",
       "      <th>Año</th>\n",
       "      <th>Rango</th>\n",
       "      <th>Compañía</th>\n",
       "      <th>Ingresos</th>\n",
       "      <th>Ganancias</th>\n",
       "    </tr>\n",
       "  </thead>\n",
       "  <tbody>\n",
       "    <tr>\n",
       "      <th>0</th>\n",
       "      <td>1955</td>\n",
       "      <td>1</td>\n",
       "      <td>General Motors</td>\n",
       "      <td>9823.5</td>\n",
       "      <td>806.0</td>\n",
       "    </tr>\n",
       "    <tr>\n",
       "      <th>1</th>\n",
       "      <td>1955</td>\n",
       "      <td>2</td>\n",
       "      <td>Exxon Mobil</td>\n",
       "      <td>5661.4</td>\n",
       "      <td>584.8</td>\n",
       "    </tr>\n",
       "    <tr>\n",
       "      <th>2</th>\n",
       "      <td>1955</td>\n",
       "      <td>3</td>\n",
       "      <td>U.S. Steel</td>\n",
       "      <td>3250.4</td>\n",
       "      <td>195.4</td>\n",
       "    </tr>\n",
       "    <tr>\n",
       "      <th>3</th>\n",
       "      <td>1955</td>\n",
       "      <td>4</td>\n",
       "      <td>General Electric</td>\n",
       "      <td>2959.1</td>\n",
       "      <td>212.6</td>\n",
       "    </tr>\n",
       "    <tr>\n",
       "      <th>4</th>\n",
       "      <td>1955</td>\n",
       "      <td>5</td>\n",
       "      <td>Esmark</td>\n",
       "      <td>2510.8</td>\n",
       "      <td>19.1</td>\n",
       "    </tr>\n",
       "  </tbody>\n",
       "</table>\n",
       "</div>"
      ],
      "text/plain": [
       "    Año  Rango          Compañía  Ingresos  Ganancias\n",
       "0  1955      1    General Motors    9823.5      806.0\n",
       "1  1955      2       Exxon Mobil    5661.4      584.8\n",
       "2  1955      3        U.S. Steel    3250.4      195.4\n",
       "3  1955      4  General Electric    2959.1      212.6\n",
       "4  1955      5            Esmark    2510.8       19.1"
      ]
     },
     "execution_count": 58,
     "metadata": {
      "tags": []
     },
     "output_type": "execute_result"
    }
   ],
   "source": [
    "df[0:5]"
   ]
  },
  {
   "cell_type": "code",
   "execution_count": 0,
   "metadata": {
    "colab": {
     "base_uri": "https://localhost:8080/",
     "height": 206
    },
    "colab_type": "code",
    "id": "skPoCsbwDKgP",
    "outputId": "becead87-a8eb-4d95-cec6-eccb626f1843"
   },
   "outputs": [
    {
     "data": {
      "text/html": [
       "<div>\n",
       "<style scoped>\n",
       "    .dataframe tbody tr th:only-of-type {\n",
       "        vertical-align: middle;\n",
       "    }\n",
       "\n",
       "    .dataframe tbody tr th {\n",
       "        vertical-align: top;\n",
       "    }\n",
       "\n",
       "    .dataframe thead th {\n",
       "        text-align: right;\n",
       "    }\n",
       "</style>\n",
       "<table border=\"1\" class=\"dataframe\">\n",
       "  <thead>\n",
       "    <tr style=\"text-align: right;\">\n",
       "      <th></th>\n",
       "      <th>Año</th>\n",
       "      <th>Rango</th>\n",
       "      <th>Compañía</th>\n",
       "      <th>Ingresos</th>\n",
       "      <th>Ganancias</th>\n",
       "    </tr>\n",
       "  </thead>\n",
       "  <tbody>\n",
       "    <tr>\n",
       "      <th>0</th>\n",
       "      <td>1955</td>\n",
       "      <td>1</td>\n",
       "      <td>General Motors</td>\n",
       "      <td>9823.5</td>\n",
       "      <td>806.0</td>\n",
       "    </tr>\n",
       "    <tr>\n",
       "      <th>1</th>\n",
       "      <td>1955</td>\n",
       "      <td>2</td>\n",
       "      <td>Exxon Mobil</td>\n",
       "      <td>5661.4</td>\n",
       "      <td>584.8</td>\n",
       "    </tr>\n",
       "    <tr>\n",
       "      <th>2</th>\n",
       "      <td>1955</td>\n",
       "      <td>3</td>\n",
       "      <td>U.S. Steel</td>\n",
       "      <td>3250.4</td>\n",
       "      <td>195.4</td>\n",
       "    </tr>\n",
       "    <tr>\n",
       "      <th>3</th>\n",
       "      <td>1955</td>\n",
       "      <td>4</td>\n",
       "      <td>General Electric</td>\n",
       "      <td>2959.1</td>\n",
       "      <td>212.6</td>\n",
       "    </tr>\n",
       "    <tr>\n",
       "      <th>4</th>\n",
       "      <td>1955</td>\n",
       "      <td>5</td>\n",
       "      <td>Esmark</td>\n",
       "      <td>2510.8</td>\n",
       "      <td>19.1</td>\n",
       "    </tr>\n",
       "  </tbody>\n",
       "</table>\n",
       "</div>"
      ],
      "text/plain": [
       "    Año  Rango          Compañía  Ingresos  Ganancias\n",
       "0  1955      1    General Motors    9823.5      806.0\n",
       "1  1955      2       Exxon Mobil    5661.4      584.8\n",
       "2  1955      3        U.S. Steel    3250.4      195.4\n",
       "3  1955      4  General Electric    2959.1      212.6\n",
       "4  1955      5            Esmark    2510.8       19.1"
      ]
     },
     "execution_count": 59,
     "metadata": {
      "tags": []
     },
     "output_type": "execute_result"
    }
   ],
   "source": [
    "df.iloc[0:5]"
   ]
  },
  {
   "cell_type": "code",
   "execution_count": 0,
   "metadata": {
    "colab": {
     "base_uri": "https://localhost:8080/",
     "height": 206
    },
    "colab_type": "code",
    "id": "_wmiDH9cDq67",
    "outputId": "2862fbfe-e286-4531-89fb-319f2e2cec85"
   },
   "outputs": [
    {
     "data": {
      "text/html": [
       "<div>\n",
       "<style scoped>\n",
       "    .dataframe tbody tr th:only-of-type {\n",
       "        vertical-align: middle;\n",
       "    }\n",
       "\n",
       "    .dataframe tbody tr th {\n",
       "        vertical-align: top;\n",
       "    }\n",
       "\n",
       "    .dataframe thead th {\n",
       "        text-align: right;\n",
       "    }\n",
       "</style>\n",
       "<table border=\"1\" class=\"dataframe\">\n",
       "  <thead>\n",
       "    <tr style=\"text-align: right;\">\n",
       "      <th></th>\n",
       "      <th>Compañía</th>\n",
       "      <th>Ganancias</th>\n",
       "    </tr>\n",
       "  </thead>\n",
       "  <tbody>\n",
       "    <tr>\n",
       "      <th>0</th>\n",
       "      <td>General Motors</td>\n",
       "      <td>806.0</td>\n",
       "    </tr>\n",
       "    <tr>\n",
       "      <th>1</th>\n",
       "      <td>Exxon Mobil</td>\n",
       "      <td>584.8</td>\n",
       "    </tr>\n",
       "    <tr>\n",
       "      <th>2</th>\n",
       "      <td>U.S. Steel</td>\n",
       "      <td>195.4</td>\n",
       "    </tr>\n",
       "    <tr>\n",
       "      <th>3</th>\n",
       "      <td>General Electric</td>\n",
       "      <td>212.6</td>\n",
       "    </tr>\n",
       "    <tr>\n",
       "      <th>4</th>\n",
       "      <td>Esmark</td>\n",
       "      <td>19.1</td>\n",
       "    </tr>\n",
       "  </tbody>\n",
       "</table>\n",
       "</div>"
      ],
      "text/plain": [
       "           Compañía  Ganancias\n",
       "0    General Motors      806.0\n",
       "1       Exxon Mobil      584.8\n",
       "2        U.S. Steel      195.4\n",
       "3  General Electric      212.6\n",
       "4            Esmark       19.1"
      ]
     },
     "execution_count": 65,
     "metadata": {
      "tags": []
     },
     "output_type": "execute_result"
    }
   ],
   "source": [
    "df.iloc[0:5,[2,4]]"
   ]
  },
  {
   "cell_type": "code",
   "execution_count": 0,
   "metadata": {
    "colab": {
     "base_uri": "https://localhost:8080/",
     "height": 238
    },
    "colab_type": "code",
    "id": "5fvXndH8DNPH",
    "outputId": "6d60f322-9e0e-428a-9a28-4512f8c74f30"
   },
   "outputs": [
    {
     "data": {
      "text/html": [
       "<div>\n",
       "<style scoped>\n",
       "    .dataframe tbody tr th:only-of-type {\n",
       "        vertical-align: middle;\n",
       "    }\n",
       "\n",
       "    .dataframe tbody tr th {\n",
       "        vertical-align: top;\n",
       "    }\n",
       "\n",
       "    .dataframe thead th {\n",
       "        text-align: right;\n",
       "    }\n",
       "</style>\n",
       "<table border=\"1\" class=\"dataframe\">\n",
       "  <thead>\n",
       "    <tr style=\"text-align: right;\">\n",
       "      <th></th>\n",
       "      <th>Año</th>\n",
       "      <th>Rango</th>\n",
       "      <th>Compañía</th>\n",
       "      <th>Ingresos</th>\n",
       "      <th>Ganancias</th>\n",
       "    </tr>\n",
       "  </thead>\n",
       "  <tbody>\n",
       "    <tr>\n",
       "      <th>0</th>\n",
       "      <td>1955</td>\n",
       "      <td>1</td>\n",
       "      <td>General Motors</td>\n",
       "      <td>9823.5</td>\n",
       "      <td>806.0</td>\n",
       "    </tr>\n",
       "    <tr>\n",
       "      <th>1</th>\n",
       "      <td>1955</td>\n",
       "      <td>2</td>\n",
       "      <td>Exxon Mobil</td>\n",
       "      <td>5661.4</td>\n",
       "      <td>584.8</td>\n",
       "    </tr>\n",
       "    <tr>\n",
       "      <th>2</th>\n",
       "      <td>1955</td>\n",
       "      <td>3</td>\n",
       "      <td>U.S. Steel</td>\n",
       "      <td>3250.4</td>\n",
       "      <td>195.4</td>\n",
       "    </tr>\n",
       "    <tr>\n",
       "      <th>3</th>\n",
       "      <td>1955</td>\n",
       "      <td>4</td>\n",
       "      <td>General Electric</td>\n",
       "      <td>2959.1</td>\n",
       "      <td>212.6</td>\n",
       "    </tr>\n",
       "    <tr>\n",
       "      <th>4</th>\n",
       "      <td>1955</td>\n",
       "      <td>5</td>\n",
       "      <td>Esmark</td>\n",
       "      <td>2510.8</td>\n",
       "      <td>19.1</td>\n",
       "    </tr>\n",
       "    <tr>\n",
       "      <th>5</th>\n",
       "      <td>1955</td>\n",
       "      <td>6</td>\n",
       "      <td>Chrysler</td>\n",
       "      <td>2071.6</td>\n",
       "      <td>18.5</td>\n",
       "    </tr>\n",
       "  </tbody>\n",
       "</table>\n",
       "</div>"
      ],
      "text/plain": [
       "    Año  Rango          Compañía  Ingresos  Ganancias\n",
       "0  1955      1    General Motors    9823.5      806.0\n",
       "1  1955      2       Exxon Mobil    5661.4      584.8\n",
       "2  1955      3        U.S. Steel    3250.4      195.4\n",
       "3  1955      4  General Electric    2959.1      212.6\n",
       "4  1955      5            Esmark    2510.8       19.1\n",
       "5  1955      6          Chrysler    2071.6       18.5"
      ]
     },
     "execution_count": 61,
     "metadata": {
      "tags": []
     },
     "output_type": "execute_result"
    }
   ],
   "source": [
    "df.loc[0:5] #Ojo con el 5"
   ]
  },
  {
   "cell_type": "code",
   "execution_count": 0,
   "metadata": {
    "colab": {
     "base_uri": "https://localhost:8080/",
     "height": 238
    },
    "colab_type": "code",
    "id": "2SN6W7yiDVr8",
    "outputId": "1ca509ec-887f-404a-ac0d-212e9ca26115"
   },
   "outputs": [
    {
     "data": {
      "text/html": [
       "<div>\n",
       "<style scoped>\n",
       "    .dataframe tbody tr th:only-of-type {\n",
       "        vertical-align: middle;\n",
       "    }\n",
       "\n",
       "    .dataframe tbody tr th {\n",
       "        vertical-align: top;\n",
       "    }\n",
       "\n",
       "    .dataframe thead th {\n",
       "        text-align: right;\n",
       "    }\n",
       "</style>\n",
       "<table border=\"1\" class=\"dataframe\">\n",
       "  <thead>\n",
       "    <tr style=\"text-align: right;\">\n",
       "      <th></th>\n",
       "      <th>Compañía</th>\n",
       "      <th>Ganancias</th>\n",
       "    </tr>\n",
       "  </thead>\n",
       "  <tbody>\n",
       "    <tr>\n",
       "      <th>0</th>\n",
       "      <td>General Motors</td>\n",
       "      <td>806.0</td>\n",
       "    </tr>\n",
       "    <tr>\n",
       "      <th>1</th>\n",
       "      <td>Exxon Mobil</td>\n",
       "      <td>584.8</td>\n",
       "    </tr>\n",
       "    <tr>\n",
       "      <th>2</th>\n",
       "      <td>U.S. Steel</td>\n",
       "      <td>195.4</td>\n",
       "    </tr>\n",
       "    <tr>\n",
       "      <th>3</th>\n",
       "      <td>General Electric</td>\n",
       "      <td>212.6</td>\n",
       "    </tr>\n",
       "    <tr>\n",
       "      <th>4</th>\n",
       "      <td>Esmark</td>\n",
       "      <td>19.1</td>\n",
       "    </tr>\n",
       "    <tr>\n",
       "      <th>5</th>\n",
       "      <td>Chrysler</td>\n",
       "      <td>18.5</td>\n",
       "    </tr>\n",
       "  </tbody>\n",
       "</table>\n",
       "</div>"
      ],
      "text/plain": [
       "           Compañía  Ganancias\n",
       "0    General Motors      806.0\n",
       "1       Exxon Mobil      584.8\n",
       "2        U.S. Steel      195.4\n",
       "3  General Electric      212.6\n",
       "4            Esmark       19.1\n",
       "5          Chrysler       18.5"
      ]
     },
     "execution_count": 63,
     "metadata": {
      "tags": []
     },
     "output_type": "execute_result"
    }
   ],
   "source": [
    "df.loc[0:5,['Compañía','Ganancias']]"
   ]
  },
  {
   "cell_type": "markdown",
   "metadata": {
    "colab_type": "text",
    "id": "JbWp3d6RChJk"
   },
   "source": [
    "## Arreglar no-numéricos"
   ]
  },
  {
   "cell_type": "code",
   "execution_count": 0,
   "metadata": {
    "colab": {
     "base_uri": "https://localhost:8080/",
     "height": 127
    },
    "colab_type": "code",
    "id": "8tFTHAe6Ba8O",
    "outputId": "e341e1ca-b92f-4656-e4da-20bfab936674"
   },
   "outputs": [
    {
     "data": {
      "text/plain": [
       "Año            int64\n",
       "Rango          int64\n",
       "Compañía      object\n",
       "Ingresos     float64\n",
       "Ganancias    float64\n",
       "dtype: object"
      ]
     },
     "execution_count": 97,
     "metadata": {
      "tags": []
     },
     "output_type": "execute_result"
    }
   ],
   "source": [
    "df['Ganancias']=pd.to_numeric(df['Ganancias'],errors='coerce')\n",
    "df.dtypes"
   ]
  },
  {
   "cell_type": "code",
   "execution_count": 0,
   "metadata": {
    "colab": {
     "base_uri": "https://localhost:8080/",
     "height": 1000
    },
    "colab_type": "code",
    "id": "rU15lnp2CtWH",
    "outputId": "fb2410ca-2bb2-4841-a132-506aacb750fe"
   },
   "outputs": [
    {
     "data": {
      "text/html": [
       "<div>\n",
       "<style scoped>\n",
       "    .dataframe tbody tr th:only-of-type {\n",
       "        vertical-align: middle;\n",
       "    }\n",
       "\n",
       "    .dataframe tbody tr th {\n",
       "        vertical-align: top;\n",
       "    }\n",
       "\n",
       "    .dataframe thead th {\n",
       "        text-align: right;\n",
       "    }\n",
       "</style>\n",
       "<table border=\"1\" class=\"dataframe\">\n",
       "  <thead>\n",
       "    <tr style=\"text-align: right;\">\n",
       "      <th></th>\n",
       "      <th>Año</th>\n",
       "      <th>Rango</th>\n",
       "      <th>Compañía</th>\n",
       "      <th>Ingresos</th>\n",
       "      <th>Ganancias</th>\n",
       "    </tr>\n",
       "  </thead>\n",
       "  <tbody>\n",
       "    <tr>\n",
       "      <th>228</th>\n",
       "      <td>1955</td>\n",
       "      <td>229</td>\n",
       "      <td>Norton</td>\n",
       "      <td>135.0</td>\n",
       "      <td>NaN</td>\n",
       "    </tr>\n",
       "    <tr>\n",
       "      <th>290</th>\n",
       "      <td>1955</td>\n",
       "      <td>291</td>\n",
       "      <td>Schlitz Brewing</td>\n",
       "      <td>100.0</td>\n",
       "      <td>NaN</td>\n",
       "    </tr>\n",
       "    <tr>\n",
       "      <th>294</th>\n",
       "      <td>1955</td>\n",
       "      <td>295</td>\n",
       "      <td>Pacific Vegetable Oil</td>\n",
       "      <td>97.9</td>\n",
       "      <td>NaN</td>\n",
       "    </tr>\n",
       "    <tr>\n",
       "      <th>296</th>\n",
       "      <td>1955</td>\n",
       "      <td>297</td>\n",
       "      <td>Liebmann Breweries</td>\n",
       "      <td>96.0</td>\n",
       "      <td>NaN</td>\n",
       "    </tr>\n",
       "    <tr>\n",
       "      <th>352</th>\n",
       "      <td>1955</td>\n",
       "      <td>353</td>\n",
       "      <td>Minneapolis-Moline</td>\n",
       "      <td>77.4</td>\n",
       "      <td>NaN</td>\n",
       "    </tr>\n",
       "    <tr>\n",
       "      <th>464</th>\n",
       "      <td>1955</td>\n",
       "      <td>465</td>\n",
       "      <td>Gilfillan Bros.</td>\n",
       "      <td>54.0</td>\n",
       "      <td>NaN</td>\n",
       "    </tr>\n",
       "    <tr>\n",
       "      <th>712</th>\n",
       "      <td>1956</td>\n",
       "      <td>213</td>\n",
       "      <td>Norton</td>\n",
       "      <td>160.5</td>\n",
       "      <td>NaN</td>\n",
       "    </tr>\n",
       "    <tr>\n",
       "      <th>857</th>\n",
       "      <td>1956</td>\n",
       "      <td>358</td>\n",
       "      <td>Liebmann Breweries</td>\n",
       "      <td>83.0</td>\n",
       "      <td>NaN</td>\n",
       "    </tr>\n",
       "    <tr>\n",
       "      <th>1225</th>\n",
       "      <td>1957</td>\n",
       "      <td>226</td>\n",
       "      <td>Norton</td>\n",
       "      <td>173.0</td>\n",
       "      <td>NaN</td>\n",
       "    </tr>\n",
       "    <tr>\n",
       "      <th>1372</th>\n",
       "      <td>1957</td>\n",
       "      <td>373</td>\n",
       "      <td>Liebmann Breweries</td>\n",
       "      <td>90.0</td>\n",
       "      <td>NaN</td>\n",
       "    </tr>\n",
       "    <tr>\n",
       "      <th>1419</th>\n",
       "      <td>1957</td>\n",
       "      <td>420</td>\n",
       "      <td>Crowell-Collier Publishing</td>\n",
       "      <td>74.8</td>\n",
       "      <td>NaN</td>\n",
       "    </tr>\n",
       "    <tr>\n",
       "      <th>1717</th>\n",
       "      <td>1958</td>\n",
       "      <td>218</td>\n",
       "      <td>Hearst Consolidated Publications</td>\n",
       "      <td>195.7</td>\n",
       "      <td>NaN</td>\n",
       "    </tr>\n",
       "    <tr>\n",
       "      <th>1738</th>\n",
       "      <td>1958</td>\n",
       "      <td>239</td>\n",
       "      <td>Norton</td>\n",
       "      <td>176.8</td>\n",
       "      <td>NaN</td>\n",
       "    </tr>\n",
       "    <tr>\n",
       "      <th>1900</th>\n",
       "      <td>1958</td>\n",
       "      <td>401</td>\n",
       "      <td>Liebmann Breweries</td>\n",
       "      <td>85.0</td>\n",
       "      <td>NaN</td>\n",
       "    </tr>\n",
       "    <tr>\n",
       "      <th>2264</th>\n",
       "      <td>1959</td>\n",
       "      <td>265</td>\n",
       "      <td>Norton</td>\n",
       "      <td>150.0</td>\n",
       "      <td>NaN</td>\n",
       "    </tr>\n",
       "    <tr>\n",
       "      <th>2456</th>\n",
       "      <td>1959</td>\n",
       "      <td>457</td>\n",
       "      <td>Joy Global</td>\n",
       "      <td>68.9</td>\n",
       "      <td>NaN</td>\n",
       "    </tr>\n",
       "    <tr>\n",
       "      <th>2491</th>\n",
       "      <td>1959</td>\n",
       "      <td>492</td>\n",
       "      <td>Suntide Refining</td>\n",
       "      <td>63.0</td>\n",
       "      <td>NaN</td>\n",
       "    </tr>\n",
       "    <tr>\n",
       "      <th>2754</th>\n",
       "      <td>1960</td>\n",
       "      <td>255</td>\n",
       "      <td>Norton</td>\n",
       "      <td>174.9</td>\n",
       "      <td>NaN</td>\n",
       "    </tr>\n",
       "    <tr>\n",
       "      <th>3253</th>\n",
       "      <td>1961</td>\n",
       "      <td>254</td>\n",
       "      <td>Norton</td>\n",
       "      <td>181.9</td>\n",
       "      <td>NaN</td>\n",
       "    </tr>\n",
       "    <tr>\n",
       "      <th>3442</th>\n",
       "      <td>1961</td>\n",
       "      <td>443</td>\n",
       "      <td>Alco Products</td>\n",
       "      <td>86.7</td>\n",
       "      <td>NaN</td>\n",
       "    </tr>\n",
       "    <tr>\n",
       "      <th>3754</th>\n",
       "      <td>1962</td>\n",
       "      <td>255</td>\n",
       "      <td>Norton</td>\n",
       "      <td>178.8</td>\n",
       "      <td>NaN</td>\n",
       "    </tr>\n",
       "    <tr>\n",
       "      <th>3998</th>\n",
       "      <td>1962</td>\n",
       "      <td>499</td>\n",
       "      <td>Fuller (W.P.)</td>\n",
       "      <td>76.2</td>\n",
       "      <td>NaN</td>\n",
       "    </tr>\n",
       "    <tr>\n",
       "      <th>5485</th>\n",
       "      <td>1965</td>\n",
       "      <td>486</td>\n",
       "      <td>Seaboard</td>\n",
       "      <td>101.5</td>\n",
       "      <td>NaN</td>\n",
       "    </tr>\n",
       "    <tr>\n",
       "      <th>8032</th>\n",
       "      <td>1971</td>\n",
       "      <td>33</td>\n",
       "      <td>Lockheed Martin</td>\n",
       "      <td>2535.0</td>\n",
       "      <td>NaN</td>\n",
       "    </tr>\n",
       "    <tr>\n",
       "      <th>8183</th>\n",
       "      <td>1971</td>\n",
       "      <td>184</td>\n",
       "      <td>Land O'Lakes</td>\n",
       "      <td>654.3</td>\n",
       "      <td>NaN</td>\n",
       "    </tr>\n",
       "    <tr>\n",
       "      <th>8191</th>\n",
       "      <td>1971</td>\n",
       "      <td>192</td>\n",
       "      <td>Farmland Industries</td>\n",
       "      <td>612.8</td>\n",
       "      <td>NaN</td>\n",
       "    </tr>\n",
       "    <tr>\n",
       "      <th>8193</th>\n",
       "      <td>1971</td>\n",
       "      <td>194</td>\n",
       "      <td>Agway</td>\n",
       "      <td>597.9</td>\n",
       "      <td>NaN</td>\n",
       "    </tr>\n",
       "    <tr>\n",
       "      <th>8296</th>\n",
       "      <td>1971</td>\n",
       "      <td>297</td>\n",
       "      <td>Gold Kist Holdings</td>\n",
       "      <td>347.9</td>\n",
       "      <td>NaN</td>\n",
       "    </tr>\n",
       "    <tr>\n",
       "      <th>8313</th>\n",
       "      <td>1971</td>\n",
       "      <td>314</td>\n",
       "      <td>Dairylea Cooperative</td>\n",
       "      <td>327.3</td>\n",
       "      <td>NaN</td>\n",
       "    </tr>\n",
       "    <tr>\n",
       "      <th>8481</th>\n",
       "      <td>1971</td>\n",
       "      <td>482</td>\n",
       "      <td>Farmers Union Central Exchange</td>\n",
       "      <td>175.3</td>\n",
       "      <td>NaN</td>\n",
       "    </tr>\n",
       "    <tr>\n",
       "      <th>...</th>\n",
       "      <td>...</td>\n",
       "      <td>...</td>\n",
       "      <td>...</td>\n",
       "      <td>...</td>\n",
       "      <td>...</td>\n",
       "    </tr>\n",
       "    <tr>\n",
       "      <th>20989</th>\n",
       "      <td>1996</td>\n",
       "      <td>490</td>\n",
       "      <td>Roundy's</td>\n",
       "      <td>2488.2</td>\n",
       "      <td>NaN</td>\n",
       "    </tr>\n",
       "    <tr>\n",
       "      <th>20996</th>\n",
       "      <td>1996</td>\n",
       "      <td>497</td>\n",
       "      <td>True Value</td>\n",
       "      <td>2437.0</td>\n",
       "      <td>NaN</td>\n",
       "    </tr>\n",
       "    <tr>\n",
       "      <th>20997</th>\n",
       "      <td>1996</td>\n",
       "      <td>498</td>\n",
       "      <td>Ace Hardware</td>\n",
       "      <td>2436.0</td>\n",
       "      <td>NaN</td>\n",
       "    </tr>\n",
       "    <tr>\n",
       "      <th>21085</th>\n",
       "      <td>1997</td>\n",
       "      <td>86</td>\n",
       "      <td>College Retirement Equities Fund</td>\n",
       "      <td>13864.6</td>\n",
       "      <td>NaN</td>\n",
       "    </tr>\n",
       "    <tr>\n",
       "      <th>21150</th>\n",
       "      <td>1997</td>\n",
       "      <td>151</td>\n",
       "      <td>Farmland Industries</td>\n",
       "      <td>9788.6</td>\n",
       "      <td>NaN</td>\n",
       "    </tr>\n",
       "    <tr>\n",
       "      <th>21477</th>\n",
       "      <td>1997</td>\n",
       "      <td>478</td>\n",
       "      <td>Ace Hardware</td>\n",
       "      <td>2742.5</td>\n",
       "      <td>NaN</td>\n",
       "    </tr>\n",
       "    <tr>\n",
       "      <th>21497</th>\n",
       "      <td>1997</td>\n",
       "      <td>498</td>\n",
       "      <td>Roundy's</td>\n",
       "      <td>2583.5</td>\n",
       "      <td>NaN</td>\n",
       "    </tr>\n",
       "    <tr>\n",
       "      <th>21669</th>\n",
       "      <td>1998</td>\n",
       "      <td>170</td>\n",
       "      <td>Farmland Industries</td>\n",
       "      <td>9147.5</td>\n",
       "      <td>NaN</td>\n",
       "    </tr>\n",
       "    <tr>\n",
       "      <th>21931</th>\n",
       "      <td>1998</td>\n",
       "      <td>432</td>\n",
       "      <td>True Value</td>\n",
       "      <td>3332.0</td>\n",
       "      <td>NaN</td>\n",
       "    </tr>\n",
       "    <tr>\n",
       "      <th>21981</th>\n",
       "      <td>1998</td>\n",
       "      <td>482</td>\n",
       "      <td>Ace Hardware</td>\n",
       "      <td>2907.3</td>\n",
       "      <td>NaN</td>\n",
       "    </tr>\n",
       "    <tr>\n",
       "      <th>22183</th>\n",
       "      <td>1999</td>\n",
       "      <td>184</td>\n",
       "      <td>Farmland Industries</td>\n",
       "      <td>8775.0</td>\n",
       "      <td>NaN</td>\n",
       "    </tr>\n",
       "    <tr>\n",
       "      <th>22359</th>\n",
       "      <td>1999</td>\n",
       "      <td>360</td>\n",
       "      <td>True Value</td>\n",
       "      <td>4328.2</td>\n",
       "      <td>NaN</td>\n",
       "    </tr>\n",
       "    <tr>\n",
       "      <th>22466</th>\n",
       "      <td>1999</td>\n",
       "      <td>467</td>\n",
       "      <td>Ace Hardware</td>\n",
       "      <td>3120.4</td>\n",
       "      <td>NaN</td>\n",
       "    </tr>\n",
       "    <tr>\n",
       "      <th>22660</th>\n",
       "      <td>2000</td>\n",
       "      <td>161</td>\n",
       "      <td>Farmland Industries</td>\n",
       "      <td>10709.1</td>\n",
       "      <td>NaN</td>\n",
       "    </tr>\n",
       "    <tr>\n",
       "      <th>22766</th>\n",
       "      <td>2000</td>\n",
       "      <td>267</td>\n",
       "      <td>CHS</td>\n",
       "      <td>6434.5</td>\n",
       "      <td>NaN</td>\n",
       "    </tr>\n",
       "    <tr>\n",
       "      <th>22856</th>\n",
       "      <td>2000</td>\n",
       "      <td>357</td>\n",
       "      <td>True Value</td>\n",
       "      <td>4502.3</td>\n",
       "      <td>NaN</td>\n",
       "    </tr>\n",
       "    <tr>\n",
       "      <th>22981</th>\n",
       "      <td>2000</td>\n",
       "      <td>482</td>\n",
       "      <td>Ace Hardware</td>\n",
       "      <td>3181.8</td>\n",
       "      <td>NaN</td>\n",
       "    </tr>\n",
       "    <tr>\n",
       "      <th>23159</th>\n",
       "      <td>2001</td>\n",
       "      <td>160</td>\n",
       "      <td>Farmland Industries</td>\n",
       "      <td>12239.0</td>\n",
       "      <td>NaN</td>\n",
       "    </tr>\n",
       "    <tr>\n",
       "      <th>23222</th>\n",
       "      <td>2001</td>\n",
       "      <td>223</td>\n",
       "      <td>CHS</td>\n",
       "      <td>8571.4</td>\n",
       "      <td>NaN</td>\n",
       "    </tr>\n",
       "    <tr>\n",
       "      <th>23402</th>\n",
       "      <td>2001</td>\n",
       "      <td>403</td>\n",
       "      <td>True Value</td>\n",
       "      <td>4159.0</td>\n",
       "      <td>NaN</td>\n",
       "    </tr>\n",
       "    <tr>\n",
       "      <th>23504</th>\n",
       "      <td>2002</td>\n",
       "      <td>5</td>\n",
       "      <td>Enron</td>\n",
       "      <td>138718.0</td>\n",
       "      <td>NaN</td>\n",
       "    </tr>\n",
       "    <tr>\n",
       "      <th>23669</th>\n",
       "      <td>2002</td>\n",
       "      <td>170</td>\n",
       "      <td>Farmland Industries</td>\n",
       "      <td>11763.4</td>\n",
       "      <td>NaN</td>\n",
       "    </tr>\n",
       "    <tr>\n",
       "      <th>23743</th>\n",
       "      <td>2002</td>\n",
       "      <td>244</td>\n",
       "      <td>CHS</td>\n",
       "      <td>7875.2</td>\n",
       "      <td>NaN</td>\n",
       "    </tr>\n",
       "    <tr>\n",
       "      <th>23951</th>\n",
       "      <td>2002</td>\n",
       "      <td>452</td>\n",
       "      <td>Roundy's</td>\n",
       "      <td>3451.5</td>\n",
       "      <td>NaN</td>\n",
       "    </tr>\n",
       "    <tr>\n",
       "      <th>24236</th>\n",
       "      <td>2003</td>\n",
       "      <td>237</td>\n",
       "      <td>CHS</td>\n",
       "      <td>7845.2</td>\n",
       "      <td>NaN</td>\n",
       "    </tr>\n",
       "    <tr>\n",
       "      <th>24242</th>\n",
       "      <td>2003</td>\n",
       "      <td>243</td>\n",
       "      <td>Farmland Industries</td>\n",
       "      <td>7580.2</td>\n",
       "      <td>NaN</td>\n",
       "    </tr>\n",
       "    <tr>\n",
       "      <th>24296</th>\n",
       "      <td>2003</td>\n",
       "      <td>297</td>\n",
       "      <td>Land O'Lakes</td>\n",
       "      <td>5847.0</td>\n",
       "      <td>NaN</td>\n",
       "    </tr>\n",
       "    <tr>\n",
       "      <th>24435</th>\n",
       "      <td>2003</td>\n",
       "      <td>436</td>\n",
       "      <td>Roundy's</td>\n",
       "      <td>3637.9</td>\n",
       "      <td>NaN</td>\n",
       "    </tr>\n",
       "    <tr>\n",
       "      <th>24489</th>\n",
       "      <td>2003</td>\n",
       "      <td>490</td>\n",
       "      <td>Ace Hardware</td>\n",
       "      <td>3029.0</td>\n",
       "      <td>NaN</td>\n",
       "    </tr>\n",
       "    <tr>\n",
       "      <th>25485</th>\n",
       "      <td>2005</td>\n",
       "      <td>486</td>\n",
       "      <td>Host Marriott</td>\n",
       "      <td>3773.0</td>\n",
       "      <td>NaN</td>\n",
       "    </tr>\n",
       "  </tbody>\n",
       "</table>\n",
       "<p>369 rows × 5 columns</p>\n",
       "</div>"
      ],
      "text/plain": [
       "        Año  Rango                          Compañía  Ingresos  Ganancias\n",
       "228    1955    229                            Norton     135.0        NaN\n",
       "290    1955    291                   Schlitz Brewing     100.0        NaN\n",
       "294    1955    295             Pacific Vegetable Oil      97.9        NaN\n",
       "296    1955    297                Liebmann Breweries      96.0        NaN\n",
       "352    1955    353                Minneapolis-Moline      77.4        NaN\n",
       "464    1955    465                   Gilfillan Bros.      54.0        NaN\n",
       "712    1956    213                            Norton     160.5        NaN\n",
       "857    1956    358                Liebmann Breweries      83.0        NaN\n",
       "1225   1957    226                            Norton     173.0        NaN\n",
       "1372   1957    373                Liebmann Breweries      90.0        NaN\n",
       "1419   1957    420        Crowell-Collier Publishing      74.8        NaN\n",
       "1717   1958    218  Hearst Consolidated Publications     195.7        NaN\n",
       "1738   1958    239                            Norton     176.8        NaN\n",
       "1900   1958    401                Liebmann Breweries      85.0        NaN\n",
       "2264   1959    265                            Norton     150.0        NaN\n",
       "2456   1959    457                        Joy Global      68.9        NaN\n",
       "2491   1959    492                  Suntide Refining      63.0        NaN\n",
       "2754   1960    255                            Norton     174.9        NaN\n",
       "3253   1961    254                            Norton     181.9        NaN\n",
       "3442   1961    443                     Alco Products      86.7        NaN\n",
       "3754   1962    255                            Norton     178.8        NaN\n",
       "3998   1962    499                     Fuller (W.P.)      76.2        NaN\n",
       "5485   1965    486                          Seaboard     101.5        NaN\n",
       "8032   1971     33                   Lockheed Martin    2535.0        NaN\n",
       "8183   1971    184                      Land O'Lakes     654.3        NaN\n",
       "8191   1971    192               Farmland Industries     612.8        NaN\n",
       "8193   1971    194                             Agway     597.9        NaN\n",
       "8296   1971    297                Gold Kist Holdings     347.9        NaN\n",
       "8313   1971    314              Dairylea Cooperative     327.3        NaN\n",
       "8481   1971    482    Farmers Union Central Exchange     175.3        NaN\n",
       "...     ...    ...                               ...       ...        ...\n",
       "20989  1996    490                          Roundy's    2488.2        NaN\n",
       "20996  1996    497                        True Value    2437.0        NaN\n",
       "20997  1996    498                      Ace Hardware    2436.0        NaN\n",
       "21085  1997     86  College Retirement Equities Fund   13864.6        NaN\n",
       "21150  1997    151               Farmland Industries    9788.6        NaN\n",
       "21477  1997    478                      Ace Hardware    2742.5        NaN\n",
       "21497  1997    498                          Roundy's    2583.5        NaN\n",
       "21669  1998    170               Farmland Industries    9147.5        NaN\n",
       "21931  1998    432                        True Value    3332.0        NaN\n",
       "21981  1998    482                      Ace Hardware    2907.3        NaN\n",
       "22183  1999    184               Farmland Industries    8775.0        NaN\n",
       "22359  1999    360                        True Value    4328.2        NaN\n",
       "22466  1999    467                      Ace Hardware    3120.4        NaN\n",
       "22660  2000    161               Farmland Industries   10709.1        NaN\n",
       "22766  2000    267                               CHS    6434.5        NaN\n",
       "22856  2000    357                        True Value    4502.3        NaN\n",
       "22981  2000    482                      Ace Hardware    3181.8        NaN\n",
       "23159  2001    160               Farmland Industries   12239.0        NaN\n",
       "23222  2001    223                               CHS    8571.4        NaN\n",
       "23402  2001    403                        True Value    4159.0        NaN\n",
       "23504  2002      5                             Enron  138718.0        NaN\n",
       "23669  2002    170               Farmland Industries   11763.4        NaN\n",
       "23743  2002    244                               CHS    7875.2        NaN\n",
       "23951  2002    452                          Roundy's    3451.5        NaN\n",
       "24236  2003    237                               CHS    7845.2        NaN\n",
       "24242  2003    243               Farmland Industries    7580.2        NaN\n",
       "24296  2003    297                      Land O'Lakes    5847.0        NaN\n",
       "24435  2003    436                          Roundy's    3637.9        NaN\n",
       "24489  2003    490                      Ace Hardware    3029.0        NaN\n",
       "25485  2005    486                     Host Marriott    3773.0        NaN\n",
       "\n",
       "[369 rows x 5 columns]"
      ]
     },
     "execution_count": 98,
     "metadata": {
      "tags": []
     },
     "output_type": "execute_result"
    }
   ],
   "source": [
    "ganan=df.Ganancias.isna()\n",
    "df[ganan]"
   ]
  },
  {
   "cell_type": "code",
   "execution_count": 0,
   "metadata": {
    "colab": {},
    "colab_type": "code",
    "id": "mex-dtklD2hD"
   },
   "outputs": [],
   "source": [
    "df.loc[ganan,'Ganancias']=0"
   ]
  },
  {
   "cell_type": "code",
   "execution_count": 0,
   "metadata": {
    "colab": {
     "base_uri": "https://localhost:8080/",
     "height": 1000
    },
    "colab_type": "code",
    "id": "vF5jp_euEUjk",
    "outputId": "07be8e0a-d72e-4457-ab77-95432f3b6124"
   },
   "outputs": [
    {
     "data": {
      "text/html": [
       "<div>\n",
       "<style scoped>\n",
       "    .dataframe tbody tr th:only-of-type {\n",
       "        vertical-align: middle;\n",
       "    }\n",
       "\n",
       "    .dataframe tbody tr th {\n",
       "        vertical-align: top;\n",
       "    }\n",
       "\n",
       "    .dataframe thead th {\n",
       "        text-align: right;\n",
       "    }\n",
       "</style>\n",
       "<table border=\"1\" class=\"dataframe\">\n",
       "  <thead>\n",
       "    <tr style=\"text-align: right;\">\n",
       "      <th></th>\n",
       "      <th>Año</th>\n",
       "      <th>Rango</th>\n",
       "      <th>Compañía</th>\n",
       "      <th>Ingresos</th>\n",
       "      <th>Ganancias</th>\n",
       "    </tr>\n",
       "  </thead>\n",
       "  <tbody>\n",
       "    <tr>\n",
       "      <th>228</th>\n",
       "      <td>1955</td>\n",
       "      <td>229</td>\n",
       "      <td>Norton</td>\n",
       "      <td>135.0</td>\n",
       "      <td>0.0</td>\n",
       "    </tr>\n",
       "    <tr>\n",
       "      <th>290</th>\n",
       "      <td>1955</td>\n",
       "      <td>291</td>\n",
       "      <td>Schlitz Brewing</td>\n",
       "      <td>100.0</td>\n",
       "      <td>0.0</td>\n",
       "    </tr>\n",
       "    <tr>\n",
       "      <th>294</th>\n",
       "      <td>1955</td>\n",
       "      <td>295</td>\n",
       "      <td>Pacific Vegetable Oil</td>\n",
       "      <td>97.9</td>\n",
       "      <td>0.0</td>\n",
       "    </tr>\n",
       "    <tr>\n",
       "      <th>296</th>\n",
       "      <td>1955</td>\n",
       "      <td>297</td>\n",
       "      <td>Liebmann Breweries</td>\n",
       "      <td>96.0</td>\n",
       "      <td>0.0</td>\n",
       "    </tr>\n",
       "    <tr>\n",
       "      <th>352</th>\n",
       "      <td>1955</td>\n",
       "      <td>353</td>\n",
       "      <td>Minneapolis-Moline</td>\n",
       "      <td>77.4</td>\n",
       "      <td>0.0</td>\n",
       "    </tr>\n",
       "    <tr>\n",
       "      <th>464</th>\n",
       "      <td>1955</td>\n",
       "      <td>465</td>\n",
       "      <td>Gilfillan Bros.</td>\n",
       "      <td>54.0</td>\n",
       "      <td>0.0</td>\n",
       "    </tr>\n",
       "    <tr>\n",
       "      <th>712</th>\n",
       "      <td>1956</td>\n",
       "      <td>213</td>\n",
       "      <td>Norton</td>\n",
       "      <td>160.5</td>\n",
       "      <td>0.0</td>\n",
       "    </tr>\n",
       "    <tr>\n",
       "      <th>857</th>\n",
       "      <td>1956</td>\n",
       "      <td>358</td>\n",
       "      <td>Liebmann Breweries</td>\n",
       "      <td>83.0</td>\n",
       "      <td>0.0</td>\n",
       "    </tr>\n",
       "    <tr>\n",
       "      <th>1225</th>\n",
       "      <td>1957</td>\n",
       "      <td>226</td>\n",
       "      <td>Norton</td>\n",
       "      <td>173.0</td>\n",
       "      <td>0.0</td>\n",
       "    </tr>\n",
       "    <tr>\n",
       "      <th>1372</th>\n",
       "      <td>1957</td>\n",
       "      <td>373</td>\n",
       "      <td>Liebmann Breweries</td>\n",
       "      <td>90.0</td>\n",
       "      <td>0.0</td>\n",
       "    </tr>\n",
       "    <tr>\n",
       "      <th>1419</th>\n",
       "      <td>1957</td>\n",
       "      <td>420</td>\n",
       "      <td>Crowell-Collier Publishing</td>\n",
       "      <td>74.8</td>\n",
       "      <td>0.0</td>\n",
       "    </tr>\n",
       "    <tr>\n",
       "      <th>1717</th>\n",
       "      <td>1958</td>\n",
       "      <td>218</td>\n",
       "      <td>Hearst Consolidated Publications</td>\n",
       "      <td>195.7</td>\n",
       "      <td>0.0</td>\n",
       "    </tr>\n",
       "    <tr>\n",
       "      <th>1738</th>\n",
       "      <td>1958</td>\n",
       "      <td>239</td>\n",
       "      <td>Norton</td>\n",
       "      <td>176.8</td>\n",
       "      <td>0.0</td>\n",
       "    </tr>\n",
       "    <tr>\n",
       "      <th>1900</th>\n",
       "      <td>1958</td>\n",
       "      <td>401</td>\n",
       "      <td>Liebmann Breweries</td>\n",
       "      <td>85.0</td>\n",
       "      <td>0.0</td>\n",
       "    </tr>\n",
       "    <tr>\n",
       "      <th>2264</th>\n",
       "      <td>1959</td>\n",
       "      <td>265</td>\n",
       "      <td>Norton</td>\n",
       "      <td>150.0</td>\n",
       "      <td>0.0</td>\n",
       "    </tr>\n",
       "    <tr>\n",
       "      <th>2456</th>\n",
       "      <td>1959</td>\n",
       "      <td>457</td>\n",
       "      <td>Joy Global</td>\n",
       "      <td>68.9</td>\n",
       "      <td>0.0</td>\n",
       "    </tr>\n",
       "    <tr>\n",
       "      <th>2491</th>\n",
       "      <td>1959</td>\n",
       "      <td>492</td>\n",
       "      <td>Suntide Refining</td>\n",
       "      <td>63.0</td>\n",
       "      <td>0.0</td>\n",
       "    </tr>\n",
       "    <tr>\n",
       "      <th>2754</th>\n",
       "      <td>1960</td>\n",
       "      <td>255</td>\n",
       "      <td>Norton</td>\n",
       "      <td>174.9</td>\n",
       "      <td>0.0</td>\n",
       "    </tr>\n",
       "    <tr>\n",
       "      <th>3253</th>\n",
       "      <td>1961</td>\n",
       "      <td>254</td>\n",
       "      <td>Norton</td>\n",
       "      <td>181.9</td>\n",
       "      <td>0.0</td>\n",
       "    </tr>\n",
       "    <tr>\n",
       "      <th>3442</th>\n",
       "      <td>1961</td>\n",
       "      <td>443</td>\n",
       "      <td>Alco Products</td>\n",
       "      <td>86.7</td>\n",
       "      <td>0.0</td>\n",
       "    </tr>\n",
       "    <tr>\n",
       "      <th>3754</th>\n",
       "      <td>1962</td>\n",
       "      <td>255</td>\n",
       "      <td>Norton</td>\n",
       "      <td>178.8</td>\n",
       "      <td>0.0</td>\n",
       "    </tr>\n",
       "    <tr>\n",
       "      <th>3998</th>\n",
       "      <td>1962</td>\n",
       "      <td>499</td>\n",
       "      <td>Fuller (W.P.)</td>\n",
       "      <td>76.2</td>\n",
       "      <td>0.0</td>\n",
       "    </tr>\n",
       "    <tr>\n",
       "      <th>5485</th>\n",
       "      <td>1965</td>\n",
       "      <td>486</td>\n",
       "      <td>Seaboard</td>\n",
       "      <td>101.5</td>\n",
       "      <td>0.0</td>\n",
       "    </tr>\n",
       "    <tr>\n",
       "      <th>8032</th>\n",
       "      <td>1971</td>\n",
       "      <td>33</td>\n",
       "      <td>Lockheed Martin</td>\n",
       "      <td>2535.0</td>\n",
       "      <td>0.0</td>\n",
       "    </tr>\n",
       "    <tr>\n",
       "      <th>8183</th>\n",
       "      <td>1971</td>\n",
       "      <td>184</td>\n",
       "      <td>Land O'Lakes</td>\n",
       "      <td>654.3</td>\n",
       "      <td>0.0</td>\n",
       "    </tr>\n",
       "    <tr>\n",
       "      <th>8191</th>\n",
       "      <td>1971</td>\n",
       "      <td>192</td>\n",
       "      <td>Farmland Industries</td>\n",
       "      <td>612.8</td>\n",
       "      <td>0.0</td>\n",
       "    </tr>\n",
       "    <tr>\n",
       "      <th>8193</th>\n",
       "      <td>1971</td>\n",
       "      <td>194</td>\n",
       "      <td>Agway</td>\n",
       "      <td>597.9</td>\n",
       "      <td>0.0</td>\n",
       "    </tr>\n",
       "    <tr>\n",
       "      <th>8296</th>\n",
       "      <td>1971</td>\n",
       "      <td>297</td>\n",
       "      <td>Gold Kist Holdings</td>\n",
       "      <td>347.9</td>\n",
       "      <td>0.0</td>\n",
       "    </tr>\n",
       "    <tr>\n",
       "      <th>8313</th>\n",
       "      <td>1971</td>\n",
       "      <td>314</td>\n",
       "      <td>Dairylea Cooperative</td>\n",
       "      <td>327.3</td>\n",
       "      <td>0.0</td>\n",
       "    </tr>\n",
       "    <tr>\n",
       "      <th>8481</th>\n",
       "      <td>1971</td>\n",
       "      <td>482</td>\n",
       "      <td>Farmers Union Central Exchange</td>\n",
       "      <td>175.3</td>\n",
       "      <td>0.0</td>\n",
       "    </tr>\n",
       "    <tr>\n",
       "      <th>...</th>\n",
       "      <td>...</td>\n",
       "      <td>...</td>\n",
       "      <td>...</td>\n",
       "      <td>...</td>\n",
       "      <td>...</td>\n",
       "    </tr>\n",
       "    <tr>\n",
       "      <th>20989</th>\n",
       "      <td>1996</td>\n",
       "      <td>490</td>\n",
       "      <td>Roundy's</td>\n",
       "      <td>2488.2</td>\n",
       "      <td>0.0</td>\n",
       "    </tr>\n",
       "    <tr>\n",
       "      <th>20996</th>\n",
       "      <td>1996</td>\n",
       "      <td>497</td>\n",
       "      <td>True Value</td>\n",
       "      <td>2437.0</td>\n",
       "      <td>0.0</td>\n",
       "    </tr>\n",
       "    <tr>\n",
       "      <th>20997</th>\n",
       "      <td>1996</td>\n",
       "      <td>498</td>\n",
       "      <td>Ace Hardware</td>\n",
       "      <td>2436.0</td>\n",
       "      <td>0.0</td>\n",
       "    </tr>\n",
       "    <tr>\n",
       "      <th>21085</th>\n",
       "      <td>1997</td>\n",
       "      <td>86</td>\n",
       "      <td>College Retirement Equities Fund</td>\n",
       "      <td>13864.6</td>\n",
       "      <td>0.0</td>\n",
       "    </tr>\n",
       "    <tr>\n",
       "      <th>21150</th>\n",
       "      <td>1997</td>\n",
       "      <td>151</td>\n",
       "      <td>Farmland Industries</td>\n",
       "      <td>9788.6</td>\n",
       "      <td>0.0</td>\n",
       "    </tr>\n",
       "    <tr>\n",
       "      <th>21477</th>\n",
       "      <td>1997</td>\n",
       "      <td>478</td>\n",
       "      <td>Ace Hardware</td>\n",
       "      <td>2742.5</td>\n",
       "      <td>0.0</td>\n",
       "    </tr>\n",
       "    <tr>\n",
       "      <th>21497</th>\n",
       "      <td>1997</td>\n",
       "      <td>498</td>\n",
       "      <td>Roundy's</td>\n",
       "      <td>2583.5</td>\n",
       "      <td>0.0</td>\n",
       "    </tr>\n",
       "    <tr>\n",
       "      <th>21669</th>\n",
       "      <td>1998</td>\n",
       "      <td>170</td>\n",
       "      <td>Farmland Industries</td>\n",
       "      <td>9147.5</td>\n",
       "      <td>0.0</td>\n",
       "    </tr>\n",
       "    <tr>\n",
       "      <th>21931</th>\n",
       "      <td>1998</td>\n",
       "      <td>432</td>\n",
       "      <td>True Value</td>\n",
       "      <td>3332.0</td>\n",
       "      <td>0.0</td>\n",
       "    </tr>\n",
       "    <tr>\n",
       "      <th>21981</th>\n",
       "      <td>1998</td>\n",
       "      <td>482</td>\n",
       "      <td>Ace Hardware</td>\n",
       "      <td>2907.3</td>\n",
       "      <td>0.0</td>\n",
       "    </tr>\n",
       "    <tr>\n",
       "      <th>22183</th>\n",
       "      <td>1999</td>\n",
       "      <td>184</td>\n",
       "      <td>Farmland Industries</td>\n",
       "      <td>8775.0</td>\n",
       "      <td>0.0</td>\n",
       "    </tr>\n",
       "    <tr>\n",
       "      <th>22359</th>\n",
       "      <td>1999</td>\n",
       "      <td>360</td>\n",
       "      <td>True Value</td>\n",
       "      <td>4328.2</td>\n",
       "      <td>0.0</td>\n",
       "    </tr>\n",
       "    <tr>\n",
       "      <th>22466</th>\n",
       "      <td>1999</td>\n",
       "      <td>467</td>\n",
       "      <td>Ace Hardware</td>\n",
       "      <td>3120.4</td>\n",
       "      <td>0.0</td>\n",
       "    </tr>\n",
       "    <tr>\n",
       "      <th>22660</th>\n",
       "      <td>2000</td>\n",
       "      <td>161</td>\n",
       "      <td>Farmland Industries</td>\n",
       "      <td>10709.1</td>\n",
       "      <td>0.0</td>\n",
       "    </tr>\n",
       "    <tr>\n",
       "      <th>22766</th>\n",
       "      <td>2000</td>\n",
       "      <td>267</td>\n",
       "      <td>CHS</td>\n",
       "      <td>6434.5</td>\n",
       "      <td>0.0</td>\n",
       "    </tr>\n",
       "    <tr>\n",
       "      <th>22856</th>\n",
       "      <td>2000</td>\n",
       "      <td>357</td>\n",
       "      <td>True Value</td>\n",
       "      <td>4502.3</td>\n",
       "      <td>0.0</td>\n",
       "    </tr>\n",
       "    <tr>\n",
       "      <th>22981</th>\n",
       "      <td>2000</td>\n",
       "      <td>482</td>\n",
       "      <td>Ace Hardware</td>\n",
       "      <td>3181.8</td>\n",
       "      <td>0.0</td>\n",
       "    </tr>\n",
       "    <tr>\n",
       "      <th>23159</th>\n",
       "      <td>2001</td>\n",
       "      <td>160</td>\n",
       "      <td>Farmland Industries</td>\n",
       "      <td>12239.0</td>\n",
       "      <td>0.0</td>\n",
       "    </tr>\n",
       "    <tr>\n",
       "      <th>23222</th>\n",
       "      <td>2001</td>\n",
       "      <td>223</td>\n",
       "      <td>CHS</td>\n",
       "      <td>8571.4</td>\n",
       "      <td>0.0</td>\n",
       "    </tr>\n",
       "    <tr>\n",
       "      <th>23402</th>\n",
       "      <td>2001</td>\n",
       "      <td>403</td>\n",
       "      <td>True Value</td>\n",
       "      <td>4159.0</td>\n",
       "      <td>0.0</td>\n",
       "    </tr>\n",
       "    <tr>\n",
       "      <th>23504</th>\n",
       "      <td>2002</td>\n",
       "      <td>5</td>\n",
       "      <td>Enron</td>\n",
       "      <td>138718.0</td>\n",
       "      <td>0.0</td>\n",
       "    </tr>\n",
       "    <tr>\n",
       "      <th>23669</th>\n",
       "      <td>2002</td>\n",
       "      <td>170</td>\n",
       "      <td>Farmland Industries</td>\n",
       "      <td>11763.4</td>\n",
       "      <td>0.0</td>\n",
       "    </tr>\n",
       "    <tr>\n",
       "      <th>23743</th>\n",
       "      <td>2002</td>\n",
       "      <td>244</td>\n",
       "      <td>CHS</td>\n",
       "      <td>7875.2</td>\n",
       "      <td>0.0</td>\n",
       "    </tr>\n",
       "    <tr>\n",
       "      <th>23951</th>\n",
       "      <td>2002</td>\n",
       "      <td>452</td>\n",
       "      <td>Roundy's</td>\n",
       "      <td>3451.5</td>\n",
       "      <td>0.0</td>\n",
       "    </tr>\n",
       "    <tr>\n",
       "      <th>24236</th>\n",
       "      <td>2003</td>\n",
       "      <td>237</td>\n",
       "      <td>CHS</td>\n",
       "      <td>7845.2</td>\n",
       "      <td>0.0</td>\n",
       "    </tr>\n",
       "    <tr>\n",
       "      <th>24242</th>\n",
       "      <td>2003</td>\n",
       "      <td>243</td>\n",
       "      <td>Farmland Industries</td>\n",
       "      <td>7580.2</td>\n",
       "      <td>0.0</td>\n",
       "    </tr>\n",
       "    <tr>\n",
       "      <th>24296</th>\n",
       "      <td>2003</td>\n",
       "      <td>297</td>\n",
       "      <td>Land O'Lakes</td>\n",
       "      <td>5847.0</td>\n",
       "      <td>0.0</td>\n",
       "    </tr>\n",
       "    <tr>\n",
       "      <th>24435</th>\n",
       "      <td>2003</td>\n",
       "      <td>436</td>\n",
       "      <td>Roundy's</td>\n",
       "      <td>3637.9</td>\n",
       "      <td>0.0</td>\n",
       "    </tr>\n",
       "    <tr>\n",
       "      <th>24489</th>\n",
       "      <td>2003</td>\n",
       "      <td>490</td>\n",
       "      <td>Ace Hardware</td>\n",
       "      <td>3029.0</td>\n",
       "      <td>0.0</td>\n",
       "    </tr>\n",
       "    <tr>\n",
       "      <th>25485</th>\n",
       "      <td>2005</td>\n",
       "      <td>486</td>\n",
       "      <td>Host Marriott</td>\n",
       "      <td>3773.0</td>\n",
       "      <td>0.0</td>\n",
       "    </tr>\n",
       "  </tbody>\n",
       "</table>\n",
       "<p>369 rows × 5 columns</p>\n",
       "</div>"
      ],
      "text/plain": [
       "        Año  Rango                          Compañía  Ingresos  Ganancias\n",
       "228    1955    229                            Norton     135.0        0.0\n",
       "290    1955    291                   Schlitz Brewing     100.0        0.0\n",
       "294    1955    295             Pacific Vegetable Oil      97.9        0.0\n",
       "296    1955    297                Liebmann Breweries      96.0        0.0\n",
       "352    1955    353                Minneapolis-Moline      77.4        0.0\n",
       "464    1955    465                   Gilfillan Bros.      54.0        0.0\n",
       "712    1956    213                            Norton     160.5        0.0\n",
       "857    1956    358                Liebmann Breweries      83.0        0.0\n",
       "1225   1957    226                            Norton     173.0        0.0\n",
       "1372   1957    373                Liebmann Breweries      90.0        0.0\n",
       "1419   1957    420        Crowell-Collier Publishing      74.8        0.0\n",
       "1717   1958    218  Hearst Consolidated Publications     195.7        0.0\n",
       "1738   1958    239                            Norton     176.8        0.0\n",
       "1900   1958    401                Liebmann Breweries      85.0        0.0\n",
       "2264   1959    265                            Norton     150.0        0.0\n",
       "2456   1959    457                        Joy Global      68.9        0.0\n",
       "2491   1959    492                  Suntide Refining      63.0        0.0\n",
       "2754   1960    255                            Norton     174.9        0.0\n",
       "3253   1961    254                            Norton     181.9        0.0\n",
       "3442   1961    443                     Alco Products      86.7        0.0\n",
       "3754   1962    255                            Norton     178.8        0.0\n",
       "3998   1962    499                     Fuller (W.P.)      76.2        0.0\n",
       "5485   1965    486                          Seaboard     101.5        0.0\n",
       "8032   1971     33                   Lockheed Martin    2535.0        0.0\n",
       "8183   1971    184                      Land O'Lakes     654.3        0.0\n",
       "8191   1971    192               Farmland Industries     612.8        0.0\n",
       "8193   1971    194                             Agway     597.9        0.0\n",
       "8296   1971    297                Gold Kist Holdings     347.9        0.0\n",
       "8313   1971    314              Dairylea Cooperative     327.3        0.0\n",
       "8481   1971    482    Farmers Union Central Exchange     175.3        0.0\n",
       "...     ...    ...                               ...       ...        ...\n",
       "20989  1996    490                          Roundy's    2488.2        0.0\n",
       "20996  1996    497                        True Value    2437.0        0.0\n",
       "20997  1996    498                      Ace Hardware    2436.0        0.0\n",
       "21085  1997     86  College Retirement Equities Fund   13864.6        0.0\n",
       "21150  1997    151               Farmland Industries    9788.6        0.0\n",
       "21477  1997    478                      Ace Hardware    2742.5        0.0\n",
       "21497  1997    498                          Roundy's    2583.5        0.0\n",
       "21669  1998    170               Farmland Industries    9147.5        0.0\n",
       "21931  1998    432                        True Value    3332.0        0.0\n",
       "21981  1998    482                      Ace Hardware    2907.3        0.0\n",
       "22183  1999    184               Farmland Industries    8775.0        0.0\n",
       "22359  1999    360                        True Value    4328.2        0.0\n",
       "22466  1999    467                      Ace Hardware    3120.4        0.0\n",
       "22660  2000    161               Farmland Industries   10709.1        0.0\n",
       "22766  2000    267                               CHS    6434.5        0.0\n",
       "22856  2000    357                        True Value    4502.3        0.0\n",
       "22981  2000    482                      Ace Hardware    3181.8        0.0\n",
       "23159  2001    160               Farmland Industries   12239.0        0.0\n",
       "23222  2001    223                               CHS    8571.4        0.0\n",
       "23402  2001    403                        True Value    4159.0        0.0\n",
       "23504  2002      5                             Enron  138718.0        0.0\n",
       "23669  2002    170               Farmland Industries   11763.4        0.0\n",
       "23743  2002    244                               CHS    7875.2        0.0\n",
       "23951  2002    452                          Roundy's    3451.5        0.0\n",
       "24236  2003    237                               CHS    7845.2        0.0\n",
       "24242  2003    243               Farmland Industries    7580.2        0.0\n",
       "24296  2003    297                      Land O'Lakes    5847.0        0.0\n",
       "24435  2003    436                          Roundy's    3637.9        0.0\n",
       "24489  2003    490                      Ace Hardware    3029.0        0.0\n",
       "25485  2005    486                     Host Marriott    3773.0        0.0\n",
       "\n",
       "[369 rows x 5 columns]"
      ]
     },
     "execution_count": 100,
     "metadata": {
      "tags": []
     },
     "output_type": "execute_result"
    }
   ],
   "source": [
    "df[ganan]"
   ]
  },
  {
   "cell_type": "markdown",
   "metadata": {
    "colab_type": "text",
    "id": "cqHEp-n8JHJV"
   },
   "source": [
    "## Datos Faltantes"
   ]
  },
  {
   "cell_type": "code",
   "execution_count": 0,
   "metadata": {
    "colab": {},
    "colab_type": "code",
    "id": "T8XfA0-yElJ0"
   },
   "outputs": [],
   "source": [
    "df.iloc[0:5,0]=np.nan\n",
    "df.iloc[3]=np.nan"
   ]
  },
  {
   "cell_type": "code",
   "execution_count": 0,
   "metadata": {
    "colab": {
     "base_uri": "https://localhost:8080/",
     "height": 206
    },
    "colab_type": "code",
    "id": "n2sDdqeaJJPH",
    "outputId": "8d9ab183-f081-4470-8378-2486d500f355"
   },
   "outputs": [
    {
     "data": {
      "text/html": [
       "<div>\n",
       "<style scoped>\n",
       "    .dataframe tbody tr th:only-of-type {\n",
       "        vertical-align: middle;\n",
       "    }\n",
       "\n",
       "    .dataframe tbody tr th {\n",
       "        vertical-align: top;\n",
       "    }\n",
       "\n",
       "    .dataframe thead th {\n",
       "        text-align: right;\n",
       "    }\n",
       "</style>\n",
       "<table border=\"1\" class=\"dataframe\">\n",
       "  <thead>\n",
       "    <tr style=\"text-align: right;\">\n",
       "      <th></th>\n",
       "      <th>Año</th>\n",
       "      <th>Rango</th>\n",
       "      <th>Compañía</th>\n",
       "      <th>Ingresos</th>\n",
       "      <th>Ganancias</th>\n",
       "    </tr>\n",
       "  </thead>\n",
       "  <tbody>\n",
       "    <tr>\n",
       "      <th>0</th>\n",
       "      <td>NaN</td>\n",
       "      <td>1.0</td>\n",
       "      <td>General Motors</td>\n",
       "      <td>9823.5</td>\n",
       "      <td>806.0</td>\n",
       "    </tr>\n",
       "    <tr>\n",
       "      <th>1</th>\n",
       "      <td>NaN</td>\n",
       "      <td>2.0</td>\n",
       "      <td>Exxon Mobil</td>\n",
       "      <td>5661.4</td>\n",
       "      <td>584.8</td>\n",
       "    </tr>\n",
       "    <tr>\n",
       "      <th>2</th>\n",
       "      <td>NaN</td>\n",
       "      <td>3.0</td>\n",
       "      <td>U.S. Steel</td>\n",
       "      <td>3250.4</td>\n",
       "      <td>195.4</td>\n",
       "    </tr>\n",
       "    <tr>\n",
       "      <th>3</th>\n",
       "      <td>NaN</td>\n",
       "      <td>NaN</td>\n",
       "      <td>NaN</td>\n",
       "      <td>NaN</td>\n",
       "      <td>NaN</td>\n",
       "    </tr>\n",
       "    <tr>\n",
       "      <th>4</th>\n",
       "      <td>NaN</td>\n",
       "      <td>5.0</td>\n",
       "      <td>Esmark</td>\n",
       "      <td>2510.8</td>\n",
       "      <td>19.1</td>\n",
       "    </tr>\n",
       "  </tbody>\n",
       "</table>\n",
       "</div>"
      ],
      "text/plain": [
       "   Año  Rango        Compañía  Ingresos  Ganancias\n",
       "0  NaN    1.0  General Motors    9823.5      806.0\n",
       "1  NaN    2.0     Exxon Mobil    5661.4      584.8\n",
       "2  NaN    3.0      U.S. Steel    3250.4      195.4\n",
       "3  NaN    NaN             NaN       NaN        NaN\n",
       "4  NaN    5.0          Esmark    2510.8       19.1"
      ]
     },
     "execution_count": 112,
     "metadata": {
      "tags": []
     },
     "output_type": "execute_result"
    }
   ],
   "source": [
    "df.iloc[0:5]"
   ]
  },
  {
   "cell_type": "code",
   "execution_count": 0,
   "metadata": {
    "colab": {
     "base_uri": "https://localhost:8080/",
     "height": 206
    },
    "colab_type": "code",
    "id": "-oizz-I5Jc2Y",
    "outputId": "cb4f68f3-7ef2-428d-ee0b-e547a6853982"
   },
   "outputs": [
    {
     "data": {
      "text/html": [
       "<div>\n",
       "<style scoped>\n",
       "    .dataframe tbody tr th:only-of-type {\n",
       "        vertical-align: middle;\n",
       "    }\n",
       "\n",
       "    .dataframe tbody tr th {\n",
       "        vertical-align: top;\n",
       "    }\n",
       "\n",
       "    .dataframe thead th {\n",
       "        text-align: right;\n",
       "    }\n",
       "</style>\n",
       "<table border=\"1\" class=\"dataframe\">\n",
       "  <thead>\n",
       "    <tr style=\"text-align: right;\">\n",
       "      <th></th>\n",
       "      <th>Año</th>\n",
       "      <th>Rango</th>\n",
       "      <th>Compañía</th>\n",
       "      <th>Ingresos</th>\n",
       "      <th>Ganancias</th>\n",
       "    </tr>\n",
       "  </thead>\n",
       "  <tbody>\n",
       "    <tr>\n",
       "      <th>0</th>\n",
       "      <td>5.0</td>\n",
       "      <td>1.0</td>\n",
       "      <td>General Motors</td>\n",
       "      <td>9823.5</td>\n",
       "      <td>806.0</td>\n",
       "    </tr>\n",
       "    <tr>\n",
       "      <th>1</th>\n",
       "      <td>5.0</td>\n",
       "      <td>2.0</td>\n",
       "      <td>Exxon Mobil</td>\n",
       "      <td>5661.4</td>\n",
       "      <td>584.8</td>\n",
       "    </tr>\n",
       "    <tr>\n",
       "      <th>2</th>\n",
       "      <td>5.0</td>\n",
       "      <td>3.0</td>\n",
       "      <td>U.S. Steel</td>\n",
       "      <td>3250.4</td>\n",
       "      <td>195.4</td>\n",
       "    </tr>\n",
       "    <tr>\n",
       "      <th>3</th>\n",
       "      <td>5.0</td>\n",
       "      <td>5.0</td>\n",
       "      <td>5</td>\n",
       "      <td>5.0</td>\n",
       "      <td>5.0</td>\n",
       "    </tr>\n",
       "    <tr>\n",
       "      <th>4</th>\n",
       "      <td>5.0</td>\n",
       "      <td>5.0</td>\n",
       "      <td>Esmark</td>\n",
       "      <td>2510.8</td>\n",
       "      <td>19.1</td>\n",
       "    </tr>\n",
       "  </tbody>\n",
       "</table>\n",
       "</div>"
      ],
      "text/plain": [
       "   Año  Rango        Compañía  Ingresos  Ganancias\n",
       "0  5.0    1.0  General Motors    9823.5      806.0\n",
       "1  5.0    2.0     Exxon Mobil    5661.4      584.8\n",
       "2  5.0    3.0      U.S. Steel    3250.4      195.4\n",
       "3  5.0    5.0               5       5.0        5.0\n",
       "4  5.0    5.0          Esmark    2510.8       19.1"
      ]
     },
     "execution_count": 115,
     "metadata": {
      "tags": []
     },
     "output_type": "execute_result"
    }
   ],
   "source": [
    "df.fillna(5).head()"
   ]
  },
  {
   "cell_type": "code",
   "execution_count": 0,
   "metadata": {
    "colab": {
     "base_uri": "https://localhost:8080/",
     "height": 206
    },
    "colab_type": "code",
    "id": "nqWZYMHgJpuO",
    "outputId": "83af0cfd-1509-4c04-ad98-79784af468a7"
   },
   "outputs": [
    {
     "data": {
      "text/html": [
       "<div>\n",
       "<style scoped>\n",
       "    .dataframe tbody tr th:only-of-type {\n",
       "        vertical-align: middle;\n",
       "    }\n",
       "\n",
       "    .dataframe tbody tr th {\n",
       "        vertical-align: top;\n",
       "    }\n",
       "\n",
       "    .dataframe thead th {\n",
       "        text-align: right;\n",
       "    }\n",
       "</style>\n",
       "<table border=\"1\" class=\"dataframe\">\n",
       "  <thead>\n",
       "    <tr style=\"text-align: right;\">\n",
       "      <th></th>\n",
       "      <th>Año</th>\n",
       "      <th>Rango</th>\n",
       "      <th>Compañía</th>\n",
       "      <th>Ingresos</th>\n",
       "      <th>Ganancias</th>\n",
       "    </tr>\n",
       "  </thead>\n",
       "  <tbody>\n",
       "    <tr>\n",
       "      <th>0</th>\n",
       "      <td>NaN</td>\n",
       "      <td>1.0</td>\n",
       "      <td>General Motors</td>\n",
       "      <td>9823.5</td>\n",
       "      <td>806.0</td>\n",
       "    </tr>\n",
       "    <tr>\n",
       "      <th>1</th>\n",
       "      <td>NaN</td>\n",
       "      <td>2.0</td>\n",
       "      <td>Exxon Mobil</td>\n",
       "      <td>5661.4</td>\n",
       "      <td>584.8</td>\n",
       "    </tr>\n",
       "    <tr>\n",
       "      <th>2</th>\n",
       "      <td>NaN</td>\n",
       "      <td>3.0</td>\n",
       "      <td>U.S. Steel</td>\n",
       "      <td>3250.4</td>\n",
       "      <td>195.4</td>\n",
       "    </tr>\n",
       "    <tr>\n",
       "      <th>4</th>\n",
       "      <td>NaN</td>\n",
       "      <td>5.0</td>\n",
       "      <td>Esmark</td>\n",
       "      <td>2510.8</td>\n",
       "      <td>19.1</td>\n",
       "    </tr>\n",
       "    <tr>\n",
       "      <th>5</th>\n",
       "      <td>1955.0</td>\n",
       "      <td>6.0</td>\n",
       "      <td>Chrysler</td>\n",
       "      <td>2071.6</td>\n",
       "      <td>18.5</td>\n",
       "    </tr>\n",
       "  </tbody>\n",
       "</table>\n",
       "</div>"
      ],
      "text/plain": [
       "      Año  Rango        Compañía  Ingresos  Ganancias\n",
       "0     NaN    1.0  General Motors    9823.5      806.0\n",
       "1     NaN    2.0     Exxon Mobil    5661.4      584.8\n",
       "2     NaN    3.0      U.S. Steel    3250.4      195.4\n",
       "4     NaN    5.0          Esmark    2510.8       19.1\n",
       "5  1955.0    6.0        Chrysler    2071.6       18.5"
      ]
     },
     "execution_count": 117,
     "metadata": {
      "tags": []
     },
     "output_type": "execute_result"
    }
   ],
   "source": [
    "df.dropna(how='all').head()"
   ]
  },
  {
   "cell_type": "code",
   "execution_count": 0,
   "metadata": {
    "colab": {
     "base_uri": "https://localhost:8080/",
     "height": 206
    },
    "colab_type": "code",
    "id": "BBSOUsCKJwEm",
    "outputId": "af0add67-f3fe-4b65-f9e4-6c9b18a722d1"
   },
   "outputs": [
    {
     "data": {
      "text/html": [
       "<div>\n",
       "<style scoped>\n",
       "    .dataframe tbody tr th:only-of-type {\n",
       "        vertical-align: middle;\n",
       "    }\n",
       "\n",
       "    .dataframe tbody tr th {\n",
       "        vertical-align: top;\n",
       "    }\n",
       "\n",
       "    .dataframe thead th {\n",
       "        text-align: right;\n",
       "    }\n",
       "</style>\n",
       "<table border=\"1\" class=\"dataframe\">\n",
       "  <thead>\n",
       "    <tr style=\"text-align: right;\">\n",
       "      <th></th>\n",
       "      <th>Año</th>\n",
       "      <th>Rango</th>\n",
       "      <th>Compañía</th>\n",
       "      <th>Ingresos</th>\n",
       "      <th>Ganancias</th>\n",
       "    </tr>\n",
       "  </thead>\n",
       "  <tbody>\n",
       "    <tr>\n",
       "      <th>5</th>\n",
       "      <td>1955.0</td>\n",
       "      <td>6.0</td>\n",
       "      <td>Chrysler</td>\n",
       "      <td>2071.6</td>\n",
       "      <td>18.5</td>\n",
       "    </tr>\n",
       "    <tr>\n",
       "      <th>6</th>\n",
       "      <td>1955.0</td>\n",
       "      <td>7.0</td>\n",
       "      <td>Armour</td>\n",
       "      <td>2056.1</td>\n",
       "      <td>1.6</td>\n",
       "    </tr>\n",
       "    <tr>\n",
       "      <th>7</th>\n",
       "      <td>1955.0</td>\n",
       "      <td>8.0</td>\n",
       "      <td>Gulf Oil</td>\n",
       "      <td>1705.3</td>\n",
       "      <td>182.8</td>\n",
       "    </tr>\n",
       "    <tr>\n",
       "      <th>8</th>\n",
       "      <td>1955.0</td>\n",
       "      <td>9.0</td>\n",
       "      <td>Mobil</td>\n",
       "      <td>1703.6</td>\n",
       "      <td>183.8</td>\n",
       "    </tr>\n",
       "    <tr>\n",
       "      <th>9</th>\n",
       "      <td>1955.0</td>\n",
       "      <td>10.0</td>\n",
       "      <td>DuPont</td>\n",
       "      <td>1687.7</td>\n",
       "      <td>344.4</td>\n",
       "    </tr>\n",
       "  </tbody>\n",
       "</table>\n",
       "</div>"
      ],
      "text/plain": [
       "      Año  Rango  Compañía  Ingresos  Ganancias\n",
       "5  1955.0    6.0  Chrysler    2071.6       18.5\n",
       "6  1955.0    7.0    Armour    2056.1        1.6\n",
       "7  1955.0    8.0  Gulf Oil    1705.3      182.8\n",
       "8  1955.0    9.0     Mobil    1703.6      183.8\n",
       "9  1955.0   10.0    DuPont    1687.7      344.4"
      ]
     },
     "execution_count": 118,
     "metadata": {
      "tags": []
     },
     "output_type": "execute_result"
    }
   ],
   "source": [
    "df.dropna(how='any').head()"
   ]
  },
  {
   "cell_type": "markdown",
   "metadata": {
    "colab_type": "text",
    "id": "mBmS75mWLIAG"
   },
   "source": [
    "## Texto"
   ]
  },
  {
   "cell_type": "code",
   "execution_count": 0,
   "metadata": {
    "colab": {
     "base_uri": "https://localhost:8080/",
     "height": 127
    },
    "colab_type": "code",
    "id": "ll3-KFgoLERM",
    "outputId": "18407f2c-e436-4efa-dbaf-0a9fdd4e1072"
   },
   "outputs": [
    {
     "data": {
      "text/plain": [
       "0    General Motors\n",
       "1       Exxon Mobil\n",
       "2        U.S. Steel\n",
       "3               NaN\n",
       "4            Esmark\n",
       "Name: Compañía, dtype: object"
      ]
     },
     "execution_count": 130,
     "metadata": {
      "tags": []
     },
     "output_type": "execute_result"
    }
   ],
   "source": [
    "df['Compañía'].head()"
   ]
  },
  {
   "cell_type": "code",
   "execution_count": 0,
   "metadata": {
    "colab": {
     "base_uri": "https://localhost:8080/",
     "height": 127
    },
    "colab_type": "code",
    "id": "k7Nzl-VTK9k4",
    "outputId": "ac97cce0-ea79-4d89-9ff9-4714b193e7be"
   },
   "outputs": [
    {
     "data": {
      "text/plain": [
       "0    general motors\n",
       "1       exxon mobil\n",
       "2        u.s. steel\n",
       "3               NaN\n",
       "4            esmark\n",
       "Name: Compañía, dtype: object"
      ]
     },
     "execution_count": 129,
     "metadata": {
      "tags": []
     },
     "output_type": "execute_result"
    }
   ],
   "source": [
    "df['Compañía'].str.lower().head()"
   ]
  },
  {
   "cell_type": "code",
   "execution_count": 0,
   "metadata": {
    "colab": {},
    "colab_type": "code",
    "id": "B41dgbrNJ7Xl"
   },
   "outputs": [],
   "source": []
  }
 ],
 "metadata": {
  "colab": {
   "collapsed_sections": [
    "qOM8s9wZS7k7",
    "zpzmpy9pcbXi",
    "IBDBKjRj-mne",
    "PN6kzaehdFUw",
    "9sNHOKV6lF3U"
   ],
   "name": "Taller1.ipynb",
   "provenance": [],
   "version": "0.3.2"
  },
  "kernelspec": {
   "display_name": "Python 3",
   "language": "python",
   "name": "python3"
  },
  "language_info": {
   "codemirror_mode": {
    "name": "ipython",
    "version": 3
   },
   "file_extension": ".py",
   "mimetype": "text/x-python",
   "name": "python",
   "nbconvert_exporter": "python",
   "pygments_lexer": "ipython3",
   "version": "3.7.5"
  }
 },
 "nbformat": 4,
 "nbformat_minor": 1
}
