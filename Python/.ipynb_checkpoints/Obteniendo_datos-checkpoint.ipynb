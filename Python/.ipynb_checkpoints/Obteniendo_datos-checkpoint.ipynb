{
 "cells": [
  {
   "cell_type": "markdown",
   "metadata": {},
   "source": [
    "# OBTENIENDO DATOS (GETTING DATA) Y SCRAPING DATA CON PYTHON.\n",
    "<img src=\"data:image/png;base64,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\">"
   ]
  },
  {
   "cell_type": "markdown",
   "metadata": {},
   "source": [
    "Para ser un científico de datos necesitas datos. De hecho, como científico de datos, pasará una fracciónde su tiempo adquiriendo, limpiando y transformando datos.\n",
    "En este capítulo, veremos diferentes formas de introducir datos en Python y en los formatos correctos. "
   ]
  },
  {
   "cell_type": "markdown",
   "metadata": {},
   "source": [
    "## Contenido:<br>"
   ]
  },
  {
   "cell_type": "markdown",
   "metadata": {},
   "source": [
    "### stdin y stdout\n"
   ]
  },
  {
   "cell_type": "markdown",
   "metadata": {},
   "source": [
    "Si ejecuta sus scripts Python en la línea de comando, puede canalizar datos a través de ellos usando sys.stdin y sys.stdout. Por ejemplo, aquí hay un script que lee en líneas de texto y escupe los que coinciden con una expresión regular: "
   ]
  },
  {
   "cell_type": "code",
   "execution_count": 2,
   "metadata": {},
   "outputs": [],
   "source": [
    "# egrep.py\n",
    "import sys, re\n",
    "# sys.argv is the list of command-line arguments\n",
    "# sys.argv[0] is the name of the program itself\n",
    "# sys.argv[1] will be the regex specified at the command line\n",
    "# sys.argv es la lista de argumentos de línea de comandos\n",
    "# sys.argv [0] es el nombre del programa en sí\n",
    "# sys.argv [1] será la expresión regular especificada en la línea de comando\n",
    "regex = sys.argv[1]\n",
    "# for every line passed into the script\n",
    "for line in sys.stdin:\n",
    "    # if it matches the regex, write it to stdout\n",
    "    if re.search(regex, line):\n",
    "        sys.stdout.write(line)"
   ]
  },
  {
   "cell_type": "markdown",
   "metadata": {},
   "source": [
    "Y aquí hay uno que cuenta las líneas que recibe y luego escribe el recuento:"
   ]
  },
  {
   "cell_type": "code",
   "execution_count": 7,
   "metadata": {},
   "outputs": [
    {
     "name": "stdout",
     "output_type": "stream",
     "text": [
      "0\n"
     ]
    }
   ],
   "source": [
    "# line_count.py\n",
    "import sys\n",
    "count = 0\n",
    "for line in sys.stdin:\n",
    "    count += 1\n",
    "# print goes to sys.stdout\n",
    "print(count)"
   ]
  },
  {
   "cell_type": "markdown",
   "metadata": {},
   "source": [
    "Luego puede usarlos para contar cuántas líneas de un archivo contienen números. En Windows, usarías: <BR>\n",
    "type SomeFile.txt | python egrep.py \"[0-9]\" | python line_count.py"
   ]
  },
  {
   "cell_type": "markdown",
   "metadata": {},
   "source": [
    "mientras que en un sistema Unix usarías:<br>\n",
    "cat SomeFile.txt | python egrep.py \"[0-9]\" | python line_count.py"
   ]
  },
  {
   "cell_type": "markdown",
   "metadata": {},
   "source": [
    "El | es el carácter de la tubería, que significa \"usar la salida del comando izquierdo como\n",
    "entrada del comando correcto \". Puede construir canalizaciones de procesamiento de datos bastante elaboradas de esta manera."
   ]
  },
  {
   "cell_type": "markdown",
   "metadata": {},
   "source": [
    "Del mismo modo, aquí hay un script que cuenta las palabras en su entrada y escribe más\n",
    "comunes:"
   ]
  },
  {
   "cell_type": "code",
   "execution_count": 11,
   "metadata": {},
   "outputs": [
    {
     "name": "stderr",
     "output_type": "stream",
     "text": [
      "ERROR:root:Internal Python error in the inspect module.\n",
      "Below is the traceback from this internal error.\n",
      "\n"
     ]
    },
    {
     "name": "stdout",
     "output_type": "stream",
     "text": [
      "usage: most_common_words.py num_words\n",
      "Traceback (most recent call last):\n",
      "  File \"<ipython-input-11-87f2f76bfc63>\", line 7, in <module>\n",
      "    num_words = int(sys.argv[1])\n",
      "ValueError: invalid literal for int() with base 10: '-f'\n",
      "\n",
      "During handling of the above exception, another exception occurred:\n",
      "\n",
      "Traceback (most recent call last):\n",
      "  File \"/home/andres/Escritorio/PROYECTOS/entorno1/lib/python3.6/site-packages/IPython/core/interactiveshell.py\", line 3331, in run_code\n",
      "    exec(code_obj, self.user_global_ns, self.user_ns)\n",
      "  File \"<ipython-input-11-87f2f76bfc63>\", line 10, in <module>\n",
      "    sys.exit(1) # non-zero exit code indicates error\n",
      "SystemExit: 1\n",
      "\n",
      "During handling of the above exception, another exception occurred:\n",
      "\n",
      "Traceback (most recent call last):\n",
      "  File \"/home/andres/Escritorio/PROYECTOS/entorno1/lib/python3.6/site-packages/IPython/core/ultratb.py\", line 1148, in get_records\n",
      "    return _fixed_getinnerframes(etb, number_of_lines_of_context, tb_offset)\n",
      "  File \"/home/andres/Escritorio/PROYECTOS/entorno1/lib/python3.6/site-packages/IPython/core/ultratb.py\", line 316, in wrapped\n",
      "    return f(*args, **kwargs)\n",
      "  File \"/home/andres/Escritorio/PROYECTOS/entorno1/lib/python3.6/site-packages/IPython/core/ultratb.py\", line 350, in _fixed_getinnerframes\n",
      "    records = fix_frame_records_filenames(inspect.getinnerframes(etb, context))\n",
      "  File \"/usr/lib/python3.6/inspect.py\", line 1490, in getinnerframes\n",
      "    frameinfo = (tb.tb_frame,) + getframeinfo(tb, context)\n",
      "AttributeError: 'tuple' object has no attribute 'tb_frame'\n"
     ]
    },
    {
     "ename": "SystemExit",
     "evalue": "1",
     "output_type": "error",
     "traceback": [
      "An exception has occurred, use %tb to see the full traceback.\n",
      "\u001b[0;31m---------------------------------------------------------------------------\u001b[0m",
      "\nDuring handling of the above exception, another exception occurred:\n",
      "\u001b[0;31mSystemExit\u001b[0m\u001b[0;31m:\u001b[0m 1\n"
     ]
    }
   ],
   "source": [
    "# most_common_words.py\n",
    "import sys\n",
    "from collections import Counter\n",
    "# pass in number of words as first argument\n",
    "\n",
    "try:\n",
    "    num_words = int(sys.argv[1])\n",
    "except:\n",
    "    print(\"usage: most_common_words.py num_words\")\n",
    "    sys.exit(1) # non-zero exit code indicates error\n",
    "    \n",
    "counter = Counter(word.lower()\n",
    "                  for line in sys.stdin\n",
    "                  for word in line.strip().split()\n",
    "                  if word)\n",
    "\n",
    "for word, count in counter.most_common(num_words):\n",
    "    sys.stdout.write(str(count))\n",
    "    sys.stdout.write(\"\\t\")\n",
    "    sys.stdout.write(word)\n",
    "    sys.stdout.write(\"\\n\")"
   ]
  },
  {
   "cell_type": "markdown",
   "metadata": {},
   "source": [
    "después de lo cual podrías hacer algo como:<br>\n",
    "C:\\DataScience>type the_bible.txt | python most_common_words.py 10"
   ]
  },
  {
   "cell_type": "markdown",
   "metadata": {},
   "source": [
    "### Lectura de archivos"
   ]
  },
  {
   "cell_type": "code",
   "execution_count": null,
   "metadata": {},
   "outputs": [],
   "source": []
  }
 ],
 "metadata": {
  "kernelspec": {
   "display_name": "Python 3",
   "language": "python",
   "name": "python3"
  },
  "language_info": {
   "codemirror_mode": {
    "name": "ipython",
    "version": 3
   },
   "file_extension": ".py",
   "mimetype": "text/x-python",
   "name": "python",
   "nbconvert_exporter": "python",
   "pygments_lexer": "ipython3",
   "version": "3.6.9"
  }
 },
 "nbformat": 4,
 "nbformat_minor": 4
}
