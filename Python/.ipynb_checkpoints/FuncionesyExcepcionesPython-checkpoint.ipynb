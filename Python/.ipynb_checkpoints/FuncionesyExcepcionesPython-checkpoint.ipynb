{
 "cells": [
  {
   "cell_type": "markdown",
   "metadata": {},
   "source": [
    "# FUNCIONES Y EXCEPCIONES"
   ]
  },
  {
   "cell_type": "markdown",
   "metadata": {},
   "source": [
    "<iMg src=\"https://s3-us-west-2.amazonaws.com/devcodepro/media/tutorials/funciones-en-python-t1.jpg\">"
   ]
  },
  {
   "cell_type": "markdown",
   "metadata": {},
   "source": [
    "## Contenido:"
   ]
  },
  {
   "cell_type": "markdown",
   "metadata": {},
   "source": [
    "* [Introduccion](#item1)\n",
    "* [Valores de argumentos por defecto](#item2)\n",
    "* [Funciones con numero variable de argumentos](#item3)\n",
    "* [Paso por referencia](#item4)\n",
    "* [Paso por valor](#item5)\n",
    "* [Return](#item6)\n",
    "* [Programacion funcional](#item7)\n",
    "* [Funciones de orden superior](#item8)\n",
    "* [Iteraciones de orden superior sobre listas](#item9)\n",
    "* [Map(function, sequence[, sequence, ...])](#item10)\n",
    "* [Filter(function, sequence)](#item11)\n",
    "* [Reduce(function, sequence[, initial])](#item12)\n",
    "* [Funciones lambda](#item13)\n",
    "* [Comprensión de listas](#item14)\n",
    "* [Generadores](#item15)\n",
    "* [Decoradores](#item16)\n",
    "* [Decoradores](#item17)\n"
   ]
  },
  {
   "cell_type": "markdown",
   "metadata": {},
   "source": [
    "<a name=\"item1\"></a>\n",
    "## Introduccion"
   ]
  },
  {
   "cell_type": "markdown",
   "metadata": {},
   "source": [
    "Una función es un fragmento de código con un nombre asociado que\n",
    "realiza una serie de tareas y devuelve un valor. A los fragmentos de\n",
    "código que tienen un nombre asociado y no devuelven valores se les\n",
    "suele llamar procedimientos. En Python no existen los procedimientos, ya que cuando el programador no especifica un valor de retorno la\n",
    "función devuelve el valor None (nada), equivalente al null de Java.<br>\n",
    "Además de ayudarnos a programar y depurar dividiendo el programa\n",
    "en partes las funciones también permiten reutilizar código.\n",
    "En Python las funciones se declaran de la siguiente forma:<br>\n",
    ">def mi_funcion(param1, param2):\n",
    ">>instrucciones...<br>\n",
    "print param1<br>\n",
    "print param2<br>\n",
    "\n",
    "Es decir, la palabra clave <b>def</b> seguida del nombre de la función y entre\n",
    "paréntesis los argumentos separados por comas. A continuación, en\n",
    "otra línea, indentado y después de los dos puntos tendríamos las líneas\n",
    "de código que conforman el código a ejecutar por la función.\n",
    "\n",
    "También podemos encontrarnos con una cadena de texto como\n",
    "primera línea del cuerpo de la función. Estas cadenas se conocen con\n",
    "el nombre de docstring (cadena de documentación) y sirven, como su\n",
    "nombre indica, a modo de documentación de la función."
   ]
  },
  {
   "cell_type": "code",
   "execution_count": 1,
   "metadata": {},
   "outputs": [
    {
     "name": "stdout",
     "output_type": "stream",
     "text": [
      "Help on function mi_funcion in module __main__:\n",
      "\n",
      "mi_funcion(param1, param2)\n",
      "    Esta funcion imprime los dos valores pasados\n",
      "    como parametros\n",
      "\n"
     ]
    }
   ],
   "source": [
    "def mi_funcion(param1, param2):\n",
    "    '''Esta funcion imprime los dos valores pasados\n",
    "    como parametros''' #este es el docstring\n",
    "    print(param1)\n",
    "    print(param2)\n",
    "    \n",
    "help(mi_funcion) #el operador help actua sobre el nombre de la funcion y me imprime el docstring"
   ]
  },
  {
   "cell_type": "markdown",
   "metadata": {},
   "source": [
    "Esto es lo que imprime el opeardor <b>?</b> de iPython o la función <b>help</b>\n",
    "del lenguaje para proporcionar una ayuda sobre el uso y utilidad de\n",
    "las funciones. Todos los objetos pueden tener docstrings, no solo las\n",
    "funciones, como veremos más adelante.\n",
    "\n",
    "A la hora de escribir estas líneas no se ejecuta la función. Para\n",
    "llamar a la función (ejecutar su código) se escribiría:\n",
    "\n",
    "mi_funcion(“hola”, 2)\n",
    "\n",
    "Es decir, el nombre de la función a la que queremos llamar seguido de\n",
    "los valores que queramos pasar como parámetros entre paréntesis. La\n",
    "asociación de los parámetros y los valores pasados a la función se hace\n",
    "normalmente de izquierda a derecha: como a param1 le hemos dado un\n",
    "valor “hola” y param2 vale 2 , mi_funcion imprimiría hola en una línea,\n",
    "y a continuación 2."
   ]
  },
  {
   "cell_type": "code",
   "execution_count": 2,
   "metadata": {},
   "outputs": [],
   "source": [
    "mi_funcion?"
   ]
  },
  {
   "cell_type": "code",
   "execution_count": 3,
   "metadata": {},
   "outputs": [
    {
     "name": "stdout",
     "output_type": "stream",
     "text": [
      "hola\n",
      "2\n"
     ]
    }
   ],
   "source": [
    "mi_funcion(\"hola\",2)"
   ]
  },
  {
   "cell_type": "markdown",
   "metadata": {},
   "source": [
    "### Nota:\n",
    "---OJO--- error comun\n",
    "\n",
    "El número de valores que se pasan como parámetro al llamar a la función tiene que coincidir con el número de parámetros que la función\n",
    "acepta según la declaración de la función. En caso contrario Python se\n",
    "quejará:\n",
    "\n",
    ">mi_funcion(“hola”) <br>\n",
    "Traceback (most recent call last): <br>\n",
    "File “<stdin>”, line 1, in <module> <br>\n",
    "TypeError: mi_funcion() takes exactly 2 arguments (1 given) <br>\n",
    "    \n",
    "También es posible, no obstante, definir funciones con un número variable de argumentos, o bien asignar valores por defecto a los parámetros para el caso de que no se indique ningún valor para ese parámetro\n",
    "al llamar a la función."
   ]
  },
  {
   "cell_type": "markdown",
   "metadata": {},
   "source": [
    "<a name=\"item2\"></a>\n",
    "## Valores de argumentos por defecto\n",
    "\n",
    "Los valores por defecto para los parámetros se definen situando un\n",
    "signo igual después del nombre del parámetro y a continuación el valor\n",
    "por defecto:"
   ]
  },
  {
   "cell_type": "code",
   "execution_count": 4,
   "metadata": {},
   "outputs": [],
   "source": [
    "def imprimir(texto, veces = 1): #se deja por defecto veces=1\n",
    "    print(veces * texto)"
   ]
  },
  {
   "cell_type": "code",
   "execution_count": 5,
   "metadata": {},
   "outputs": [
    {
     "name": "stdout",
     "output_type": "stream",
     "text": [
      "hola\n"
     ]
    }
   ],
   "source": [
    "imprimir(\"hola\")"
   ]
  },
  {
   "cell_type": "code",
   "execution_count": 6,
   "metadata": {},
   "outputs": [
    {
     "name": "stdout",
     "output_type": "stream",
     "text": [
      "holahola\n"
     ]
    }
   ],
   "source": [
    "imprimir(\"hola\",2)"
   ]
  },
  {
   "cell_type": "markdown",
   "metadata": {},
   "source": [
    "<a name=\"item3\"></a>\n",
    "## Funciones con numero variable de argumentos\n",
    "\n",
    "Para definir funciones con un número variable de argumentos colocamos un último parámetro para la función cuyo nombre debe precederse de un signo *"
   ]
  },
  {
   "cell_type": "code",
   "execution_count": 7,
   "metadata": {},
   "outputs": [],
   "source": [
    "def varios(param1, param2, *otros):\n",
    "    for val in otros:\n",
    "        print(val)"
   ]
  },
  {
   "cell_type": "code",
   "execution_count": 8,
   "metadata": {},
   "outputs": [],
   "source": [
    "varios(1, 2)"
   ]
  },
  {
   "cell_type": "code",
   "execution_count": 9,
   "metadata": {},
   "outputs": [
    {
     "name": "stdout",
     "output_type": "stream",
     "text": [
      "3\n"
     ]
    }
   ],
   "source": [
    "varios(1,2,3)"
   ]
  },
  {
   "cell_type": "code",
   "execution_count": 10,
   "metadata": {},
   "outputs": [
    {
     "name": "stdout",
     "output_type": "stream",
     "text": [
      "3\n",
      "4\n"
     ]
    }
   ],
   "source": [
    "varios(1,2,3,4)"
   ]
  },
  {
   "cell_type": "markdown",
   "metadata": {},
   "source": [
    "Esta sintaxis funciona creando una <b>tupla</b> (de nombre otros en el\n",
    "ejemplo) en la que se almacenan los valores de todos los parámetros\n",
    "extra pasados como argumento. Para la primera llamada, varios(1, 2) ,\n",
    "la tupla otros estaría vacía dado que no se han pasado más parámetros\n",
    "que los dos definidos por defecto, por lo tanto no se imprimiría nada.\n",
    "En la segunda llamada otros valdría (3, ) , y en la tercera (3, 4) .\n",
    "\n",
    "También se puede preceder el nombre del último parámetro con ** , en\n",
    "cuyo caso en lugar de una tupla se utilizaría un diccionario. Las claves\n",
    "de este diccionario serían los nombres de los parámetros indicados al llamar a la función y los valores del diccionario, los valores asociados a\n",
    "estos parámetros.\n",
    "\n",
    "En el siguiente ejemplo se utiliza la función items de los diccionarios,\n",
    "que devuelve una lista con sus elementos, para imprimir los parámetros\n",
    "que contiene el diccionario."
   ]
  },
  {
   "cell_type": "code",
   "execution_count": 3,
   "metadata": {},
   "outputs": [],
   "source": [
    "def varios(param1, param2, **otros):\n",
    "    for i in otros.items():\n",
    "        print(i)"
   ]
  },
  {
   "cell_type": "code",
   "execution_count": 6,
   "metadata": {},
   "outputs": [
    {
     "name": "stdout",
     "output_type": "stream",
     "text": [
      "('tercero', 3)\n"
     ]
    }
   ],
   "source": [
    "varios(1, 2, tercero = 3)"
   ]
  },
  {
   "cell_type": "markdown",
   "metadata": {},
   "source": [
    "Los que conozcáis algún otro lenguaje de programación os estaréis\n",
    "preguntando si en Python al pasar una variable como argumento de\n",
    "una función estas se pasan por referencia o por valor."
   ]
  },
  {
   "cell_type": "markdown",
   "metadata": {},
   "source": [
    "<a name=\"item4\"></a>\n",
    "## Paso por referencia:\n",
    "\n",
    "Lo que se pasa como argumento es una referencia o puntero\n",
    "a la variable, es decir, la dirección de memoria en la que se encuentra el\n",
    "contenido de la variable, y no el contenido en si."
   ]
  },
  {
   "cell_type": "markdown",
   "metadata": {},
   "source": [
    "<a name=\"item5\"></a>\n",
    "## Paso por valor: \n",
    "\n",
    "En el paso por valor,\n",
    "por el contrario, lo que se pasa como argumento es el valor que contenía la variable.\n",
    "\n",
    "La diferencia entre ambos estriba en que en el paso por valor los\n",
    "cambios que se hagan sobre el parámetro no se ven fuera de la función, dado que los argumentos de la función son variables locales a la\n",
    "función que contienen los valores indicados por las variables que se\n",
    "pasaron como argumento. Es decir, en realidad lo que se le pasa a la\n",
    "función son copias de los valores y no las variables en si.\n",
    "\n",
    "Si quisiéramos modificar el valor de uno de los argumentos y que estos\n",
    "cambios se reflejaran fuera de la función tendríamos que pasar el parámetro por referencia.\n",
    "\n",
    "En Python también se utiliza el paso por valor de referencias a objetos,como en Java, aunque en el caso de Python, a diferencia de Java, todo\n",
    "es un objeto (para ser exactos lo que ocurre en realidad es que al objeto\n",
    "se le asigna otra etiqueta o nombre en el espacio de nombres local de la\n",
    "función).\n",
    "Sin embargo no todos los cambios que hagamos a los parámetros\n",
    "dentro de una función Python se reflejarán fuera de esta, ya que hay\n",
    "que tener en cuenta que en Python existen objetos inmutables, como\n",
    "las tuplas, por lo que si intentáramos modificar una tupla pasada como\n",
    "parámetro lo que ocurriría en realidad es que se crearía una nueva instancia, por lo que los cambios no se verían fuera de la función.\n",
    "\n",
    "Veamos un pequeño programa para demostrarlo. En este ejemplo\n",
    "se hace uso del método append de las listas. Un método no es más\n",
    "que una función que pertenece a un objeto, en este caso a una lista; y\n",
    "append , en concreto, sirve para añadir un elemento a una lista."
   ]
  },
  {
   "cell_type": "code",
   "execution_count": 13,
   "metadata": {},
   "outputs": [],
   "source": [
    "def f(x, y):\n",
    "    x = x + 3\n",
    "    y.append(23)\n",
    "    print(x,y)"
   ]
  },
  {
   "cell_type": "code",
   "execution_count": 14,
   "metadata": {},
   "outputs": [
    {
     "name": "stdout",
     "output_type": "stream",
     "text": [
      "25 [22, 23]\n",
      "22 [22, 23]\n"
     ]
    }
   ],
   "source": [
    "x = 22\n",
    "y = [22]\n",
    "f(x, y) #imprime el valor de x y y en la funcion\n",
    "print(x,y) #imprime el valor de x y y por fuera de la funcion "
   ]
  },
  {
   "cell_type": "code",
   "execution_count": 36,
   "metadata": {},
   "outputs": [
    {
     "name": "stdout",
     "output_type": "stream",
     "text": [
      "[0.  0.1 0.2 0.3 0.4 0.5 0.6 0.7 0.8 0.9]\n",
      "[1.  1.1 1.2 1.3 1.4 1.5 1.6 1.7 1.8 1.9]\n",
      "[1.  1.1 1.2 1.3 1.4 1.5 1.6 1.7 1.8 1.9]\n"
     ]
    }
   ],
   "source": [
    "import numpy as np \n",
    "X=np.arange(0,1,0.1)\n",
    "print(X)\n",
    "X=X+1\n",
    "print(X)\n",
    "def sumar(x):\n",
    "    x=x+1\n",
    "    return x\n",
    "z=sumar(X)\n",
    "print(X) #No se modifico el valor de x"
   ]
  },
  {
   "cell_type": "markdown",
   "metadata": {},
   "source": [
    "Como vemos la variable x no conserva los cambios una vez salimos de\n",
    "la función porque los enteros son inmutables en Python. Sin embargo\n",
    "la variable y si los conserva, porque las listas son mutables.\n",
    "En resumen: los valores mutables se comportan como paso por referencia, y los inmutables como paso por valor.\n",
    "\n",
    "Veamos por último cómo devolver valores, para lo que se\n",
    "utiliza la palabra clave return :"
   ]
  },
  {
   "cell_type": "markdown",
   "metadata": {},
   "source": [
    "<a name=\"item6\"></a>\n",
    "## Return "
   ]
  },
  {
   "cell_type": "code",
   "execution_count": 15,
   "metadata": {},
   "outputs": [
    {
     "name": "stdout",
     "output_type": "stream",
     "text": [
      "5\n"
     ]
    }
   ],
   "source": [
    "def sumar(x, y):\n",
    "    return x + y\n",
    "print(sumar(3, 2))"
   ]
  },
  {
   "cell_type": "markdown",
   "metadata": {},
   "source": [
    "También podríamos pasar varios valores que retornar a return."
   ]
  },
  {
   "cell_type": "code",
   "execution_count": 30,
   "metadata": {},
   "outputs": [],
   "source": [
    "def f(x, y):\n",
    "    return x * 2, y * 2\n",
    "\n",
    "a,b= f(1, 2)"
   ]
  },
  {
   "cell_type": "markdown",
   "metadata": {},
   "source": [
    "### Nota:\n",
    "\n",
    "Sin embargo esto no quiere decir que las funciones Python puedan devolver varios valores, lo que ocurre en realidad es que Python crea una\n",
    "tupla al vuelo cuyos elementos son los valores a retornar, y esta única\n",
    "variable es la que se devuelve."
   ]
  },
  {
   "cell_type": "markdown",
   "metadata": {},
   "source": [
    "<a name=\"item7\"></a>\n",
    "## Programacion funcional\n",
    "\n",
    "La programación funcional es un paradigma en el que la programación se basa casi en su totalidad en funciones, entendiendo el concepto\n",
    "de función según su definición matemática, y no como los simples\n",
    "subprogramas de los lenguajes imperativos que hemos visto hasta\n",
    "ahora.\n",
    "En los lenguajes funcionales puros un programa consiste exclusivamente en la aplicación de distintas funciones a un valor de entrada\n",
    "para obtener un valor de salida.\n",
    "Python, sin ser un lenguaje puramente funcional incluye varias características tomadas de los lenguajes funcionales como son las <b>funciones de\n",
    "orden superior o las funciones lambda (funciones anónimas)</b>."
   ]
  },
  {
   "cell_type": "markdown",
   "metadata": {},
   "source": [
    "<a name=\"item8\"></a>\n",
    "## Funciones de orden superior\n",
    "\n",
    "Las funciones de orden superior son funciones que pueden recibir como parámetros otras funciones y/o devolverlas como resultados.\n",
    "\n",
    "El concepto de funciones de orden superior se refiere al uso de funciones como si de un valor cualquiera se tratara, posibilitando el pasar\n",
    "funciones como parámetros de otras funciones o devolver funciones\n",
    "como valor de retorno.\n",
    "Esto es posible porque, como hemos insistido ya en varias ocasiones,\n",
    "en Python todo son objetos. Y las funciones no son una excepción."
   ]
  },
  {
   "cell_type": "code",
   "execution_count": 17,
   "metadata": {},
   "outputs": [],
   "source": [
    "def saludar(lang): #es una fucnion que le ingresa una clave de un diccionario y retorna otra funcion \n",
    "    \n",
    "    def saludar_es():\n",
    "        print(\"Hola\")\n",
    "        \n",
    "    def saludar_en():\n",
    "        print(\"Hi\")\n",
    "        \n",
    "    def saludar_fr():\n",
    "        print (\"Salut\")\n",
    "        \n",
    "    lang_func = {\"es\": saludar_es, #defino un diccionario donde el valor es la funcion y la claves estan definidas\n",
    "                \"en\": saludar_en,\n",
    "                \"fr\": saludar_fr}\n",
    "    return lang_func[lang] #la funcion saludar retorna otra funcion\n",
    "\n",
    "#en la anterior funcion ingreso la clave que yo desee del diccionario y me asigna una funcion esta funcion \n",
    "#es llamada dentro de la funcion"
   ]
  },
  {
   "cell_type": "code",
   "execution_count": 18,
   "metadata": {},
   "outputs": [
    {
     "name": "stdout",
     "output_type": "stream",
     "text": [
      "Hola\n"
     ]
    }
   ],
   "source": [
    "f = saludar(\"es\")\n",
    "f()"
   ]
  },
  {
   "cell_type": "markdown",
   "metadata": {},
   "source": [
    "Como el valor de retorno de saludar es una función, como hemos\n",
    "visto, esto quiere decir que f es una variable que contiene una función.\n",
    "Podemos entonces llamar a la función a la que se refiere f de la forma\n",
    "en que llamaríamos a cualquier otra función, añadiendo unos paréntesis y, de forma opcional, una serie de parámetros entre los paréntesis."
   ]
  },
  {
   "cell_type": "code",
   "execution_count": 41,
   "metadata": {},
   "outputs": [],
   "source": [
    "def funcionsuperior(w):\n",
    "    \n",
    "    def sumar(x,y):\n",
    "        return x+y\n",
    "    def restar(x,y):\n",
    "        return x-y\n",
    "    def dividir(x,y):\n",
    "        return x/y\n",
    "    def multiplicar(x,y):\n",
    "        return x*y\n",
    "    \n",
    "    dic={\"sumar\":sumar,\n",
    "         \"restar\":restar,\n",
    "         \"dividir\":dividir,\n",
    "         \"multiplicar\":multiplicar\n",
    "        }\n",
    "    return dic[w]\n",
    "\n",
    "g=funcionsuperior(\"sumar\") # me retorna una funcion "
   ]
  },
  {
   "cell_type": "code",
   "execution_count": 49,
   "metadata": {},
   "outputs": [
    {
     "name": "stdout",
     "output_type": "stream",
     "text": [
      "7\n",
      "-1\n"
     ]
    }
   ],
   "source": [
    "print(g(3,4))\n",
    "print(funcionsuperior(\"restar\")(3,4))"
   ]
  },
  {
   "cell_type": "code",
   "execution_count": 48,
   "metadata": {},
   "outputs": [
    {
     "name": "stdout",
     "output_type": "stream",
     "text": [
      "95\n"
     ]
    }
   ],
   "source": [
    "def operar(x,y,f):\n",
    "    return f(x,y)\n",
    "def sumar(x,y):\n",
    "    return x+y\n",
    "def restar(x,y):\n",
    "    return x-y\n",
    "z=operar(93,2,sumar)\n",
    "print(z)"
   ]
  },
  {
   "cell_type": "markdown",
   "metadata": {},
   "source": [
    "<a name=\"item9\"></a>\n",
    "## Iteraciones de orden superior sobre listas\n",
    "\n",
    "Una de las cosas más interesantes que podemos hacer con nuestras\n",
    "funciones de orden superior es pasarlas como argumentos de las funciones map , filter y reduce . Estas funciones nos permiten sustituir los\n",
    "bucles típicos de los lenguajes imperativos mediante construcciones\n",
    "equivalentes."
   ]
  },
  {
   "cell_type": "markdown",
   "metadata": {},
   "source": [
    "<a name=\"item10\"></a>\n",
    "## Map(function, sequence[, sequence, ...])\n",
    "\n",
    "La función map() toma una función y una lista y aplica esa función a cada elemento de esa lista, produciendo una nueva lista. Va a ver su definición de tipo y como se define.\n",
    "\n",
    "La función map aplica una función a cada elemento de una secuencia y\n",
    "devuelve una lista con el resultado de aplicar la función a cada elemento. Si se pasan como parámetros n secuencias, la función tendrá que\n",
    "aceptar n argumentos. Si alguna de las secuencias es más pequeña que\n",
    "las demás, el valor que le llega a la función function para posiciones\n",
    "mayores que el tamaño de dicha secuencia será None .\n",
    "\n",
    "A continuación podemos ver un ejemplo en el que se utiliza map para\n",
    "elevar al cuadrado todos los elementos de una lista:"
   ]
  },
  {
   "cell_type": "code",
   "execution_count": 19,
   "metadata": {},
   "outputs": [
    {
     "name": "stdout",
     "output_type": "stream",
     "text": [
      "[1, 4, 9]\n"
     ]
    }
   ],
   "source": [
    "x=[]\n",
    "def cuadrado(n):\n",
    "    return n ** 2\n",
    "l = [1, 2, 3]\n",
    "l2 = map(cuadrado, l)\n",
    "x=list(l2)\n",
    "print(x)"
   ]
  },
  {
   "cell_type": "code",
   "execution_count": 81,
   "metadata": {},
   "outputs": [
    {
     "name": "stdout",
     "output_type": "stream",
     "text": [
      "<map object at 0x7f965772d3c8>\n",
      "[(1, 4, 9), (2, 5, 8), (3, 6, 7)]\n"
     ]
    }
   ],
   "source": [
    "def f1(l1,l2,l3):\n",
    "    x=np.max(l1)\n",
    "    y=np.max(l2)\n",
    "    w=np.max(l3)\n",
    "    return x,y,w\n",
    "f1(l1,l2,l3)\n",
    "r1=map(f1,l1,l2,l3)\n",
    "print(r1)\n",
    "rr1=list(r1)\n",
    "print(rr1)"
   ]
  },
  {
   "cell_type": "code",
   "execution_count": 71,
   "metadata": {},
   "outputs": [
    {
     "name": "stdout",
     "output_type": "stream",
     "text": [
      "[(3, -1), (7, -1), (11, -1)]\n"
     ]
    }
   ],
   "source": [
    "def f2(l):\n",
    "    return l[0]+l[1],l[0]-l[1]\n",
    "l=[[1,2],[3,4],[5,6]]\n",
    "r2=map(f2,l)\n",
    "rr2=list(r2)\n",
    "print(rr2)"
   ]
  },
  {
   "cell_type": "markdown",
   "metadata": {},
   "source": [
    "### Nota:\n",
    "La función map() se utiliza mucho junto a expresiones lambda ya que permite evitar escribir bucles for."
   ]
  },
  {
   "cell_type": "markdown",
   "metadata": {},
   "source": [
    "<a name=\"item11\"></a>\n",
    "## Filter(function, sequence) \n",
    "La funcion filter verifica que los elementos de una secuencia cumplan una determinada condición, devolviendo una secuencia con los\n",
    "elementos que cumplen esa condición. Es decir, para cada elemento de\n",
    "sequence se aplica la función function ; si el resultado es True se añade\n",
    "a la lista y en caso contrario se descarta.<br>\n",
    "A continuación podemos ver un ejemplo en el que se utiliza filter\n",
    "para conservar solo los números que son pares."
   ]
  },
  {
   "cell_type": "code",
   "execution_count": 1,
   "metadata": {},
   "outputs": [
    {
     "name": "stdout",
     "output_type": "stream",
     "text": [
      "[2, 4]\n"
     ]
    }
   ],
   "source": [
    "def es_par(n):\n",
    "    return (n % 2.0 == 0) #note que el return es la condicion o booleano\n",
    "l = [1, 2, 3,4]\n",
    "l2=filter(es_par,l)\n",
    "x=list(l2)\n",
    "print(x)"
   ]
  },
  {
   "cell_type": "code",
   "execution_count": 5,
   "metadata": {},
   "outputs": [
    {
     "name": "stdout",
     "output_type": "stream",
     "text": [
      "[1, 2, 3, 4]\n"
     ]
    }
   ],
   "source": [
    "def f1(n):\n",
    "    return n>0\n",
    "l=[-2,-3,-4,0,1,2,3,4]\n",
    "x=filter(f1,l)\n",
    "xx=list(x)\n",
    "print(xx)"
   ]
  },
  {
   "cell_type": "code",
   "execution_count": null,
   "metadata": {},
   "outputs": [],
   "source": [
    "   return type(x)==int or type(x)==float\n",
    "x1=filter(f2,li)\n",
    "xx1=list(x1)\n",
    "print(xx1)   "
   ]
  },
  {
   "cell_type": "code",
   "execution_count": 74,
   "metadata": {},
   "outputs": [],
   "source": [
    "li=[\"julian1234\",3,\"rafa4554\",\"234fisica\",3.14,\"ju2345an\",\"j6u6l89\"]\n"
   ]
  },
  {
   "cell_type": "code",
   "execution_count": 86,
   "metadata": {},
   "outputs": [
    {
     "name": "stdout",
     "output_type": "stream",
     "text": [
      "[['1', '2', '3', '4'], 3, ['4', '5', '5', '4'], ['2', '3', '4'], 3.14, ['2', '3', '4', '5'], ['6', '6', '8', '9']]\n"
     ]
    }
   ],
   "source": [
    "def f2(x):\n",
    "    y=\"1234567890\"\n",
    "    if type(x)==str:\n",
    "        l=[]\n",
    "        for i in x:\n",
    "            for j in y:\n",
    "                if i==j:\n",
    "                    l.append(i)\n",
    "        return l\n",
    "    else:\n",
    "        return x\n",
    "X=list(map(f2,li))\n",
    "print(X)"
   ]
  },
  {
   "cell_type": "code",
   "execution_count": 90,
   "metadata": {},
   "outputs": [
    {
     "name": "stdout",
     "output_type": "stream",
     "text": [
      "[1234, 3, 4554, 234, 3.14, 2345, 6689]\n"
     ]
    }
   ],
   "source": [
    "def f3(x):\n",
    "    if type(x)==list:\n",
    "        w=\"\"\n",
    "        for i in x:\n",
    "            w=w+i\n",
    "        return int(w)\n",
    "    else:\n",
    "        return x\n",
    "Y=list(map(f3,X))\n",
    "print(Y)"
   ]
  },
  {
   "cell_type": "markdown",
   "metadata": {},
   "source": [
    "<a name=\"item12\"></a>\n",
    "## Reduce(function, sequence[, initial]) \n",
    "\n",
    "La función reduce aplica una función a pares de elementos de una\n",
    "secuencia hasta dejarla en un solo valor.<br>\n",
    "A continuación podemos ver un ejemplo en el que se utiliza reduce\n",
    "para sumar todos los elementos de una lista."
   ]
  },
  {
   "cell_type": "code",
   "execution_count": 21,
   "metadata": {},
   "outputs": [],
   "source": [
    "def sumar(x, y):\n",
    "    return x + y\n",
    "\n",
    "l = [1, 2, 3]\n",
    "#l2 = reduce(sumar, l) #ya no esta reduce en python 3"
   ]
  },
  {
   "cell_type": "markdown",
   "metadata": {},
   "source": [
    "<a name=\"item13\"></a>\n",
    "## Funciones lambda\n",
    "\n",
    "El operador lambda sirve para crear funciones anónimas en línea. Al ser\n",
    "funciones anónimas, es decir, sin nombre, estas no podrán ser referenciadas más tarde.<br>\n",
    "Las funciones lambda se construyen mediante el operador lambda , los\n",
    "parámetros de la función separados por comas (atención, SIN paréntesis), dos puntos ( : ) y el código de la función.<br>\n",
    "Esta construcción podrían haber sido de utilidad en los ejemplos anteriores para reducir código. El programa que utilizamos para explicar\n",
    "filter , por ejemplo, podría expresarse así:"
   ]
  },
  {
   "cell_type": "code",
   "execution_count": 22,
   "metadata": {},
   "outputs": [
    {
     "name": "stdout",
     "output_type": "stream",
     "text": [
      "[2]\n"
     ]
    }
   ],
   "source": [
    "l = [1, 2, 3]\n",
    "l2 = filter(lambda n: n % 2.0 == 0, l)\n",
    "print(list(l2))"
   ]
  },
  {
   "cell_type": "markdown",
   "metadata": {},
   "source": [
    "Las funciones lambda están restringidas por la sintaxis a una sola expresion\n"
   ]
  },
  {
   "cell_type": "markdown",
   "metadata": {},
   "source": [
    "<a name=\"item14\"></a>\n",
    "## Comprensión de listas (Muy importante)\n",
    "En Python 3000 map, filter y reduce perderán importancia. Y aunque estas funciones se mantendrán, reduce pasará a formar parte del\n",
    "módulo functools , con lo que quedará fuera de las funciones disponibles por defecto, y map y filter se desaconsejarán en favor de las list\n",
    "comprehensions o comprensión de listas.<br>\n",
    "La comprensión de listas es una característica tomada del lenguaje de\n",
    "programación funcional Haskell que está presente en Python desde la\n",
    "versión 2.0 y consiste en una construcción que permite crear listas a\n",
    "partir de otras listas.<br>\n",
    "Cada una de estas construcciones consta de una expresión que determina cómo modificar el elemento de la lista original, seguida de una o varias clausulas for y opcionalmente una o varias clausulas if . <br>\n",
    "Veamos un ejemplo de cómo se podría utilizar la comprensión de listas\n",
    "para elevar al cuadrado todos los elementos de una lista, como hicimos\n",
    "en nuestro ejemplo de map ."
   ]
  },
  {
   "cell_type": "code",
   "execution_count": 23,
   "metadata": {},
   "outputs": [
    {
     "name": "stdout",
     "output_type": "stream",
     "text": [
      "[1, 4, 9]\n"
     ]
    }
   ],
   "source": [
    "l=[1,2,3]\n",
    "l2 = [n ** 2 for n in l]\n",
    "print(l2)"
   ]
  },
  {
   "cell_type": "markdown",
   "metadata": {},
   "source": [
    "Esta expresión se leería como “para cada n en l haz n ** 2”. Como vemos tenemos primero la expresión que modifica los valores de la lista original (n ** 2), después el for, el nombre que vamos a utilizar para\n",
    "referirnos al elemento actual de la lista original, el in , y la lista sobre la\n",
    "que se itera."
   ]
  },
  {
   "cell_type": "code",
   "execution_count": 24,
   "metadata": {},
   "outputs": [
    {
     "name": "stdout",
     "output_type": "stream",
     "text": [
      "36\n"
     ]
    }
   ],
   "source": [
    "l=[1,2,3,4,5,6]\n",
    "lc=[[i,j] for i in l for j in l]\n",
    "print(len(lc))\n",
    "#que es equivalente a \n",
    "lc=[[i,j] for i in\n",
    "    l for j in l]\n",
    "#que es equivalente a\n",
    "lcl=[]\n",
    "for i in l:\n",
    "    for j in l:\n",
    "        x=[i,j]\n",
    "        lcl.append(x)   "
   ]
  },
  {
   "cell_type": "markdown",
   "metadata": {},
   "source": [
    "<a name=\"item15\"></a>\n",
    "## Generadores \n",
    "Las expresiones generadoras funcionan de forma muy similar a la\n",
    "comprensión de listas. De hecho su sintaxis es exactamente igual, a\n",
    "excepción de que se utilizan paréntesis en lugar de corchetes:\n",
    "l2 = (n ** 2 for n in l)\n",
    "Sin embargo las expresiones generadoras se diferencian de la comprensión de listas en que no se devuelve una lista, sino un generador."
   ]
  },
  {
   "cell_type": "code",
   "execution_count": 25,
   "metadata": {},
   "outputs": [
    {
     "name": "stdout",
     "output_type": "stream",
     "text": [
      "<class 'list'>\n",
      "[1, 4, 9, 16, 25, 36]\n",
      "1\n",
      "4\n",
      "9\n",
      "16\n",
      "25\n",
      "36\n",
      "<class 'generator'>\n",
      "1\n",
      "4\n",
      "9\n",
      "16\n",
      "25\n",
      "36\n"
     ]
    }
   ],
   "source": [
    "l2 = [n ** 2 for n in l]\n",
    "print(type(l2))\n",
    "print(l2)\n",
    "for i in l2:\n",
    "    print(i)\n",
    "l2 = (n ** 2 for n in l)\n",
    "print(type(l2))\n",
    "for i in l2:\n",
    "    print(i)"
   ]
  },
  {
   "cell_type": "markdown",
   "metadata": {},
   "source": [
    "Un generador es una clase especial de función que genera valores sobre\n",
    "los que iterar. Para devolver el siguiente valor sobre el que iterar se\n",
    "utiliza la palabra clave yield en lugar de return . Veamos por ejemplo\n",
    "un generador que devuelva números de n a m con un salto s ."
   ]
  },
  {
   "cell_type": "code",
   "execution_count": 26,
   "metadata": {},
   "outputs": [
    {
     "data": {
      "text/plain": [
       "<generator object mi_generador at 0x7f968981fd00>"
      ]
     },
     "execution_count": 26,
     "metadata": {},
     "output_type": "execute_result"
    }
   ],
   "source": [
    "def mi_generador(n, m, s):\n",
    "    while(n <= m):\n",
    "        yield n\n",
    "        n += s\n",
    "x = mi_generador(0, 5, 1)\n",
    "x"
   ]
  },
  {
   "cell_type": "markdown",
   "metadata": {},
   "source": [
    "El generador se puede utilizar en cualquier lugar donde se necesite un\n",
    "objeto iterable. Por ejemplo en un for - in :"
   ]
  },
  {
   "cell_type": "code",
   "execution_count": 27,
   "metadata": {},
   "outputs": [
    {
     "name": "stdout",
     "output_type": "stream",
     "text": [
      "0\n",
      "1\n",
      "2\n",
      "3\n",
      "4\n",
      "5\n"
     ]
    }
   ],
   "source": [
    "for n in mi_generador(0, 5, 1):\n",
    "    print(n)"
   ]
  },
  {
   "cell_type": "markdown",
   "metadata": {},
   "source": [
    "Como no estamos creando una lista completa en memoria, sino generando un solo valor cada vez que se necesita, en situaciones en las que\n",
    "no sea necesario tener la lista completa el uso de generadores puede\n",
    "suponer una gran diferencia de memoria. En todo caso siempre es posible crear una lista a partir de un generador mediante la función list :\n",
    "lista = list(mi_generador)"
   ]
  },
  {
   "cell_type": "markdown",
   "metadata": {},
   "source": [
    "<a name=\"item16\"></a>\n",
    "## Decoradores\n",
    "Un decorador no es es mas que una función que recibe una función\n",
    "como parámetro y devuelve otra función como resultado. Por ejemplo podríamos querer añadir la funcionalidad de que se imprimiera el\n",
    "nombre de la función llamada por motivos de depuración:"
   ]
  },
  {
   "cell_type": "code",
   "execution_count": 28,
   "metadata": {},
   "outputs": [],
   "source": [
    "def mi_decorador(funcion):\n",
    "    def nueva(*args):\n",
    "        print(\"Llamada a la funcion\"), funcion.__name__\n",
    "        retorno = funcion(*args)\n",
    "        return retorno\n",
    "    return nueva"
   ]
  },
  {
   "cell_type": "markdown",
   "metadata": {},
   "source": [
    "Como vemos el código de la función mi_decorador no hace más que\n",
    "crear una nueva función y devolverla. Esta nueva función imprime el\n",
    "nombre de la función a la que “decoramos”, ejecuta el código de dicha\n",
    "función, y devuelve su valor de retorno. Es decir, que si llamáramos\n",
    "a la nueva función que nos devuelve mi_decorador , el resultado sería\n",
    "el mismo que el de llamar directamente a la función que le pasamos\n",
    "como parámetro, exceptuando el que se imprimiría además el nombre\n",
    "de la función.\n",
    "\n",
    "La sintaxis para llamar a la función que nos devuelve mi_decorador no\n",
    "es muy clara, aunque si lo estudiamos detenidamente veremos que no\n",
    "tiene mayor complicación. Primero se llama a la función que decora\n",
    "con la función a decorar: mi_decorador(imp) ; y una vez obtenida la\n",
    "función ya decorada se la puede llamar pasando el mismo parámetro\n",
    "que se pasó anteriormente: mi_decorador(imp)(“hola”)\n",
    "Esto se podría expresar más claramente precediendo la definición de la\n",
    "función que queremos decorar con el signo @ seguido del nombre de la\n",
    "función decoradora:\n",
    "\n",
    "De esta forma cada vez que se llame a imp se estará llamando realmente a la versión decorada. Python incorpora esta sintaxis desde la versión\n",
    "2.4 en adelante.\n",
    "Si quisiéramos aplicar más de un decorador bastaría añadir una nueva\n",
    "línea con el nuevo decorador."
   ]
  },
  {
   "cell_type": "markdown",
   "metadata": {},
   "source": [
    "<a name=\"item17\"></a>\n",
    "## Excepciones\n",
    "\n",
    "Las excepciones son errores detectados por Python durante la ejecución del programa. Cuando el intérprete se encuentra con una\n",
    "situación excepcional, como el intentar dividir un número entre 0 o\n",
    "el intentar acceder a un archivo que no existe, este genera o lanza una\n",
    "excepción, informando al usuario de que existe algún problema.\n",
    "\n",
    "Si la excepción no se captura el flujo de ejecución se interrumpe y se\n",
    "muestra la información asociada a la excepción en la consola de forma\n",
    "que el programador pueda solucionar el problema.\n",
    "\n",
    "Veamos un pequeño programa que lanzaría una excepción al intentar\n",
    "dividir 1 entre 0."
   ]
  },
  {
   "cell_type": "code",
   "execution_count": null,
   "metadata": {},
   "outputs": [],
   "source": []
  },
  {
   "cell_type": "markdown",
   "metadata": {},
   "source": [
    "Hasta aca tenemos el tema de funciones en python. Si tienes alguna duda no olvides escribir a <br>\n",
    "<b>andres.programacion123@gmail.com</b>"
   ]
  }
 ],
 "metadata": {
  "kernelspec": {
   "display_name": "Python 3",
   "language": "python",
   "name": "python3"
  },
  "language_info": {
   "codemirror_mode": {
    "name": "ipython",
    "version": 3
   },
   "file_extension": ".py",
   "mimetype": "text/x-python",
   "name": "python",
   "nbconvert_exporter": "python",
   "pygments_lexer": "ipython3",
   "version": "3.6.9"
  }
 },
 "nbformat": 4,
 "nbformat_minor": 2
}
