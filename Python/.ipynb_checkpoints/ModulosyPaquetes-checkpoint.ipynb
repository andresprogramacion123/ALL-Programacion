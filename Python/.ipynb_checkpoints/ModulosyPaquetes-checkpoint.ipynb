{
 "cells": [
  {
   "cell_type": "markdown",
   "metadata": {},
   "source": [
    "<h1>Modulos y paquetes</h1>\n",
    "<img src=\"https://www.3engine.net/wp/wp-content/uploads/2016/05/packpy.png\">"
   ]
  },
  {
   "cell_type": "markdown",
   "metadata": {},
   "source": [
    "<h3>Módulos</h3>\n",
    "Para facilitar el mantenimiento y la lectura los programas demasiado\n",
    "largos pueden dividirse en módulos, agrupando elementos relacionados. Los módulos son entidades que permiten una organización y división lógica de nuestro código. Los ficheros son su contrapartida física:<br>\n",
    "cada archivo Python almacenado en disco equivale a un módulo.<br>\n",
    "Vamos a crear nuestro primer módulo entonces creando un pequeño\n",
    "archivo Mimodulo.py con el siguiente contenido:<br>\n",
    "def mi_funcion():<br>\n",
    "    \"la siguiente funcion me imprime que es una funcion\"<br>\n",
    "    print(\"una funcion\")<br>\n",
    "\n",
    "class MiClase:<br>\n",
    "    def __init__(self):<br>\n",
    "        print(\"una clase\")<br>\n",
    "    \n",
    "print(\"un modulo\")<br>\n",
    "\n",
    "def suma(x,y):<br>\n",
    "    \"la siguiente funcion se encarga de rebibir dos argumentos y retornar la suma\"<br>\n",
    "    print(\"suma de dos elementos\")<br>\n",
    "    return x+y<br>\n"
   ]
  },
  {
   "cell_type": "markdown",
   "metadata": {},
   "source": [
    "Si quisiéramos utilizar la funcionalidad definida en este módulo en\n",
    "nuestro programa tendríamos que importarlo. Para importar un módulo se utiliza la palabra clave import seguida del nombre del módulo,\n",
    "que consiste en el nombre del archivo menos la extensión. Como ejemplo, creemos un archivo Mimodulo.py en el mismo directorio en el que\n",
    "guardamos el archivo del módulo (esto es importante, porque si no se\n",
    "encuentra en el mismo directorio Python no podrá encontrarlo), con el\n",
    "siguiente contenido:"
   ]
  },
  {
   "cell_type": "code",
   "execution_count": 1,
   "metadata": {},
   "outputs": [
    {
     "name": "stdout",
     "output_type": "stream",
     "text": [
      "un modulo\n",
      "Mimodulo es un modulo de practica.\n",
      "Help on module Mimodulo:\n",
      "\n",
      "NAME\n",
      "    Mimodulo - Mimodulo es un modulo de practica.\n",
      "\n",
      "CLASSES\n",
      "    builtins.object\n",
      "        MiClase\n",
      "    \n",
      "    class MiClase(builtins.object)\n",
      "     |  Methods defined here:\n",
      "     |  \n",
      "     |  __init__(self)\n",
      "     |      Initialize self.  See help(type(self)) for accurate signature.\n",
      "     |  \n",
      "     |  ----------------------------------------------------------------------\n",
      "     |  Data descriptors defined here:\n",
      "     |  \n",
      "     |  __dict__\n",
      "     |      dictionary for instance variables (if defined)\n",
      "     |  \n",
      "     |  __weakref__\n",
      "     |      list of weak references to the object (if defined)\n",
      "\n",
      "FUNCTIONS\n",
      "    mi_funcion()\n",
      "        la siguiente funcion me imprime que es una funcion\n",
      "    \n",
      "    suma(x, y)\n",
      "        la siguiente funcion se encarga de rebibir dos argumentos y retornar la suma\n",
      "\n",
      "FILE\n",
      "    /home/andres/Escritorio/ALL-Programacion/Python/Mimodulo.py\n",
      "\n",
      "\n",
      "None\n"
     ]
    }
   ],
   "source": [
    "import Mimodulo #al importar Mimodulo este se convierte en un objeto el cual \n",
    "#tiene los metodos asociados o escritos en su interior\n",
    "print(Mimodulo.__doc__)\n",
    "print(help(Mimodulo))"
   ]
  },
  {
   "cell_type": "code",
   "execution_count": 2,
   "metadata": {},
   "outputs": [
    {
     "name": "stdout",
     "output_type": "stream",
     "text": [
      "una funcion\n",
      "suma de dos elementos\n"
     ]
    },
    {
     "data": {
      "text/plain": [
       "5"
      ]
     },
     "execution_count": 2,
     "metadata": {},
     "output_type": "execute_result"
    }
   ],
   "source": [
    "Mimodulo.mi_funcion()\n",
    "\n",
    "Mimodulo.suma(3,2)"
   ]
  },
  {
   "cell_type": "code",
   "execution_count": 3,
   "metadata": {},
   "outputs": [],
   "source": [
    "import Mimodulo as mm #Una manera de renombrar el modulo importado"
   ]
  },
  {
   "cell_type": "code",
   "execution_count": 4,
   "metadata": {},
   "outputs": [
    {
     "name": "stdout",
     "output_type": "stream",
     "text": [
      "una funcion\n"
     ]
    }
   ],
   "source": [
    "mm.mi_funcion()"
   ]
  },
  {
   "cell_type": "markdown",
   "metadata": {},
   "source": [
    "El import no solo hace que tengamos disponible todo lo definido\n",
    "dentro del módulo, sino que también ejecuta el código del módulo. Por\n",
    "esta razón nuestro programa, además de imprimir el texto “una funcion” al llamar a mi_funcion , también imprimiría el texto “un modulo”,\n",
    "debido al print del módulo importado. No se imprimiría, no obstante,\n",
    "el texto “una clase”, ya que lo que se hizo en el módulo fue tan solo\n",
    "definir de la clase, no instanciarla.<br>\n",
    "La clausula import también permite importar varios módulos en la\n",
    "misma línea. En el siguiente ejemplo podemos ver cómo se importa\n",
    "con una sola clausula import los módulos de la distribución por defecto\n",
    "de Python os , que engloba funcionalidad relativa al sistema operativo;<br>\n",
    "sys , con funcionalidad relacionada con el propio intérprete de Python\n",
    "y time , en el que se almacenan funciones para manipular fechas y\n",
    "horas."
   ]
  },
  {
   "cell_type": "code",
   "execution_count": 5,
   "metadata": {},
   "outputs": [
    {
     "name": "stdout",
     "output_type": "stream",
     "text": [
      "Wed Apr  1 15:25:57 2020\n"
     ]
    }
   ],
   "source": [
    "import os, sys, time\n",
    "print(time.asctime())"
   ]
  },
  {
   "cell_type": "markdown",
   "metadata": {},
   "source": [
    "Sin duda os habréis fijado en este y el anterior ejemplo en un detalle\n",
    "importante, y es que, como vemos, es necesario preceder el nombre de\n",
    "los objetos que importamos de un módulo con el nombre del módulo\n",
    "al que pertenecen, o lo que es lo mismo, el espacio de nombres en el\n",
    "que se encuentran. Esto permite que no sobreescribamos accidentalmente algún otro objeto que tuviera el mismo nombre al importar otro\n",
    "módulo.\n",
    "Sin embargo es posible utilizar la construcción from - import para\n",
    "ahorrarnos el tener que indicar el nombre del módulo antes del objeto\n",
    "que nos interesa. De esta forma se importa el objeto o los objetos que\n",
    "indiquemos al espacio de nombres actual."
   ]
  },
  {
   "cell_type": "code",
   "execution_count": 6,
   "metadata": {},
   "outputs": [
    {
     "name": "stdout",
     "output_type": "stream",
     "text": [
      "Wed Apr  1 15:26:03 2020\n",
      "suma de dos elementos\n"
     ]
    },
    {
     "data": {
      "text/plain": [
       "5"
      ]
     },
     "execution_count": 6,
     "metadata": {},
     "output_type": "execute_result"
    }
   ],
   "source": [
    "from time import asctime\n",
    "print(asctime())\n",
    "\n",
    "from Mimodulo import suma\n",
    "\n",
    "suma(3,2)"
   ]
  },
  {
   "cell_type": "markdown",
   "metadata": {},
   "source": [
    "Aunque se considera una mala práctica, también es posible importar\n",
    "todos los nombres del módulo al espacio de nombres actual usando el\n",
    "caracter * :"
   ]
  },
  {
   "cell_type": "code",
   "execution_count": 7,
   "metadata": {},
   "outputs": [
    {
     "name": "stdout",
     "output_type": "stream",
     "text": [
      "una funcion\n",
      "suma de dos elementos\n"
     ]
    },
    {
     "data": {
      "text/plain": [
       "'Wed Apr  1 15:26:04 2020'"
      ]
     },
     "execution_count": 7,
     "metadata": {},
     "output_type": "execute_result"
    }
   ],
   "source": [
    "from time import *\n",
    "from Mimodulo import *\n",
    "mi_funcion()\n",
    "suma(3,2)\n",
    "asctime()"
   ]
  },
  {
   "cell_type": "markdown",
   "metadata": {},
   "source": [
    "<b>Muy importante</b> <br>\n",
    "Ahora bien, recordareis que a la hora de crear nuestro primer módulo\n",
    "insistí en que lo guardarais en el mismo directorio en el que se encontraba el programa que lo importaba. Entonces, ¿cómo podemos\n",
    "importar los módulos os , sys o time si no se encuentran los archivos\n",
    "os.py , sys.py y time.py en el mismo directorio? <br>\n",
    "\n",
    "A la hora de importar un módulo Python recorre todos los directorios\n",
    "indicados en la variable de entorno <b>PYTHONPATH</b> en busca de un archivo\n",
    "con el nombre adecuado. El valor de la variable <b>PYTHONPATH</b> se puede\n",
    "consultar desde Python mediante <b>sys.path</b>"
   ]
  },
  {
   "cell_type": "markdown",
   "metadata": {},
   "source": [
    "De esta forma para que nuestro módulo estuviera disponible para\n",
    "todos los programas del sistema bastaría con que lo copiáramos a uno\n",
    "de los directorios indicados en <b>PYTHONPATH</b> .<br>\n",
    "En el caso de que Python no encontrara ningún módulo con el nombre especificado, se lanzaría una excepción de tipo <b>ImportError</b> ."
   ]
  },
  {
   "cell_type": "markdown",
   "metadata": {},
   "source": [
    "Por último es interesante comentar que en Python los módulos\n",
    "también son objetos; de tipo module en concreto. Por supuesto esto\n",
    "significa que pueden tener atributos y métodos. Uno de sus atributos,\n",
    "__name__ , se utiliza a menudo para incluir código ejecutable en un\n",
    "módulo pero que este sólo se ejecute si se llama al módulo como programa, y no al importarlo. Para lograr esto basta saber que cuando se\n",
    "ejecuta el módulo directamente __name__ tiene como valor “__main__” ,\n",
    "mientras que cuando se importa, el valor de __name__ es el nombre del\n",
    "módulo:"
   ]
  },
  {
   "cell_type": "code",
   "execution_count": 8,
   "metadata": {},
   "outputs": [
    {
     "name": "stdout",
     "output_type": "stream",
     "text": [
      "Mimodulo\n",
      "time\n"
     ]
    }
   ],
   "source": [
    "print(Mimodulo.__name__)\n",
    "print(time.__name__)"
   ]
  },
  {
   "cell_type": "markdown",
   "metadata": {},
   "source": [
    "Otro atributo interesante es __doc__ , que, como en el caso de funciones y clases, sirve a modo de documentación del objeto (docstring\n",
    "o cadena de documentación). Su valor es el de la primera línea del\n",
    "cuerpo del módulo, en el caso de que esta sea una cadena de texto; en\n",
    "caso contrario valdrá None ."
   ]
  },
  {
   "cell_type": "code",
   "execution_count": 9,
   "metadata": {},
   "outputs": [
    {
     "name": "stdout",
     "output_type": "stream",
     "text": [
      "time() -> floating point number\n",
      "\n",
      "Return the current time in seconds since the Epoch.\n",
      "Fractions of a second may be present if the system clock provides them.\n",
      "<class 'builtin_function_or_method'>\n",
      "<class 'module'>\n",
      "info Mimodulo es un modulo de practica.\n",
      "Help on module Mimodulo:\n",
      "\n",
      "NAME\n",
      "    Mimodulo - Mimodulo es un modulo de practica.\n",
      "\n",
      "CLASSES\n",
      "    builtins.object\n",
      "        MiClase\n",
      "    \n",
      "    class MiClase(builtins.object)\n",
      "     |  Methods defined here:\n",
      "     |  \n",
      "     |  __init__(self)\n",
      "     |      Initialize self.  See help(type(self)) for accurate signature.\n",
      "     |  \n",
      "     |  ----------------------------------------------------------------------\n",
      "     |  Data descriptors defined here:\n",
      "     |  \n",
      "     |  __dict__\n",
      "     |      dictionary for instance variables (if defined)\n",
      "     |  \n",
      "     |  __weakref__\n",
      "     |      list of weak references to the object (if defined)\n",
      "\n",
      "FUNCTIONS\n",
      "    mi_funcion()\n",
      "        la siguiente funcion me imprime que es una funcion\n",
      "    \n",
      "    suma(x, y)\n",
      "        la siguiente funcion se encarga de rebibir dos argumentos y retornar la suma\n",
      "\n",
      "FILE\n",
      "    /home/andres/Escritorio/ALL-Programacion/Python/Mimodulo.py\n",
      "\n",
      "\n"
     ]
    }
   ],
   "source": [
    "print(time.__doc__)\n",
    "print(type(time))\n",
    "print(type(Mimodulo))\n",
    "print(\"info\", Mimodulo.__doc__)\n",
    "help(Mimodulo)"
   ]
  },
  {
   "cell_type": "markdown",
   "metadata": {},
   "source": [
    "<h3>Paquetes</h3><br>\n",
    "Si los módulos sirven para organizar el código, los paquetes sirven para\n",
    "organizar los módulos. Los paquetes son tipos especiales de módulos\n",
    "(ambos son de tipo module ) que permiten agrupar módulos relacionados. Mientras los módulos se corresponden a nivel físico con los\n",
    "archivos, los paquetes se representan mediante directorios.<br>\n",
    "En una aplicación cualquiera podríamos tener, por ejemplo, un paquete iu para la interfaz o un paquete bbdd para la persistencia a base de\n",
    "datos."
   ]
  },
  {
   "cell_type": "markdown",
   "metadata": {},
   "source": [
    "Para hacer que Python trate a un directorio como un paquete es necesario crear un archivo <b> __init__.py </b> en dicha carpeta. En este archivo se\n",
    "pueden definir elementos que pertenezcan a dicho paquete, como una\n",
    "constante DRIVER para el paquete bbdd , aunque habitualmente se tratará de un archivo vacío. Para hacer que un cierto módulo se encuentre\n",
    "dentro de un paquete, basta con copiar el archivo que define el módulo\n",
    "al directorio del paquete.<br>\n",
    "Como los modulos, para importar paquetes también se utiliza import\n",
    "y from - import y el caracter . para separar paquetes, subpaquetes y\n",
    "módulos.<br>\n",
    "<b>import paq.subpaq.modulo</b><br>\n",
    "<b>paq.subpaq.modulo.func()</b>"
   ]
  },
  {
   "cell_type": "markdown",
   "metadata": {},
   "source": [
    "Para encontrar algún módulo o paquete que cubra\n",
    "una cierta necesidad, puedes consultar la lista de PyPI (Python Package Index) en http://pypi.python.org/"
   ]
  },
  {
   "cell_type": "markdown",
   "metadata": {},
   "source": [
    "Hasta aca tenemos el tema de Modulos y paquetes en python. Si tienes alguna duda no olvides escribir a <br>\n",
    "<b>andres.programacion123@gmail.com</b>"
   ]
  },
  {
   "cell_type": "code",
   "execution_count": null,
   "metadata": {},
   "outputs": [],
   "source": []
  }
 ],
 "metadata": {
  "kernelspec": {
   "display_name": "Python 3",
   "language": "python",
   "name": "python3"
  },
  "language_info": {
   "codemirror_mode": {
    "name": "ipython",
    "version": 3
   },
   "file_extension": ".py",
   "mimetype": "text/x-python",
   "name": "python",
   "nbconvert_exporter": "python",
   "pygments_lexer": "ipython3",
   "version": "3.6.9"
  }
 },
 "nbformat": 4,
 "nbformat_minor": 2
}
