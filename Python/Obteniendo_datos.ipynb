{
 "cells": [
  {
   "cell_type": "markdown",
   "metadata": {},
   "source": [
    "# OBTENIENDO DATOS (GETTING DATA) Y SCRAPING DATA CON PYTHON.\n",
    "<img src=\"data:image/png;base64,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\">"
   ]
  },
  {
   "cell_type": "markdown",
   "metadata": {},
   "source": [
    "<img src=\"https://miro.medium.com/max/860/1*9onqVYdPPrCcwDX6mGKCpg.jpeg\">"
   ]
  },
  {
   "cell_type": "markdown",
   "metadata": {},
   "source": [
    "Para ser un científico de datos necesitas datos. De hecho, como científico de datos, pasará una fracciónde su tiempo adquiriendo, limpiando y transformando datos.\n",
    "En este capítulo, veremos diferentes formas de introducir datos en Python y en los formatos correctos. "
   ]
  },
  {
   "cell_type": "markdown",
   "metadata": {},
   "source": [
    "## Contenido:\n",
    "* [Stdin y stdout](#item1)\n",
    "* [Lectura de archivos](#item2)\n",
    "* [Archivos CSV](#item3)\n",
    "* [Scraping web](#item4)"
   ]
  },
  {
   "cell_type": "markdown",
   "metadata": {},
   "source": [
    "<a name=\"item1\"></a>\n",
    "### Stdin y stdout (Entrada y salida estandar)"
   ]
  },
  {
   "cell_type": "markdown",
   "metadata": {},
   "source": [
    "Si ejecuta sus scripts Python en la línea de comando, puede canalizar datos a través de ellos usando sys.stdin y sys.stdout en otras palabras los datos mostrados en pantalla al ejecutar un script en python los puede redirigir a un archivo de texto o viceversa puede redirigir los datos ingresados en pantalla a un script de python. Por ejemplo, aquí hay un script que lee en líneas de texto y escupe los que coinciden con una expresión regular: "
   ]
  },
  {
   "cell_type": "code",
   "execution_count": 75,
   "metadata": {},
   "outputs": [],
   "source": [
    "# egrep.py\n",
    "import sys, re\n",
    "# sys.argv is the list of command-line arguments\n",
    "# sys.argv[0] is the name of the program itself\n",
    "# sys.argv[1] will be the regex specified at the command line\n",
    "# sys.argv es la lista de argumentos de línea de comandos\n",
    "# sys.argv [0] es el nombre del programa en sí\n",
    "# sys.argv [1] será la expresión regular especificada en la línea de comando\n",
    "regex = sys.argv[1]\n",
    "# for every line passed into the script\n",
    "for line in sys.stdin:\n",
    "    # if it matches the regex, write it to stdout\n",
    "    if re.search(regex, line):\n",
    "        sys.stdout.write(line)"
   ]
  },
  {
   "cell_type": "markdown",
   "metadata": {},
   "source": [
    "Y aquí hay uno que cuenta las líneas que recibe y luego escribe el recuento:"
   ]
  },
  {
   "cell_type": "code",
   "execution_count": 76,
   "metadata": {},
   "outputs": [
    {
     "name": "stdout",
     "output_type": "stream",
     "text": [
      "0\n"
     ]
    }
   ],
   "source": [
    "# line_count.py\n",
    "import sys\n",
    "count = 0\n",
    "for line in sys.stdin:\n",
    "    count += 1\n",
    "# print goes to sys.stdout\n",
    "print(count)"
   ]
  },
  {
   "cell_type": "markdown",
   "metadata": {},
   "source": [
    "Luego puede usarlos para contar cuántas líneas de un archivo contienen números. En Windows, usarías: <BR>\n",
    "type SomeFile.txt | python egrep.py \"[0-9]\" | python line_count.py"
   ]
  },
  {
   "cell_type": "markdown",
   "metadata": {},
   "source": [
    "mientras que en un sistema Unix usarías:<br>\n",
    "cat SomeFile.txt | python egrep.py \"[0-9]\" | python line_count.py"
   ]
  },
  {
   "cell_type": "markdown",
   "metadata": {},
   "source": [
    "El | es el carácter de la tubería, que significa \"usar la salida del comando izquierdo como\n",
    "entrada del comando correcto \". Puede construir canalizaciones de procesamiento de datos bastante elaboradas de esta manera."
   ]
  },
  {
   "cell_type": "markdown",
   "metadata": {},
   "source": [
    "Del mismo modo, aquí hay un script que cuenta las palabras en su entrada y escribe más\n",
    "comunes:"
   ]
  },
  {
   "cell_type": "code",
   "execution_count": 77,
   "metadata": {
    "collapsed": true
   },
   "outputs": [
    {
     "name": "stderr",
     "output_type": "stream",
     "text": [
      "ERROR:root:Internal Python error in the inspect module.\n",
      "Below is the traceback from this internal error.\n",
      "\n"
     ]
    },
    {
     "name": "stdout",
     "output_type": "stream",
     "text": [
      "usage: most_common_words.py num_words\n",
      "Traceback (most recent call last):\n",
      "  File \"<ipython-input-77-87f2f76bfc63>\", line 7, in <module>\n",
      "    num_words = int(sys.argv[1])\n",
      "ValueError: invalid literal for int() with base 10: '-f'\n",
      "\n",
      "During handling of the above exception, another exception occurred:\n",
      "\n",
      "Traceback (most recent call last):\n",
      "  File \"/home/andres/Escritorio/PROYECTOS/entorno1/lib/python3.6/site-packages/IPython/core/interactiveshell.py\", line 3331, in run_code\n",
      "    exec(code_obj, self.user_global_ns, self.user_ns)\n",
      "  File \"<ipython-input-77-87f2f76bfc63>\", line 10, in <module>\n",
      "    sys.exit(1) # non-zero exit code indicates error\n",
      "SystemExit: 1\n",
      "\n",
      "During handling of the above exception, another exception occurred:\n",
      "\n",
      "Traceback (most recent call last):\n",
      "  File \"/home/andres/Escritorio/PROYECTOS/entorno1/lib/python3.6/site-packages/IPython/core/ultratb.py\", line 1148, in get_records\n",
      "    return _fixed_getinnerframes(etb, number_of_lines_of_context, tb_offset)\n",
      "  File \"/home/andres/Escritorio/PROYECTOS/entorno1/lib/python3.6/site-packages/IPython/core/ultratb.py\", line 316, in wrapped\n",
      "    return f(*args, **kwargs)\n",
      "  File \"/home/andres/Escritorio/PROYECTOS/entorno1/lib/python3.6/site-packages/IPython/core/ultratb.py\", line 350, in _fixed_getinnerframes\n",
      "    records = fix_frame_records_filenames(inspect.getinnerframes(etb, context))\n",
      "  File \"/usr/lib/python3.6/inspect.py\", line 1490, in getinnerframes\n",
      "    frameinfo = (tb.tb_frame,) + getframeinfo(tb, context)\n",
      "AttributeError: 'tuple' object has no attribute 'tb_frame'\n"
     ]
    },
    {
     "ename": "SystemExit",
     "evalue": "1",
     "output_type": "error",
     "traceback": [
      "An exception has occurred, use %tb to see the full traceback.\n",
      "\u001b[0;31m---------------------------------------------------------------------------\u001b[0m",
      "\nDuring handling of the above exception, another exception occurred:\n",
      "\u001b[0;31mSystemExit\u001b[0m\u001b[0;31m:\u001b[0m 1\n"
     ]
    },
    {
     "name": "stderr",
     "output_type": "stream",
     "text": [
      "/home/andres/Escritorio/PROYECTOS/entorno1/lib/python3.6/site-packages/IPython/core/interactiveshell.py:3339: UserWarning: To exit: use 'exit', 'quit', or Ctrl-D.\n",
      "  warn(\"To exit: use 'exit', 'quit', or Ctrl-D.\", stacklevel=1)\n"
     ]
    }
   ],
   "source": [
    "# most_common_words.py\n",
    "import sys\n",
    "from collections import Counter\n",
    "# pass in number of words as first argument\n",
    "\n",
    "try:\n",
    "    num_words = int(sys.argv[1])\n",
    "except:\n",
    "    print(\"usage: most_common_words.py num_words\")\n",
    "    sys.exit(1) # non-zero exit code indicates error\n",
    "    \n",
    "counter = Counter(word.lower()\n",
    "                  for line in sys.stdin\n",
    "                  for word in line.strip().split()\n",
    "                  if word)\n",
    "\n",
    "for word, count in counter.most_common(num_words):\n",
    "    sys.stdout.write(str(count))\n",
    "    sys.stdout.write(\"\\t\")\n",
    "    sys.stdout.write(word)\n",
    "    sys.stdout.write(\"\\n\")"
   ]
  },
  {
   "cell_type": "markdown",
   "metadata": {},
   "source": [
    "después de lo cual podrías hacer algo como:<br>\n",
    "C:\\DataScience>type the_bible.txt | python most_common_words.py 10"
   ]
  },
  {
   "cell_type": "markdown",
   "metadata": {},
   "source": [
    "<a name=\"item2\"></a>\n",
    "### Lectura de archivos"
   ]
  },
  {
   "cell_type": "markdown",
   "metadata": {},
   "source": [
    "<img src=\"https://acf.geeknetic.es/imgri/imagenes/tutoriales/91-archivos-extensiones-programas-muestra.jpg?f=webp\">"
   ]
  },
  {
   "cell_type": "markdown",
   "metadata": {},
   "source": [
    "Los archivos en la mayoría de los sistemas de archivos modernos se componen de tres partes principales:<br>\n",
    "\n",
    "**Encabezado:** metadatos sobre el contenido del archivo (nombre del archivo, tamaño, tipo, etc.)<br>\n",
    "**Datos:** contenido del archivo tal como lo escribió el creador o editor<br>\n",
    "**Fin del archivo (EOF):** carácter especial que indica el final del archivo<br>\n",
    "\n",
    "Lo que representan estos datos depende de la especificación de formato utilizada, que generalmente está representada por una extensión.\n",
    "Hay cientos, si no miles, de extensiones de archivo . Para este tutorial, sólo se va a lidiar con extensiones de archivo .txt o .csv ."
   ]
  },
  {
   "cell_type": "markdown",
   "metadata": {},
   "source": [
    "**Rutas de archivo<br>**\n",
    "Cuando accede a un archivo en un sistema operativo, se requiere una ruta de archivo. La ruta del archivo es una cadena que representa la ubicación de un archivo. Se divide en tres partes principales:\n",
    "\n",
    "**Ruta de la carpeta (folder path):** la ubicación de la carpeta de archivos en el sistema de archivos donde las carpetas posteriores están separadas por una barra diagonal /(Unix) o una barra diagonal inversa \\(Windows)<br>\n",
    "**Nombre del archivo:** el nombre real del archivo<br>\n",
    "**Extensión:** el final de la ruta del archivo precedido por un punto ( .) utilizado para indicar el tipo de archivo<br>"
   ]
  },
  {
   "cell_type": "markdown",
   "metadata": {},
   "source": [
    "Hay tres categorías diferentes de objetos de archivo:<br>\n",
    "\n",
    "**Archivos de texto<br>**\n",
    "**Archivos binarios almacenados en búfer<br>**\n",
    "**Archivos binarios sin procesar<br>**\n",
    "\n",
    "Cada uno de estos tipos de archivo se define en el módulo **io**"
   ]
  },
  {
   "cell_type": "markdown",
   "metadata": {},
   "source": [
    "**Algunos incovenientes:**<br>\n",
    "**Terminaciones de línea:**<br>\n",
    "Un problema que a menudo se encuentra al trabajar con datos de archivo es la representación de una nueva línea o final de línea. El final de la línea tiene sus raíces en la era del Código Morse, cuando se utilizó un pro-signo específico para comunicar el final de una transmisión o el final de una línea .<br>\n",
    "**Codificaciones de caracteres:**<br>\n",
    "Otro problema común que puede enfrentar es la codificación de los datos de bytes. Una codificación es una traducción de datos de bytes a caracteres legibles por humanos. Esto normalmente se realiza mediante la asignación de un valor numérico para representar un caracter.\n",
    " Es importante tener en cuenta que analizar un archivo con la codificación de caracteres incorrecta puede provocar fallas o tergiversaciones del carácter. Por ejemplo, si un archivo se creó con la codificación UTF-8 e intenta analizarlo con la codificación ASCII, si hay un carácter que está fuera de esos 128 valores, se generará un error."
   ]
  },
  {
   "cell_type": "markdown",
   "metadata": {},
   "source": [
    "**Advertencia:** siempre debe asegurarse de que un archivo abierto esté correctamente cerrado.\n",
    "Es importante recordar que es su responsabilidad cerrar el archivo. En la mayoría de los casos, al finalizar una aplicación o script, un archivo se cerrará eventualmente. Sin embargo, no hay garantía de cuándo ocurrirá exactamente eso. Esto puede conducir a un comportamiento no deseado, incluidas fugas de recursos.<br>\n",
    "**Advertencia:**\n",
    "Es importante tener en cuenta que cuando se utilizan funciones como archivo.readlines(), se está cargando en memoria el archivo completo. Siempre que una instrucción cargue un archivo completo en memoria debe tenerse cuidado de utilizarla sólo con archivos pequeños, ya que de otro modo podria agotarse la memoria de la computadora<br>\n",
    "**Advertencia:**\n",
    "Si un archivo existente se abre en modo escritura (w o w+), todos los datos anteriores son borrados y reemplazados por lo que se escriba en él.<br>\n",
    "**Advertencia:**\n",
    "Si un archivo existente se abre en modo lectura-escritura, al escribir en él se sobreescribirán los datos anteriores, a menos que se haya llegado al final del archivo.\n",
    "Este proceso de sobreescritura se realiza caracter por caracter, sin consideraciones adicionales para los caracteres de fin de línea ni otros caracteres especiales."
   ]
  },
  {
   "cell_type": "markdown",
   "metadata": {},
   "source": [
    "Debido a que es fácil olvidar cerrar sus archivos, siempre debe usarlos en un bloque **with**, al final del cual se cerrarán automáticamente:"
   ]
  },
  {
   "cell_type": "markdown",
   "metadata": {},
   "source": [
    "**Los fundamentos de los archivos de texto**<br>\n",
    "\n",
    "El primer paso para trabajar con un archivo de texto es obtener un objeto de archivo usando **open**<br>\n",
    "Los ficheros en Python son objetos de tipo file creados mediante la\n",
    "función open (abrir). Esta función toma como parámetros una cadena\n",
    "con la ruta al fichero a abrir, que puede ser relativa o absoluta; una\n",
    "cadena opcional indicando el modo de acceso (si no se especifica se\n",
    "accede en modo lectura) y, por último, un entero opcional para especificar un tamaño de buffer distinto del utilizado por defecto.<br>\n",
    "El modo de acceso puede ser cualquier combinación lógica de los\n",
    "siguientes modos:<br>\n",
    "**‘r’ :** read, lectura. Abre el archivo en modo lectura. El archivo tiene\n",
    "que existir previamente, en caso contrario se lanzará una excepción\n",
    "de tipo IOError .<br>\n",
    "**‘w’ :** write, escritura. Abre el archivo en modo escritura. Si el archivo no existe se crea. Si existe, sobreescribe el contenido.<br>\n",
    "**‘a’ :** append, añadir. Abre el archivo en modo escritura. Se diferencia del modo ‘w’ en que en este caso no se sobreescribe el contenido del archivo, sino que se comienza a escribir al final del archivo.<br>\n",
    "**‘b’ :** binary, binario.<br>\n",
    "**‘+’ :** permite lectura y escritura simultáneas.<br>\n",
    "**‘U’ :** universal newline, saltos de línea universales. Permite trabajar\n",
    "con archivos que tengan un formato para los saltos de línea que no\n",
    "coincide con el de la plataforma actual (en Windows se utiliza el\n",
    "caracter CR LF , en Unix LF y en Mac OS CR ).<br>"
   ]
  },
  {
   "cell_type": "markdown",
   "metadata": {},
   "source": [
    "**f = open(“archivo.txt”, “w”)**"
   ]
  },
  {
   "cell_type": "markdown",
   "metadata": {},
   "source": [
    "También puede leer y escribir explícitamente en archivos directamente en su código. Python hace que trabajar con archivos sea bastante simple."
   ]
  },
  {
   "cell_type": "code",
   "execution_count": 78,
   "metadata": {},
   "outputs": [
    {
     "name": "stdout",
     "output_type": "stream",
     "text": [
      "<class '_io.TextIOWrapper'>\n",
      "<class '_io.TextIOWrapper'>\n",
      "<class '_io.TextIOWrapper'>\n"
     ]
    }
   ],
   "source": [
    "# 'r' means read-only\n",
    "file_for_reading = open('reading_file.txt', 'r') #leer\n",
    "# 'w' is write -- will destroy the file if it already exists!\n",
    "file_for_writing = open('writing_file.txt', 'w') #escribir\n",
    "# 'a' is append -- for adding to the end of the file\n",
    "file_for_appending = open('appending_file.txt', 'a') #añadir al final \n",
    "# don't forget to close your files when you're done\n",
    "file_for_writing.close()\n",
    "file_for_reading.close()\n",
    "file_for_appending.close()\n",
    "print(type(file_for_reading))\n",
    "print(type(file_for_writing))\n",
    "print(type(file_for_appending))"
   ]
  },
  {
   "cell_type": "markdown",
   "metadata": {},
   "source": [
    "## Nota: Recuerde lo siguiente <br>\n",
    "## \"r\" : es de reading=leer y es para un archivo que ya se encuentra en la carpeta y cuya funcion puede ser leer lo que hay en su interior\n",
    "## \"w\" : es de writing=escribir y es para un archivo que creamos en la misma carpeta con el fin de escribir datos que se producen en el programa"
   ]
  },
  {
   "cell_type": "markdown",
   "metadata": {},
   "source": [
    "### Lectura"
   ]
  },
  {
   "cell_type": "markdown",
   "metadata": {},
   "source": [
    "**.read(size=-1)**\tEsto se lee del archivo en función de la cantidad de bytes size. Si no se pasa ningún argumento (None) o  se pasa -1, se lee todo el archivo.<br>\n",
    "**.readline(size=-1)**\tEsto lee como máximo el número size de caracteres de la línea. Esto continúa hasta el final de la línea y luego se envuelve nuevamente. Si no se pasa ningún argumento (None) o se pasa -1, se lee toda la línea (o el resto de la línea).<br>\n",
    "**.readlines()**\tEsto lee las líneas restantes del objeto de archivo y las devuelve como una lista."
   ]
  },
  {
   "cell_type": "code",
   "execution_count": 79,
   "metadata": {
    "collapsed": true
   },
   "outputs": [
    {
     "ename": "NameError",
     "evalue": "name 'function_that_gets_data_from' is not defined",
     "output_type": "error",
     "traceback": [
      "\u001b[0;31m---------------------------------------------------------------------------\u001b[0m",
      "\u001b[0;31mNameError\u001b[0m                                 Traceback (most recent call last)",
      "\u001b[0;32m<ipython-input-79-f9df0287393b>\u001b[0m in \u001b[0;36m<module>\u001b[0;34m\u001b[0m\n\u001b[1;32m      1\u001b[0m \u001b[0;31m#forma general para trabajar con archivos de texto.\u001b[0m\u001b[0;34m\u001b[0m\u001b[0;34m\u001b[0m\u001b[0;34m\u001b[0m\u001b[0m\n\u001b[1;32m      2\u001b[0m \u001b[0;32mwith\u001b[0m \u001b[0mopen\u001b[0m\u001b[0;34m(\u001b[0m\u001b[0;34m'reading_file.txt'\u001b[0m\u001b[0;34m,\u001b[0m\u001b[0;34m'r'\u001b[0m\u001b[0;34m)\u001b[0m \u001b[0;32mas\u001b[0m \u001b[0mf\u001b[0m\u001b[0;34m:\u001b[0m\u001b[0;34m\u001b[0m\u001b[0;34m\u001b[0m\u001b[0m\n\u001b[0;32m----> 3\u001b[0;31m     \u001b[0mdata\u001b[0m \u001b[0;34m=\u001b[0m \u001b[0mfunction_that_gets_data_from\u001b[0m\u001b[0;34m(\u001b[0m\u001b[0mf\u001b[0m\u001b[0;34m)\u001b[0m \u001b[0;31m#funcion que obtiene datos de f\u001b[0m\u001b[0;34m\u001b[0m\u001b[0;34m\u001b[0m\u001b[0m\n\u001b[0m\u001b[1;32m      4\u001b[0m     \u001b[0;31m#en este punto f ya se ha cerrado, así que no intentes usarlo\u001b[0m\u001b[0;34m\u001b[0m\u001b[0;34m\u001b[0m\u001b[0;34m\u001b[0m\u001b[0m\n\u001b[1;32m      5\u001b[0m     \u001b[0mprocess\u001b[0m\u001b[0;34m(\u001b[0m\u001b[0mdata\u001b[0m\u001b[0;34m)\u001b[0m\u001b[0;34m\u001b[0m\u001b[0;34m\u001b[0m\u001b[0m\n",
      "\u001b[0;31mNameError\u001b[0m: name 'function_that_gets_data_from' is not defined"
     ]
    }
   ],
   "source": [
    "#forma general para trabajar con archivos de texto. (Muestra error, asi que no ejecutar)\n",
    "with open('reading_file.txt','r') as f:\n",
    "    data = function_that_gets_data_from(f) #funcion que obtiene datos de f\n",
    "    #en este punto f ya se ha cerrado, así que no intentes usarlo\n",
    "    process(data)"
   ]
  },
  {
   "cell_type": "markdown",
   "metadata": {},
   "source": [
    "Si necesita leer un archivo de texto completo, puede iterar sobre las líneas del archivo usando **for**:"
   ]
  },
  {
   "cell_type": "code",
   "execution_count": 80,
   "metadata": {},
   "outputs": [
    {
     "name": "stdout",
     "output_type": "stream",
     "text": [
      "Hola Mundo.\n",
      "\n",
      "soy yo de nuevo, esto todavia no acaba.\n",
      "\n",
      "\n",
      "\n",
      "andres@gmail.com\t\n",
      "\n",
      "julian@hotmail.com\n",
      "\n",
      "pepito@nohaynada.co\n",
      "\n",
      "perez.co\n",
      "\n"
     ]
    }
   ],
   "source": [
    "starts_with_hash = 0\n",
    "with open('reading_file.txt','r') as f:\n",
    "    for line in f: # mira cada línea en el archivo\n",
    "        if re.match(\"^#\",line): #usa una expresión regular para ver si comienza con '#'\n",
    "            starts_with_hash += 1 #si es así, agregue 1 al recuento\n",
    "        print(line)"
   ]
  },
  {
   "cell_type": "code",
   "execution_count": 81,
   "metadata": {
    "scrolled": true
   },
   "outputs": [
    {
     "name": "stdout",
     "output_type": "stream",
     "text": [
      "Hola Mundo.\n",
      "soy yo de nuevo, esto todavia no acaba.\n",
      "\n",
      "andres@gmail.com\t\n",
      "julian@hotmail.com\n",
      "pepito@nohaynada.co\n",
      "perez.co\n",
      "\n"
     ]
    }
   ],
   "source": [
    "f=open('reading_file.txt','r')\n",
    "leer=f.read() #aplicamos el metodo read para ver lo que hay en su interior\n",
    "print(leer)\n",
    "f.close()"
   ]
  },
  {
   "cell_type": "code",
   "execution_count": 82,
   "metadata": {},
   "outputs": [
    {
     "name": "stdout",
     "output_type": "stream",
     "text": [
      "Hola Mundo.\n",
      "soy yo de nuevo, esto toda\n"
     ]
    }
   ],
   "source": [
    "f=open('reading_file.txt','r')\n",
    "parte=f.read(38) #aplicamos el metodo read para ver lo que hay en su interior hasta determinada parte\n",
    "print(parte)\n",
    "f.close()"
   ]
  },
  {
   "cell_type": "code",
   "execution_count": 83,
   "metadata": {},
   "outputs": [
    {
     "name": "stdout",
     "output_type": "stream",
     "text": [
      "H\n",
      "o\n",
      "l\n",
      "a\n",
      " \n",
      "M\n",
      "u\n",
      "n\n",
      "d\n",
      "o\n",
      ".\n",
      "\n",
      "\n"
     ]
    }
   ],
   "source": [
    "f=open('reading_file.txt','r')\n",
    "linea=f.readline() #para leer solo una linea\n",
    "for i in linea:\n",
    "    print(i)\n",
    "f.close()"
   ]
  },
  {
   "cell_type": "code",
   "execution_count": 84,
   "metadata": {},
   "outputs": [
    {
     "name": "stdout",
     "output_type": "stream",
     "text": [
      "Hola Mundo.\n",
      "\n",
      "soy yo de nuevo, esto todavia no acaba.\n",
      "\n",
      "\n",
      "\n",
      "andres@gmail.com\t\n",
      "\n",
      "julian@hotmail.com\n",
      "\n",
      "pepito@nohaynada.co\n",
      "\n",
      "perez.co\n",
      "\n"
     ]
    }
   ],
   "source": [
    "f=open('reading_file.txt','r')\n",
    "porlinea=f.readlines() #para leer linea por linea\n",
    "for i in porlinea:\n",
    "    print(i)\n",
    "f.close()"
   ]
  },
  {
   "cell_type": "code",
   "execution_count": 85,
   "metadata": {},
   "outputs": [
    {
     "name": "stdout",
     "output_type": "stream",
     "text": [
      "Hola Mundo.\n",
      "\n",
      "soy yo de nuevo, esto todavia no acaba.\n",
      "\n",
      "\n",
      "\n",
      "andres@gmail.com\t\n",
      "\n",
      "julian@hotmail.com\n",
      "\n",
      "pepito@nohaynada.co\n",
      "\n",
      "perez.co\n",
      "\n"
     ]
    }
   ],
   "source": [
    "f=open('reading_file.txt','r')\n",
    "while True:\n",
    "    linea = f.readline()\n",
    "    if not linea:\n",
    "        break\n",
    "    print(linea)"
   ]
  },
  {
   "cell_type": "code",
   "execution_count": 86,
   "metadata": {},
   "outputs": [
    {
     "name": "stdout",
     "output_type": "stream",
     "text": [
      "['Hola Mundo.\\n', 'soy yo de nuevo, esto todavia no acaba.\\n', '\\n', 'andres@gmail.com\\t\\n', 'julian@hotmail.com\\n', 'pepito@nohaynada.co\\n', 'perez.co\\n']\n"
     ]
    }
   ],
   "source": [
    "f=open('reading_file.txt','r')\n",
    "l=list(f)\n",
    "print(l)"
   ]
  },
  {
   "cell_type": "code",
   "execution_count": 87,
   "metadata": {},
   "outputs": [
    {
     "name": "stdout",
     "output_type": "stream",
     "text": [
      "Hola Mundo.\n",
      "\n",
      "soy yo de nuevo, esto todavia no acaba.\n",
      "\n",
      "\n",
      "\n",
      "andres@gmail.com\t\n",
      "\n",
      "julian@hotmail.com\n",
      "\n",
      "pepito@nohaynada.co\n",
      "\n",
      "perez.co\n",
      "\n"
     ]
    }
   ],
   "source": [
    "f=open('reading_file.txt','r')\n",
    "for i in f:\n",
    "    print(i)"
   ]
  },
  {
   "cell_type": "markdown",
   "metadata": {},
   "source": [
    "Este enfoque final es más **Pythonic** y puede ser **más rápido y más eficiente en memoria.** Por lo tanto, se sugiere que use esto en su lugar."
   ]
  },
  {
   "cell_type": "markdown",
   "metadata": {},
   "source": [
    "Cada línea que obtiene de esta manera termina en un carácter de nueva línea, por lo que a menudo querrá **strip()** (quitarla) antes de hacer algo con ella."
   ]
  },
  {
   "cell_type": "markdown",
   "metadata": {},
   "source": [
    "Por ejemplo, imagine que tiene un archivo lleno de direcciones de correo electrónico, una por línea, y que necesita generar un histograma de los dominios. Las reglas para extraer dominios correctamente son algo sutiles (por ejemplo, la Lista de sufijos públicos), pero una buena primera aproximación es tomar solo las partes de las direcciones de correo electrónico que vienen después de la @. (Lo que da una respuesta incorrecta para direcciones de correo electrónico como joel@mail.datasciencester.com.)"
   ]
  },
  {
   "cell_type": "code",
   "execution_count": 88,
   "metadata": {},
   "outputs": [
    {
     "name": "stdout",
     "output_type": "stream",
     "text": [
      "Counter({'gmail.com': 1, 'hotmail.com': 1, 'nohaynada.co': 1})\n",
      "<class 'collections.Counter'>\n"
     ]
    }
   ],
   "source": [
    "def get_domain(email_address):\n",
    "    \"\"\"split on '@' and return the last piece\"\"\"\n",
    "    return email_address.lower().split(\"@\")[-1]\n",
    "\n",
    "with open('reading_file.txt', 'r') as f:\n",
    "    domain_counts = Counter(get_domain(line.strip()) for line in f if \"@\" in line)\n",
    "    print(domain_counts)\n",
    "print(type(domain_counts))"
   ]
  },
  {
   "cell_type": "code",
   "execution_count": 89,
   "metadata": {},
   "outputs": [
    {
     "name": "stdout",
     "output_type": "stream",
     "text": [
      "gmail.com\n",
      "hotmail.com\n",
      "nohaynada.co\n"
     ]
    }
   ],
   "source": [
    "for i in domain_counts:\n",
    "    print(i)"
   ]
  },
  {
   "cell_type": "markdown",
   "metadata": {},
   "source": [
    "### Escrituta"
   ]
  },
  {
   "cell_type": "markdown",
   "metadata": {},
   "source": [
    "**Metodos<br>**\n",
    "**.write(string)**\t Esto escribe la cadena en el archivo.<br>\n",
    "**.writelines(seq)**\tEsto escribe la secuencia en el archivo. No se agregan finales de línea a cada elemento de secuencia. Depende de usted agregar los finales de línea apropiados."
   ]
  },
  {
   "cell_type": "code",
   "execution_count": 90,
   "metadata": {},
   "outputs": [],
   "source": [
    "f= open('writing_file.txt', 'w')\n",
    "f.write(\"Hola mi querido mundo, paso a saludarlos\")\n",
    "f.close()"
   ]
  },
  {
   "cell_type": "code",
   "execution_count": 91,
   "metadata": {},
   "outputs": [],
   "source": [
    "f= open('writing_file.txt', 'w')\n",
    "l=[\"hola\",\"s\",\"\\n\",\"que cuentas\"]\n",
    "f.writelines(l)\n",
    "f.close()"
   ]
  },
  {
   "cell_type": "markdown",
   "metadata": {},
   "source": [
    "Recuerde **\\n** es salto de linea"
   ]
  },
  {
   "cell_type": "markdown",
   "metadata": {},
   "source": [
    "**Consejos y trucos**<br>\n",
    "Ahora que ha dominado los conceptos básicos de lectura y escritura de archivos, aquí hay algunos consejos y trucos para ayudarlo a desarrollar sus habilidades.<br>\n",
    "__file__<br>\n",
    "El __file__ atributo es un atributo especial de módulos, similar a __name__. Es: \"La ruta del archivo desde el que se cargó el módulo, si se cargó desde un archivo\". ( Fuente )\n",
    "\n",
    "Nota: Para volver a iterar, __file__ devuelve la ruta relativa a donde se llamó el script Python inicial. Si necesita la ruta completa del sistema, puede usarla **os.getcwd()** para obtener el directorio de trabajo actual de su código de ejecución."
   ]
  },
  {
   "cell_type": "markdown",
   "metadata": {},
   "source": [
    "**Trabajando con dos archivos al mismo tiempo<br>**\n",
    "Hay momentos en que es posible que desee leer un archivo y escribir en otro archivo al mismo tiempo. Si usa el ejemplo que se mostró cuando estaba aprendiendo a escribir en un archivo, en realidad se puede combinar en lo siguiente:"
   ]
  },
  {
   "cell_type": "code",
   "execution_count": 92,
   "metadata": {
    "collapsed": true
   },
   "outputs": [
    {
     "ename": "FileNotFoundError",
     "evalue": "[Errno 2] No such file or directory: 'dog_breeds.txt'",
     "output_type": "error",
     "traceback": [
      "\u001b[0;31m---------------------------------------------------------------------------\u001b[0m",
      "\u001b[0;31mFileNotFoundError\u001b[0m                         Traceback (most recent call last)",
      "\u001b[0;32m<ipython-input-92-178bbd0db974>\u001b[0m in \u001b[0;36m<module>\u001b[0;34m\u001b[0m\n\u001b[1;32m      1\u001b[0m \u001b[0md_path\u001b[0m \u001b[0;34m=\u001b[0m \u001b[0;34m'dog_breeds.txt'\u001b[0m\u001b[0;34m\u001b[0m\u001b[0;34m\u001b[0m\u001b[0m\n\u001b[1;32m      2\u001b[0m \u001b[0md_r_path\u001b[0m \u001b[0;34m=\u001b[0m \u001b[0;34m'dog_breeds_reversed.txt'\u001b[0m\u001b[0;34m\u001b[0m\u001b[0;34m\u001b[0m\u001b[0m\n\u001b[0;32m----> 3\u001b[0;31m \u001b[0;32mwith\u001b[0m \u001b[0mopen\u001b[0m\u001b[0;34m(\u001b[0m\u001b[0md_path\u001b[0m\u001b[0;34m,\u001b[0m \u001b[0;34m'r'\u001b[0m\u001b[0;34m)\u001b[0m \u001b[0;32mas\u001b[0m \u001b[0mreader\u001b[0m\u001b[0;34m,\u001b[0m \u001b[0mopen\u001b[0m\u001b[0;34m(\u001b[0m\u001b[0md_r_path\u001b[0m\u001b[0;34m,\u001b[0m \u001b[0;34m'w'\u001b[0m\u001b[0;34m)\u001b[0m \u001b[0;32mas\u001b[0m \u001b[0mwriter\u001b[0m\u001b[0;34m:\u001b[0m\u001b[0;34m\u001b[0m\u001b[0;34m\u001b[0m\u001b[0m\n\u001b[0m\u001b[1;32m      4\u001b[0m     \u001b[0mdog_breeds\u001b[0m \u001b[0;34m=\u001b[0m \u001b[0mreader\u001b[0m\u001b[0;34m.\u001b[0m\u001b[0mreadlines\u001b[0m\u001b[0;34m(\u001b[0m\u001b[0;34m)\u001b[0m\u001b[0;34m\u001b[0m\u001b[0;34m\u001b[0m\u001b[0m\n\u001b[1;32m      5\u001b[0m     \u001b[0mwriter\u001b[0m\u001b[0;34m.\u001b[0m\u001b[0mwritelines\u001b[0m\u001b[0;34m(\u001b[0m\u001b[0mreversed\u001b[0m\u001b[0;34m(\u001b[0m\u001b[0mdog_breeds\u001b[0m\u001b[0;34m)\u001b[0m\u001b[0;34m)\u001b[0m\u001b[0;34m\u001b[0m\u001b[0;34m\u001b[0m\u001b[0m\n",
      "\u001b[0;31mFileNotFoundError\u001b[0m: [Errno 2] No such file or directory: 'dog_breeds.txt'"
     ]
    }
   ],
   "source": [
    "#ejemplo (Muestra error pues no se encuentran los dos archivos.)\n",
    "d_path = 'dog_breeds.txt'\n",
    "d_r_path = 'dog_breeds_reversed.txt'\n",
    "with open(d_path, 'r') as reader, open(d_r_path, 'w') as writer:\n",
    "    dog_breeds = reader.readlines()\n",
    "    writer.writelines(reversed(dog_breeds))"
   ]
  },
  {
   "cell_type": "markdown",
   "metadata": {},
   "source": [
    "**No reinventes la serpiente<br>**\n",
    "Hay situaciones comunes que puede encontrar al trabajar con archivos. La mayoría de estos casos se pueden manejar con otros módulos. Dos tipos de archivos comunes con los que puede necesitar trabajar son **.csv** y **.json** que ya veremos mas adelante.\n",
    "\n",
    "**MUY IMPORTANTE**<BR>\n",
    "Además, hay bibliotecas integradas que puedes usar para ayudarte a:\n",
    "\n",
    "**wave:** leer y escribir archivos WAV (audio)<br>\n",
    "**aifc:** leer y escribir archivos AIFF y AIFC (audio)<br>\n",
    "**sunau:** leer y escribir archivos Sun AU<br>\n",
    "**tarfile:** leer y escribir archivos tar<br>\n",
    "**zipfile:** trabajar con archivos ZIP<br>\n",
    "**configparser:** crea y analiza fácilmente archivos de configuración<br>\n",
    "**xml.etree.ElementTree:** crea o lee archivos basados ​​en XML<br>\n",
    "**msilib:** leer y escribir archivos de Microsoft Installer<br>\n",
    "**plistlib:** generar y analizar .plist archivos de Mac OS X<br>\n",
    "Hay muchos más por ahí. Además, hay incluso más herramientas de terceros disponibles en PyPI. Algunos populares son los siguientes:\n",
    "\n",
    "**PyPDF2:** Kit de herramientas PDF<br>\n",
    "**xlwings:** leer y escribir archivos de Excel<br>\n",
    "**Pillow:** lectura y manipulación de imágenes"
   ]
  },
  {
   "cell_type": "markdown",
   "metadata": {},
   "source": [
    "**Archivos con modulo os<br>**\n",
    "El módulo os de Python le permite a usted realizar operaciones dependiente del Sistema Operativo como crear una carpeta, listar contenidos de una carpeta, conocer acerca de un proceso, finalizar un proceso, etc. Este módulo tiene métodos para ver variables de entornos del Sistema Operativo con las cuales Python esta trabajando en mucho más."
   ]
  },
  {
   "cell_type": "markdown",
   "metadata": {},
   "source": [
    "<img src=\"data:image/jpeg;base64,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\">"
   ]
  },
  {
   "cell_type": "markdown",
   "metadata": {},
   "source": [
    "A continuación algunos útiles métodos del módulo os que pueden ayudar a manipular archivos y carpeta en su programa Python:"
   ]
  },
  {
   "cell_type": "markdown",
   "metadata": {},
   "source": [
    "Crear una nueva carpeta"
   ]
  },
  {
   "cell_type": "code",
   "execution_count": 93,
   "metadata": {},
   "outputs": [],
   "source": [
    "import os\n",
    "os.makedirs(\"Ana_Poleo\")"
   ]
  },
  {
   "cell_type": "markdown",
   "metadata": {},
   "source": [
    "Listar el contenidos de una carpeta"
   ]
  },
  {
   "cell_type": "code",
   "execution_count": 94,
   "metadata": {},
   "outputs": [
    {
     "data": {
      "text/plain": [
       "['Introduccion_Jupyter_Notebook.ipynb',\n",
       " 'Pandas.ipynb',\n",
       " 'reading_file.txt',\n",
       " 'hrdata.csv',\n",
       " 'TrainingDNN.ipynb',\n",
       " 'POOPython.ipynb',\n",
       " 'IntroduccionPython.ipynb',\n",
       " 'employee_file2.csv',\n",
       " 'Intro_ANN_y_MLP.ipynb',\n",
       " 'employee_birthday.txt',\n",
       " '.ipynb_checkpoints',\n",
       " 'tf_logs',\n",
       " 'ModulosyPaquetes.ipynb',\n",
       " 'Programa2.ipynb',\n",
       " 'figura1.png',\n",
       " 'IntroTensorflow.ipynb',\n",
       " 'Programa1.ipynb',\n",
       " 'myArray.csv',\n",
       " 'EntraSalidayFicheros.ipynb',\n",
       " '__pycache__',\n",
       " 'data.txt',\n",
       " 'appending_file.txt',\n",
       " 'datos.txt',\n",
       " 'ReduccionDimensionalidad.ipynb',\n",
       " 'datasets',\n",
       " 'Numpy.ipynb',\n",
       " 'Obteniendo_datos.ipynb',\n",
       " 'wave.jpg',\n",
       " 'FuncionesPython.ipynb',\n",
       " 'texto.txt',\n",
       " 'Visualizacion_de_datos.ipynb',\n",
       " 'CrearProyectoML.ipynb',\n",
       " 'Datos.ods',\n",
       " 'hrdata_modified.csv',\n",
       " 'IntroML.ipynb',\n",
       " 'Datos.csv',\n",
       " 'Mimodulo.py',\n",
       " 'writing_file.txt',\n",
       " 'employee_file.csv',\n",
       " 'Programa3.ipynb',\n",
       " 'Ana_Poleo',\n",
       " 'Ana_Carolina']"
      ]
     },
     "execution_count": 94,
     "metadata": {},
     "output_type": "execute_result"
    }
   ],
   "source": [
    "os.listdir(\"./\")"
   ]
  },
  {
   "cell_type": "markdown",
   "metadata": {},
   "source": [
    "Mostrar el actual directorio de trabajo"
   ]
  },
  {
   "cell_type": "code",
   "execution_count": 95,
   "metadata": {},
   "outputs": [
    {
     "data": {
      "text/plain": [
       "'/home/andres/Escritorio/ALL-Programacion/Python'"
      ]
     },
     "execution_count": 95,
     "metadata": {},
     "output_type": "execute_result"
    }
   ],
   "source": [
    "os.getcwd()"
   ]
  },
  {
   "cell_type": "markdown",
   "metadata": {},
   "source": [
    "Mostrar el tamaño del archivo en bytes del archivo pasado en parámetro"
   ]
  },
  {
   "cell_type": "code",
   "execution_count": 96,
   "metadata": {},
   "outputs": [
    {
     "data": {
      "text/plain": [
       "4096"
      ]
     },
     "execution_count": 96,
     "metadata": {},
     "output_type": "execute_result"
    }
   ],
   "source": [
    "os.path.getsize(\"Ana_Poleo\")"
   ]
  },
  {
   "cell_type": "markdown",
   "metadata": {},
   "source": [
    "¿Es un archivo el parámetro pasado?"
   ]
  },
  {
   "cell_type": "code",
   "execution_count": 97,
   "metadata": {},
   "outputs": [
    {
     "data": {
      "text/plain": [
       "False"
      ]
     },
     "execution_count": 97,
     "metadata": {},
     "output_type": "execute_result"
    }
   ],
   "source": [
    "os.path.isfile(\"Ana_Poleo\")"
   ]
  },
  {
   "cell_type": "markdown",
   "metadata": {},
   "source": [
    "¿Es una carpeta el parámetro pasado?"
   ]
  },
  {
   "cell_type": "code",
   "execution_count": 98,
   "metadata": {},
   "outputs": [
    {
     "data": {
      "text/plain": [
       "True"
      ]
     },
     "execution_count": 98,
     "metadata": {},
     "output_type": "execute_result"
    }
   ],
   "source": [
    "os.path.isdir(\"Ana_Poleo\")"
   ]
  },
  {
   "cell_type": "markdown",
   "metadata": {},
   "source": [
    "Renombrar un archivo"
   ]
  },
  {
   "cell_type": "code",
   "execution_count": 99,
   "metadata": {},
   "outputs": [
    {
     "data": {
      "text/plain": [
       "['Introduccion_Jupyter_Notebook.ipynb',\n",
       " 'Pandas.ipynb',\n",
       " 'reading_file.txt',\n",
       " 'hrdata.csv',\n",
       " 'TrainingDNN.ipynb',\n",
       " 'POOPython.ipynb',\n",
       " 'IntroduccionPython.ipynb',\n",
       " 'employee_file2.csv',\n",
       " 'Intro_ANN_y_MLP.ipynb',\n",
       " 'employee_birthday.txt',\n",
       " '.ipynb_checkpoints',\n",
       " 'tf_logs',\n",
       " 'ModulosyPaquetes.ipynb',\n",
       " 'Programa2.ipynb',\n",
       " 'figura1.png',\n",
       " 'IntroTensorflow.ipynb',\n",
       " 'Programa1.ipynb',\n",
       " 'myArray.csv',\n",
       " 'EntraSalidayFicheros.ipynb',\n",
       " '__pycache__',\n",
       " 'data.txt',\n",
       " 'appending_file.txt',\n",
       " 'datos.txt',\n",
       " 'ReduccionDimensionalidad.ipynb',\n",
       " 'datasets',\n",
       " 'Numpy.ipynb',\n",
       " 'Obteniendo_datos.ipynb',\n",
       " 'wave.jpg',\n",
       " 'FuncionesPython.ipynb',\n",
       " 'texto.txt',\n",
       " 'Visualizacion_de_datos.ipynb',\n",
       " 'CrearProyectoML.ipynb',\n",
       " 'Datos.ods',\n",
       " 'hrdata_modified.csv',\n",
       " 'IntroML.ipynb',\n",
       " 'Datos.csv',\n",
       " 'Mimodulo.py',\n",
       " 'writing_file.txt',\n",
       " 'employee_file.csv',\n",
       " 'Programa3.ipynb',\n",
       " 'Ana_Carolina']"
      ]
     },
     "execution_count": 99,
     "metadata": {},
     "output_type": "execute_result"
    }
   ],
   "source": [
    "os.rename(\"Ana_Poleo\",\"Ana_Carolina\")\n",
    "os.listdir(\"./\")"
   ]
  },
  {
   "cell_type": "markdown",
   "metadata": {},
   "source": [
    "Eliminar un archivo o carpeta y otras mas"
   ]
  },
  {
   "cell_type": "markdown",
   "metadata": {},
   "source": [
    "**Eliminar un archivo<br>**\n",
    "Para eliminar un archivo, debe importar el módulo del sistema operativo y ejecutar su función **os.remove()**"
   ]
  },
  {
   "cell_type": "markdown",
   "metadata": {},
   "source": [
    "**Compruebe si existe el archivo:<br>**\n",
    "Para evitar obtener un error, es posible que desee verificar si el archivo existe antes de intentar eliminarlo:\n",
    "\n",
    "Ejemplo\n",
    "Verifique si el archivo existe, luego bórrelo:"
   ]
  },
  {
   "cell_type": "code",
   "execution_count": 100,
   "metadata": {},
   "outputs": [
    {
     "name": "stdout",
     "output_type": "stream",
     "text": [
      "The file does not exist\n"
     ]
    }
   ],
   "source": [
    "if os.path.exists(\"demofile.txt\"):\n",
    "    os.remove(\"demofile.txt\")\n",
    "else:\n",
    "    print(\"The file does not exist\")"
   ]
  },
  {
   "cell_type": "markdown",
   "metadata": {},
   "source": [
    "**Eliminar carpeta<br>**\n",
    "Para eliminar una carpeta completa, use el  método **os.rmdir()**:"
   ]
  },
  {
   "cell_type": "markdown",
   "metadata": {},
   "source": [
    "**Archivos delimitados<br>**\n",
    "El archivo hipotético de direcciones de correo electrónico que acabamos de procesar tenía una dirección por línea.\n",
    "Con mayor frecuencia trabajará con archivos con muchos datos en cada línea. Estos archivos suelen estar separados por comas o tabulados. Cada línea tiene varios campos, con una coma (o una pestaña) que indica dónde termina un campo y comienza el siguiente.\n",
    "Esto comienza a complicarse cuando tienes campos con comas y tabulaciones y nuevas líneas en ellos (lo que inevitablemente haces). Por esta razón, casi siempre es un error tratar de analizarlos usted mismo. En su lugar, debe usar el módulo csv de Python (o la biblioteca de pandas). Por razones técnicas de las que no debe culpar a Microsoft, siempre debe trabajar con archivos csv en modo binario al incluir una b después de la r o w. Si su archivo no tiene encabezados (lo que significa que probablemente desee que cada fila sea una lista y que le incumba saber qué hay en cada columna), puede usar csv.reader para iterar sobre las filas, cada una de las cuales será Una lista adecuadamente dividida. Por ejemplo, si tuviéramos un archivo delimitado por tabulaciones de precios de acciones, podríamos procesarlos con:"
   ]
  },
  {
   "cell_type": "code",
   "execution_count": 31,
   "metadata": {
    "collapsed": true
   },
   "outputs": [
    {
     "ename": "NameError",
     "evalue": "name 'row' is not defined",
     "output_type": "error",
     "traceback": [
      "\u001b[0;31m---------------------------------------------------------------------------\u001b[0m",
      "\u001b[0;31mNameError\u001b[0m                                 Traceback (most recent call last)",
      "\u001b[0;32m<ipython-input-31-41ef8c0f5d63>\u001b[0m in \u001b[0;36m<module>\u001b[0;34m\u001b[0m\n\u001b[1;32m      2\u001b[0m \u001b[0;32mwith\u001b[0m \u001b[0mopen\u001b[0m\u001b[0;34m(\u001b[0m\u001b[0;34m'datos.txt'\u001b[0m\u001b[0;34m,\u001b[0m \u001b[0;34m'r'\u001b[0m\u001b[0;34m)\u001b[0m \u001b[0;32mas\u001b[0m \u001b[0mf\u001b[0m\u001b[0;34m:\u001b[0m\u001b[0;34m\u001b[0m\u001b[0;34m\u001b[0m\u001b[0m\n\u001b[1;32m      3\u001b[0m     \u001b[0mreader\u001b[0m \u001b[0;34m=\u001b[0m \u001b[0mcsv\u001b[0m\u001b[0;34m.\u001b[0m\u001b[0mreader\u001b[0m\u001b[0;34m(\u001b[0m\u001b[0mf\u001b[0m\u001b[0;34m,\u001b[0m \u001b[0mdelimiter\u001b[0m\u001b[0;34m=\u001b[0m\u001b[0;34m'\\t'\u001b[0m\u001b[0;34m)\u001b[0m\u001b[0;34m\u001b[0m\u001b[0;34m\u001b[0m\u001b[0m\n\u001b[0;32m----> 4\u001b[0;31m     \u001b[0mdate\u001b[0m \u001b[0;34m=\u001b[0m \u001b[0mrow\u001b[0m\u001b[0;34m[\u001b[0m\u001b[0;36m0\u001b[0m\u001b[0;34m]\u001b[0m\u001b[0;34m\u001b[0m\u001b[0;34m\u001b[0m\u001b[0m\n\u001b[0m\u001b[1;32m      5\u001b[0m     \u001b[0msymbol\u001b[0m \u001b[0;34m=\u001b[0m \u001b[0mrow\u001b[0m\u001b[0;34m[\u001b[0m\u001b[0;36m1\u001b[0m\u001b[0;34m]\u001b[0m\u001b[0;34m\u001b[0m\u001b[0;34m\u001b[0m\u001b[0m\n\u001b[1;32m      6\u001b[0m     \u001b[0mclosing_price\u001b[0m \u001b[0;34m=\u001b[0m \u001b[0mfloat\u001b[0m\u001b[0;34m(\u001b[0m\u001b[0mrow\u001b[0m\u001b[0;34m[\u001b[0m\u001b[0;36m2\u001b[0m\u001b[0;34m]\u001b[0m\u001b[0;34m)\u001b[0m\u001b[0;34m\u001b[0m\u001b[0;34m\u001b[0m\u001b[0m\n",
      "\u001b[0;31mNameError\u001b[0m: name 'row' is not defined"
     ]
    }
   ],
   "source": [
    "import csv\n",
    "#forma general\n",
    "with open('datos.txt', 'r') as f:\n",
    "    reader = csv.reader(f, delimiter='\\t')\n",
    "    date = row[0]\n",
    "    symbol = row[1]\n",
    "    closing_price = float(row[2])\n",
    "    procesamiento=[date,symbol,closing_price]"
   ]
  },
  {
   "cell_type": "code",
   "execution_count": 32,
   "metadata": {},
   "outputs": [],
   "source": [
    "import numpy as np\n",
    "t=np.arange(0,10,0.1)\n",
    "x=t**2\n",
    "y=np.sin(t)\n",
    "with open(\"data.txt\",\"w\") as f:\n",
    "    f.write(\"tiempo\"+\"\\t\"+\"x\"+\"\\t\"+\"y\"+\"\\n\")\n",
    "    for i in range(len(t)):\n",
    "        f.write(\"%.4f\"%t[i]+\"\\t\"+\"%.4f\"%x[i]+\"\\t\"+\"%.4f\"%y[i]+\"\\n\")"
   ]
  },
  {
   "cell_type": "code",
   "execution_count": 33,
   "metadata": {},
   "outputs": [
    {
     "name": "stdout",
     "output_type": "stream",
     "text": [
      "tiempo\tx\ty\n",
      "\n",
      "0.0000\t0.0000\t0.0000\n",
      "\n",
      "0.1000\t0.0100\t0.0998\n",
      "\n",
      "0.2000\t0.0400\t0.1987\n",
      "\n",
      "0.3000\t0.0900\t0.2955\n",
      "\n",
      "0.4000\t0.1600\t0.3894\n",
      "\n",
      "0.5000\t0.2500\t0.4794\n",
      "\n",
      "0.6000\t0.3600\t0.5646\n",
      "\n",
      "0.7000\t0.4900\t0.6442\n",
      "\n",
      "0.8000\t0.6400\t0.7174\n",
      "\n",
      "0.9000\t0.8100\t0.7833\n",
      "\n",
      "1.0000\t1.0000\t0.8415\n",
      "\n",
      "1.1000\t1.2100\t0.8912\n",
      "\n",
      "1.2000\t1.4400\t0.9320\n",
      "\n",
      "1.3000\t1.6900\t0.9636\n",
      "\n",
      "1.4000\t1.9600\t0.9854\n",
      "\n",
      "1.5000\t2.2500\t0.9975\n",
      "\n",
      "1.6000\t2.5600\t0.9996\n",
      "\n",
      "1.7000\t2.8900\t0.9917\n",
      "\n",
      "1.8000\t3.2400\t0.9738\n",
      "\n",
      "1.9000\t3.6100\t0.9463\n",
      "\n",
      "2.0000\t4.0000\t0.9093\n",
      "\n",
      "2.1000\t4.4100\t0.8632\n",
      "\n",
      "2.2000\t4.8400\t0.8085\n",
      "\n",
      "2.3000\t5.2900\t0.7457\n",
      "\n",
      "2.4000\t5.7600\t0.6755\n",
      "\n",
      "2.5000\t6.2500\t0.5985\n",
      "\n",
      "2.6000\t6.7600\t0.5155\n",
      "\n",
      "2.7000\t7.2900\t0.4274\n",
      "\n",
      "2.8000\t7.8400\t0.3350\n",
      "\n",
      "2.9000\t8.4100\t0.2392\n",
      "\n",
      "3.0000\t9.0000\t0.1411\n",
      "\n",
      "3.1000\t9.6100\t0.0416\n",
      "\n",
      "3.2000\t10.2400\t-0.0584\n",
      "\n",
      "3.3000\t10.8900\t-0.1577\n",
      "\n",
      "3.4000\t11.5600\t-0.2555\n",
      "\n",
      "3.5000\t12.2500\t-0.3508\n",
      "\n",
      "3.6000\t12.9600\t-0.4425\n",
      "\n",
      "3.7000\t13.6900\t-0.5298\n",
      "\n",
      "3.8000\t14.4400\t-0.6119\n",
      "\n",
      "3.9000\t15.2100\t-0.6878\n",
      "\n",
      "4.0000\t16.0000\t-0.7568\n",
      "\n",
      "4.1000\t16.8100\t-0.8183\n",
      "\n",
      "4.2000\t17.6400\t-0.8716\n",
      "\n",
      "4.3000\t18.4900\t-0.9162\n",
      "\n",
      "4.4000\t19.3600\t-0.9516\n",
      "\n",
      "4.5000\t20.2500\t-0.9775\n",
      "\n",
      "4.6000\t21.1600\t-0.9937\n",
      "\n",
      "4.7000\t22.0900\t-0.9999\n",
      "\n",
      "4.8000\t23.0400\t-0.9962\n",
      "\n",
      "4.9000\t24.0100\t-0.9825\n",
      "\n",
      "5.0000\t25.0000\t-0.9589\n",
      "\n",
      "5.1000\t26.0100\t-0.9258\n",
      "\n",
      "5.2000\t27.0400\t-0.8835\n",
      "\n",
      "5.3000\t28.0900\t-0.8323\n",
      "\n",
      "5.4000\t29.1600\t-0.7728\n",
      "\n",
      "5.5000\t30.2500\t-0.7055\n",
      "\n",
      "5.6000\t31.3600\t-0.6313\n",
      "\n",
      "5.7000\t32.4900\t-0.5507\n",
      "\n",
      "5.8000\t33.6400\t-0.4646\n",
      "\n",
      "5.9000\t34.8100\t-0.3739\n",
      "\n",
      "6.0000\t36.0000\t-0.2794\n",
      "\n",
      "6.1000\t37.2100\t-0.1822\n",
      "\n",
      "6.2000\t38.4400\t-0.0831\n",
      "\n",
      "6.3000\t39.6900\t0.0168\n",
      "\n",
      "6.4000\t40.9600\t0.1165\n",
      "\n",
      "6.5000\t42.2500\t0.2151\n",
      "\n",
      "6.6000\t43.5600\t0.3115\n",
      "\n",
      "6.7000\t44.8900\t0.4048\n",
      "\n",
      "6.8000\t46.2400\t0.4941\n",
      "\n",
      "6.9000\t47.6100\t0.5784\n",
      "\n",
      "7.0000\t49.0000\t0.6570\n",
      "\n",
      "7.1000\t50.4100\t0.7290\n",
      "\n",
      "7.2000\t51.8400\t0.7937\n",
      "\n",
      "7.3000\t53.2900\t0.8504\n",
      "\n",
      "7.4000\t54.7600\t0.8987\n",
      "\n",
      "7.5000\t56.2500\t0.9380\n",
      "\n",
      "7.6000\t57.7600\t0.9679\n",
      "\n",
      "7.7000\t59.2900\t0.9882\n",
      "\n",
      "7.8000\t60.8400\t0.9985\n",
      "\n",
      "7.9000\t62.4100\t0.9989\n",
      "\n",
      "8.0000\t64.0000\t0.9894\n",
      "\n",
      "8.1000\t65.6100\t0.9699\n",
      "\n",
      "8.2000\t67.2400\t0.9407\n",
      "\n",
      "8.3000\t68.8900\t0.9022\n",
      "\n",
      "8.4000\t70.5600\t0.8546\n",
      "\n",
      "8.5000\t72.2500\t0.7985\n",
      "\n",
      "8.6000\t73.9600\t0.7344\n",
      "\n",
      "8.7000\t75.6900\t0.6630\n",
      "\n",
      "8.8000\t77.4400\t0.5849\n",
      "\n",
      "8.9000\t79.2100\t0.5010\n",
      "\n",
      "9.0000\t81.0000\t0.4121\n",
      "\n",
      "9.1000\t82.8100\t0.3191\n",
      "\n",
      "9.2000\t84.6400\t0.2229\n",
      "\n",
      "9.3000\t86.4900\t0.1245\n",
      "\n",
      "9.4000\t88.3600\t0.0248\n",
      "\n",
      "9.5000\t90.2500\t-0.0752\n",
      "\n",
      "9.6000\t92.1600\t-0.1743\n",
      "\n",
      "9.7000\t94.0900\t-0.2718\n",
      "\n",
      "9.8000\t96.0400\t-0.3665\n",
      "\n",
      "9.9000\t98.0100\t-0.4575\n",
      "\n"
     ]
    }
   ],
   "source": [
    "with open(\"data.txt\",\"r\") as f:\n",
    "    for i in f:\n",
    "        print(i)"
   ]
  },
  {
   "cell_type": "code",
   "execution_count": 34,
   "metadata": {},
   "outputs": [],
   "source": [
    "with open(\"data.txt\",\"r\") as f:\n",
    "    archivo=csv.reader(f,delimiter='\\t')\n",
    "    matriz=[[fila[0],fila[1],fila[2]] for fila in archivo]"
   ]
  },
  {
   "cell_type": "code",
   "execution_count": 35,
   "metadata": {
    "collapsed": true
   },
   "outputs": [
    {
     "name": "stdout",
     "output_type": "stream",
     "text": [
      "['x', '0.0000', '0.0100', '0.0400', '0.0900', '0.1600', '0.2500', '0.3600', '0.4900', '0.6400', '0.8100', '1.0000', '1.2100', '1.4400', '1.6900', '1.9600', '2.2500', '2.5600', '2.8900', '3.2400', '3.6100', '4.0000', '4.4100', '4.8400', '5.2900', '5.7600', '6.2500', '6.7600', '7.2900', '7.8400', '8.4100', '9.0000', '9.6100', '10.2400', '10.8900', '11.5600', '12.2500', '12.9600', '13.6900', '14.4400', '15.2100', '16.0000', '16.8100', '17.6400', '18.4900', '19.3600', '20.2500', '21.1600', '22.0900', '23.0400', '24.0100', '25.0000', '26.0100', '27.0400', '28.0900', '29.1600', '30.2500', '31.3600', '32.4900', '33.6400', '34.8100', '36.0000', '37.2100', '38.4400', '39.6900', '40.9600', '42.2500', '43.5600', '44.8900', '46.2400', '47.6100', '49.0000', '50.4100', '51.8400', '53.2900', '54.7600', '56.2500', '57.7600', '59.2900', '60.8400', '62.4100', '64.0000', '65.6100', '67.2400', '68.8900', '70.5600', '72.2500', '73.9600', '75.6900', '77.4400', '79.2100', '81.0000', '82.8100', '84.6400', '86.4900', '88.3600', '90.2500', '92.1600', '94.0900', '96.0400', '98.0100']\n",
      "['y', '0.0000', '0.0998', '0.1987', '0.2955', '0.3894', '0.4794', '0.5646', '0.6442', '0.7174', '0.7833', '0.8415', '0.8912', '0.9320', '0.9636', '0.9854', '0.9975', '0.9996', '0.9917', '0.9738', '0.9463', '0.9093', '0.8632', '0.8085', '0.7457', '0.6755', '0.5985', '0.5155', '0.4274', '0.3350', '0.2392', '0.1411', '0.0416', '-0.0584', '-0.1577', '-0.2555', '-0.3508', '-0.4425', '-0.5298', '-0.6119', '-0.6878', '-0.7568', '-0.8183', '-0.8716', '-0.9162', '-0.9516', '-0.9775', '-0.9937', '-0.9999', '-0.9962', '-0.9825', '-0.9589', '-0.9258', '-0.8835', '-0.8323', '-0.7728', '-0.7055', '-0.6313', '-0.5507', '-0.4646', '-0.3739', '-0.2794', '-0.1822', '-0.0831', '0.0168', '0.1165', '0.2151', '0.3115', '0.4048', '0.4941', '0.5784', '0.6570', '0.7290', '0.7937', '0.8504', '0.8987', '0.9380', '0.9679', '0.9882', '0.9985', '0.9989', '0.9894', '0.9699', '0.9407', '0.9022', '0.8546', '0.7985', '0.7344', '0.6630', '0.5849', '0.5010', '0.4121', '0.3191', '0.2229', '0.1245', '0.0248', '-0.0752', '-0.1743', '-0.2718', '-0.3665', '-0.4575']\n",
      "['tiempo', '0.0000', '0.1000', '0.2000', '0.3000', '0.4000', '0.5000', '0.6000', '0.7000', '0.8000', '0.9000', '1.0000', '1.1000', '1.2000', '1.3000', '1.4000', '1.5000', '1.6000', '1.7000', '1.8000', '1.9000', '2.0000', '2.1000', '2.2000', '2.3000', '2.4000', '2.5000', '2.6000', '2.7000', '2.8000', '2.9000', '3.0000', '3.1000', '3.2000', '3.3000', '3.4000', '3.5000', '3.6000', '3.7000', '3.8000', '3.9000', '4.0000', '4.1000', '4.2000', '4.3000', '4.4000', '4.5000', '4.6000', '4.7000', '4.8000', '4.9000', '5.0000', '5.1000', '5.2000', '5.3000', '5.4000', '5.5000', '5.6000', '5.7000', '5.8000', '5.9000', '6.0000', '6.1000', '6.2000', '6.3000', '6.4000', '6.5000', '6.6000', '6.7000', '6.8000', '6.9000', '7.0000', '7.1000', '7.2000', '7.3000', '7.4000', '7.5000', '7.6000', '7.7000', '7.8000', '7.9000', '8.0000', '8.1000', '8.2000', '8.3000', '8.4000', '8.5000', '8.6000', '8.7000', '8.8000', '8.9000', '9.0000', '9.1000', '9.2000', '9.3000', '9.4000', '9.5000', '9.6000', '9.7000', '9.8000', '9.9000']\n"
     ]
    }
   ],
   "source": [
    "tiempo=[matriz[i][0] for i in range(len(matriz))]\n",
    "x=[matriz[i][1] for i in range(len(matriz))]\n",
    "y=[matriz[i][2] for i in range(len(matriz))]\n",
    "print(x)\n",
    "print(y)\n",
    "print(tiempo)"
   ]
  },
  {
   "cell_type": "markdown",
   "metadata": {},
   "source": [
    "Si su archivo tiene encabezados:"
   ]
  },
  {
   "cell_type": "code",
   "execution_count": 36,
   "metadata": {
    "collapsed": true
   },
   "outputs": [
    {
     "name": "stdout",
     "output_type": "stream",
     "text": [
      "0.0000\n",
      "0.0000\n",
      "0.0000\n",
      "0.0100\n",
      "0.0998\n",
      "0.1000\n",
      "0.0400\n",
      "0.1987\n",
      "0.2000\n",
      "0.0900\n",
      "0.2955\n",
      "0.3000\n",
      "0.1600\n",
      "0.3894\n",
      "0.4000\n",
      "0.2500\n",
      "0.4794\n",
      "0.5000\n",
      "0.3600\n",
      "0.5646\n",
      "0.6000\n",
      "0.4900\n",
      "0.6442\n",
      "0.7000\n",
      "0.6400\n",
      "0.7174\n",
      "0.8000\n",
      "0.8100\n",
      "0.7833\n",
      "0.9000\n",
      "1.0000\n",
      "0.8415\n",
      "1.0000\n",
      "1.2100\n",
      "0.8912\n",
      "1.1000\n",
      "1.4400\n",
      "0.9320\n",
      "1.2000\n",
      "1.6900\n",
      "0.9636\n",
      "1.3000\n",
      "1.9600\n",
      "0.9854\n",
      "1.4000\n",
      "2.2500\n",
      "0.9975\n",
      "1.5000\n",
      "2.5600\n",
      "0.9996\n",
      "1.6000\n",
      "2.8900\n",
      "0.9917\n",
      "1.7000\n",
      "3.2400\n",
      "0.9738\n",
      "1.8000\n",
      "3.6100\n",
      "0.9463\n",
      "1.9000\n",
      "4.0000\n",
      "0.9093\n",
      "2.0000\n",
      "4.4100\n",
      "0.8632\n",
      "2.1000\n",
      "4.8400\n",
      "0.8085\n",
      "2.2000\n",
      "5.2900\n",
      "0.7457\n",
      "2.3000\n",
      "5.7600\n",
      "0.6755\n",
      "2.4000\n",
      "6.2500\n",
      "0.5985\n",
      "2.5000\n",
      "6.7600\n",
      "0.5155\n",
      "2.6000\n",
      "7.2900\n",
      "0.4274\n",
      "2.7000\n",
      "7.8400\n",
      "0.3350\n",
      "2.8000\n",
      "8.4100\n",
      "0.2392\n",
      "2.9000\n",
      "9.0000\n",
      "0.1411\n",
      "3.0000\n",
      "9.6100\n",
      "0.0416\n",
      "3.1000\n",
      "10.2400\n",
      "-0.0584\n",
      "3.2000\n",
      "10.8900\n",
      "-0.1577\n",
      "3.3000\n",
      "11.5600\n",
      "-0.2555\n",
      "3.4000\n",
      "12.2500\n",
      "-0.3508\n",
      "3.5000\n",
      "12.9600\n",
      "-0.4425\n",
      "3.6000\n",
      "13.6900\n",
      "-0.5298\n",
      "3.7000\n",
      "14.4400\n",
      "-0.6119\n",
      "3.8000\n",
      "15.2100\n",
      "-0.6878\n",
      "3.9000\n",
      "16.0000\n",
      "-0.7568\n",
      "4.0000\n",
      "16.8100\n",
      "-0.8183\n",
      "4.1000\n",
      "17.6400\n",
      "-0.8716\n",
      "4.2000\n",
      "18.4900\n",
      "-0.9162\n",
      "4.3000\n",
      "19.3600\n",
      "-0.9516\n",
      "4.4000\n",
      "20.2500\n",
      "-0.9775\n",
      "4.5000\n",
      "21.1600\n",
      "-0.9937\n",
      "4.6000\n",
      "22.0900\n",
      "-0.9999\n",
      "4.7000\n",
      "23.0400\n",
      "-0.9962\n",
      "4.8000\n",
      "24.0100\n",
      "-0.9825\n",
      "4.9000\n",
      "25.0000\n",
      "-0.9589\n",
      "5.0000\n",
      "26.0100\n",
      "-0.9258\n",
      "5.1000\n",
      "27.0400\n",
      "-0.8835\n",
      "5.2000\n",
      "28.0900\n",
      "-0.8323\n",
      "5.3000\n",
      "29.1600\n",
      "-0.7728\n",
      "5.4000\n",
      "30.2500\n",
      "-0.7055\n",
      "5.5000\n",
      "31.3600\n",
      "-0.6313\n",
      "5.6000\n",
      "32.4900\n",
      "-0.5507\n",
      "5.7000\n",
      "33.6400\n",
      "-0.4646\n",
      "5.8000\n",
      "34.8100\n",
      "-0.3739\n",
      "5.9000\n",
      "36.0000\n",
      "-0.2794\n",
      "6.0000\n",
      "37.2100\n",
      "-0.1822\n",
      "6.1000\n",
      "38.4400\n",
      "-0.0831\n",
      "6.2000\n",
      "39.6900\n",
      "0.0168\n",
      "6.3000\n",
      "40.9600\n",
      "0.1165\n",
      "6.4000\n",
      "42.2500\n",
      "0.2151\n",
      "6.5000\n",
      "43.5600\n",
      "0.3115\n",
      "6.6000\n",
      "44.8900\n",
      "0.4048\n",
      "6.7000\n",
      "46.2400\n",
      "0.4941\n",
      "6.8000\n",
      "47.6100\n",
      "0.5784\n",
      "6.9000\n",
      "49.0000\n",
      "0.6570\n",
      "7.0000\n",
      "50.4100\n",
      "0.7290\n",
      "7.1000\n",
      "51.8400\n",
      "0.7937\n",
      "7.2000\n",
      "53.2900\n",
      "0.8504\n",
      "7.3000\n",
      "54.7600\n",
      "0.8987\n",
      "7.4000\n",
      "56.2500\n",
      "0.9380\n",
      "7.5000\n",
      "57.7600\n",
      "0.9679\n",
      "7.6000\n",
      "59.2900\n",
      "0.9882\n",
      "7.7000\n",
      "60.8400\n",
      "0.9985\n",
      "7.8000\n",
      "62.4100\n",
      "0.9989\n",
      "7.9000\n",
      "64.0000\n",
      "0.9894\n",
      "8.0000\n",
      "65.6100\n",
      "0.9699\n",
      "8.1000\n",
      "67.2400\n",
      "0.9407\n",
      "8.2000\n",
      "68.8900\n",
      "0.9022\n",
      "8.3000\n",
      "70.5600\n",
      "0.8546\n",
      "8.4000\n",
      "72.2500\n",
      "0.7985\n",
      "8.5000\n",
      "73.9600\n",
      "0.7344\n",
      "8.6000\n",
      "75.6900\n",
      "0.6630\n",
      "8.7000\n",
      "77.4400\n",
      "0.5849\n",
      "8.8000\n",
      "79.2100\n",
      "0.5010\n",
      "8.9000\n",
      "81.0000\n",
      "0.4121\n",
      "9.0000\n",
      "82.8100\n",
      "0.3191\n",
      "9.1000\n",
      "84.6400\n",
      "0.2229\n",
      "9.2000\n",
      "86.4900\n",
      "0.1245\n",
      "9.3000\n",
      "88.3600\n",
      "0.0248\n",
      "9.4000\n",
      "90.2500\n",
      "-0.0752\n",
      "9.5000\n",
      "92.1600\n",
      "-0.1743\n",
      "9.6000\n",
      "94.0900\n",
      "-0.2718\n",
      "9.7000\n",
      "96.0400\n",
      "-0.3665\n",
      "9.8000\n",
      "98.0100\n",
      "-0.4575\n",
      "9.9000\n"
     ]
    }
   ],
   "source": [
    "with open(\"data.txt\",\"r\") as f:\n",
    "    archivo=csv.DictReader(f,delimiter='\\t')\n",
    "    for fila in archivo:\n",
    "        tiempo=fila[\"tiempo\"]\n",
    "        x=fila[\"x\"]\n",
    "        y=fila[\"y\"]\n",
    "        print(x)\n",
    "        print(y)\n",
    "        print(tiempo)"
   ]
  },
  {
   "cell_type": "code",
   "execution_count": 37,
   "metadata": {},
   "outputs": [],
   "source": [
    "with open('datos.txt', 'r') as f:\n",
    "    reader = csv.DictReader(f, delimiter=':')\n",
    "    for row in reader:\n",
    "        date = row[\"date\"]\n",
    "        symbol = row[\"symbol\"]\n",
    "        closing_price = float(row[\"closing_price\"])"
   ]
  },
  {
   "cell_type": "markdown",
   "metadata": {},
   "source": [
    "<a name=\"item3\"></a>\n",
    "### Archivos CSV\n",
    "<img src=\"https://3.bp.blogspot.com/-HYWeAP_Y33Q/VUOMQUdv5uI/AAAAAAAACVU/psheIvrbKW0/s1600/csv.png\">"
   ]
  },
  {
   "cell_type": "markdown",
   "metadata": {},
   "source": [
    "El intercambio de información a través de archivos de texto es una forma común de compartir información entre programas. Uno de los formatos más populares para el intercambio de datos es el formato CSV."
   ]
  },
  {
   "cell_type": "markdown",
   "metadata": {},
   "source": [
    "**¿Qué es un archivo CSV?<br>**\n",
    "Un archivo CSV (archivo de valores separados por comas) es un tipo de archivo de texto sin formato que utiliza una estructuración específica para organizar los datos tabulares. Debido a que es un archivo de texto sin formato, puede contener solo datos de texto reales, en otras palabras, caracteres ASCII o Unicode imprimibles ."
   ]
  },
  {
   "cell_type": "markdown",
   "metadata": {},
   "source": [
    "La estructura de un archivo CSV se revela por su nombre. Normalmente, los archivos CSV usan una coma para separar cada valor de datos específico. Así es como se ve esa estructura:<br>\n",
    "\n",
    "column 1 name,column 2 name, column 3 name<br>\n",
    "first row data 1,first row data 2,first row data 3<br>\n",
    "second row data 1,second row data 2,second row data 3<br>\n",
    "..."
   ]
  },
  {
   "cell_type": "markdown",
   "metadata": {},
   "source": [
    "Observe cómo cada pieza de datos está separada por una coma. Normalmente, la primera línea identifica cada pieza de datos; en otras palabras, el nombre de una columna de datos. Cada línea posterior después de eso son datos reales y están limitados solo por restricciones de tamaño de archivo.\n",
    "En general, el carácter separador se denomina delimitador, y la coma no es la única utilizada. Otros delimitadores populares incluyen los caracteres tab ( \\t), dos puntos ( :) y punto y coma ( ;). Analizar correctamente un archivo CSV requiere que sepamos qué delimitador se está utilizando."
   ]
  },
  {
   "cell_type": "markdown",
   "metadata": {},
   "source": [
    "**¿De dónde vienen los archivos CSV?<br>**\n",
    "Los archivos CSV normalmente son creados por programas que manejan grandes cantidades de datos. Son una forma conveniente de exportar datos de hojas de cálculo y bases de datos, así como importarlos o usarlos en otros programas. Por ejemplo, puede exportar los resultados de un programa de minería de datos a un archivo CSV y luego importarlos en una hoja de cálculo para analizar los datos, generar gráficos para una presentación o preparar un informe para su publicación.\n",
    "\n",
    "Los archivos CSV son muy fáciles de trabajar mediante programación. Cualquier lenguaje que admita la entrada de archivos de texto y la manipulación de cadenas (como Python) puede funcionar con archivos CSV directamente."
   ]
  },
  {
   "cell_type": "markdown",
   "metadata": {},
   "source": [
    "**Lectura de archivos CSV con modulo csv<br>**\n",
    "La lectura de un archivo CSV se realiza utilizando el objeto **reader**. El archivo CSV se abre como un archivo de texto con la función incorporada de Python **open()**, que devuelve un objeto de archivo. Esto luego se pasa al **reader**, que hace el trabajo pesado."
   ]
  },
  {
   "cell_type": "code",
   "execution_count": 38,
   "metadata": {},
   "outputs": [
    {
     "name": "stdout",
     "output_type": "stream",
     "text": [
      "Column names are name, department, birthday month\n",
      "\tJohn Smith works in the Accounting department, and was born in November.\n",
      "\tErica Meyers works in the IT department, and was born in March.\n",
      "Processed 3 lines.\n"
     ]
    }
   ],
   "source": [
    "import csv\n",
    "with open('employee_birthday.txt') as csv_file:\n",
    "    csv_reader = csv.reader(csv_file, delimiter=',')\n",
    "    line_count = 0\n",
    "    for row in csv_reader:\n",
    "        if line_count == 0:\n",
    "            print(f'Column names are {\", \".join(row)}')\n",
    "            line_count += 1\n",
    "        else:\n",
    "            print(f'\\t{row[0]} works in the {row[1]} department, and was born in {row[2]}.')\n",
    "            line_count += 1\n",
    "    print(f'Processed {line_count} lines.')"
   ]
  },
  {
   "cell_type": "code",
   "execution_count": 39,
   "metadata": {},
   "outputs": [
    {
     "name": "stdout",
     "output_type": "stream",
     "text": [
      "['tiempo', 'x', 'y']\n",
      "['0.0000', '0.0000', '0.0000']\n",
      "['0.1000', '0.0100', '0.0998']\n",
      "['0.2000', '0.0400', '0.1987']\n",
      "['0.3000', '0.0900', '0.2955']\n",
      "['0.4000', '0.1600', '0.3894']\n",
      "['0.5000', '0.2500', '0.4794']\n",
      "['0.6000', '0.3600', '0.5646']\n",
      "['0.7000', '0.4900', '0.6442']\n",
      "['0.8000', '0.6400', '0.7174']\n",
      "['0.9000', '0.8100', '0.7833']\n",
      "['1.0000', '1.0000', '0.8415']\n",
      "['1.1000', '1.2100', '0.8912']\n",
      "['1.2000', '1.4400', '0.9320']\n",
      "['1.3000', '1.6900', '0.9636']\n",
      "['1.4000', '1.9600', '0.9854']\n",
      "['1.5000', '2.2500', '0.9975']\n",
      "['1.6000', '2.5600', '0.9996']\n",
      "['1.7000', '2.8900', '0.9917']\n",
      "['1.8000', '3.2400', '0.9738']\n",
      "['1.9000', '3.6100', '0.9463']\n",
      "['2.0000', '4.0000', '0.9093']\n",
      "['2.1000', '4.4100', '0.8632']\n",
      "['2.2000', '4.8400', '0.8085']\n",
      "['2.3000', '5.2900', '0.7457']\n",
      "['2.4000', '5.7600', '0.6755']\n",
      "['2.5000', '6.2500', '0.5985']\n",
      "['2.6000', '6.7600', '0.5155']\n",
      "['2.7000', '7.2900', '0.4274']\n",
      "['2.8000', '7.8400', '0.3350']\n",
      "['2.9000', '8.4100', '0.2392']\n",
      "['3.0000', '9.0000', '0.1411']\n",
      "['3.1000', '9.6100', '0.0416']\n",
      "['3.2000', '10.2400', '-0.0584']\n",
      "['3.3000', '10.8900', '-0.1577']\n",
      "['3.4000', '11.5600', '-0.2555']\n",
      "['3.5000', '12.2500', '-0.3508']\n",
      "['3.6000', '12.9600', '-0.4425']\n",
      "['3.7000', '13.6900', '-0.5298']\n",
      "['3.8000', '14.4400', '-0.6119']\n",
      "['3.9000', '15.2100', '-0.6878']\n",
      "['4.0000', '16.0000', '-0.7568']\n",
      "['4.1000', '16.8100', '-0.8183']\n",
      "['4.2000', '17.6400', '-0.8716']\n",
      "['4.3000', '18.4900', '-0.9162']\n",
      "['4.4000', '19.3600', '-0.9516']\n",
      "['4.5000', '20.2500', '-0.9775']\n",
      "['4.6000', '21.1600', '-0.9937']\n",
      "['4.7000', '22.0900', '-0.9999']\n",
      "['4.8000', '23.0400', '-0.9962']\n",
      "['4.9000', '24.0100', '-0.9825']\n",
      "['5.0000', '25.0000', '-0.9589']\n",
      "['5.1000', '26.0100', '-0.9258']\n",
      "['5.2000', '27.0400', '-0.8835']\n",
      "['5.3000', '28.0900', '-0.8323']\n",
      "['5.4000', '29.1600', '-0.7728']\n",
      "['5.5000', '30.2500', '-0.7055']\n",
      "['5.6000', '31.3600', '-0.6313']\n",
      "['5.7000', '32.4900', '-0.5507']\n",
      "['5.8000', '33.6400', '-0.4646']\n",
      "['5.9000', '34.8100', '-0.3739']\n",
      "['6.0000', '36.0000', '-0.2794']\n",
      "['6.1000', '37.2100', '-0.1822']\n",
      "['6.2000', '38.4400', '-0.0831']\n",
      "['6.3000', '39.6900', '0.0168']\n",
      "['6.4000', '40.9600', '0.1165']\n",
      "['6.5000', '42.2500', '0.2151']\n",
      "['6.6000', '43.5600', '0.3115']\n",
      "['6.7000', '44.8900', '0.4048']\n",
      "['6.8000', '46.2400', '0.4941']\n",
      "['6.9000', '47.6100', '0.5784']\n",
      "['7.0000', '49.0000', '0.6570']\n",
      "['7.1000', '50.4100', '0.7290']\n",
      "['7.2000', '51.8400', '0.7937']\n",
      "['7.3000', '53.2900', '0.8504']\n",
      "['7.4000', '54.7600', '0.8987']\n",
      "['7.5000', '56.2500', '0.9380']\n",
      "['7.6000', '57.7600', '0.9679']\n",
      "['7.7000', '59.2900', '0.9882']\n",
      "['7.8000', '60.8400', '0.9985']\n",
      "['7.9000', '62.4100', '0.9989']\n",
      "['8.0000', '64.0000', '0.9894']\n",
      "['8.1000', '65.6100', '0.9699']\n",
      "['8.2000', '67.2400', '0.9407']\n",
      "['8.3000', '68.8900', '0.9022']\n",
      "['8.4000', '70.5600', '0.8546']\n",
      "['8.5000', '72.2500', '0.7985']\n",
      "['8.6000', '73.9600', '0.7344']\n",
      "['8.7000', '75.6900', '0.6630']\n",
      "['8.8000', '77.4400', '0.5849']\n",
      "['8.9000', '79.2100', '0.5010']\n",
      "['9.0000', '81.0000', '0.4121']\n",
      "['9.1000', '82.8100', '0.3191']\n",
      "['9.2000', '84.6400', '0.2229']\n",
      "['9.3000', '86.4900', '0.1245']\n",
      "['9.4000', '88.3600', '0.0248']\n",
      "['9.5000', '90.2500', '-0.0752']\n",
      "['9.6000', '92.1600', '-0.1743']\n",
      "['9.7000', '94.0900', '-0.2718']\n",
      "['9.8000', '96.0400', '-0.3665']\n",
      "['9.9000', '98.0100', '-0.4575']\n"
     ]
    }
   ],
   "source": [
    "with open(\"data.txt\") as f:\n",
    "    csvreader=csv.reader(f,delimiter=\"\\t\")\n",
    "    for row in csvreader:\n",
    "        print(row)"
   ]
  },
  {
   "cell_type": "markdown",
   "metadata": {},
   "source": [
    "Cada fila devuelta por **reader** es una lista de  elementos String que contienen los datos encontrados al eliminar los delimitadores. La primera fila devuelta contiene los nombres de las columnas, que se manejan de manera especial."
   ]
  },
  {
   "cell_type": "markdown",
   "metadata": {},
   "source": [
    "**Lectura de archivos CSV en un diccionario con csv**<br>\n",
    "En lugar de tratar con una lista de elementos String individuales , también puede leer datos CSV directamente en un diccionario (técnicamente, un diccionario ordenado )."
   ]
  },
  {
   "cell_type": "code",
   "execution_count": 40,
   "metadata": {},
   "outputs": [
    {
     "name": "stdout",
     "output_type": "stream",
     "text": [
      "Column names are name, department, birthday month\n",
      "\tJohn Smith works in the Accounting department, and was born in November.\n",
      "\tErica Meyers works in the IT department, and was born in March.\n",
      "Processed 3 lines.\n"
     ]
    }
   ],
   "source": [
    "with open('employee_birthday.txt', mode='r') as csv_file:\n",
    "    csv_reader = csv.DictReader(csv_file)\n",
    "    line_count = 0\n",
    "    for row in csv_reader:\n",
    "        if line_count == 0:\n",
    "            print(f'Column names are {\", \".join(row)}')\n",
    "            line_count += 1\n",
    "        print(f'\\t{row[\"name\"]} works in the {row[\"department\"]} department, and was born in {row[\"birthday month\"]}.')\n",
    "        line_count += 1\n",
    "    print(f'Processed {line_count} lines.')"
   ]
  },
  {
   "cell_type": "markdown",
   "metadata": {},
   "source": [
    "¿De dónde vienen las llaves del diccionario? Se supone que la primera línea del archivo CSV contiene las claves que se usarán para construir el diccionario. Si no tiene estos en su archivo CSV, debe especificar sus propias claves configurando el parámetro **fieldnames** opcional en una lista que las contenga."
   ]
  },
  {
   "cell_type": "code",
   "execution_count": 52,
   "metadata": {
    "scrolled": true
   },
   "outputs": [
    {
     "name": "stdout",
     "output_type": "stream",
     "text": [
      "0.0000 0.0000 0.0000\n",
      "0.1000 0.0100 0.0998\n",
      "0.2000 0.0400 0.1987\n",
      "0.3000 0.0900 0.2955\n",
      "0.4000 0.1600 0.3894\n",
      "0.5000 0.2500 0.4794\n",
      "0.6000 0.3600 0.5646\n",
      "0.7000 0.4900 0.6442\n",
      "0.8000 0.6400 0.7174\n",
      "0.9000 0.8100 0.7833\n",
      "1.0000 1.0000 0.8415\n",
      "1.1000 1.2100 0.8912\n",
      "1.2000 1.4400 0.9320\n",
      "1.3000 1.6900 0.9636\n",
      "1.4000 1.9600 0.9854\n",
      "1.5000 2.2500 0.9975\n",
      "1.6000 2.5600 0.9996\n",
      "1.7000 2.8900 0.9917\n",
      "1.8000 3.2400 0.9738\n",
      "1.9000 3.6100 0.9463\n",
      "2.0000 4.0000 0.9093\n",
      "2.1000 4.4100 0.8632\n",
      "2.2000 4.8400 0.8085\n",
      "2.3000 5.2900 0.7457\n",
      "2.4000 5.7600 0.6755\n",
      "2.5000 6.2500 0.5985\n",
      "2.6000 6.7600 0.5155\n",
      "2.7000 7.2900 0.4274\n",
      "2.8000 7.8400 0.3350\n",
      "2.9000 8.4100 0.2392\n",
      "3.0000 9.0000 0.1411\n",
      "3.1000 9.6100 0.0416\n",
      "3.2000 10.2400 -0.0584\n",
      "3.3000 10.8900 -0.1577\n",
      "3.4000 11.5600 -0.2555\n",
      "3.5000 12.2500 -0.3508\n",
      "3.6000 12.9600 -0.4425\n",
      "3.7000 13.6900 -0.5298\n",
      "3.8000 14.4400 -0.6119\n",
      "3.9000 15.2100 -0.6878\n",
      "4.0000 16.0000 -0.7568\n",
      "4.1000 16.8100 -0.8183\n",
      "4.2000 17.6400 -0.8716\n",
      "4.3000 18.4900 -0.9162\n",
      "4.4000 19.3600 -0.9516\n",
      "4.5000 20.2500 -0.9775\n",
      "4.6000 21.1600 -0.9937\n",
      "4.7000 22.0900 -0.9999\n",
      "4.8000 23.0400 -0.9962\n",
      "4.9000 24.0100 -0.9825\n",
      "5.0000 25.0000 -0.9589\n",
      "5.1000 26.0100 -0.9258\n",
      "5.2000 27.0400 -0.8835\n",
      "5.3000 28.0900 -0.8323\n",
      "5.4000 29.1600 -0.7728\n",
      "5.5000 30.2500 -0.7055\n",
      "5.6000 31.3600 -0.6313\n",
      "5.7000 32.4900 -0.5507\n",
      "5.8000 33.6400 -0.4646\n",
      "5.9000 34.8100 -0.3739\n",
      "6.0000 36.0000 -0.2794\n",
      "6.1000 37.2100 -0.1822\n",
      "6.2000 38.4400 -0.0831\n",
      "6.3000 39.6900 0.0168\n",
      "6.4000 40.9600 0.1165\n",
      "6.5000 42.2500 0.2151\n",
      "6.6000 43.5600 0.3115\n",
      "6.7000 44.8900 0.4048\n",
      "6.8000 46.2400 0.4941\n",
      "6.9000 47.6100 0.5784\n",
      "7.0000 49.0000 0.6570\n",
      "7.1000 50.4100 0.7290\n",
      "7.2000 51.8400 0.7937\n",
      "7.3000 53.2900 0.8504\n",
      "7.4000 54.7600 0.8987\n",
      "7.5000 56.2500 0.9380\n",
      "7.6000 57.7600 0.9679\n",
      "7.7000 59.2900 0.9882\n",
      "7.8000 60.8400 0.9985\n",
      "7.9000 62.4100 0.9989\n",
      "8.0000 64.0000 0.9894\n",
      "8.1000 65.6100 0.9699\n",
      "8.2000 67.2400 0.9407\n",
      "8.3000 68.8900 0.9022\n",
      "8.4000 70.5600 0.8546\n",
      "8.5000 72.2500 0.7985\n",
      "8.6000 73.9600 0.7344\n",
      "8.7000 75.6900 0.6630\n",
      "8.8000 77.4400 0.5849\n",
      "8.9000 79.2100 0.5010\n",
      "9.0000 81.0000 0.4121\n",
      "9.1000 82.8100 0.3191\n",
      "9.2000 84.6400 0.2229\n",
      "9.3000 86.4900 0.1245\n",
      "9.4000 88.3600 0.0248\n",
      "9.5000 90.2500 -0.0752\n",
      "9.6000 92.1600 -0.1743\n",
      "9.7000 94.0900 -0.2718\n",
      "9.8000 96.0400 -0.3665\n",
      "9.9000 98.0100 -0.4575\n"
     ]
    }
   ],
   "source": [
    "with open(\"data.txt\", mode=\"r\") as f:\n",
    "    csvreader=csv.DictReader(f,delimiter=\"\\t\")\n",
    "    for row in csvreader:\n",
    "        print(row[\"tiempo\"],row[\"x\"],row[\"y\"])\n",
    "        "
   ]
  },
  {
   "cell_type": "markdown",
   "metadata": {},
   "source": [
    "**Parámetros reader opcionales de Python CSV**<br>\n",
    "El objeto **reader** puede manejar diferentes estilos de archivos CSV especificando parámetros adicionales , algunos de los cuales se muestran a continuación:\n",
    "\n",
    "**delimiter:** Especifica el carácter utilizado para separar cada campo. El valor predeterminado es la coma ( ',').\n",
    "\n",
    "**quotechar:** Especifica el carácter utilizado para rodear los campos que contienen el carácter delimitador. \n",
    "El valor predeterminado es una comilla doble ( ' \" ').\n",
    "\n",
    "**escapechar:** Especifica el carácter utilizado para escapar del carácter delimitador, en caso de que no se usen comillas. El valor predeterminado es sin caracteres de escape."
   ]
  },
  {
   "cell_type": "markdown",
   "metadata": {},
   "source": [
    "**Escribir archivos CSV con csv**<br>\n",
    "También puede escribir en un archivo CSV utilizando un objeto **writer** y el método **.write_row()**: "
   ]
  },
  {
   "cell_type": "code",
   "execution_count": 54,
   "metadata": {},
   "outputs": [],
   "source": [
    "with open('employee_file.csv', mode='w') as employee_file:\n",
    "    employee_writer = csv.writer(employee_file, delimiter=',', quotechar='\"', quoting=csv.QUOTE_MINIMAL)\n",
    "\n",
    "    employee_writer.writerow(['John Smith', 'Accounting', 'November'])\n",
    "    employee_writer.writerow(['Erica Meyers', 'IT', 'March'])"
   ]
  },
  {
   "cell_type": "markdown",
   "metadata": {},
   "source": [
    "El parámetro **quotechar** opcional le indica **writer** qué carácter usar para citar campos al escribir. Sin embargo, si las comillas se usan o no, está determinado por el parámetro opcional **quoting**:<br>\n",
    "\n",
    "Si **quoting** se establece en **csv.QUOTE_MINIMAL**, entonces **.writerow()** citará los campos solo si contienen el **delimiter** o el **quotechar**. Este es el caso predeterminado.<br>\n",
    "Si **quoting** se establece en csv.QUOTE_ALL, entonces .writerow()cotizará todos los campos.<br>\n",
    "Si **quoting** se establece en **csv.QUOTE_NONNUMERIC**, entonces **.writerow()** citará todos los campos que contienen datos de texto y convertirá todos los campos numéricos al tipo float de datos.<br>\n",
    "Si **quoting** se establece en **csv.QUOTE_NONE**, entonces **.writerow()** escapará delimitadores en lugar de citarlos. En este caso, también debe proporcionar un valor para el parámetro **escapechar** opcional."
   ]
  },
  {
   "cell_type": "markdown",
   "metadata": {},
   "source": [
    "**Escribir archivo CSV desde un diccionario con csv<br>**\n",
    "Como puede leer nuestros datos en un diccionario, es justo que también pueda escribirlos desde un diccionario:"
   ]
  },
  {
   "cell_type": "code",
   "execution_count": 55,
   "metadata": {},
   "outputs": [],
   "source": [
    "with open('employee_file2.csv', mode='w') as csv_file:\n",
    "    fieldnames = ['emp_name', 'dept', 'birth_month']\n",
    "    writer = csv.DictWriter(csv_file, fieldnames=fieldnames)\n",
    "\n",
    "    writer.writeheader()\n",
    "    writer.writerow({'emp_name': 'John Smith', 'dept': 'Accounting', 'birth_month': 'November'})\n",
    "    writer.writerow({'emp_name': 'Erica Meyers', 'dept': 'IT', 'birth_month': 'March'})"
   ]
  },
  {
   "cell_type": "markdown",
   "metadata": {},
   "source": [
    "A diferencia **DictReader**, el parámetro **fieldnames** es obligatorio al escribir un diccionario. Esto tiene sentido, cuando lo piensa: sin una lista de **fieldnames**, **DictWriter** no puede saber qué teclas usar para recuperar valores de sus diccionarios. También usa las teclas **fieldnames** para escribir la primera fila como nombres de columna."
   ]
  },
  {
   "cell_type": "markdown",
   "metadata": {},
   "source": [
    "**Análisis de archivos CSV con la biblioteca pandas.<br>**\n",
    "Por supuesto, la biblioteca Python CSV no es el único juego en la ciudad. Con pandas también es posible leer archivos CSV . Es muy recomendable si tiene muchos datos para analizar.\n",
    "\n",
    "Pandas es una biblioteca de Python de código abierto que proporciona herramientas de análisis de datos de alto rendimiento y estructuras de datos fáciles de usar. pandas está disponible para todas las instalaciones de Python, pero es una parte clave de la distribución de Anaconda y funciona extremadamente bien en los cuadernos Jupyter para compartir datos, código, resultados de análisis, visualizaciones y texto narrativo."
   ]
  },
  {
   "cell_type": "markdown",
   "metadata": {},
   "source": [
    "**Lectura de archivos CSV con pandas**<br>\n",
    "Para mostrar algo del poder de las capacidades  CSV pandas, he creado un archivo un poco más complicado de leer, llamado hrdata.csv. Contiene datos sobre empleados de la empresa:"
   ]
  },
  {
   "cell_type": "markdown",
   "metadata": {},
   "source": [
    "**Leer el CSV en un pandas DataFramees rápido y sencillo:<br>**"
   ]
  },
  {
   "cell_type": "code",
   "execution_count": 63,
   "metadata": {},
   "outputs": [
    {
     "name": "stdout",
     "output_type": "stream",
     "text": [
      "             Name Hire Date   Salary  Sick Days remaining\n",
      "0  Graham Chapman  03/15/14  50000.0                   10\n",
      "1     John Cleese  06/01/15  65000.0                    8\n",
      "2       Eric Idle  05/12/14  45000.0                   10\n",
      "3     Terry Jones  11/01/13  70000.0                    3\n",
      "4   Terry Gilliam  08/12/14  48000.0                    7\n",
      "5   Michael Palin  05/23/13  66000.0                    8\n"
     ]
    }
   ],
   "source": [
    "import pandas\n",
    "df = pandas.read_csv('hrdata.csv')\n",
    "print(df)"
   ]
  },
  {
   "cell_type": "markdown",
   "metadata": {},
   "source": [
    "Eso es todo: tres líneas de código, y solo una de ellas está haciendo el trabajo real **pandas.read_csv()** abre, analiza y lee el archivo CSV proporcionado y almacena los datos en un DataFrame."
   ]
  },
  {
   "cell_type": "markdown",
   "metadata": {},
   "source": [
    "Aquí hay algunos puntos que vale la pena señalar:<br>\n",
    "\n",
    "Primero, pandas reconoció que la primera línea del CSV contenía nombres de columna y los usó automáticamente. Yo llamo a esto bondad.<br>\n",
    "Sin embargo, pandas también está utilizando índices enteros basados en cero en el DataFrame. Eso es porque no le dijimos cuál debería ser nuestro índice.<br>\n",
    "Además, si observa los tipos de datos de nuestras columnas, verá que pandas ha convertido correctamente las columnas Salary y Sick Days remaining a números, pero la columna Hire Date sigue siendo a String. Esto se confirma fácilmente en modo interactivo:"
   ]
  },
  {
   "cell_type": "code",
   "execution_count": 65,
   "metadata": {},
   "outputs": [
    {
     "name": "stdout",
     "output_type": "stream",
     "text": [
      "<class 'str'>\n"
     ]
    }
   ],
   "source": [
    "print(type(df['Hire Date'][0]))"
   ]
  },
  {
   "cell_type": "markdown",
   "metadata": {},
   "source": [
    "Abordemos estos problemas mas adelante. Para usar una columna diferente como índice DataFrame, agregue el parámetro **index_col opcional**:"
   ]
  },
  {
   "cell_type": "code",
   "execution_count": 68,
   "metadata": {},
   "outputs": [
    {
     "name": "stdout",
     "output_type": "stream",
     "text": [
      "               Hire Date   Salary  Sick Days remaining\n",
      "Name                                                  \n",
      "Graham Chapman  03/15/14  50000.0                   10\n",
      "John Cleese     06/01/15  65000.0                    8\n",
      "Eric Idle       05/12/14  45000.0                   10\n",
      "Terry Jones     11/01/13  70000.0                    3\n",
      "Terry Gilliam   08/12/14  48000.0                    7\n",
      "Michael Palin   05/23/13  66000.0                    8\n"
     ]
    }
   ],
   "source": [
    "df = pandas.read_csv('hrdata.csv', index_col='Name')\n",
    "print(df)"
   ]
  },
  {
   "cell_type": "markdown",
   "metadata": {},
   "source": [
    "Ahora el campo **Name** es nuestro índice DataFrame"
   ]
  },
  {
   "cell_type": "markdown",
   "metadata": {},
   "source": [
    "A continuación, arreglemos el tipo de datos del campo **Hire Date**. Puede forzar la lectura pandas de datos como una fecha con el parámetro **parse_dates** opcional, que se define como una lista de nombres de columna para tratar como fechas:"
   ]
  },
  {
   "cell_type": "code",
   "execution_count": 69,
   "metadata": {},
   "outputs": [
    {
     "name": "stdout",
     "output_type": "stream",
     "text": [
      "                Hire Date   Salary  Sick Days remaining\n",
      "Name                                                   \n",
      "Graham Chapman 2014-03-15  50000.0                   10\n",
      "John Cleese    2015-06-01  65000.0                    8\n",
      "Eric Idle      2014-05-12  45000.0                   10\n",
      "Terry Jones    2013-11-01  70000.0                    3\n",
      "Terry Gilliam  2014-08-12  48000.0                    7\n",
      "Michael Palin  2013-05-23  66000.0                    8\n"
     ]
    }
   ],
   "source": [
    "df = pandas.read_csv('hrdata.csv', index_col='Name', parse_dates=['Hire Date'])\n",
    "print(df)"
   ]
  },
  {
   "cell_type": "markdown",
   "metadata": {},
   "source": [
    "La fecha ahora está formateada correctamente, lo que se confirma fácilmente en modo interactivo:"
   ]
  },
  {
   "cell_type": "code",
   "execution_count": 72,
   "metadata": {},
   "outputs": [
    {
     "name": "stdout",
     "output_type": "stream",
     "text": [
      "<class 'pandas._libs.tslibs.timestamps.Timestamp'>\n"
     ]
    }
   ],
   "source": [
    "print(type(df['Hire Date'][0]))"
   ]
  },
  {
   "cell_type": "markdown",
   "metadata": {},
   "source": [
    "Si sus archivos CSV no tienen nombres de columna en la primera línea, puede usar el parámetro **names** opcional para proporcionar una lista de nombres de columna. También puede usar esto si desea anular los nombres de columna proporcionados en la primera línea. En este caso, también debe indicar **pandas.read_csv()** que ignore los nombres de columna existentes utilizando el parámetro **header=0** opcional:"
   ]
  },
  {
   "cell_type": "code",
   "execution_count": 73,
   "metadata": {},
   "outputs": [
    {
     "name": "stdout",
     "output_type": "stream",
     "text": [
      "                    Hired   Salary  Sick Days\n",
      "Employee                                     \n",
      "Graham Chapman 2014-03-15  50000.0         10\n",
      "John Cleese    2015-06-01  65000.0          8\n",
      "Eric Idle      2014-05-12  45000.0         10\n",
      "Terry Jones    2013-11-01  70000.0          3\n",
      "Terry Gilliam  2014-08-12  48000.0          7\n",
      "Michael Palin  2013-05-23  66000.0          8\n"
     ]
    }
   ],
   "source": [
    "df = pandas.read_csv('hrdata.csv', \n",
    "            index_col='Employee', \n",
    "            parse_dates=['Hired'], \n",
    "            header=0, \n",
    "            names=['Employee', 'Hired','Salary', 'Sick Days'])\n",
    "print(df)"
   ]
  },
  {
   "cell_type": "markdown",
   "metadata": {},
   "source": [
    "Observe que, dado que los nombres de las columnas cambiaron, las columnas especificadas en los parámetros opcionales **index_col** y **parse_dates** también deben cambiarse. "
   ]
  },
  {
   "cell_type": "markdown",
   "metadata": {},
   "source": [
    "**Escribir archivos CSV con pandas**<br>\n",
    "Por supuesto, si no puede recuperar sus datos de pandas nuevamente, no le hará mucho bien. Escribir un archivo DataFrame CSV es tan fácil como leer uno. Vamos a escribir los datos con los nuevos nombres de columna en un nuevo archivo CSV:"
   ]
  },
  {
   "cell_type": "code",
   "execution_count": 74,
   "metadata": {},
   "outputs": [],
   "source": [
    "df = pandas.read_csv('hrdata.csv', \n",
    "            index_col='Employee', \n",
    "            parse_dates=['Hired'],\n",
    "            header=0, \n",
    "            names=['Employee', 'Hired', 'Salary', 'Sick Days'])\n",
    "df.to_csv('hrdata_modified.csv')"
   ]
  },
  {
   "cell_type": "markdown",
   "metadata": {},
   "source": [
    "La única diferencia entre este código y el código de lectura anterior es que **print(df)** se reemplazó por la llamada **df.to_csv()**, proporcionando el nombre del archivo. "
   ]
  },
  {
   "cell_type": "markdown",
   "metadata": {},
   "source": [
    "<a name=\"item4\"></a>\n",
    "### Scraping web\n",
    "<img src=\"data:image/png;base64,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\">\n",
    "<img src=\"https://www.antevenio.com/wp-content/uploads/2019/03/web-scraping-service.png\">"
   ]
  },
  {
   "cell_type": "markdown",
   "metadata": {},
   "source": [
    "Otra forma de obtener datos es rasparlos de las páginas web. Resulta que buscar páginas web es bastante fácil; obteniendo información estructurada significativa de ellos no tanto."
   ]
  },
  {
   "cell_type": "markdown",
   "metadata": {},
   "source": [
    "HTML y su análisis\n",
    "Las páginas en la Web están escritas en HTML, en el que el texto está (idealmente) marcado en elementos y sus atributos"
   ]
  },
  {
   "cell_type": "markdown",
   "metadata": {},
   "source": [
    "En un mundo perfecto, donde todas las páginas web están marcadas semánticamente para nuestro beneficio, podríamos extraer datos utilizando reglas como \"encontrar el elemento <p> cuyo ID está sujeto y devolver el texto que contiene\". En el mundo real, HTML generalmente no está bien formado, y mucho menos anotado. Esto significa que necesitaremos ayuda para darle sentido.\n",
    "Para obtener datos de HTML, utilizaremos la biblioteca BeautifulSoup, que construye un árbol a partir de los diversos elementos en una página web y proporciona una interfaz simple para acceder a ellos."
   ]
  }
 ],
 "metadata": {
  "kernelspec": {
   "display_name": "Python 3",
   "language": "python",
   "name": "python3"
  },
  "language_info": {
   "codemirror_mode": {
    "name": "ipython",
    "version": 3
   },
   "file_extension": ".py",
   "mimetype": "text/x-python",
   "name": "python",
   "nbconvert_exporter": "python",
   "pygments_lexer": "ipython3",
   "version": "3.6.9"
  }
 },
 "nbformat": 4,
 "nbformat_minor": 4
}
