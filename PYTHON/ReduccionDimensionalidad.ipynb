{
 "cells": [
  {
   "cell_type": "markdown",
   "metadata": {},
   "source": [
    "<h1>Reduccion de la dimensionalidad(algoritmos de machine learning)</h1>\n",
    "<img src=\"https://ichef.bbci.co.uk/news/976/cpsprodpb/8F52/production/_102409663_cubo-raro.jpg\">"
   ]
  },
  {
   "cell_type": "markdown",
   "metadata": {},
   "source": [
    "Muchos problemas de aprendizaje automático implican miles o incluso millones de funciones para cada instancia de capacitación. Esto no solo hace que el entrenamiento sea extremadamente lento, también puede hacer que sea mucho más difícil encontrar una buena solución, como veremos. Este problema a menudo se conoce como la maldición de la dimensionalidad."
   ]
  },
  {
   "cell_type": "markdown",
   "metadata": {},
   "source": [
    "La reducción de la dimensionalidad pierde cierta información (al igual que comprimir una imagen a JPEG puede degradar su calidad), por lo que<b> aunque acelere el entrenamiento, también puede hacer que su sistema tenga un rendimiento algo peor.</b> También hace que sus tuberías sean un poco más complejas y, por lo tanto, más difíciles de mantener. Por lo tanto, primero debe intentar entrenar su sistema con los datos originales antes de considerar el uso de la reducción de dimensionalidad si el entrenamiento es demasiado lento. Sin embargo, en algunos casos, <b>la reducción de la dimensionalidad de los datos de entrenamiento puede filtrar algunos ruidos y detalles innecesarios y, por lo tanto, dar como resultado un mayor rendimiento (pero en general no lo hará, solo acelerará el entrenamiento).</b><br>\n",
    "Además de acelerar el entrenamiento, <b>la reducción de la dimensionalidad también es extremadamente útil para la visualización de datos (o DataViz). Reducir el número de dimensiones a dos (o tres) hace posible trazar un conjunto de entrenamiento de alta dimensión en un gráfico y, a menudo, obtener algunas ideas importantes mediante la detección visual de patrones, como los grupos."
   ]
  },
  {
   "cell_type": "markdown",
   "metadata": {},
   "source": [
    "Presentaremos los dos enfoques principales para la reducción de dimensionalidad:<br>\n",
    "<b>-Proyección y <br>\n",
    "-Aprendizaje múltiple<br></b>\n",
    "veremos tres de las técnicas de reducción de dimensionalidad más populares:<br>\n",
    "<b>PCA <br>\n",
    "Kernel PCA y <br>\n",
    "LLE.<b>"
   ]
  },
  {
   "cell_type": "markdown",
   "metadata": {},
   "source": [
    "<b>Principales enfoques para la reducción de la dimensionalidad</b><br>\n",
    "Antes de sumergirnos en algoritmos específicos de reducción de dimensionalidad, echemos un vistazo a los dos enfoques principales para reducir la dimensionalidad: la proyección y el aprendizaje múltiple."
   ]
  },
  {
   "cell_type": "markdown",
   "metadata": {},
   "source": [
    "<b>Proyección</b><br>\n",
    "<img src=\"https://upload.wikimedia.org/wikipedia/commons/9/91/Somtraining.svg\">\n",
    "En la mayoría de los problemas del mundo real, las instancias de capacitación no se distribuyen uniformemente en todas las dimensiones. Muchas características son casi constantes, mientras que otras están altamente correlacionadas (como se explicó anteriormente para MNIST). Como resultado, todas las instancias de entrenamiento realmente se encuentran dentro (o cerca de) un subespacio mucho más bajo del espacio de alta dimensión. Esto suena muy abstracto, así que veamos un ejemplo."
   ]
  },
  {
   "cell_type": "markdown",
   "metadata": {},
   "source": [
    "Observe que todas las instancias de entrenamiento se encuentran cerca de un plano: este es un subespacio de dimensión inferior (2D) del espacio de alta dimensión (3D). Ahora, si proyectamos cada instancia de entrenamiento perpendicularmente en este subespacio (representado por las líneas cortas que conectan las instancias al plano), obtendremos el nuevo conjunto de datos 2D"
   ]
  },
  {
   "cell_type": "markdown",
   "metadata": {},
   "source": [
    "Sin embargo, la proyección no es siempre el mejor enfoque para la reducción de la dimensionalidad. En muchos casos, el subespacio puede girar y girar, como en el famoso conjunto de datos de juguetes de rollo suizo.\n",
    "El simple hecho de proyectar sobre un plano  aplastará diferentes capas del rollo suizo, como se muestra a la izquierda de la Figura . Sin embargo, lo que realmente desea es desenrollar el rollo suizo para obtener el conjunto de datos 2D a la derecha"
   ]
  },
  {
   "cell_type": "markdown",
   "metadata": {},
   "source": [
    "<img src=\"https://www.researchgate.net/profile/John_Burgoyne2/publication/200688576/figure/fig1/AS:305995638165506@1449966453759/The-Swiss-roll-data-set-On-the-left-the-data-is-presented-in-its-original-form-On.png\">"
   ]
  },
  {
   "cell_type": "markdown",
   "metadata": {},
   "source": [
    "<b>Aprendizaje múltiple (Manifold Learning)</b><br>\n",
    "El rollo suizo es un ejemplo de una variedad 2D. En pocas palabras, una variedad 2D es una forma 2D que se puede doblar y torcer en un espacio de dimensión superior. De manera más general, una variedad d-dimensional es una parte de un espacio n-dimensional (donde d <n) que se asemeja localmente a un hiperplano d dimensional. En el caso del rollo suizo, d = 2 y n = 3: se asemeja localmente a un plano 2D, pero se rueda en la tercera dimensión.\n",
    "Muchos algoritmos de reducción de dimensionalidad funcionan modelando la variedad en la que se encuentran las instancias de entrenamiento; Esto se llama aprendizaje múltiple.  Se basa en la hipótesis múltiple, también llamada hipótesis múltiple (manifold hypothesis), que sostiene que la mayoría de los conjuntos de datos de alta dimensión del mundo real se encuentran cerca de una variedad mucho más baja. Este supuesto es muy a menudo observado empíricamente."
   ]
  },
  {
   "cell_type": "markdown",
   "metadata": {},
   "source": [
    "La hipotesis múltiple a menudo se acompaña de otro supuesto implícito: que la tarea en cuestión (por ejemplo, la clasificación o regresión) será más simple si se expresa en el espacio dimensional inferior del múltiple. Por ejemplo, en la fila superior de la Figura 8-6, el rollo suizo se divide en dos clases: en el espacio 3D (a la izquierda), el límite de decisión sería bastante complejo, pero en el espacio múltiple 2D desenrollado (a la derecha) ), el límite de decisión es una línea recta simple.<br>\n",
    "Sin embargo, esta suposición no siempre se mantiene. Por ejemplo, en la fila inferior de la Figura 8-6, el límite de decisión se ubica en x1 = 5. Este límite de decisión parece muy simple en el espacio 3D original (un plano vertical), pero se ve más complejo en la variedad desenrollada ( una colección de cuatro segmentos de línea independientes)"
   ]
  },
  {
   "cell_type": "markdown",
   "metadata": {},
   "source": [
    "<b>En resumen, si reduce la dimensionalidad de su conjunto de entrenamiento antes de entrenar un modelo, definitivamente acelerará el entrenamiento, pero no siempre puede llevar a una solución mejor o más simple; Todo depende del conjunto de datos."
   ]
  },
  {
   "cell_type": "markdown",
   "metadata": {},
   "source": [
    "<b>PCA</b><br>\n",
    "El análisis de componentes principales (PCA) es, con mucho, el algoritmo de reducción de dimensionalidad más popular. Primero, identifica el hiperplano que se encuentra más cerca de los datos, y luego proyecta los datos en él."
   ]
  },
  {
   "cell_type": "markdown",
   "metadata": {},
   "source": [
    "<b>Preservando la Varianza</b><br>\n",
    "Antes de poder proyectar el conjunto de entrenamiento en un hiperplano de dimensión inferior, primero debe elegir el hiperplano correcto. Por ejemplo, un conjunto de datos 2D simple se representa a la izquierda de la Figura 8-7, junto con tres ejes diferentes (es decir, hiperplanos unidimensionales). A la derecha está el resultado de la proyección del conjunto de datos sobre cada uno de estos ejes. Como puede ver, la proyección sobre la línea continua conserva la varianza máxima, mientras que la proyección sobre la línea de puntos conserva muy poca varianza, y la proyección sobre la línea de puntos conserva una cantidad intermedia de varianza."
   ]
  },
  {
   "cell_type": "markdown",
   "metadata": {},
   "source": [
    "<img src=\"data:image/jpeg;base64,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\">"
   ]
  },
  {
   "cell_type": "markdown",
   "metadata": {},
   "source": [
    "Parece razonable seleccionar el eje que conserva la cantidad máxima de variación, ya que lo más probable es que pierda menos información que las otras proyecciones. Otra forma de justificar esta elección es que es el eje que minimiza la distancia al cuadrado media entre el conjunto de datos original y su proyección en ese eje. Esta es la idea bastante simple detrás de PCA."
   ]
  },
  {
   "cell_type": "markdown",
   "metadata": {},
   "source": [
    "<b>Componentes principales<b><br>\n",
    "PCA identifica el eje que representa la mayor cantidad de variación en el conjunto de entrenamiento. En la figura 8-7, es la línea continua. También encuentra un segundo eje, ortogonal al primero, que representa la mayor cantidad de variación restante. En este ejemplo 2D no hay opción: es la línea de puntos. Si se tratara de un conjunto de datos de mayor dimensión, PCA también encontraría un tercer eje, ortogonal a los dos ejes anteriores, y un cuarto, un quinto, etc., tantos ejes como el número de dimensiones en el conjunto de datos."
   ]
  },
  {
   "cell_type": "markdown",
   "metadata": {},
   "source": [
    "El vector unitario que define el eje i se llama el componente principal (PC). En la Figura 8-7, la primera PC es c1 y la segunda PC es c2."
   ]
  },
  {
   "cell_type": "markdown",
   "metadata": {},
   "source": [
    "La dirección de los componentes principales no es estable: si perturba ligeramente el conjunto de entrenamiento y ejecuta PCA nuevamente, algunas de las PC nuevas pueden apuntar en la dirección opuesta a las PC originales. Sin embargo, por lo general, todavía se encuentran en los mismos ejes. En algunos casos, un par de PC puede incluso rotar o intercambiar, pero el plano que definen generalmente seguirá siendo el mismo.<br>\n",
    "Entonces, ¿cómo puedes encontrar los componentes principales de un conjunto de entrenamiento? Afortunadamente, existe una técnica de factorización de matriz estándar llamada Descomposición de Valor Singular (SVD) que puede descomponer la matriz de conjunto de entrenamiento X en el producto de puntos de tres matrices U · Σ · VT, donde VT contiene todos los componentes principales que estamos buscando. "
   ]
  },
  {
   "cell_type": "markdown",
   "metadata": {},
   "source": [
    "<b>Descomposicion de valor singular (SVD)</b><br>\n",
    "En álgebra lineal, la descomposición en valores singulares de una matriz real o compleja es una factorización de la misma con muchas aplicaciones en estadística y otras disciplinas.\n",
    "Dada una matriz real X E R m * n los autovalores de la matriz cuadrada, simétrica y semidefinida positiva XT * X E Rnn son siempre reales y mayores o iguales a cero.\n",
    "Una SVD de X es una factorización del tipo X=U · Σ · VT donde U E Rmm,V E Rnn y son ortoganales Σ E Rmn es una matriz formada con los valores singulares o autovalores de X ordenados de mayor a menos y con ningun nulo y que se enceuntran en la diagonal. V E Rnn es una matriz ortogonal formada por los vectores propios de AT·A y U E Rmm es una matriz ortogonal formada por (A·V)/Σ de esta manera obtenemos la descomposicion de A en valores singulares"
   ]
  },
  {
   "cell_type": "markdown",
   "metadata": {},
   "source": [
    "El siguiente código de Python utiliza la función svd () de NumPy para obtener todos los componentes principales del conjunto de entrenamiento, luego extrae las dos primeras PC:"
   ]
  },
  {
   "cell_type": "code",
   "execution_count": 91,
   "metadata": {},
   "outputs": [
    {
     "name": "stdout",
     "output_type": "stream",
     "text": [
      "[[0.80918262 0.06569875 0.30185944]\n",
      " [0.14179397 0.08875163 0.04074932]\n",
      " [0.17671778 0.80940168 0.23534488]\n",
      " [0.09145732 0.89988658 0.99218271]\n",
      " [0.23542007 0.05273265 0.16085672]]\n",
      "[-0.28707096  0.75966335  0.58352537]\n",
      "[-0.79978381  0.14518227 -0.58246714]\n",
      "[[-0.28707096 -0.79978381 -0.52719648]\n",
      " [ 0.75966335  0.14518227 -0.63390354]\n",
      " [ 0.58352537 -0.58246714  0.56588883]]\n"
     ]
    }
   ],
   "source": [
    "import numpy as np\n",
    "X=np.random.random((5,3))\n",
    "print(X)\n",
    "X_centered = X - X.mean(axis=0)\n",
    "U, s, V = np.linalg.svd(X_centered)\n",
    "c1 = V.T[:, 0]\n",
    "c2 = V.T[:, 1]\n",
    "print(c1)\n",
    "print(c2)\n",
    "print(V.T)"
   ]
  },
  {
   "cell_type": "markdown",
   "metadata": {},
   "source": [
    "<b>PCA asume que el conjunto de datos está centrado alrededor del origen. Como veremos, las clases de PCA de Scikit-Learn se ocupan de centrar los datos por usted. Sin embargo, si implementa PCA (como en el ejemplo anterior), o si usa otras bibliotecas, no olvide centrar los datos primero."
   ]
  },
  {
   "cell_type": "markdown",
   "metadata": {},
   "source": [
    "Proyectando abajo a d dimensiones\n",
    "Una vez que haya identificado todos los componentes principales, puede reducir la dimensionalidad del conjunto de datos hasta las dimensiones d proyectándola en el hiperplano definido por los primeros componentes principales d. La selección de este hiperplano garantiza que la proyección conservará la mayor variación posible. Por ejemplo, en la Figura 8-2, el conjunto de datos 3D se proyecta hasta el plano 2D definido por los dos primeros componentes principales, preservando una gran parte de la varianza del conjunto de datos. Como resultado, la proyección 2D se parece mucho al conjunto de datos 3D original."
   ]
  },
  {
   "cell_type": "markdown",
   "metadata": {},
   "source": [
    "Para proyectar el conjunto de entrenamiento en el hiperplano, simplemente puede calcular el producto punto de la matriz de conjunto de entrenamiento X mediante la matriz Wd, definida como la matriz que contiene los primeros componentes principales d (es decir, la matriz compuesta de las primeras columnas d de VT). ), como se muestra en la ecuación (Xpro)md = (Xmn)(Wnd) donde d<n"
   ]
  },
  {
   "cell_type": "code",
   "execution_count": 92,
   "metadata": {},
   "outputs": [
    {
     "name": "stdout",
     "output_type": "stream",
     "text": [
      "[[-0.41591847 -0.43478569]\n",
      " [-0.35918252  0.25441588]\n",
      " [ 0.29179474  0.21776447]\n",
      " [ 0.82664268 -0.14174196]\n",
      " [-0.34333644  0.10434731]]\n"
     ]
    }
   ],
   "source": [
    "W2 = V.T[:, :2]\n",
    "X2D = X_centered.dot(W2)\n",
    "print(X2D)"
   ]
  },
  {
   "cell_type": "markdown",
   "metadata": {},
   "source": [
    "¡Ahí tienes! Ahora sabe cómo reducir la dimensionalidad de cualquier conjunto de datos a cualquier número de dimensiones, al tiempo que conserva la mayor variación posible"
   ]
  },
  {
   "cell_type": "markdown",
   "metadata": {},
   "source": [
    "Utilizando Scikit-Learn\n",
    "La clase de PCA de Scikit-Learn implementa PCA utilizando la descomposición SVD como lo hicimos antes. El siguiente código aplica PCA para reducir la dimensionalidad del conjunto de datos a dos dimensiones (tenga en cuenta que automáticamente se encarga de centrar los datos): "
   ]
  },
  {
   "cell_type": "code",
   "execution_count": 93,
   "metadata": {
    "scrolled": true
   },
   "outputs": [
    {
     "name": "stdout",
     "output_type": "stream",
     "text": [
      "[[-0.41591847  0.43478569]\n",
      " [-0.35918252 -0.25441588]\n",
      " [ 0.29179474 -0.21776447]\n",
      " [ 0.82664268  0.14174196]\n",
      " [-0.34333644 -0.10434731]]\n"
     ]
    }
   ],
   "source": [
    "from sklearn.decomposition import PCA\n",
    "pca = PCA(n_components = 2)\n",
    "X2D = pca.fit_transform(X)\n",
    "print(X2D)"
   ]
  },
  {
   "cell_type": "markdown",
   "metadata": {},
   "source": [
    "Después de ajustar el transformador de PCA al conjunto de datos, puede acceder a los componentes principales utilizando la variable components_ (tenga en cuenta que contiene las PC como vectores horizontales, por lo que, por ejemplo, el primer componente principal es igual a pca.components_.T [:, 0])"
   ]
  },
  {
   "cell_type": "markdown",
   "metadata": {},
   "source": [
    "Relación de varianza explicada\n",
    "Otra pieza muy útil de información es la relación de varianza explicada de cada componente principal, disponible a través de la variable explaned_variance_ratio_. Indica la proporción de la varianza del conjunto de datos que se encuentra a lo largo del eje de cada componente principal.\n",
    "Por ejemplo, veamos las relaciones de varianza explicadas de los dos primeros componentes del conjunto de datos 3D representado"
   ]
  },
  {
   "cell_type": "code",
   "execution_count": 94,
   "metadata": {},
   "outputs": [
    {
     "name": "stdout",
     "output_type": "stream",
     "text": [
      "[0.719665   0.20115802]\n"
     ]
    }
   ],
   "source": [
    "print(pca.explained_variance_ratio_)"
   ]
  },
  {
   "cell_type": "markdown",
   "metadata": {},
   "source": [
    "Esto le indica que el 84.2% de la varianza del conjunto de datos se encuentra a lo largo del primer eje y el 14.6% a lo largo del segundo eje. Esto deja menos de 1.2% para el tercer eje, por lo que es razonable suponer que probablemente contiene poca información."
   ]
  },
  {
   "cell_type": "markdown",
   "metadata": {},
   "source": [
    "<b>Elegir el número correcto de dimensiones<br></b>\n",
    "En lugar de elegir arbitrariamente el número de dimensiones a reducir, generalmente es preferible elegir el número de dimensiones que se suman a una porción suficientemente grande de la varianza (por ejemplo, 95%). Por supuesto, a menos que esté reduciendo la dimensionalidad para la visualización de datos, en ese caso generalmente querrá reducir la dimensionalidad a 2 o 3"
   ]
  },
  {
   "cell_type": "markdown",
   "metadata": {},
   "source": [
    "El siguiente código calcula la PCA sin reducir la dimensionalidad, luego calcula el número mínimo de dimensiones necesarias para conservar el 95% de la varianza del conjunto de entrenamiento:"
   ]
  },
  {
   "cell_type": "code",
   "execution_count": 95,
   "metadata": {},
   "outputs": [],
   "source": [
    "pca = PCA()\n",
    "pca.fit(X)\n",
    "cumsum = np.cumsum(pca.explained_variance_ratio_)\n",
    "d = np.argmax(cumsum >= 0.95) + 1"
   ]
  },
  {
   "cell_type": "markdown",
   "metadata": {},
   "source": [
    "A continuación, puede establecer n_components = d y ejecutar PCA de nuevo. Sin embargo, hay una opción mucho mejor: en lugar de especificar el número de componentes principales que desea conservar, puede establecer que n_components sea una flotación entre 0.0 y 1.0, lo que indica la proporción de varianza que desea conservar:"
   ]
  },
  {
   "cell_type": "code",
   "execution_count": 96,
   "metadata": {},
   "outputs": [
    {
     "name": "stdout",
     "output_type": "stream",
     "text": [
      "[[-0.41591847  0.43478569  0.09699533]\n",
      " [-0.35918252 -0.25441588 -0.09247701]\n",
      " [ 0.29179474 -0.21776447  0.27263786]\n",
      " [ 0.82664268  0.14174196 -0.14323853]\n",
      " [-0.34333644 -0.10434731 -0.13391765]]\n"
     ]
    }
   ],
   "source": [
    "#opcion1\n",
    "pca = PCA(n_components=d)\n",
    "X2D = pca.fit_transform(X)\n",
    "print(X2D)"
   ]
  },
  {
   "cell_type": "code",
   "execution_count": 97,
   "metadata": {},
   "outputs": [
    {
     "name": "stdout",
     "output_type": "stream",
     "text": [
      "[[-0.41591847  0.43478569  0.09699533]\n",
      " [-0.35918252 -0.25441588 -0.09247701]\n",
      " [ 0.29179474 -0.21776447  0.27263786]\n",
      " [ 0.82664268  0.14174196 -0.14323853]\n",
      " [-0.34333644 -0.10434731 -0.13391765]]\n"
     ]
    }
   ],
   "source": [
    "#opcion2\n",
    "pca = PCA(n_components=0.95)\n",
    "X_reduced = pca.fit_transform(X)\n",
    "print(X_reduced)"
   ]
  },
  {
   "cell_type": "markdown",
   "metadata": {},
   "source": [
    "Otra opción más es trazar la varianza explicada en función del número de dimensiones (simplemente trazar la suma; ver Figura 8-8). Por lo general, habrá un codo en la curva, donde la variación explicada deja de crecer rápidamente. Puede pensar en esto como la dimensionalidad intrínseca del conjunto de datos. En este caso, puede ver que reducir la dimensionalidad a alrededor de 100 dimensiones no perdería la variación explicada.\n",
    "<img src=\"https://image.slidesharecdn.com/8-180514114339/95/dimensionality-reduction-machine-learning-cloudxlab-63-638.jpg?cb=1527755683\">"
   ]
  },
  {
   "cell_type": "markdown",
   "metadata": {},
   "source": [
    "<b>PCA para la compresión<br></b>\n",
    "Obviamente, después de la reducción de la dimensionalidad, el conjunto de entrenamiento ocupa mucho menos espacio.\n",
    "Por ejemplo, intente aplicar PCA al conjunto de datos MNIST mientras conserva el 95% de su varianza.\n",
    "Debería encontrar que cada instancia tendrá más de 150 funciones, en lugar de las 784 características originales. Entonces, aunque la mayor parte de la variación se conserva, ¡el conjunto de datos ahora tiene menos del 20% de su tamaño original! Esta es una relación de compresión razonable, y puede ver cómo esto puede acelerar un algoritmo de clasificación (como un clasificador SVM) enormemente."
   ]
  },
  {
   "cell_type": "markdown",
   "metadata": {},
   "source": [
    "<b>También es posible descomprimir el conjunto de datos reducido a 784 dimensiones aplicando la transformación inversa de la proyección de PCA. Por supuesto, esto no le devolverá los datos originales, ya que la proyección perdió un poco de información (dentro de la variación del 5% que se eliminó), pero probablemente estará bastante cerca de los datos originales."
   ]
  },
  {
   "cell_type": "markdown",
   "metadata": {},
   "source": [
    "La distancia cuadrática media entre los datos originales y los datos reconstruidos (comprimidos y luego descomprimidos) se denomina error de reconstrucción. Por ejemplo, el siguiente código comprime el conjunto de datos MNIST hasta 154 dimensiones, luego utiliza el método inverse_transform () para descomprimirlo de nuevo a 784 dimensiones."
   ]
  },
  {
   "cell_type": "code",
   "execution_count": 98,
   "metadata": {},
   "outputs": [],
   "source": [
    "from sklearn.datasets import fetch_openml\n",
    "mnist = fetch_openml('mnist_784')"
   ]
  },
  {
   "cell_type": "code",
   "execution_count": 99,
   "metadata": {},
   "outputs": [],
   "source": [
    "#puedo ver la ubicacion del modulo\n",
    "fetch_openml?"
   ]
  },
  {
   "cell_type": "code",
   "execution_count": 100,
   "metadata": {},
   "outputs": [
    {
     "name": "stdout",
     "output_type": "stream",
     "text": [
      "(70000, 784)\n",
      "(70000,)\n"
     ]
    },
    {
     "data": {
      "image/png": "[encoded data removed]",
      "text/plain": [
       "<Figure size 432x288 with 1 Axes>"
      ]
     },
     "metadata": {
      "needs_background": "light"
     },
     "output_type": "display_data"
    }
   ],
   "source": [
    "#print(mnist)\n",
    "X, y = mnist[\"data\"], mnist[\"target\"]\n",
    "print(X.shape)\n",
    "print(y.shape)\n",
    "%matplotlib inline\n",
    "import matplotlib\n",
    "import matplotlib.pyplot as plt\n",
    "some_digit = X[36000]\n",
    "some_digit_image = some_digit.reshape(28, 28)\n",
    "plt.imshow(some_digit_image, cmap = matplotlib.cm.binary,\n",
    "interpolation=\"nearest\")\n",
    "plt.axis(\"off\")\n",
    "plt.show()\n"
   ]
  },
  {
   "cell_type": "code",
   "execution_count": 101,
   "metadata": {},
   "outputs": [
    {
     "name": "stdout",
     "output_type": "stream",
     "text": [
      "(70000, 154)\n",
      "(154,)\n"
     ]
    },
    {
     "data": {
      "image/png": "[encoded data removed]",
      "text/plain": [
       "<Figure size 432x288 with 1 Axes>"
      ]
     },
     "metadata": {
      "needs_background": "light"
     },
     "output_type": "display_data"
    }
   ],
   "source": [
    "#haciendo reduccion de dimensionalidad\n",
    "pca = PCA(n_components = 154)\n",
    "X_mnist_reduced = pca.fit_transform(X)\n",
    "print(X_mnist_reduced.shape)\n",
    "some_digit = X_mnist_reduced [36000]\n",
    "print(some_digit .shape)\n",
    "some_digit_image = some_digit.reshape(14, 11)\n",
    "plt.imshow(some_digit_image, cmap = matplotlib.cm.binary,\n",
    "interpolation=\"nearest\")\n",
    "plt.axis(\"off\")\n",
    "plt.show()"
   ]
  },
  {
   "cell_type": "code",
   "execution_count": 102,
   "metadata": {
    "scrolled": true
   },
   "outputs": [
    {
     "name": "stdout",
     "output_type": "stream",
     "text": [
      "(70000, 154)\n"
     ]
    },
    {
     "data": {
      "image/png": "[encoded data removed]",
      "text/plain": [
       "<Figure size 432x288 with 1 Axes>"
      ]
     },
     "metadata": {
      "needs_background": "light"
     },
     "output_type": "display_data"
    }
   ],
   "source": [
    "#regresando a dimension original\n",
    "pca = PCA(n_components = 154)\n",
    "X_mnist_reduced = pca.fit_transform(X)\n",
    "print(X_mnist_reduced.shape)\n",
    "X_mnist_recovered = pca.inverse_transform(X_mnist_reduced)\n",
    "some_digit = X_mnist_recovered [36000]\n",
    "some_digit_image = some_digit.reshape(28, 28)\n",
    "plt.imshow(some_digit_image, cmap = matplotlib.cm.binary,\n",
    "interpolation=\"nearest\")\n",
    "plt.axis(\"off\")\n",
    "plt.show()"
   ]
  },
  {
   "cell_type": "markdown",
   "metadata": {},
   "source": [
    "muestra algunos dígitos del conjunto de entrenamiento original (a la izquierda) y los dígitos correspondientes después de la compresión y descompresión. Puede ver que hay una leve pérdida de calidad de imagen, pero los dígitos aún están casi intactos "
   ]
  },
  {
   "cell_type": "markdown",
   "metadata": {},
   "source": [
    "<b>Transformación inversa de PCA, de vuelta al número original de dimensiones<br></b>\n",
    "(Xrecons)mn=(Xpro)md(Wnd.T)\n"
   ]
  },
  {
   "cell_type": "markdown",
   "metadata": {},
   "source": [
    "<b>PCA incremental<br></b>\n",
    "Un problema con la implementación anterior de PCA es que requiere que todo el conjunto de entrenamiento se ajuste a la memoria para que se ejecute el algoritmo SVD. Afortunadamente, se han desarrollado algoritmos PCA incrementales (IPCA): puede dividir el conjunto de entrenamiento en mini lotes y alimentar un algoritmo IPCA de un mini lote a la vez. Esto es útil para grandes conjuntos de entrenamiento, y también para aplicar PCA en línea (es decir, sobre la marcha, a medida que llegan nuevas instancias).\n",
    "El siguiente código divide el conjunto de datos MNIST en 100 mini lotes (usando la función array_split () de NumPy) y los alimenta a la clase 5 de IncrementalPCA de Scikit-Learn para reducir la dimensionalidad del conjunto de datos MNIST a 154 dimensiones (como antes). Tenga en cuenta que debe llamar al método partial_fit () con cada mini lote en lugar del método fit () con todo el conjunto de entrenamiento:"
   ]
  },
  {
   "cell_type": "code",
   "execution_count": 103,
   "metadata": {},
   "outputs": [],
   "source": [
    "from sklearn.decomposition import IncrementalPCA\n",
    "n_batches = 100\n",
    "inc_pca = IncrementalPCA(n_components=154)\n",
    "for X_batch in np.array_split(X, n_batches):\n",
    "    inc_pca.partial_fit(X_batch)\n",
    "X_mnist_reduced = inc_pca.transform(X)"
   ]
  },
  {
   "cell_type": "markdown",
   "metadata": {},
   "source": [
    "Alternativamente, puede usar la clase memmap de NumPy, que le permite manipular una gran matriz almacenada en un archivo binario en el disco como si estuviera completamente en la memoria; la clase solo carga los datos que necesita en la memoria, cuando los necesita. Dado que la clase IncrementalPCA usa solo una pequeña parte de la matriz en un momento dado, el uso de la memoria permanece bajo control. Esto hace posible llamar el método habitual de ajuste (), como se puede ver en el siguiente código:"
   ]
  },
  {
   "cell_type": "code",
   "execution_count": 104,
   "metadata": {},
   "outputs": [
    {
     "ename": "NameError",
     "evalue": "name 'filename' is not defined",
     "output_type": "error",
     "traceback": [
      "\u001b[0;31m---------------------------------------------------------------------------\u001b[0m",
      "\u001b[0;31mNameError\u001b[0m                                 Traceback (most recent call last)",
      "\u001b[0;32m<ipython-input-104-e6184a78b8cf>\u001b[0m in \u001b[0;36m<module>\u001b[0;34m\u001b[0m\n\u001b[0;32m----> 1\u001b[0;31m \u001b[0mX_mm\u001b[0m \u001b[0;34m=\u001b[0m \u001b[0mnp\u001b[0m\u001b[0;34m.\u001b[0m\u001b[0mmemmap\u001b[0m\u001b[0;34m(\u001b[0m\u001b[0mfilename\u001b[0m\u001b[0;34m,\u001b[0m \u001b[0mdtype\u001b[0m\u001b[0;34m=\u001b[0m\u001b[0;34m\"float32\"\u001b[0m\u001b[0;34m,\u001b[0m \u001b[0mmode\u001b[0m\u001b[0;34m=\u001b[0m\u001b[0;34m\"readonly\"\u001b[0m\u001b[0;34m,\u001b[0m \u001b[0mshape\u001b[0m\u001b[0;34m=\u001b[0m\u001b[0;34m(\u001b[0m\u001b[0mm\u001b[0m\u001b[0;34m,\u001b[0m \u001b[0mn\u001b[0m\u001b[0;34m)\u001b[0m\u001b[0;34m)\u001b[0m \u001b[0;31m#ingresar nombre de archivo\u001b[0m\u001b[0;34m\u001b[0m\u001b[0;34m\u001b[0m\u001b[0m\n\u001b[0m\u001b[1;32m      2\u001b[0m \u001b[0mbatch_size\u001b[0m \u001b[0;34m=\u001b[0m \u001b[0mm\u001b[0m \u001b[0;34m//\u001b[0m \u001b[0mn_batches\u001b[0m\u001b[0;34m\u001b[0m\u001b[0;34m\u001b[0m\u001b[0m\n\u001b[1;32m      3\u001b[0m \u001b[0minc_pca\u001b[0m \u001b[0;34m=\u001b[0m \u001b[0mIncrementalPCA\u001b[0m\u001b[0;34m(\u001b[0m\u001b[0mn_components\u001b[0m\u001b[0;34m=\u001b[0m\u001b[0;36m154\u001b[0m\u001b[0;34m,\u001b[0m \u001b[0mbatch_size\u001b[0m\u001b[0;34m=\u001b[0m\u001b[0mbatch_size\u001b[0m\u001b[0;34m)\u001b[0m\u001b[0;34m\u001b[0m\u001b[0;34m\u001b[0m\u001b[0m\n\u001b[1;32m      4\u001b[0m \u001b[0minc_pca\u001b[0m\u001b[0;34m.\u001b[0m\u001b[0mfit\u001b[0m\u001b[0;34m(\u001b[0m\u001b[0mX_mm\u001b[0m\u001b[0;34m)\u001b[0m\u001b[0;34m\u001b[0m\u001b[0;34m\u001b[0m\u001b[0m\n",
      "\u001b[0;31mNameError\u001b[0m: name 'filename' is not defined"
     ]
    }
   ],
   "source": [
    "X_mm = np.memmap(filename, dtype=\"float32\", mode=\"readonly\", shape=(m, n)) #ingresar nombre de archivo \n",
    "batch_size = m // n_batches\n",
    "inc_pca = IncrementalPCA(n_components=154, batch_size=batch_size)\n",
    "inc_pca.fit(X_mm)"
   ]
  },
  {
   "cell_type": "markdown",
   "metadata": {},
   "source": [
    "<b>PCA aleatorizado<br></b>\n",
    "Scikit-Learn ofrece otra opción para realizar PCA, llamada PCA aleatorizada. Este es un algoritmo estocástico que encuentra rápidamente una aproximación de los primeros componentes principales d. Su complejidad computacional es O (m × d2) + O (d3), en lugar de O (m × n2) + O (n3), por lo que es mucho más rápido que los algoritmos anteriores cuando d es mucho más pequeño que n"
   ]
  },
  {
   "cell_type": "code",
   "execution_count": 105,
   "metadata": {},
   "outputs": [],
   "source": [
    "rnd_pca = PCA(n_components=154, svd_solver=\"randomized\")\n",
    "X_reduced = rnd_pca.fit_transform(X)"
   ]
  },
  {
   "cell_type": "markdown",
   "metadata": {},
   "source": [
    "<b>Kernel PCA<br></b>\n",
    "En el Capítulo 5 discutimos el truco del kernel, una técnica matemática que mapea de manera implícita instancias en un espacio de muy alta dimensión (llamado espacio de características), que permite la clasificación y regresión no lineal con las máquinas de vectores de soporte. Recuerde que un límite de decisión lineal en el espacio de características de alta dimensión corresponde a un límite de decisión no lineal complejo en el espacio original"
   ]
  },
  {
   "cell_type": "markdown",
   "metadata": {},
   "source": [
    "Resulta que se puede aplicar el mismo truco a la PCA, lo que hace posible realizar proyecciones no lineales complejas para la reducción de la dimensionalidad. Esto se llama Kernel PCA (kPCA) .6 A menudo es bueno para preservar grupos de instancias después de la proyección, o en ocasiones incluso para desenrollar conjuntos de datos que se encuentran cerca de una variedad torcida."
   ]
  },
  {
   "cell_type": "markdown",
   "metadata": {},
   "source": [
    "Por ejemplo, el siguiente código utiliza la clase KernelPCA de Scikit-Learn para realizar kPCA con un kernel RBF (consulte el Capítulo 5 para obtener más detalles sobre el kernel RBF y los otros kernels)"
   ]
  },
  {
   "cell_type": "code",
   "execution_count": 106,
   "metadata": {},
   "outputs": [],
   "source": [
    "from sklearn.decomposition import KernelPCA\n",
    "rbf_pca = KernelPCA(n_components = 2, kernel=\"rbf\", gamma=0.04)\n",
    "X=np.random.random((5,3))\n",
    "X_reduced = rbf_pca.fit_transform(X)"
   ]
  },
  {
   "cell_type": "markdown",
   "metadata": {},
   "source": [
    "muestra el rollo suizo, reducido a dos dimensiones utilizando un kernel lineal (equivalente a simplemente usar la clase PCA), un kernel RBF y un kernel sigmoide (Logístico)."
   ]
  },
  {
   "cell_type": "markdown",
   "metadata": {},
   "source": [
    "<b>Selección de un kernel y ajuste de los hiperparámetros <br></b>\n",
    "Como kPCA es un algoritmo de aprendizaje no supervisado, no existe una medida de rendimiento obvia para ayudarlo a seleccionar los mejores valores de kernel e hiperparámetro. Sin embargo, la reducción de la dimensionalidad es a menudo un paso de preparación para una tarea de aprendizaje supervisado (por ejemplo, clasificación), por lo que simplemente puede usar la búsqueda de cuadrícula para seleccionar el kernel y los hiperparámetros que conducen al mejor rendimiento en esa tarea. Por ejemplo, el siguiente código crea una tubería de dos pasos, primero reduciendo la dimensionalidad a dos dimensiones usando kPCA, luego aplicando Regresión logística para la clasificación. Luego utiliza Grid SearchCV para encontrar el mejor valor de kernel y gamma para kPCA para obtener la mejor precisión de clasificación al final de la tubería:"
   ]
  },
  {
   "cell_type": "code",
   "execution_count": 111,
   "metadata": {},
   "outputs": [
    {
     "name": "stdout",
     "output_type": "stream",
     "text": [
      "(100, 1)\n"
     ]
    },
    {
     "name": "stderr",
     "output_type": "stream",
     "text": [
      "/home/andres/Escritorio/PROYECTOS/entorno1/lib/python3.6/site-packages/sklearn/utils/validation.py:760: DataConversionWarning: A column-vector y was passed when a 1d array was expected. Please change the shape of y to (n_samples, ), for example using ravel().\n",
      "  y = column_or_1d(y, warn=True)\n",
      "/home/andres/Escritorio/PROYECTOS/entorno1/lib/python3.6/site-packages/sklearn/model_selection/_validation.py:536: FitFailedWarning: Estimator fit failed. The score on this train-test partition for these parameters will be set to nan. Details: \n",
      "ValueError: Unknown label type: 'continuous'\n",
      "\n",
      "  FitFailedWarning)\n",
      "/home/andres/Escritorio/PROYECTOS/entorno1/lib/python3.6/site-packages/sklearn/utils/validation.py:760: DataConversionWarning: A column-vector y was passed when a 1d array was expected. Please change the shape of y to (n_samples, ), for example using ravel().\n",
      "  y = column_or_1d(y, warn=True)\n",
      "/home/andres/Escritorio/PROYECTOS/entorno1/lib/python3.6/site-packages/sklearn/model_selection/_validation.py:536: FitFailedWarning: Estimator fit failed. The score on this train-test partition for these parameters will be set to nan. Details: \n",
      "ValueError: Unknown label type: 'continuous'\n",
      "\n",
      "  FitFailedWarning)\n",
      "/home/andres/Escritorio/PROYECTOS/entorno1/lib/python3.6/site-packages/sklearn/utils/validation.py:760: DataConversionWarning: A column-vector y was passed when a 1d array was expected. Please change the shape of y to (n_samples, ), for example using ravel().\n",
      "  y = column_or_1d(y, warn=True)\n",
      "/home/andres/Escritorio/PROYECTOS/entorno1/lib/python3.6/site-packages/sklearn/model_selection/_validation.py:536: FitFailedWarning: Estimator fit failed. The score on this train-test partition for these parameters will be set to nan. Details: \n",
      "ValueError: Unknown label type: 'continuous'\n",
      "\n",
      "  FitFailedWarning)\n",
      "/home/andres/Escritorio/PROYECTOS/entorno1/lib/python3.6/site-packages/sklearn/utils/validation.py:760: DataConversionWarning: A column-vector y was passed when a 1d array was expected. Please change the shape of y to (n_samples, ), for example using ravel().\n",
      "  y = column_or_1d(y, warn=True)\n",
      "/home/andres/Escritorio/PROYECTOS/entorno1/lib/python3.6/site-packages/sklearn/model_selection/_validation.py:536: FitFailedWarning: Estimator fit failed. The score on this train-test partition for these parameters will be set to nan. Details: \n",
      "ValueError: Unknown label type: 'continuous'\n",
      "\n",
      "  FitFailedWarning)\n",
      "/home/andres/Escritorio/PROYECTOS/entorno1/lib/python3.6/site-packages/sklearn/utils/validation.py:760: DataConversionWarning: A column-vector y was passed when a 1d array was expected. Please change the shape of y to (n_samples, ), for example using ravel().\n",
      "  y = column_or_1d(y, warn=True)\n",
      "/home/andres/Escritorio/PROYECTOS/entorno1/lib/python3.6/site-packages/sklearn/model_selection/_validation.py:536: FitFailedWarning: Estimator fit failed. The score on this train-test partition for these parameters will be set to nan. Details: \n",
      "ValueError: Unknown label type: 'continuous'\n",
      "\n",
      "  FitFailedWarning)\n",
      "/home/andres/Escritorio/PROYECTOS/entorno1/lib/python3.6/site-packages/sklearn/utils/validation.py:760: DataConversionWarning: A column-vector y was passed when a 1d array was expected. Please change the shape of y to (n_samples, ), for example using ravel().\n",
      "  y = column_or_1d(y, warn=True)\n",
      "/home/andres/Escritorio/PROYECTOS/entorno1/lib/python3.6/site-packages/sklearn/model_selection/_validation.py:536: FitFailedWarning: Estimator fit failed. The score on this train-test partition for these parameters will be set to nan. Details: \n",
      "ValueError: Unknown label type: 'continuous'\n",
      "\n",
      "  FitFailedWarning)\n",
      "/home/andres/Escritorio/PROYECTOS/entorno1/lib/python3.6/site-packages/sklearn/utils/validation.py:760: DataConversionWarning: A column-vector y was passed when a 1d array was expected. Please change the shape of y to (n_samples, ), for example using ravel().\n",
      "  y = column_or_1d(y, warn=True)\n",
      "/home/andres/Escritorio/PROYECTOS/entorno1/lib/python3.6/site-packages/sklearn/model_selection/_validation.py:536: FitFailedWarning: Estimator fit failed. The score on this train-test partition for these parameters will be set to nan. Details: \n",
      "ValueError: Unknown label type: 'continuous'\n",
      "\n",
      "  FitFailedWarning)\n",
      "/home/andres/Escritorio/PROYECTOS/entorno1/lib/python3.6/site-packages/sklearn/utils/validation.py:760: DataConversionWarning: A column-vector y was passed when a 1d array was expected. Please change the shape of y to (n_samples, ), for example using ravel().\n",
      "  y = column_or_1d(y, warn=True)\n",
      "/home/andres/Escritorio/PROYECTOS/entorno1/lib/python3.6/site-packages/sklearn/model_selection/_validation.py:536: FitFailedWarning: Estimator fit failed. The score on this train-test partition for these parameters will be set to nan. Details: \n",
      "ValueError: Unknown label type: 'continuous'\n",
      "\n",
      "  FitFailedWarning)\n",
      "/home/andres/Escritorio/PROYECTOS/entorno1/lib/python3.6/site-packages/sklearn/utils/validation.py:760: DataConversionWarning: A column-vector y was passed when a 1d array was expected. Please change the shape of y to (n_samples, ), for example using ravel().\n",
      "  y = column_or_1d(y, warn=True)\n",
      "/home/andres/Escritorio/PROYECTOS/entorno1/lib/python3.6/site-packages/sklearn/model_selection/_validation.py:536: FitFailedWarning: Estimator fit failed. The score on this train-test partition for these parameters will be set to nan. Details: \n",
      "ValueError: Unknown label type: 'continuous'\n",
      "\n",
      "  FitFailedWarning)\n",
      "/home/andres/Escritorio/PROYECTOS/entorno1/lib/python3.6/site-packages/sklearn/utils/validation.py:760: DataConversionWarning: A column-vector y was passed when a 1d array was expected. Please change the shape of y to (n_samples, ), for example using ravel().\n",
      "  y = column_or_1d(y, warn=True)\n",
      "/home/andres/Escritorio/PROYECTOS/entorno1/lib/python3.6/site-packages/sklearn/model_selection/_validation.py:536: FitFailedWarning: Estimator fit failed. The score on this train-test partition for these parameters will be set to nan. Details: \n",
      "ValueError: Unknown label type: 'continuous'\n",
      "\n",
      "  FitFailedWarning)\n",
      "/home/andres/Escritorio/PROYECTOS/entorno1/lib/python3.6/site-packages/sklearn/utils/validation.py:760: DataConversionWarning: A column-vector y was passed when a 1d array was expected. Please change the shape of y to (n_samples, ), for example using ravel().\n",
      "  y = column_or_1d(y, warn=True)\n",
      "/home/andres/Escritorio/PROYECTOS/entorno1/lib/python3.6/site-packages/sklearn/model_selection/_validation.py:536: FitFailedWarning: Estimator fit failed. The score on this train-test partition for these parameters will be set to nan. Details: \n",
      "ValueError: Unknown label type: 'continuous'\n",
      "\n",
      "  FitFailedWarning)\n",
      "/home/andres/Escritorio/PROYECTOS/entorno1/lib/python3.6/site-packages/sklearn/utils/validation.py:760: DataConversionWarning: A column-vector y was passed when a 1d array was expected. Please change the shape of y to (n_samples, ), for example using ravel().\n",
      "  y = column_or_1d(y, warn=True)\n",
      "/home/andres/Escritorio/PROYECTOS/entorno1/lib/python3.6/site-packages/sklearn/model_selection/_validation.py:536: FitFailedWarning: Estimator fit failed. The score on this train-test partition for these parameters will be set to nan. Details: \n",
      "ValueError: Unknown label type: 'continuous'\n",
      "\n",
      "  FitFailedWarning)\n",
      "/home/andres/Escritorio/PROYECTOS/entorno1/lib/python3.6/site-packages/sklearn/utils/validation.py:760: DataConversionWarning: A column-vector y was passed when a 1d array was expected. Please change the shape of y to (n_samples, ), for example using ravel().\n",
      "  y = column_or_1d(y, warn=True)\n",
      "/home/andres/Escritorio/PROYECTOS/entorno1/lib/python3.6/site-packages/sklearn/model_selection/_validation.py:536: FitFailedWarning: Estimator fit failed. The score on this train-test partition for these parameters will be set to nan. Details: \n",
      "ValueError: Unknown label type: 'continuous'\n",
      "\n",
      "  FitFailedWarning)\n",
      "/home/andres/Escritorio/PROYECTOS/entorno1/lib/python3.6/site-packages/sklearn/utils/validation.py:760: DataConversionWarning: A column-vector y was passed when a 1d array was expected. Please change the shape of y to (n_samples, ), for example using ravel().\n",
      "  y = column_or_1d(y, warn=True)\n",
      "/home/andres/Escritorio/PROYECTOS/entorno1/lib/python3.6/site-packages/sklearn/model_selection/_validation.py:536: FitFailedWarning: Estimator fit failed. The score on this train-test partition for these parameters will be set to nan. Details: \n",
      "ValueError: Unknown label type: 'continuous'\n",
      "\n",
      "  FitFailedWarning)\n",
      "/home/andres/Escritorio/PROYECTOS/entorno1/lib/python3.6/site-packages/sklearn/utils/validation.py:760: DataConversionWarning: A column-vector y was passed when a 1d array was expected. Please change the shape of y to (n_samples, ), for example using ravel().\n",
      "  y = column_or_1d(y, warn=True)\n",
      "/home/andres/Escritorio/PROYECTOS/entorno1/lib/python3.6/site-packages/sklearn/model_selection/_validation.py:536: FitFailedWarning: Estimator fit failed. The score on this train-test partition for these parameters will be set to nan. Details: \n",
      "ValueError: Unknown label type: 'continuous'\n",
      "\n",
      "  FitFailedWarning)\n",
      "/home/andres/Escritorio/PROYECTOS/entorno1/lib/python3.6/site-packages/sklearn/utils/validation.py:760: DataConversionWarning: A column-vector y was passed when a 1d array was expected. Please change the shape of y to (n_samples, ), for example using ravel().\n",
      "  y = column_or_1d(y, warn=True)\n",
      "/home/andres/Escritorio/PROYECTOS/entorno1/lib/python3.6/site-packages/sklearn/model_selection/_validation.py:536: FitFailedWarning: Estimator fit failed. The score on this train-test partition for these parameters will be set to nan. Details: \n",
      "ValueError: Unknown label type: 'continuous'\n",
      "\n",
      "  FitFailedWarning)\n",
      "/home/andres/Escritorio/PROYECTOS/entorno1/lib/python3.6/site-packages/sklearn/utils/validation.py:760: DataConversionWarning: A column-vector y was passed when a 1d array was expected. Please change the shape of y to (n_samples, ), for example using ravel().\n",
      "  y = column_or_1d(y, warn=True)\n",
      "/home/andres/Escritorio/PROYECTOS/entorno1/lib/python3.6/site-packages/sklearn/model_selection/_validation.py:536: FitFailedWarning: Estimator fit failed. The score on this train-test partition for these parameters will be set to nan. Details: \n",
      "ValueError: Unknown label type: 'continuous'\n",
      "\n",
      "  FitFailedWarning)\n",
      "/home/andres/Escritorio/PROYECTOS/entorno1/lib/python3.6/site-packages/sklearn/utils/validation.py:760: DataConversionWarning: A column-vector y was passed when a 1d array was expected. Please change the shape of y to (n_samples, ), for example using ravel().\n",
      "  y = column_or_1d(y, warn=True)\n",
      "/home/andres/Escritorio/PROYECTOS/entorno1/lib/python3.6/site-packages/sklearn/model_selection/_validation.py:536: FitFailedWarning: Estimator fit failed. The score on this train-test partition for these parameters will be set to nan. Details: \n",
      "ValueError: Unknown label type: 'continuous'\n",
      "\n",
      "  FitFailedWarning)\n",
      "/home/andres/Escritorio/PROYECTOS/entorno1/lib/python3.6/site-packages/sklearn/utils/validation.py:760: DataConversionWarning: A column-vector y was passed when a 1d array was expected. Please change the shape of y to (n_samples, ), for example using ravel().\n",
      "  y = column_or_1d(y, warn=True)\n",
      "/home/andres/Escritorio/PROYECTOS/entorno1/lib/python3.6/site-packages/sklearn/model_selection/_validation.py:536: FitFailedWarning: Estimator fit failed. The score on this train-test partition for these parameters will be set to nan. Details: \n",
      "ValueError: Unknown label type: 'continuous'\n",
      "\n",
      "  FitFailedWarning)\n",
      "/home/andres/Escritorio/PROYECTOS/entorno1/lib/python3.6/site-packages/sklearn/utils/validation.py:760: DataConversionWarning: A column-vector y was passed when a 1d array was expected. Please change the shape of y to (n_samples, ), for example using ravel().\n",
      "  y = column_or_1d(y, warn=True)\n",
      "/home/andres/Escritorio/PROYECTOS/entorno1/lib/python3.6/site-packages/sklearn/model_selection/_validation.py:536: FitFailedWarning: Estimator fit failed. The score on this train-test partition for these parameters will be set to nan. Details: \n",
      "ValueError: Unknown label type: 'continuous'\n",
      "\n",
      "  FitFailedWarning)\n",
      "/home/andres/Escritorio/PROYECTOS/entorno1/lib/python3.6/site-packages/sklearn/utils/validation.py:760: DataConversionWarning: A column-vector y was passed when a 1d array was expected. Please change the shape of y to (n_samples, ), for example using ravel().\n",
      "  y = column_or_1d(y, warn=True)\n",
      "/home/andres/Escritorio/PROYECTOS/entorno1/lib/python3.6/site-packages/sklearn/model_selection/_validation.py:536: FitFailedWarning: Estimator fit failed. The score on this train-test partition for these parameters will be set to nan. Details: \n",
      "ValueError: Unknown label type: 'continuous'\n",
      "\n",
      "  FitFailedWarning)\n",
      "/home/andres/Escritorio/PROYECTOS/entorno1/lib/python3.6/site-packages/sklearn/utils/validation.py:760: DataConversionWarning: A column-vector y was passed when a 1d array was expected. Please change the shape of y to (n_samples, ), for example using ravel().\n",
      "  y = column_or_1d(y, warn=True)\n",
      "/home/andres/Escritorio/PROYECTOS/entorno1/lib/python3.6/site-packages/sklearn/model_selection/_validation.py:536: FitFailedWarning: Estimator fit failed. The score on this train-test partition for these parameters will be set to nan. Details: \n",
      "ValueError: Unknown label type: 'continuous'\n",
      "\n",
      "  FitFailedWarning)\n",
      "/home/andres/Escritorio/PROYECTOS/entorno1/lib/python3.6/site-packages/sklearn/utils/validation.py:760: DataConversionWarning: A column-vector y was passed when a 1d array was expected. Please change the shape of y to (n_samples, ), for example using ravel().\n",
      "  y = column_or_1d(y, warn=True)\n",
      "/home/andres/Escritorio/PROYECTOS/entorno1/lib/python3.6/site-packages/sklearn/model_selection/_validation.py:536: FitFailedWarning: Estimator fit failed. The score on this train-test partition for these parameters will be set to nan. Details: \n",
      "ValueError: Unknown label type: 'continuous'\n",
      "\n",
      "  FitFailedWarning)\n",
      "/home/andres/Escritorio/PROYECTOS/entorno1/lib/python3.6/site-packages/sklearn/utils/validation.py:760: DataConversionWarning: A column-vector y was passed when a 1d array was expected. Please change the shape of y to (n_samples, ), for example using ravel().\n",
      "  y = column_or_1d(y, warn=True)\n",
      "/home/andres/Escritorio/PROYECTOS/entorno1/lib/python3.6/site-packages/sklearn/model_selection/_validation.py:536: FitFailedWarning: Estimator fit failed. The score on this train-test partition for these parameters will be set to nan. Details: \n",
      "ValueError: Unknown label type: 'continuous'\n",
      "\n",
      "  FitFailedWarning)\n",
      "/home/andres/Escritorio/PROYECTOS/entorno1/lib/python3.6/site-packages/sklearn/utils/validation.py:760: DataConversionWarning: A column-vector y was passed when a 1d array was expected. Please change the shape of y to (n_samples, ), for example using ravel().\n",
      "  y = column_or_1d(y, warn=True)\n",
      "/home/andres/Escritorio/PROYECTOS/entorno1/lib/python3.6/site-packages/sklearn/model_selection/_validation.py:536: FitFailedWarning: Estimator fit failed. The score on this train-test partition for these parameters will be set to nan. Details: \n",
      "ValueError: Unknown label type: 'continuous'\n",
      "\n",
      "  FitFailedWarning)\n",
      "/home/andres/Escritorio/PROYECTOS/entorno1/lib/python3.6/site-packages/sklearn/utils/validation.py:760: DataConversionWarning: A column-vector y was passed when a 1d array was expected. Please change the shape of y to (n_samples, ), for example using ravel().\n",
      "  y = column_or_1d(y, warn=True)\n",
      "/home/andres/Escritorio/PROYECTOS/entorno1/lib/python3.6/site-packages/sklearn/model_selection/_validation.py:536: FitFailedWarning: Estimator fit failed. The score on this train-test partition for these parameters will be set to nan. Details: \n",
      "ValueError: Unknown label type: 'continuous'\n",
      "\n",
      "  FitFailedWarning)\n",
      "/home/andres/Escritorio/PROYECTOS/entorno1/lib/python3.6/site-packages/sklearn/utils/validation.py:760: DataConversionWarning: A column-vector y was passed when a 1d array was expected. Please change the shape of y to (n_samples, ), for example using ravel().\n",
      "  y = column_or_1d(y, warn=True)\n",
      "/home/andres/Escritorio/PROYECTOS/entorno1/lib/python3.6/site-packages/sklearn/model_selection/_validation.py:536: FitFailedWarning: Estimator fit failed. The score on this train-test partition for these parameters will be set to nan. Details: \n",
      "ValueError: Unknown label type: 'continuous'\n",
      "\n",
      "  FitFailedWarning)\n",
      "/home/andres/Escritorio/PROYECTOS/entorno1/lib/python3.6/site-packages/sklearn/utils/validation.py:760: DataConversionWarning: A column-vector y was passed when a 1d array was expected. Please change the shape of y to (n_samples, ), for example using ravel().\n",
      "  y = column_or_1d(y, warn=True)\n",
      "/home/andres/Escritorio/PROYECTOS/entorno1/lib/python3.6/site-packages/sklearn/model_selection/_validation.py:536: FitFailedWarning: Estimator fit failed. The score on this train-test partition for these parameters will be set to nan. Details: \n",
      "ValueError: Unknown label type: 'continuous'\n",
      "\n",
      "  FitFailedWarning)\n",
      "/home/andres/Escritorio/PROYECTOS/entorno1/lib/python3.6/site-packages/sklearn/utils/validation.py:760: DataConversionWarning: A column-vector y was passed when a 1d array was expected. Please change the shape of y to (n_samples, ), for example using ravel().\n",
      "  y = column_or_1d(y, warn=True)\n",
      "/home/andres/Escritorio/PROYECTOS/entorno1/lib/python3.6/site-packages/sklearn/model_selection/_validation.py:536: FitFailedWarning: Estimator fit failed. The score on this train-test partition for these parameters will be set to nan. Details: \n",
      "ValueError: Unknown label type: 'continuous'\n",
      "\n",
      "  FitFailedWarning)\n",
      "/home/andres/Escritorio/PROYECTOS/entorno1/lib/python3.6/site-packages/sklearn/utils/validation.py:760: DataConversionWarning: A column-vector y was passed when a 1d array was expected. Please change the shape of y to (n_samples, ), for example using ravel().\n",
      "  y = column_or_1d(y, warn=True)\n",
      "/home/andres/Escritorio/PROYECTOS/entorno1/lib/python3.6/site-packages/sklearn/model_selection/_validation.py:536: FitFailedWarning: Estimator fit failed. The score on this train-test partition for these parameters will be set to nan. Details: \n",
      "ValueError: Unknown label type: 'continuous'\n",
      "\n",
      "  FitFailedWarning)\n",
      "/home/andres/Escritorio/PROYECTOS/entorno1/lib/python3.6/site-packages/sklearn/utils/validation.py:760: DataConversionWarning: A column-vector y was passed when a 1d array was expected. Please change the shape of y to (n_samples, ), for example using ravel().\n",
      "  y = column_or_1d(y, warn=True)\n",
      "/home/andres/Escritorio/PROYECTOS/entorno1/lib/python3.6/site-packages/sklearn/model_selection/_validation.py:536: FitFailedWarning: Estimator fit failed. The score on this train-test partition for these parameters will be set to nan. Details: \n",
      "ValueError: Unknown label type: 'continuous'\n",
      "\n",
      "  FitFailedWarning)\n",
      "/home/andres/Escritorio/PROYECTOS/entorno1/lib/python3.6/site-packages/sklearn/utils/validation.py:760: DataConversionWarning: A column-vector y was passed when a 1d array was expected. Please change the shape of y to (n_samples, ), for example using ravel().\n",
      "  y = column_or_1d(y, warn=True)\n",
      "/home/andres/Escritorio/PROYECTOS/entorno1/lib/python3.6/site-packages/sklearn/model_selection/_validation.py:536: FitFailedWarning: Estimator fit failed. The score on this train-test partition for these parameters will be set to nan. Details: \n",
      "ValueError: Unknown label type: 'continuous'\n",
      "\n",
      "  FitFailedWarning)\n",
      "/home/andres/Escritorio/PROYECTOS/entorno1/lib/python3.6/site-packages/sklearn/utils/validation.py:760: DataConversionWarning: A column-vector y was passed when a 1d array was expected. Please change the shape of y to (n_samples, ), for example using ravel().\n",
      "  y = column_or_1d(y, warn=True)\n",
      "/home/andres/Escritorio/PROYECTOS/entorno1/lib/python3.6/site-packages/sklearn/model_selection/_validation.py:536: FitFailedWarning: Estimator fit failed. The score on this train-test partition for these parameters will be set to nan. Details: \n",
      "ValueError: Unknown label type: 'continuous'\n",
      "\n",
      "  FitFailedWarning)\n",
      "/home/andres/Escritorio/PROYECTOS/entorno1/lib/python3.6/site-packages/sklearn/utils/validation.py:760: DataConversionWarning: A column-vector y was passed when a 1d array was expected. Please change the shape of y to (n_samples, ), for example using ravel().\n",
      "  y = column_or_1d(y, warn=True)\n",
      "/home/andres/Escritorio/PROYECTOS/entorno1/lib/python3.6/site-packages/sklearn/model_selection/_validation.py:536: FitFailedWarning: Estimator fit failed. The score on this train-test partition for these parameters will be set to nan. Details: \n",
      "ValueError: Unknown label type: 'continuous'\n",
      "\n",
      "  FitFailedWarning)\n",
      "/home/andres/Escritorio/PROYECTOS/entorno1/lib/python3.6/site-packages/sklearn/utils/validation.py:760: DataConversionWarning: A column-vector y was passed when a 1d array was expected. Please change the shape of y to (n_samples, ), for example using ravel().\n",
      "  y = column_or_1d(y, warn=True)\n",
      "/home/andres/Escritorio/PROYECTOS/entorno1/lib/python3.6/site-packages/sklearn/model_selection/_validation.py:536: FitFailedWarning: Estimator fit failed. The score on this train-test partition for these parameters will be set to nan. Details: \n",
      "ValueError: Unknown label type: 'continuous'\n",
      "\n",
      "  FitFailedWarning)\n",
      "/home/andres/Escritorio/PROYECTOS/entorno1/lib/python3.6/site-packages/sklearn/utils/validation.py:760: DataConversionWarning: A column-vector y was passed when a 1d array was expected. Please change the shape of y to (n_samples, ), for example using ravel().\n",
      "  y = column_or_1d(y, warn=True)\n",
      "/home/andres/Escritorio/PROYECTOS/entorno1/lib/python3.6/site-packages/sklearn/model_selection/_validation.py:536: FitFailedWarning: Estimator fit failed. The score on this train-test partition for these parameters will be set to nan. Details: \n",
      "ValueError: Unknown label type: 'continuous'\n",
      "\n",
      "  FitFailedWarning)\n",
      "/home/andres/Escritorio/PROYECTOS/entorno1/lib/python3.6/site-packages/sklearn/utils/validation.py:760: DataConversionWarning: A column-vector y was passed when a 1d array was expected. Please change the shape of y to (n_samples, ), for example using ravel().\n",
      "  y = column_or_1d(y, warn=True)\n",
      "/home/andres/Escritorio/PROYECTOS/entorno1/lib/python3.6/site-packages/sklearn/model_selection/_validation.py:536: FitFailedWarning: Estimator fit failed. The score on this train-test partition for these parameters will be set to nan. Details: \n",
      "ValueError: Unknown label type: 'continuous'\n",
      "\n",
      "  FitFailedWarning)\n",
      "/home/andres/Escritorio/PROYECTOS/entorno1/lib/python3.6/site-packages/sklearn/utils/validation.py:760: DataConversionWarning: A column-vector y was passed when a 1d array was expected. Please change the shape of y to (n_samples, ), for example using ravel().\n",
      "  y = column_or_1d(y, warn=True)\n",
      "/home/andres/Escritorio/PROYECTOS/entorno1/lib/python3.6/site-packages/sklearn/model_selection/_validation.py:536: FitFailedWarning: Estimator fit failed. The score on this train-test partition for these parameters will be set to nan. Details: \n",
      "ValueError: Unknown label type: 'continuous'\n",
      "\n",
      "  FitFailedWarning)\n"
     ]
    },
    {
     "name": "stderr",
     "output_type": "stream",
     "text": [
      "/home/andres/Escritorio/PROYECTOS/entorno1/lib/python3.6/site-packages/sklearn/utils/validation.py:760: DataConversionWarning: A column-vector y was passed when a 1d array was expected. Please change the shape of y to (n_samples, ), for example using ravel().\n",
      "  y = column_or_1d(y, warn=True)\n",
      "/home/andres/Escritorio/PROYECTOS/entorno1/lib/python3.6/site-packages/sklearn/model_selection/_validation.py:536: FitFailedWarning: Estimator fit failed. The score on this train-test partition for these parameters will be set to nan. Details: \n",
      "ValueError: Unknown label type: 'continuous'\n",
      "\n",
      "  FitFailedWarning)\n",
      "/home/andres/Escritorio/PROYECTOS/entorno1/lib/python3.6/site-packages/sklearn/utils/validation.py:760: DataConversionWarning: A column-vector y was passed when a 1d array was expected. Please change the shape of y to (n_samples, ), for example using ravel().\n",
      "  y = column_or_1d(y, warn=True)\n",
      "/home/andres/Escritorio/PROYECTOS/entorno1/lib/python3.6/site-packages/sklearn/model_selection/_validation.py:536: FitFailedWarning: Estimator fit failed. The score on this train-test partition for these parameters will be set to nan. Details: \n",
      "ValueError: Unknown label type: 'continuous'\n",
      "\n",
      "  FitFailedWarning)\n",
      "/home/andres/Escritorio/PROYECTOS/entorno1/lib/python3.6/site-packages/sklearn/utils/validation.py:760: DataConversionWarning: A column-vector y was passed when a 1d array was expected. Please change the shape of y to (n_samples, ), for example using ravel().\n",
      "  y = column_or_1d(y, warn=True)\n",
      "/home/andres/Escritorio/PROYECTOS/entorno1/lib/python3.6/site-packages/sklearn/model_selection/_validation.py:536: FitFailedWarning: Estimator fit failed. The score on this train-test partition for these parameters will be set to nan. Details: \n",
      "ValueError: Unknown label type: 'continuous'\n",
      "\n",
      "  FitFailedWarning)\n",
      "/home/andres/Escritorio/PROYECTOS/entorno1/lib/python3.6/site-packages/sklearn/utils/validation.py:760: DataConversionWarning: A column-vector y was passed when a 1d array was expected. Please change the shape of y to (n_samples, ), for example using ravel().\n",
      "  y = column_or_1d(y, warn=True)\n",
      "/home/andres/Escritorio/PROYECTOS/entorno1/lib/python3.6/site-packages/sklearn/model_selection/_validation.py:536: FitFailedWarning: Estimator fit failed. The score on this train-test partition for these parameters will be set to nan. Details: \n",
      "ValueError: Unknown label type: 'continuous'\n",
      "\n",
      "  FitFailedWarning)\n",
      "/home/andres/Escritorio/PROYECTOS/entorno1/lib/python3.6/site-packages/sklearn/utils/validation.py:760: DataConversionWarning: A column-vector y was passed when a 1d array was expected. Please change the shape of y to (n_samples, ), for example using ravel().\n",
      "  y = column_or_1d(y, warn=True)\n",
      "/home/andres/Escritorio/PROYECTOS/entorno1/lib/python3.6/site-packages/sklearn/model_selection/_validation.py:536: FitFailedWarning: Estimator fit failed. The score on this train-test partition for these parameters will be set to nan. Details: \n",
      "ValueError: Unknown label type: 'continuous'\n",
      "\n",
      "  FitFailedWarning)\n",
      "/home/andres/Escritorio/PROYECTOS/entorno1/lib/python3.6/site-packages/sklearn/utils/validation.py:760: DataConversionWarning: A column-vector y was passed when a 1d array was expected. Please change the shape of y to (n_samples, ), for example using ravel().\n",
      "  y = column_or_1d(y, warn=True)\n",
      "/home/andres/Escritorio/PROYECTOS/entorno1/lib/python3.6/site-packages/sklearn/model_selection/_validation.py:536: FitFailedWarning: Estimator fit failed. The score on this train-test partition for these parameters will be set to nan. Details: \n",
      "ValueError: Unknown label type: 'continuous'\n",
      "\n",
      "  FitFailedWarning)\n",
      "/home/andres/Escritorio/PROYECTOS/entorno1/lib/python3.6/site-packages/sklearn/utils/validation.py:760: DataConversionWarning: A column-vector y was passed when a 1d array was expected. Please change the shape of y to (n_samples, ), for example using ravel().\n",
      "  y = column_or_1d(y, warn=True)\n",
      "/home/andres/Escritorio/PROYECTOS/entorno1/lib/python3.6/site-packages/sklearn/model_selection/_validation.py:536: FitFailedWarning: Estimator fit failed. The score on this train-test partition for these parameters will be set to nan. Details: \n",
      "ValueError: Unknown label type: 'continuous'\n",
      "\n",
      "  FitFailedWarning)\n",
      "/home/andres/Escritorio/PROYECTOS/entorno1/lib/python3.6/site-packages/sklearn/utils/validation.py:760: DataConversionWarning: A column-vector y was passed when a 1d array was expected. Please change the shape of y to (n_samples, ), for example using ravel().\n",
      "  y = column_or_1d(y, warn=True)\n",
      "/home/andres/Escritorio/PROYECTOS/entorno1/lib/python3.6/site-packages/sklearn/model_selection/_validation.py:536: FitFailedWarning: Estimator fit failed. The score on this train-test partition for these parameters will be set to nan. Details: \n",
      "ValueError: Unknown label type: 'continuous'\n",
      "\n",
      "  FitFailedWarning)\n",
      "/home/andres/Escritorio/PROYECTOS/entorno1/lib/python3.6/site-packages/sklearn/utils/validation.py:760: DataConversionWarning: A column-vector y was passed when a 1d array was expected. Please change the shape of y to (n_samples, ), for example using ravel().\n",
      "  y = column_or_1d(y, warn=True)\n",
      "/home/andres/Escritorio/PROYECTOS/entorno1/lib/python3.6/site-packages/sklearn/model_selection/_validation.py:536: FitFailedWarning: Estimator fit failed. The score on this train-test partition for these parameters will be set to nan. Details: \n",
      "ValueError: Unknown label type: 'continuous'\n",
      "\n",
      "  FitFailedWarning)\n",
      "/home/andres/Escritorio/PROYECTOS/entorno1/lib/python3.6/site-packages/sklearn/utils/validation.py:760: DataConversionWarning: A column-vector y was passed when a 1d array was expected. Please change the shape of y to (n_samples, ), for example using ravel().\n",
      "  y = column_or_1d(y, warn=True)\n",
      "/home/andres/Escritorio/PROYECTOS/entorno1/lib/python3.6/site-packages/sklearn/model_selection/_validation.py:536: FitFailedWarning: Estimator fit failed. The score on this train-test partition for these parameters will be set to nan. Details: \n",
      "ValueError: Unknown label type: 'continuous'\n",
      "\n",
      "  FitFailedWarning)\n",
      "/home/andres/Escritorio/PROYECTOS/entorno1/lib/python3.6/site-packages/sklearn/utils/validation.py:760: DataConversionWarning: A column-vector y was passed when a 1d array was expected. Please change the shape of y to (n_samples, ), for example using ravel().\n",
      "  y = column_or_1d(y, warn=True)\n",
      "/home/andres/Escritorio/PROYECTOS/entorno1/lib/python3.6/site-packages/sklearn/model_selection/_validation.py:536: FitFailedWarning: Estimator fit failed. The score on this train-test partition for these parameters will be set to nan. Details: \n",
      "ValueError: Unknown label type: 'continuous'\n",
      "\n",
      "  FitFailedWarning)\n",
      "/home/andres/Escritorio/PROYECTOS/entorno1/lib/python3.6/site-packages/sklearn/utils/validation.py:760: DataConversionWarning: A column-vector y was passed when a 1d array was expected. Please change the shape of y to (n_samples, ), for example using ravel().\n",
      "  y = column_or_1d(y, warn=True)\n",
      "/home/andres/Escritorio/PROYECTOS/entorno1/lib/python3.6/site-packages/sklearn/model_selection/_validation.py:536: FitFailedWarning: Estimator fit failed. The score on this train-test partition for these parameters will be set to nan. Details: \n",
      "ValueError: Unknown label type: 'continuous'\n",
      "\n",
      "  FitFailedWarning)\n",
      "/home/andres/Escritorio/PROYECTOS/entorno1/lib/python3.6/site-packages/sklearn/utils/validation.py:760: DataConversionWarning: A column-vector y was passed when a 1d array was expected. Please change the shape of y to (n_samples, ), for example using ravel().\n",
      "  y = column_or_1d(y, warn=True)\n",
      "/home/andres/Escritorio/PROYECTOS/entorno1/lib/python3.6/site-packages/sklearn/model_selection/_validation.py:536: FitFailedWarning: Estimator fit failed. The score on this train-test partition for these parameters will be set to nan. Details: \n",
      "ValueError: Unknown label type: 'continuous'\n",
      "\n",
      "  FitFailedWarning)\n",
      "/home/andres/Escritorio/PROYECTOS/entorno1/lib/python3.6/site-packages/sklearn/utils/validation.py:760: DataConversionWarning: A column-vector y was passed when a 1d array was expected. Please change the shape of y to (n_samples, ), for example using ravel().\n",
      "  y = column_or_1d(y, warn=True)\n",
      "/home/andres/Escritorio/PROYECTOS/entorno1/lib/python3.6/site-packages/sklearn/model_selection/_validation.py:536: FitFailedWarning: Estimator fit failed. The score on this train-test partition for these parameters will be set to nan. Details: \n",
      "ValueError: Unknown label type: 'continuous'\n",
      "\n",
      "  FitFailedWarning)\n",
      "/home/andres/Escritorio/PROYECTOS/entorno1/lib/python3.6/site-packages/sklearn/utils/validation.py:760: DataConversionWarning: A column-vector y was passed when a 1d array was expected. Please change the shape of y to (n_samples, ), for example using ravel().\n",
      "  y = column_or_1d(y, warn=True)\n",
      "/home/andres/Escritorio/PROYECTOS/entorno1/lib/python3.6/site-packages/sklearn/model_selection/_validation.py:536: FitFailedWarning: Estimator fit failed. The score on this train-test partition for these parameters will be set to nan. Details: \n",
      "ValueError: Unknown label type: 'continuous'\n",
      "\n",
      "  FitFailedWarning)\n",
      "/home/andres/Escritorio/PROYECTOS/entorno1/lib/python3.6/site-packages/sklearn/utils/validation.py:760: DataConversionWarning: A column-vector y was passed when a 1d array was expected. Please change the shape of y to (n_samples, ), for example using ravel().\n",
      "  y = column_or_1d(y, warn=True)\n",
      "/home/andres/Escritorio/PROYECTOS/entorno1/lib/python3.6/site-packages/sklearn/model_selection/_validation.py:536: FitFailedWarning: Estimator fit failed. The score on this train-test partition for these parameters will be set to nan. Details: \n",
      "ValueError: Unknown label type: 'continuous'\n",
      "\n",
      "  FitFailedWarning)\n",
      "/home/andres/Escritorio/PROYECTOS/entorno1/lib/python3.6/site-packages/sklearn/utils/validation.py:760: DataConversionWarning: A column-vector y was passed when a 1d array was expected. Please change the shape of y to (n_samples, ), for example using ravel().\n",
      "  y = column_or_1d(y, warn=True)\n",
      "/home/andres/Escritorio/PROYECTOS/entorno1/lib/python3.6/site-packages/sklearn/model_selection/_validation.py:536: FitFailedWarning: Estimator fit failed. The score on this train-test partition for these parameters will be set to nan. Details: \n",
      "ValueError: Unknown label type: 'continuous'\n",
      "\n",
      "  FitFailedWarning)\n",
      "/home/andres/Escritorio/PROYECTOS/entorno1/lib/python3.6/site-packages/sklearn/utils/validation.py:760: DataConversionWarning: A column-vector y was passed when a 1d array was expected. Please change the shape of y to (n_samples, ), for example using ravel().\n",
      "  y = column_or_1d(y, warn=True)\n",
      "/home/andres/Escritorio/PROYECTOS/entorno1/lib/python3.6/site-packages/sklearn/model_selection/_validation.py:536: FitFailedWarning: Estimator fit failed. The score on this train-test partition for these parameters will be set to nan. Details: \n",
      "ValueError: Unknown label type: 'continuous'\n",
      "\n",
      "  FitFailedWarning)\n",
      "/home/andres/Escritorio/PROYECTOS/entorno1/lib/python3.6/site-packages/sklearn/utils/validation.py:760: DataConversionWarning: A column-vector y was passed when a 1d array was expected. Please change the shape of y to (n_samples, ), for example using ravel().\n",
      "  y = column_or_1d(y, warn=True)\n",
      "/home/andres/Escritorio/PROYECTOS/entorno1/lib/python3.6/site-packages/sklearn/model_selection/_validation.py:536: FitFailedWarning: Estimator fit failed. The score on this train-test partition for these parameters will be set to nan. Details: \n",
      "ValueError: Unknown label type: 'continuous'\n",
      "\n",
      "  FitFailedWarning)\n",
      "/home/andres/Escritorio/PROYECTOS/entorno1/lib/python3.6/site-packages/sklearn/utils/validation.py:760: DataConversionWarning: A column-vector y was passed when a 1d array was expected. Please change the shape of y to (n_samples, ), for example using ravel().\n",
      "  y = column_or_1d(y, warn=True)\n",
      "/home/andres/Escritorio/PROYECTOS/entorno1/lib/python3.6/site-packages/sklearn/model_selection/_validation.py:536: FitFailedWarning: Estimator fit failed. The score on this train-test partition for these parameters will be set to nan. Details: \n",
      "ValueError: Unknown label type: 'continuous'\n",
      "\n",
      "  FitFailedWarning)\n",
      "/home/andres/Escritorio/PROYECTOS/entorno1/lib/python3.6/site-packages/sklearn/utils/validation.py:760: DataConversionWarning: A column-vector y was passed when a 1d array was expected. Please change the shape of y to (n_samples, ), for example using ravel().\n",
      "  y = column_or_1d(y, warn=True)\n",
      "/home/andres/Escritorio/PROYECTOS/entorno1/lib/python3.6/site-packages/sklearn/model_selection/_validation.py:536: FitFailedWarning: Estimator fit failed. The score on this train-test partition for these parameters will be set to nan. Details: \n",
      "ValueError: Unknown label type: 'continuous'\n",
      "\n",
      "  FitFailedWarning)\n",
      "/home/andres/Escritorio/PROYECTOS/entorno1/lib/python3.6/site-packages/sklearn/utils/validation.py:760: DataConversionWarning: A column-vector y was passed when a 1d array was expected. Please change the shape of y to (n_samples, ), for example using ravel().\n",
      "  y = column_or_1d(y, warn=True)\n",
      "/home/andres/Escritorio/PROYECTOS/entorno1/lib/python3.6/site-packages/sklearn/model_selection/_validation.py:536: FitFailedWarning: Estimator fit failed. The score on this train-test partition for these parameters will be set to nan. Details: \n",
      "ValueError: Unknown label type: 'continuous'\n",
      "\n",
      "  FitFailedWarning)\n",
      "/home/andres/Escritorio/PROYECTOS/entorno1/lib/python3.6/site-packages/sklearn/utils/validation.py:760: DataConversionWarning: A column-vector y was passed when a 1d array was expected. Please change the shape of y to (n_samples, ), for example using ravel().\n",
      "  y = column_or_1d(y, warn=True)\n"
     ]
    },
    {
     "ename": "ValueError",
     "evalue": "Unknown label type: 'continuous'",
     "output_type": "error",
     "traceback": [
      "\u001b[0;31m---------------------------------------------------------------------------\u001b[0m",
      "\u001b[0;31mValueError\u001b[0m                                Traceback (most recent call last)",
      "\u001b[0;32m<ipython-input-111-fe1bed6ac5d8>\u001b[0m in \u001b[0;36m<module>\u001b[0;34m\u001b[0m\n\u001b[1;32m     15\u001b[0m     }]\n\u001b[1;32m     16\u001b[0m \u001b[0mgrid_search\u001b[0m \u001b[0;34m=\u001b[0m \u001b[0mGridSearchCV\u001b[0m\u001b[0;34m(\u001b[0m\u001b[0mclf\u001b[0m\u001b[0;34m,\u001b[0m \u001b[0mparam_grid\u001b[0m\u001b[0;34m,\u001b[0m \u001b[0mcv\u001b[0m\u001b[0;34m=\u001b[0m\u001b[0;36m3\u001b[0m\u001b[0;34m)\u001b[0m\u001b[0;34m\u001b[0m\u001b[0;34m\u001b[0m\u001b[0m\n\u001b[0;32m---> 17\u001b[0;31m \u001b[0mgrid_search\u001b[0m\u001b[0;34m.\u001b[0m\u001b[0mfit\u001b[0m\u001b[0;34m(\u001b[0m\u001b[0mX\u001b[0m\u001b[0;34m,\u001b[0m \u001b[0my\u001b[0m\u001b[0;34m)\u001b[0m \u001b[0;31m#-->error\u001b[0m\u001b[0;34m\u001b[0m\u001b[0;34m\u001b[0m\u001b[0m\n\u001b[0m",
      "\u001b[0;32m~/Escritorio/PROYECTOS/entorno1/lib/python3.6/site-packages/sklearn/model_selection/_search.py\u001b[0m in \u001b[0;36mfit\u001b[0;34m(self, X, y, groups, **fit_params)\u001b[0m\n\u001b[1;32m    737\u001b[0m             \u001b[0mrefit_start_time\u001b[0m \u001b[0;34m=\u001b[0m \u001b[0mtime\u001b[0m\u001b[0;34m.\u001b[0m\u001b[0mtime\u001b[0m\u001b[0;34m(\u001b[0m\u001b[0;34m)\u001b[0m\u001b[0;34m\u001b[0m\u001b[0;34m\u001b[0m\u001b[0m\n\u001b[1;32m    738\u001b[0m             \u001b[0;32mif\u001b[0m \u001b[0my\u001b[0m \u001b[0;32mis\u001b[0m \u001b[0;32mnot\u001b[0m \u001b[0;32mNone\u001b[0m\u001b[0;34m:\u001b[0m\u001b[0;34m\u001b[0m\u001b[0;34m\u001b[0m\u001b[0m\n\u001b[0;32m--> 739\u001b[0;31m                 \u001b[0mself\u001b[0m\u001b[0;34m.\u001b[0m\u001b[0mbest_estimator_\u001b[0m\u001b[0;34m.\u001b[0m\u001b[0mfit\u001b[0m\u001b[0;34m(\u001b[0m\u001b[0mX\u001b[0m\u001b[0;34m,\u001b[0m \u001b[0my\u001b[0m\u001b[0;34m,\u001b[0m \u001b[0;34m**\u001b[0m\u001b[0mfit_params\u001b[0m\u001b[0;34m)\u001b[0m\u001b[0;34m\u001b[0m\u001b[0;34m\u001b[0m\u001b[0m\n\u001b[0m\u001b[1;32m    740\u001b[0m             \u001b[0;32melse\u001b[0m\u001b[0;34m:\u001b[0m\u001b[0;34m\u001b[0m\u001b[0;34m\u001b[0m\u001b[0m\n\u001b[1;32m    741\u001b[0m                 \u001b[0mself\u001b[0m\u001b[0;34m.\u001b[0m\u001b[0mbest_estimator_\u001b[0m\u001b[0;34m.\u001b[0m\u001b[0mfit\u001b[0m\u001b[0;34m(\u001b[0m\u001b[0mX\u001b[0m\u001b[0;34m,\u001b[0m \u001b[0;34m**\u001b[0m\u001b[0mfit_params\u001b[0m\u001b[0;34m)\u001b[0m\u001b[0;34m\u001b[0m\u001b[0;34m\u001b[0m\u001b[0m\n",
      "\u001b[0;32m~/Escritorio/PROYECTOS/entorno1/lib/python3.6/site-packages/sklearn/pipeline.py\u001b[0m in \u001b[0;36mfit\u001b[0;34m(self, X, y, **fit_params)\u001b[0m\n\u001b[1;32m    352\u001b[0m                                  self._log_message(len(self.steps) - 1)):\n\u001b[1;32m    353\u001b[0m             \u001b[0;32mif\u001b[0m \u001b[0mself\u001b[0m\u001b[0;34m.\u001b[0m\u001b[0m_final_estimator\u001b[0m \u001b[0;34m!=\u001b[0m \u001b[0;34m'passthrough'\u001b[0m\u001b[0;34m:\u001b[0m\u001b[0;34m\u001b[0m\u001b[0;34m\u001b[0m\u001b[0m\n\u001b[0;32m--> 354\u001b[0;31m                 \u001b[0mself\u001b[0m\u001b[0;34m.\u001b[0m\u001b[0m_final_estimator\u001b[0m\u001b[0;34m.\u001b[0m\u001b[0mfit\u001b[0m\u001b[0;34m(\u001b[0m\u001b[0mXt\u001b[0m\u001b[0;34m,\u001b[0m \u001b[0my\u001b[0m\u001b[0;34m,\u001b[0m \u001b[0;34m**\u001b[0m\u001b[0mfit_params\u001b[0m\u001b[0;34m)\u001b[0m\u001b[0;34m\u001b[0m\u001b[0;34m\u001b[0m\u001b[0m\n\u001b[0m\u001b[1;32m    355\u001b[0m         \u001b[0;32mreturn\u001b[0m \u001b[0mself\u001b[0m\u001b[0;34m\u001b[0m\u001b[0;34m\u001b[0m\u001b[0m\n\u001b[1;32m    356\u001b[0m \u001b[0;34m\u001b[0m\u001b[0m\n",
      "\u001b[0;32m~/Escritorio/PROYECTOS/entorno1/lib/python3.6/site-packages/sklearn/linear_model/_logistic.py\u001b[0m in \u001b[0;36mfit\u001b[0;34m(self, X, y, sample_weight)\u001b[0m\n\u001b[1;32m   1526\u001b[0m         X, y = check_X_y(X, y, accept_sparse='csr', dtype=_dtype, order=\"C\",\n\u001b[1;32m   1527\u001b[0m                          accept_large_sparse=solver != 'liblinear')\n\u001b[0;32m-> 1528\u001b[0;31m         \u001b[0mcheck_classification_targets\u001b[0m\u001b[0;34m(\u001b[0m\u001b[0my\u001b[0m\u001b[0;34m)\u001b[0m\u001b[0;34m\u001b[0m\u001b[0;34m\u001b[0m\u001b[0m\n\u001b[0m\u001b[1;32m   1529\u001b[0m         \u001b[0mself\u001b[0m\u001b[0;34m.\u001b[0m\u001b[0mclasses_\u001b[0m \u001b[0;34m=\u001b[0m \u001b[0mnp\u001b[0m\u001b[0;34m.\u001b[0m\u001b[0munique\u001b[0m\u001b[0;34m(\u001b[0m\u001b[0my\u001b[0m\u001b[0;34m)\u001b[0m\u001b[0;34m\u001b[0m\u001b[0;34m\u001b[0m\u001b[0m\n\u001b[1;32m   1530\u001b[0m         \u001b[0mn_samples\u001b[0m\u001b[0;34m,\u001b[0m \u001b[0mn_features\u001b[0m \u001b[0;34m=\u001b[0m \u001b[0mX\u001b[0m\u001b[0;34m.\u001b[0m\u001b[0mshape\u001b[0m\u001b[0;34m\u001b[0m\u001b[0;34m\u001b[0m\u001b[0m\n",
      "\u001b[0;32m~/Escritorio/PROYECTOS/entorno1/lib/python3.6/site-packages/sklearn/utils/multiclass.py\u001b[0m in \u001b[0;36mcheck_classification_targets\u001b[0;34m(y)\u001b[0m\n\u001b[1;32m    167\u001b[0m     if y_type not in ['binary', 'multiclass', 'multiclass-multioutput',\n\u001b[1;32m    168\u001b[0m                       'multilabel-indicator', 'multilabel-sequences']:\n\u001b[0;32m--> 169\u001b[0;31m         \u001b[0;32mraise\u001b[0m \u001b[0mValueError\u001b[0m\u001b[0;34m(\u001b[0m\u001b[0;34m\"Unknown label type: %r\"\u001b[0m \u001b[0;34m%\u001b[0m \u001b[0my_type\u001b[0m\u001b[0;34m)\u001b[0m\u001b[0;34m\u001b[0m\u001b[0;34m\u001b[0m\u001b[0m\n\u001b[0m\u001b[1;32m    170\u001b[0m \u001b[0;34m\u001b[0m\u001b[0m\n\u001b[1;32m    171\u001b[0m \u001b[0;34m\u001b[0m\u001b[0m\n",
      "\u001b[0;31mValueError\u001b[0m: Unknown label type: 'continuous'"
     ]
    }
   ],
   "source": [
    "from sklearn.model_selection import GridSearchCV\n",
    "from sklearn.linear_model import LogisticRegression\n",
    "from sklearn.pipeline import Pipeline\n",
    "from sklearn.datasets import make_swiss_roll\n",
    "X,t=make_swiss_roll(n_samples=100, noise=0.0, random_state=None)\n",
    "y=np.random.random((100,1))\n",
    "print(y.shape)\n",
    "clf = Pipeline([\n",
    "        (\"kpca\", KernelPCA(n_components=2)),\n",
    "        (\"log_reg\", LogisticRegression())\n",
    "    ])\n",
    "param_grid = [{\n",
    "        \"kpca__gamma\": np.linspace(0.03, 0.05, 10),\n",
    "        \"kpca__kernel\": [\"rbf\", \"sigmoid\"]\n",
    "    }]\n",
    "grid_search = GridSearchCV(clf, param_grid, cv=3)\n",
    "grid_search.fit(X, y) #-->error"
   ]
  },
  {
   "cell_type": "markdown",
   "metadata": {},
   "source": [
    "Los mejores kernel e hiperparámetros están disponibles a través de best_params_variable: "
   ]
  },
  {
   "cell_type": "code",
   "execution_count": 24,
   "metadata": {},
   "outputs": [
    {
     "ename": "AttributeError",
     "evalue": "'GridSearchCV' object has no attribute 'best_params_'",
     "output_type": "error",
     "traceback": [
      "\u001b[0;31m---------------------------------------------------------------------------\u001b[0m",
      "\u001b[0;31mAttributeError\u001b[0m                            Traceback (most recent call last)",
      "\u001b[0;32m<ipython-input-24-edcb691dead4>\u001b[0m in \u001b[0;36m<module>\u001b[0;34m\u001b[0m\n\u001b[0;32m----> 1\u001b[0;31m \u001b[0mprint\u001b[0m\u001b[0;34m(\u001b[0m\u001b[0mgrid_search\u001b[0m\u001b[0;34m.\u001b[0m\u001b[0mbest_params_\u001b[0m\u001b[0;34m)\u001b[0m\u001b[0;34m\u001b[0m\u001b[0;34m\u001b[0m\u001b[0m\n\u001b[0m",
      "\u001b[0;31mAttributeError\u001b[0m: 'GridSearchCV' object has no attribute 'best_params_'"
     ]
    }
   ],
   "source": [
    "print(grid_search.best_params_)"
   ]
  },
  {
   "cell_type": "markdown",
   "metadata": {},
   "source": [
    "Otro enfoque, esta vez totalmente sin supervisión, es seleccionar el núcleo y los hiperparámetros que produzcan el error de reconstrucción más bajo. Sin embargo, la reconstrucción no es tan fácil como con PCA lineal. Este es el por qué. La Figura 8-11 muestra el conjunto de datos 3D del rollo suizo original (arriba a la izquierda), y el conjunto de datos 2D resultante después de aplicar kPCA usando un kernel RBF (arriba a la derecha). Gracias al truco del kernel, esto es matemáticamente equivalente a mapear el conjunto de entrenamiento a un espacio de características de dimensión infinita (abajo a la derecha) usando el mapa de características project, y luego proyectar el conjunto de entrenamiento transformado a 2D usando PCA lineal. Tenga en cuenta que si pudiéramos invertir el paso PCA lineal para una instancia determinada en el espacio reducido, el punto reconstruido quedaría en el espacio de la característica, no en el espacio original (por ejemplo, como el representado por una x en el diagrama). Como el espacio de la característica es de dimensión infinita, no podemos calcular el punto reconstruido y, por lo tanto, no podemos calcular el verdadero error de reconstrucción. Afortunadamente, es posible encontrar un punto en el espacio original que se asignaría cerca del punto reconstruido. Esto se llama la pre-imagen de reconstrucción. Una vez que tenga esta imagen previa, puede medir su distancia cuadrada a la instancia original. A continuación, puede seleccionar el kernel y los hiperparámetros que minimizan este error de preimagen de reconstrucción."
   ]
  },
  {
   "cell_type": "markdown",
   "metadata": {},
   "source": [
    "fig 8-11\n",
    "<img src=\"https://image.slidesharecdn.com/chapter8-170529142002/95/handson-machine-learning-with-scikitlearn-and-tensorflow-chapter8-72-638.jpg?cb=1496067900\">"
   ]
  },
  {
   "cell_type": "markdown",
   "metadata": {},
   "source": [
    "Quizás se esté preguntando cómo realizar esta reconstrucción. Una solución es entrenar un modelo de regresión supervisado, con las instancias proyectadas como conjunto de entrenamiento y las instancias originales como objetivos. Scikit-Learn lo hará automáticamente si establece fit_inverse_transform = True, como se muestra en el siguiente código:"
   ]
  },
  {
   "cell_type": "code",
   "execution_count": 25,
   "metadata": {},
   "outputs": [],
   "source": [
    "rbf_pca = KernelPCA(n_components = 2, kernel=\"rbf\", gamma=0.0433,\n",
    "fit_inverse_transform=True)\n",
    "X_reduced = rbf_pca.fit_transform(X)\n",
    "X_preimage = rbf_pca.inverse_transform(X_reduced)"
   ]
  },
  {
   "cell_type": "markdown",
   "metadata": {},
   "source": [
    "De forma predeterminada, fit_inverse_transform = False y KernelPCA no tiene método inverse_transform (). Este método solo se crea cuando se configura fit_inverse_transform = True"
   ]
  },
  {
   "cell_type": "markdown",
   "metadata": {},
   "source": [
    "A continuación, puede calcular el error de reconstrucción de la imagen previa:"
   ]
  },
  {
   "cell_type": "code",
   "execution_count": 27,
   "metadata": {},
   "outputs": [
    {
     "data": {
      "text/plain": [
       "0.0631401401956943"
      ]
     },
     "execution_count": 27,
     "metadata": {},
     "output_type": "execute_result"
    }
   ],
   "source": [
    "from sklearn.metrics import mean_squared_error\n",
    "mean_squared_error(X, X_preimage)"
   ]
  },
  {
   "cell_type": "markdown",
   "metadata": {},
   "source": [
    "Ahora puede usar la búsqueda de cuadrícula con validación cruzada para encontrar el kernel y los hiperparámetros que minimizan este error de reconstrucción previa a la imagen."
   ]
  },
  {
   "cell_type": "markdown",
   "metadata": {},
   "source": [
    "<b>LLE<br></b>\n",
    "Locally Linear Embedding (LLE)  es otra técnica muy potente de reducción de dimensionalidad no lineal (NLDR). Es una técnica de aprendizaje múltiple que no se basa en proyecciones como los algoritmos anteriores. En pocas palabras, LLE funciona midiendo primero cómo cada instancia de entrenamiento se relaciona linealmente con sus vecinos más cercanos (c.n.), y luego busca una representación de baja dimensión del conjunto de entrenamiento donde estas relaciones locales se conservan mejor (más detalles en breve). Esto lo hace particularmente bueno para desenrollar colectores torcidos, especialmente cuando no hay demasiado ruido."
   ]
  },
  {
   "cell_type": "markdown",
   "metadata": {},
   "source": [
    "Por ejemplo, el siguiente código utiliza la clase LocallyLinearEmbedding de Scikit-Learn para desenrollar el rollo suizo. El conjunto de datos 2D resultante se muestra en la Figura 8-12. Como puede ver, el rollo suizo está completamente desenrollado y las distancias entre las instancias están bien conservadas localmente. Sin embargo, las distancias no se conservan en una escala mayor: la parte izquierda del rollo suizo desenrollado se comprime, mientras que la parte derecha se estira. Sin embargo, LLE hizo un buen trabajo modelando la variedad. "
   ]
  },
  {
   "cell_type": "code",
   "execution_count": 74,
   "metadata": {},
   "outputs": [
    {
     "name": "stdout",
     "output_type": "stream",
     "text": [
      "(100, 3)\n"
     ]
    }
   ],
   "source": [
    "from sklearn.manifold import LocallyLinearEmbedding\n",
    "from sklearn.datasets import make_swiss_roll\n",
    "X,t=make_swiss_roll(n_samples=100, noise=0.0, random_state=None)\n",
    "print(X.shape)\n",
    "lle = LocallyLinearEmbedding(n_components=2, n_neighbors=10)\n",
    "X_reduced = lle.fit_transform(X)\n"
   ]
  },
  {
   "cell_type": "code",
   "execution_count": 75,
   "metadata": {},
   "outputs": [
    {
     "data": {
      "text/plain": [
       "[<matplotlib.lines.Line2D at 0x7f6cab5afef0>]"
      ]
     },
     "execution_count": 75,
     "metadata": {},
     "output_type": "execute_result"
    },
    {
     "data": {
      "image/png": "[encoded data removed]",
      "text/plain": [
       "<Figure size 432x288 with 1 Axes>"
      ]
     },
     "metadata": {
      "needs_background": "light"
     },
     "output_type": "display_data"
    }
   ],
   "source": [
    "%matplotlib inline\n",
    "import matplotlib\n",
    "import matplotlib.pyplot as plt\n",
    "plt.plot(X_reduced[:,0], X_reduced[:,-1],\".\") "
   ]
  },
  {
   "cell_type": "markdown",
   "metadata": {},
   "source": [
    "Así es como funciona LLE: primero, para cada instancia de entrenamiento x (i), el algoritmo identifica sus k vecinos más cercanos (en el código anterior k = 10), luego intenta reconstruir x (i) como una función lineal de estos vecinos. Más específicamente, encuentra los pesos wi, j tales que la distancia al cuadrado entre x (i) y Σjm =  wi,j xj es lo más pequeña posible, asumiendo que wi, j = 0 si x(j) no es uno de los k vecinos mas cercanos de x (i). Por lo tanto, el primer paso de LLE es el problema de optimización restringida descrito en la Ecuación 8-4, donde W es la matriz de peso que contiene todos los pesos wi,j. La segunda restricción simplemente normaliza los pesos para cada instancia de entrenamiento x(i)."
   ]
  },
  {
   "cell_type": "markdown",
   "metadata": {},
   "source": [
    "Ecuación 8-4. LLE paso 1: modelando linealmente las relaciones locales "
   ]
  },
  {
   "cell_type": "markdown",
   "metadata": {},
   "source": [
    "<img src=\"https://image.slidesharecdn.com/chapter8-170529142002/95/handson-machine-learning-with-scikitlearn-and-tensorflow-chapter8-79-638.jpg?cb=1496067900\">"
   ]
  },
  {
   "cell_type": "markdown",
   "metadata": {},
   "source": [
    "Después de este paso, la matriz de ponderación W (que contiene las ponderaciones wi,j) codifica las relaciones lineales locales entre las instancias de entrenamiento. Ahora el segundo paso es mapear las instancias de entrenamiento en un espacio d-dimensional (donde d <n) mientras se preservan estas relaciones locales tanto como sea posible. Si z (i) es la imagen de x (i) en este espacio dimensional, entonces queremos que la distancia al cuadrado entre z (i) y Σjm =   wi,j zj sea lo más pequeña posible. Esta idea conduce al problema de optimización sin restricciones que se describe en la Ecuación 8-5. Parece muy similar al primer paso, pero en lugar de mantener las instancias fijas y encontrar los pesos óptimos, estamos haciendo lo contrario: manteniendo los pesos fijos y encontrando la posición óptima de las imágenes de las instancias en el espacio de baja dimensión. Tenga en cuenta que Z es la matriz que contiene todos los z (i)"
   ]
  },
  {
   "cell_type": "markdown",
   "metadata": {},
   "source": [
    "Ecuación 8-5. LLE paso 2: reducir la dimensionalidad mientras se preservan las relaciones"
   ]
  },
  {
   "cell_type": "markdown",
   "metadata": {},
   "source": [
    "<img src=\"https://slideplayer.com/slide/13502080/82/images/30/LLE+Step+2+Characterize+the+local+geometry+of+these+patches+by+linear+coefficients+that+reconstruct+each+data+point+from+its+neighbors..jpg\">"
   ]
  },
  {
   "cell_type": "markdown",
   "metadata": {},
   "source": [
    "La implementación LLE de Scikit-Learn tiene la siguiente complejidad computacional: O (m log (m) n log (k)) para encontrar los k vecinos más cercanos, O (mnk3) para optimizar los pesos, y O (dm2) para construir el bajo Representaciones dimensionales. Desafortunadamente, el m2 en el último término hace que este algoritmo se adapte de forma pobre a conjuntos de datos muy grandes."
   ]
  },
  {
   "cell_type": "markdown",
   "metadata": {},
   "source": [
    "<b>Otras técnicas de reducción de la dimensionalidad<br></b>\n",
    "Hay muchas otras técnicas de reducción de dimensionalidad, varias de las cuales están disponibles en Scikit-Learn. Éstos son algunos de los más populares:<br>\n",
    "• El escalamiento multidimensional (MDS) reduce la dimensionalidad al intentar preservar las distancias entre las instancias (consulte la Figura 8-13).<br>\n",
    "• Isomap crea un gráfico al conectar cada instancia con sus vecinos más cercanos, luego reduce la dimensionalidad al intentar preservar las distancias geodésicas9 entre las instancias.<br>\n",
    "• La incrustación de vecinos estocásticos distribuidos en t (t-SNE) reduce la dimensionalidad al intentar mantener instancias similares cercanas y distintas. Se utiliza principalmente para la visualización, en particular para visualizar grupos de instancias en el espacio de alta dimensión (por ejemplo, para visualizar las imágenes del MNIST en 2D).<br>\n",
    "• El análisis discriminante lineal (LDA) es en realidad un algoritmo de clasificación, pero durante el entrenamiento aprende los ejes más discriminativos entre las clases, y estos ejes se pueden usar para definir un hiperplano sobre el cual proyectar los datos. El beneficio es que la proyección mantendrá las clases lo más alejadas posible, por lo que LDA es una buena técnica para reducir la dimensionalidad antes de ejecutar otro algoritmo de clasificación, como un clasificador SVM."
   ]
  },
  {
   "cell_type": "markdown",
   "metadata": {},
   "source": [
    "<img src=\"https://www.researchgate.net/profile/Xianglei_Xing/publication/303555697/figure/fig3/AS:366361558700035@1464358810851/The-first-row-shows-the-Swiss-roll-dataset-with-outliers-and-the-embedding-results-of.png\">"
   ]
  },
  {
   "cell_type": "markdown",
   "metadata": {},
   "source": [
    "Hasta aca tenemos el tema de reduccion de dimensionalidad. Si tienes alguna duda no olvides escribir a <br>\n",
    "<b>andres.programacion123@gmail.com</b>"
   ]
  }
 ],
 "metadata": {
  "kernelspec": {
   "display_name": "Python 3",
   "language": "python",
   "name": "python3"
  },
  "language_info": {
   "codemirror_mode": {
    "name": "ipython",
    "version": 3
   },
   "file_extension": ".py",
   "mimetype": "text/x-python",
   "name": "python",
   "nbconvert_exporter": "python",
   "pygments_lexer": "ipython3",
   "version": "3.6.9"
  }
 },
 "nbformat": 4,
 "nbformat_minor": 4
}
